{
  "cells": [
    {
      "cell_type": "code",
      "metadata": {
        "tags": [],
        "cell_id": "00000-7f31a2c8-3365-45f9-8c90-acf66642ef45",
        "deepnote_to_be_reexecuted": false,
        "source_hash": "a7208fbd",
        "execution_millis": 5234,
        "execution_start": 1614784033799,
        "deepnote_cell_type": "code"
      },
      "source": "from tensorflow.keras.preprocessing.sequence import pad_sequences\nfrom tensorflow.keras import layers, models\nfrom tensorflow.keras.preprocessing.text import Tokenizer\nfrom tensorflow.keras.callbacks import EarlyStopping\nfrom tensorflow.keras.utils import to_categorical\nfrom tensorflow.keras.layers import Dropout\nfrom tensorflow import keras\nimport pandas as pd\nimport numpy as np",
      "execution_count": null,
      "outputs": []
    },
    {
      "cell_type": "code",
      "metadata": {
        "tags": [],
        "cell_id": "00001-1ebe798f-00b7-432a-83d9-de1baa11fc5b",
        "deepnote_to_be_reexecuted": false,
        "source_hash": "c6b7bbb3",
        "execution_millis": 288,
        "execution_start": 1614784039042,
        "deepnote_cell_type": "code"
      },
      "source": "\nnew_model = keras.models.load_model('rosaLove.h5')",
      "execution_count": null,
      "outputs": []
    },
    {
      "cell_type": "code",
      "metadata": {
        "tags": [],
        "cell_id": "00002-81020945-81eb-4cc3-8776-f76fdda475ae",
        "deepnote_to_be_reexecuted": false,
        "source_hash": "b623e53d",
        "execution_start": 1614784040435,
        "execution_millis": 1,
        "deepnote_cell_type": "code"
      },
      "source": "",
      "execution_count": null,
      "outputs": []
    },
    {
      "cell_type": "code",
      "metadata": {
        "tags": [],
        "cell_id": "00002-c38c2773-6b10-412c-9044-fc61b958d3fa",
        "deepnote_to_be_reexecuted": false,
        "source_hash": "1d811ea5",
        "execution_millis": 86,
        "execution_start": 1614784040837,
        "deepnote_cell_type": "code"
      },
      "source": "data = 'rosaLove.csv'\n\nrosa = pd.read_csv(data)\nrosa\n\nwith open(data, encoding='utf-8') as f:\n    Corpus = f.readlines()  \nCorpus = ' '.join(Corpus).lower().split('\\n')\n\nCorpus\n\nprint('Corpus Length:', len(Corpus))\n\nfrom tensorflow.keras.preprocessing.sequence import pad_sequences\nfrom tensorflow.keras import layers, models\nfrom tensorflow.keras.preprocessing.text import Tokenizer\nfrom tensorflow.keras.callbacks import EarlyStopping\nfrom tensorflow.keras.utils import to_categorical\nfrom tensorflow.keras.layers import Dropout\n\ntokenizer = Tokenizer()\ntokenizer.fit_on_texts(Corpus)\ntotalWords = len(tokenizer.word_index) + 1\nprint(totalWords)\n\nsequences = []\nfor line in Corpus:\n    tokenList = tokenizer.texts_to_sequences([line])[0]\n    for i in range(1, len(tokenList)):\n        ngramSequence = tokenList[:i+1]\n        sequences.append(ngramSequence)\n\nsequences[:5]",
      "execution_count": null,
      "outputs": [
        {
          "name": "stdout",
          "text": "Corpus Length: 834\n1720\n",
          "output_type": "stream"
        },
        {
          "output_type": "execute_result",
          "execution_count": 3,
          "data": {
            "text/plain": "[[88, 33],\n [88, 33, 5],\n [88, 33, 5, 169],\n [88, 33, 5, 169, 7],\n [88, 33, 5, 169, 7, 70]]"
          },
          "metadata": {}
        }
      ]
    },
    {
      "cell_type": "code",
      "metadata": {
        "tags": [],
        "cell_id": "00002-c69da335-77ef-437e-95b0-d90e8657acd1",
        "deepnote_to_be_reexecuted": false,
        "source_hash": "72ba3a59",
        "execution_millis": 175,
        "execution_start": 1614784043168,
        "deepnote_cell_type": "code"
      },
      "source": "def padSequences(sequences):\n    maxSequenceLen = max([len(seq) for seq in sequences])\n    sequences = np.array(pad_sequences(sequences, maxlen=maxSequenceLen, padding='pre'))\n    \n    predictors, label = sequences[:,:-1], sequences[:,-1]\n    label = to_categorical(label, num_classes=totalWords)\n    return predictors, label, maxSequenceLen\n\n\npredictors, label, maxSequenceLen = padSequences(sequences)",
      "execution_count": null,
      "outputs": []
    },
    {
      "cell_type": "code",
      "metadata": {
        "tags": [],
        "cell_id": "00003-5e70fd35-0676-4cb7-8429-a1ddb6f70a2c",
        "deepnote_to_be_reexecuted": false,
        "source_hash": "9cef012e",
        "execution_millis": 3,
        "execution_start": 1614784043703,
        "deepnote_cell_type": "code"
      },
      "source": "tokenizer = Tokenizer()",
      "execution_count": null,
      "outputs": []
    },
    {
      "cell_type": "code",
      "metadata": {
        "tags": [],
        "cell_id": "00001-a9c980a8-2b10-4143-92af-99d263e880b3",
        "deepnote_to_be_reexecuted": false,
        "source_hash": "e907e218",
        "execution_millis": 2,
        "execution_start": 1614784067668,
        "deepnote_cell_type": "code"
      },
      "source": "\ndef generateText(seed):   #A text seed is provided\n    for wordLength in range(45):   #Generates a text with a range of word length\n        tokenList = tokenizer.texts_to_sequences([seed])[0]  #Turns the seed into sequences\n        tokenList = pad_sequences([tokenList], maxlen=maxSequenceLen - 1, padding='pre')\n        predicted = new_model.predict_classes(tokenList, verbose=0) #Predicts the next sequence(generated\n        outputWord = \" \"                                         #text)  \n        for word, index in tokenizer.word_index.items():\n            if index == predicted:\n                outputWord = word\n                break\n        seed += \" \" + outputWord     #Returns the seed plus generated text\n    return seed",
      "execution_count": null,
      "outputs": []
    },
    {
      "cell_type": "code",
      "metadata": {
        "tags": [],
        "cell_id": "00004-3c1f1c84-9d9f-49a4-b00b-18e2a8033f9f",
        "deepnote_to_be_reexecuted": false,
        "source_hash": "b2867ec",
        "execution_millis": 1695,
        "execution_start": 1614784068635,
        "deepnote_cell_type": "code"
      },
      "source": "generateText('my love')",
      "execution_count": null,
      "outputs": [
        {
          "output_type": "execute_result",
          "execution_count": 12,
          "data": {
            "text/plain": "'my love                                                                                          '"
          },
          "metadata": {}
        }
      ]
    },
    {
      "cell_type": "code",
      "metadata": {
        "tags": [],
        "cell_id": "00005-4d115a50-188f-4a6f-aa93-d673f5118bc1",
        "deepnote_to_be_reexecuted": false,
        "source_hash": "41f84f41",
        "execution_millis": 6874,
        "execution_start": 1618924910965,
        "deepnote_cell_type": "code"
      },
      "source": "from fastpunct import FastPunct\n# The default language is 'english'\nfastpunct = FastPunct()\n\nfastpunct.punct(['Dear hello! Just being with me.'], correct=True)\n                   \n",
      "execution_count": 5,
      "outputs": [
        {
          "output_type": "execute_result",
          "execution_count": 5,
          "data": {
            "text/plain": "['Dear hello! Just being with me.']"
          },
          "metadata": {}
        }
      ]
    },
    {
      "cell_type": "code",
      "source": "",
      "metadata": {
        "tags": [],
        "cell_id": "00009-c2c5e962-e3d4-47aa-8c1c-483e193f896f",
        "deepnote_cell_type": "code"
      },
      "outputs": [],
      "execution_count": null
    },
    {
      "cell_type": "markdown",
      "source": "<a style='text-decoration:none;line-height:16px;display:flex;color:#5B5B62;padding:10px;justify-content:end;' href='https://deepnote.com?utm_source=created-in-deepnote-cell&projectId=1847666d-1024-4ccd-aa0a-538596f06c6f' target=\"_blank\">\n<img alt='Created in deepnote.com' style='display:inline;max-height:16px;margin:0px;margin-right:7.5px;' src='data:image/svg+xml;base64,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' > </img>\nCreated in <span style='font-weight:600;margin-left:4px;'>Deepnote</span></a>",
      "metadata": {
        "tags": [],
        "created_in_deepnote_cell": true,
        "deepnote_cell_type": "markdown"
      }
    }
  ],
  "nbformat": 4,
  "nbformat_minor": 2,
  "metadata": {
    "orig_nbformat": 2,
    "deepnote_notebook_id": "7b18b7e1-4569-4e8d-bbfd-4d1755ae40d9",
    "deepnote": {},
    "deepnote_execution_queue": []
  }
}