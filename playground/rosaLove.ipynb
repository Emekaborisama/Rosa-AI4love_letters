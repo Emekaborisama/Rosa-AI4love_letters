{
  "cells": [
    {
      "cell_type": "code",
      "metadata": {
        "id": "WgqJnjsB8xxN",
        "cell_id": "00000-ef2e4251-054c-46e1-bf6b-a4907fbd03b5",
        "deepnote_to_be_reexecuted": false,
        "source_hash": "c7e71e1f",
        "execution_millis": 7915,
        "execution_start": 1616596292961,
        "deepnote_cell_type": "code"
      },
      "source": "import numpy as np\nfrom tensorflow import keras\nimport pandas as pd\nimport os",
      "execution_count": null,
      "outputs": []
    },
    {
      "cell_type": "code",
      "metadata": {
        "colab": {
          "base_uri": "https://localhost:8080/"
        },
        "id": "pdfv_bTq9BfG",
        "outputId": "86269cba-0214-4f6f-e81d-4fc8c4311530",
        "cell_id": "00001-0723ddc7-1464-42a2-a0cc-72ab855fb760",
        "deepnote_to_be_reexecuted": false,
        "source_hash": "e2d1ecb3",
        "execution_start": 1616596245480,
        "execution_millis": 2689,
        "deepnote_cell_type": "code"
      },
      "source": "from google.colab import drive\ndrive.mount('/content/drive')",
      "execution_count": null,
      "outputs": [
        {
          "output_type": "error",
          "ename": "ModuleNotFoundError",
          "evalue": "No module named 'google.colab'",
          "traceback": [
            "\u001b[0;31m---------------------------------------------------------------------------\u001b[0m",
            "\u001b[0;31mModuleNotFoundError\u001b[0m                       Traceback (most recent call last)",
            "\u001b[0;32m<ipython-input-4-d5df0069828e>\u001b[0m in \u001b[0;36m<module>\u001b[0;34m\u001b[0m\n\u001b[0;32m----> 1\u001b[0;31m \u001b[0;32mfrom\u001b[0m \u001b[0mgoogle\u001b[0m\u001b[0;34m.\u001b[0m\u001b[0mcolab\u001b[0m \u001b[0;32mimport\u001b[0m \u001b[0mdrive\u001b[0m\u001b[0;34m\u001b[0m\u001b[0;34m\u001b[0m\u001b[0m\n\u001b[0m\u001b[1;32m      2\u001b[0m \u001b[0mdrive\u001b[0m\u001b[0;34m.\u001b[0m\u001b[0mmount\u001b[0m\u001b[0;34m(\u001b[0m\u001b[0;34m'/content/drive'\u001b[0m\u001b[0;34m)\u001b[0m\u001b[0;34m\u001b[0m\u001b[0;34m\u001b[0m\u001b[0m\n",
            "\u001b[0;31mModuleNotFoundError\u001b[0m: No module named 'google.colab'"
          ]
        }
      ]
    },
    {
      "cell_type": "code",
      "metadata": {
        "id": "qjYz-TfW9ev_",
        "cell_id": "00002-085e6718-d0fc-43d5-8d5b-34f8c22de605",
        "deepnote_to_be_reexecuted": false,
        "source_hash": "ee733923",
        "execution_millis": 5,
        "execution_start": 1616596300882,
        "deepnote_cell_type": "code"
      },
      "source": "file = 'tt.txt'\n\n",
      "execution_count": null,
      "outputs": []
    },
    {
      "cell_type": "code",
      "metadata": {
        "colab": {
          "base_uri": "https://localhost:8080/",
          "height": 402
        },
        "id": "398oKKIW8xxv",
        "outputId": "53191ea8-ebb8-42df-f7ad-dc2382c071f1",
        "cell_id": "00003-fc7d6577-2efd-4869-bfa4-89028d3b9263",
        "deepnote_to_be_reexecuted": false,
        "source_hash": "8321567a",
        "execution_millis": 234,
        "execution_start": 1616596300891,
        "deepnote_cell_type": "code"
      },
      "source": "rosa = pd.read_csv(file)\nrosa",
      "execution_count": null,
      "outputs": [
        {
          "output_type": "execute_result",
          "execution_count": 3,
          "data": {
            "application/vnd.deepnote.dataframe.v2+json": {
              "row_count": 6190,
              "column_count": 1,
              "columns": [
                {
                  "name": "Eighteen years eighteen years",
                  "dtype": "object",
                  "stats": {
                    "unique_count": 6080,
                    "nan_count": 0,
                    "categories": [
                      {
                        "name": "Im not loving you way I wanted to",
                        "count": 6
                      },
                      {
                        "name": "I know that we the new slaves",
                        "count": 5
                      },
                      {
                        "name": "6078 others",
                        "count": 6179
                      }
                    ]
                  }
                },
                {
                  "name": "_deepnote_index_column",
                  "dtype": "int64"
                }
              ],
              "rows_top": [
                {
                  "Eighteen years eighteen years": "She got one of your kids got you for eighteen years",
                  "_deepnote_index_column": 0
                },
                {
                  "Eighteen years eighteen years": "I know somebody paying child support for one of his kids",
                  "_deepnote_index_column": 1
                },
                {
                  "Eighteen years eighteen years": "His baby mama car and crib is bigger than his",
                  "_deepnote_index_column": 2
                },
                {
                  "Eighteen years eighteen years": "You will see him on TV any given Sunday",
                  "_deepnote_index_column": 3
                },
                {
                  "Eighteen years eighteen years": "Win the Super Bowl and drive off in a Hyundai",
                  "_deepnote_index_column": 4
                },
                {
                  "Eighteen years eighteen years": "She was supposed to buy your shorty Tyco with your money",
                  "_deepnote_index_column": 5
                },
                {
                  "Eighteen years eighteen years": "She went to the doctor got lipo with your money",
                  "_deepnote_index_column": 6
                },
                {
                  "Eighteen years eighteen years": "She walking around looking like Michael with your money",
                  "_deepnote_index_column": 7
                },
                {
                  "Eighteen years eighteen years": "Shouldve got that insured Geico for your money",
                  "_deepnote_index_column": 8
                },
                {
                  "Eighteen years eighteen years": "If you aint no punk",
                  "_deepnote_index_column": 9
                },
                {
                  "Eighteen years eighteen years": "Holla We want prenup We want prenup Yeah",
                  "_deepnote_index_column": 10
                },
                {
                  "Eighteen years eighteen years": "Its something that you need to have",
                  "_deepnote_index_column": 11
                },
                {
                  "Eighteen years eighteen years": "Cause when she leave your ass she gon leave with half",
                  "_deepnote_index_column": 12
                },
                {
                  "Eighteen years eighteen years": "Eighteen years eighteen years",
                  "_deepnote_index_column": 13
                },
                {
                  "Eighteen years eighteen years": "And on the the birthday he found out it wasnt his",
                  "_deepnote_index_column": 14
                },
                {
                  "Eighteen years eighteen years": "Now I aint saying you a gold digger you got needs",
                  "_deepnote_index_column": 15
                },
                {
                  "Eighteen years eighteen years": "You dont want a dude to smoke but he cant buy weed",
                  "_deepnote_index_column": 16
                },
                {
                  "Eighteen years eighteen years": "You go out to eat and he cant pay yall cant leave",
                  "_deepnote_index_column": 17
                },
                {
                  "Eighteen years eighteen years": "Theres dishes in the back he gotta roll up your sleeves",
                  "_deepnote_index_column": 18
                },
                {
                  "Eighteen years eighteen years": "But while yall washin watch him",
                  "_deepnote_index_column": 19
                },
                {
                  "Eighteen years eighteen years": "He gone make it into a Benz out of that Datsun",
                  "_deepnote_index_column": 20
                },
                {
                  "Eighteen years eighteen years": "He got that ambition baby look in his eyes",
                  "_deepnote_index_column": 21
                },
                {
                  "Eighteen years eighteen years": "This week he mopping floors next week its the fries",
                  "_deepnote_index_column": 22
                },
                {
                  "Eighteen years eighteen years": "So stick by his side",
                  "_deepnote_index_column": 23
                },
                {
                  "Eighteen years eighteen years": "I know theres dudes ballin and yeah thats nice",
                  "_deepnote_index_column": 24
                },
                {
                  "Eighteen years eighteen years": "And they gonna keep calling and trying but you stay right girl",
                  "_deepnote_index_column": 25
                },
                {
                  "Eighteen years eighteen years": "And when you get on hell leave your ass for a white girl",
                  "_deepnote_index_column": 26
                },
                {
                  "Eighteen years eighteen years": "Let the suicide doors up",
                  "_deepnote_index_column": 27
                },
                {
                  "Eighteen years eighteen years": "I threw suicides on the tour bus",
                  "_deepnote_index_column": 28
                },
                {
                  "Eighteen years eighteen years": "I threw suicides on the private jet",
                  "_deepnote_index_column": 29
                },
                {
                  "Eighteen years eighteen years": "You know what that mean Im fly to death",
                  "_deepnote_index_column": 30
                },
                {
                  "Eighteen years eighteen years": "I step in Def Jam buildin like Im the shit",
                  "_deepnote_index_column": 31
                },
                {
                  "Eighteen years eighteen years": "Tell em give me fifty million or Ima quit",
                  "_deepnote_index_column": 32
                },
                {
                  "Eighteen years eighteen years": "Most rappers taste level aint at my waist level",
                  "_deepnote_index_column": 33
                },
                {
                  "Eighteen years eighteen years": "Turn up the bass til its upinyoface level",
                  "_deepnote_index_column": 34
                },
                {
                  "Eighteen years eighteen years": "Dont do no press but I get the most press kit",
                  "_deepnote_index_column": 35
                },
                {
                  "Eighteen years eighteen years": "Plus yo my bitch make your bitch look like Precious",
                  "_deepnote_index_column": 36
                },
                {
                  "Eighteen years eighteen years": "Somethin bout Mary she gone off that molly",
                  "_deepnote_index_column": 37
                },
                {
                  "Eighteen years eighteen years": "Now the whole party is melted like Dal‚àö‚â†",
                  "_deepnote_index_column": 38
                },
                {
                  "Eighteen years eighteen years": "Now everybody is movin they body",
                  "_deepnote_index_column": 39
                },
                {
                  "Eighteen years eighteen years": "Dont sell me apartment Ill move in the lobby",
                  "_deepnote_index_column": 40
                },
                {
                  "Eighteen years eighteen years": "Niggas is loiterin just to feel important",
                  "_deepnote_index_column": 41
                },
                {
                  "Eighteen years eighteen years": "You gon see lawyers and niggas in Jordans",
                  "_deepnote_index_column": 42
                },
                {
                  "Eighteen years eighteen years": "She said Ye can we get married at the mall",
                  "_deepnote_index_column": 43
                },
                {
                  "Eighteen years eighteen years": "I said Look you need to crawl fore you ball",
                  "_deepnote_index_column": 44
                },
                {
                  "Eighteen years eighteen years": "Come and meet me in the bathroom stall",
                  "_deepnote_index_column": 45
                },
                {
                  "Eighteen years eighteen years": "And show me why you deserve to have it all",
                  "_deepnote_index_column": 46
                },
                {
                  "Eighteen years eighteen years": "Ball so hard That shit cray aint it Jay",
                  "_deepnote_index_column": 47
                },
                {
                  "Eighteen years eighteen years": "What she order fish filet",
                  "_deepnote_index_column": 48
                },
                {
                  "Eighteen years eighteen years": "Your whip so cold this old thing",
                  "_deepnote_index_column": 49
                },
                {
                  "Eighteen years eighteen years": "Act like youll ever be around mothafuckas like this again",
                  "_deepnote_index_column": 50
                },
                {
                  "Eighteen years eighteen years": "Bougie girl grab my hand",
                  "_deepnote_index_column": 51
                },
                {
                  "Eighteen years eighteen years": "Fuck that bitch she dont wanna dance",
                  "_deepnote_index_column": 52
                },
                {
                  "Eighteen years eighteen years": "Excuse my French but Im in France Im just sayin",
                  "_deepnote_index_column": 53
                },
                {
                  "Eighteen years eighteen years": "Prince Williams aint do it right if you ask me",
                  "_deepnote_index_column": 54
                },
                {
                  "Eighteen years eighteen years": "Cause I was him I would have married Kate and Ashley",
                  "_deepnote_index_column": 55
                },
                {
                  "Eighteen years eighteen years": "Whats Gucci my nigga Whats Louis my killa",
                  "_deepnote_index_column": 56
                },
                {
                  "Eighteen years eighteen years": "Whats drugs my dealer Whats that jacket Margiela",
                  "_deepnote_index_column": 57
                },
                {
                  "Eighteen years eighteen years": "Doctors say Im the illest",
                  "_deepnote_index_column": 58
                },
                {
                  "Eighteen years eighteen years": "Cause Im suffering from realness",
                  "_deepnote_index_column": 59
                },
                {
                  "Eighteen years eighteen years": "Got my niggas in Paris and they going gorillas huh",
                  "_deepnote_index_column": 60
                },
                {
                  "Eighteen years eighteen years": "Break records at Louis ate breakfast at Gucci",
                  "_deepnote_index_column": 61
                },
                {
                  "Eighteen years eighteen years": "My girl a superstar all from a home movie",
                  "_deepnote_index_column": 62
                },
                {
                  "Eighteen years eighteen years": "Bow on our arrival the unAmerican idols",
                  "_deepnote_index_column": 63
                },
                {
                  "Eighteen years eighteen years": "What niggas did in Paris got em hanging off the Eiffel",
                  "_deepnote_index_column": 64
                },
                {
                  "Eighteen years eighteen years": "Yeah Im talking business we talking CIA",
                  "_deepnote_index_column": 65
                },
                {
                  "Eighteen years eighteen years": "Im talking George Tenet I seen him the other day",
                  "_deepnote_index_column": 66
                },
                {
                  "Eighteen years eighteen years": "He asked me about my Maybach think he had the same",
                  "_deepnote_index_column": 67
                },
                {
                  "Eighteen years eighteen years": "Except mine tinted and his might have been rented",
                  "_deepnote_index_column": 68
                },
                {
                  "Eighteen years eighteen years": "You know white people get money dont spend it",
                  "_deepnote_index_column": 69
                },
                {
                  "Eighteen years eighteen years": "Or maybe they get money buy a business",
                  "_deepnote_index_column": 70
                },
                {
                  "Eighteen years eighteen years": "I rather buy gold chains and go ignant",
                  "_deepnote_index_column": 71
                },
                {
                  "Eighteen years eighteen years": "I know Spike Lee gon kill me but let me finish",
                  "_deepnote_index_column": 72
                },
                {
                  "Eighteen years eighteen years": "Blame it on the pigment we living no limits",
                  "_deepnote_index_column": 73
                },
                {
                  "Eighteen years eighteen years": "Them gold Master P ceilings was just a figment",
                  "_deepnote_index_column": 74
                },
                {
                  "Eighteen years eighteen years": "Of our imagination MTV cribs",
                  "_deepnote_index_column": 75
                },
                {
                  "Eighteen years eighteen years": "Now Im looking at a crib right next to where TC lives",
                  "_deepnote_index_column": 76
                },
                {
                  "Eighteen years eighteen years": "Thats Tom Cruise whatever she accuse",
                  "_deepnote_index_column": 77
                },
                {
                  "Eighteen years eighteen years": "He wasnt really drunk he just had a frew brews",
                  "_deepnote_index_column": 78
                },
                {
                  "Eighteen years eighteen years": "Pass the refreshments a cool cool beverage",
                  "_deepnote_index_column": 79
                },
                {
                  "Eighteen years eighteen years": "Everything I do need a news crews presence",
                  "_deepnote_index_column": 80
                },
                {
                  "Eighteen years eighteen years": "Speedboat swerve homie watch out for the waves",
                  "_deepnote_index_column": 81
                },
                {
                  "Eighteen years eighteen years": "Im way too black to burn from sun rays",
                  "_deepnote_index_column": 82
                },
                {
                  "Eighteen years eighteen years": "So I just meditate at the home in Pompeii",
                  "_deepnote_index_column": 83
                },
                {
                  "Eighteen years eighteen years": "About how I could build a new Rome in one day",
                  "_deepnote_index_column": 84
                },
                {
                  "Eighteen years eighteen years": "Everytime Im in Vegas they screaming like hes Elvis",
                  "_deepnote_index_column": 85
                },
                {
                  "Eighteen years eighteen years": "But I just wanna design hotels and nail it",
                  "_deepnote_index_column": 86
                },
                {
                  "Eighteen years eighteen years": "Shit is real got me feeling Israelian",
                  "_deepnote_index_column": 87
                },
                {
                  "Eighteen years eighteen years": "Like Bar Refaeli or Gisele no thats Brazilian",
                  "_deepnote_index_column": 88
                },
                {
                  "Eighteen years eighteen years": "Went through deep depression when my momma passed",
                  "_deepnote_index_column": 89
                },
                {
                  "Eighteen years eighteen years": "Suicide what kinda talk is that",
                  "_deepnote_index_column": 90
                },
                {
                  "Eighteen years eighteen years": "But I been talking to God for so long",
                  "_deepnote_index_column": 91
                },
                {
                  "Eighteen years eighteen years": "That if you look at my life I guess hes talking back",
                  "_deepnote_index_column": 92
                },
                {
                  "Eighteen years eighteen years": "Fucking with my clique",
                  "_deepnote_index_column": 93
                },
                {
                  "Eighteen years eighteen years": "What you doin in the club on a Thursday",
                  "_deepnote_index_column": 94
                },
                {
                  "Eighteen years eighteen years": "She say she only here for her girl birthday",
                  "_deepnote_index_column": 95
                },
                {
                  "Eighteen years eighteen years": "They ordered champagne but still look thirsty",
                  "_deepnote_index_column": 96
                },
                {
                  "Eighteen years eighteen years": "Rock Forever but just turned thirty",
                  "_deepnote_index_column": 97
                },
                {
                  "Eighteen years eighteen years": "I know I got a bad reputation",
                  "_deepnote_index_column": 98
                },
                {
                  "Eighteen years eighteen years": "Walkingroundalwaysmad reputation",
                  "_deepnote_index_column": 99
                },
                {
                  "Eighteen years eighteen years": "Leaveaprettygirlsad reputation",
                  "_deepnote_index_column": 100
                },
                {
                  "Eighteen years eighteen years": "Start a Fight Club Brad reputation",
                  "_deepnote_index_column": 101
                },
                {
                  "Eighteen years eighteen years": "I turnt the nightclub out of the basement",
                  "_deepnote_index_column": 102
                },
                {
                  "Eighteen years eighteen years": "Ill turn the plane round your ass keep complainin",
                  "_deepnote_index_column": 103
                },
                {
                  "Eighteen years eighteen years": "How you gon be mad on vacation",
                  "_deepnote_index_column": 104
                },
                {
                  "Eighteen years eighteen years": "Dutty wining round all these Jamaicans",
                  "_deepnote_index_column": 105
                },
                {
                  "Eighteen years eighteen years": "Uh this that prom shit",
                  "_deepnote_index_column": 106
                },
                {
                  "Eighteen years eighteen years": "This that whatwedodonttellyourmom shit",
                  "_deepnote_index_column": 107
                },
                {
                  "Eighteen years eighteen years": "This that redcupallonthelawn shit",
                  "_deepnote_index_column": 108
                },
                {
                  "Eighteen years eighteen years": "Got a fresh cut straight out the salon bitch",
                  "_deepnote_index_column": 109
                },
                {
                  "Eighteen years eighteen years": "I wanna fuck you hard on the sink",
                  "_deepnote_index_column": 110
                },
                {
                  "Eighteen years eighteen years": "After that give you somethin to drink",
                  "_deepnote_index_column": 111
                },
                {
                  "Eighteen years eighteen years": "Step back cant get spunk on the mink",
                  "_deepnote_index_column": 112
                },
                {
                  "Eighteen years eighteen years": "I mean damn what would Jeromey Romey Romey Rome think",
                  "_deepnote_index_column": 113
                },
                {
                  "Eighteen years eighteen years": "Hey you remember where we first met",
                  "_deepnote_index_column": 114
                },
                {
                  "Eighteen years eighteen years": "Okay I dont remember where we first met",
                  "_deepnote_index_column": 115
                },
                {
                  "Eighteen years eighteen years": "But hey admittin is the first step",
                  "_deepnote_index_column": 116
                },
                {
                  "Eighteen years eighteen years": "And hey you know aint nobody perfect",
                  "_deepnote_index_column": 117
                },
                {
                  "Eighteen years eighteen years": "And I know with the hoes I got the worst rep",
                  "_deepnote_index_column": 118
                },
                {
                  "Eighteen years eighteen years": "But hey their backstroke Im tryna perfect",
                  "_deepnote_index_column": 119
                },
                {
                  "Eighteen years eighteen years": "And hey ayo we made it Thanksgivin",
                  "_deepnote_index_column": 120
                },
                {
                  "Eighteen years eighteen years": "So hey maybe we can make it to Christmas",
                  "_deepnote_index_column": 121
                },
                {
                  "Eighteen years eighteen years": "She asked me what I wished for on my wishlist",
                  "_deepnote_index_column": 122
                },
                {
                  "Eighteen years eighteen years": "Have you ever asked your bitch for other bitches",
                  "_deepnote_index_column": 123
                },
                {
                  "Eighteen years eighteen years": "Maybe we could still make it to the church steps",
                  "_deepnote_index_column": 124
                },
                {
                  "Eighteen years eighteen years": "But first you gon remember how to forget",
                  "_deepnote_index_column": 125
                },
                {
                  "Eighteen years eighteen years": "After all these longass verses",
                  "_deepnote_index_column": 126
                },
                {
                  "Eighteen years eighteen years": "Im tired you tired Jesus wept",
                  "_deepnote_index_column": 127
                },
                {
                  "Eighteen years eighteen years": "Coke on her black skin made it stripe like a zebra",
                  "_deepnote_index_column": 128
                },
                {
                  "Eighteen years eighteen years": "I call that jungle fever",
                  "_deepnote_index_column": 129
                },
                {
                  "Eighteen years eighteen years": "You will not control the threesome",
                  "_deepnote_index_column": 130
                },
                {
                  "Eighteen years eighteen years": "Just roll the weed up until I get me some",
                  "_deepnote_index_column": 131
                },
                {
                  "Eighteen years eighteen years": "We formed a new religion",
                  "_deepnote_index_column": 132
                },
                {
                  "Eighteen years eighteen years": "No sins as long as theres permission",
                  "_deepnote_index_column": 133
                },
                {
                  "Eighteen years eighteen years": "And deception is the only felony",
                  "_deepnote_index_column": 134
                },
                {
                  "Eighteen years eighteen years": "So never fuck nobody without telling me",
                  "_deepnote_index_column": 135
                },
                {
                  "Eighteen years eighteen years": "Sunglasses and Advil",
                  "_deepnote_index_column": 136
                },
                {
                  "Eighteen years eighteen years": "Last night was mad real",
                  "_deepnote_index_column": 137
                },
                {
                  "Eighteen years eighteen years": "Sun coming up am",
                  "_deepnote_index_column": 138
                },
                {
                  "Eighteen years eighteen years": "I wonder if they got cabs still",
                  "_deepnote_index_column": 139
                },
                {
                  "Eighteen years eighteen years": "Thinking bout the girl in all leopard",
                  "_deepnote_index_column": 140
                },
                {
                  "Eighteen years eighteen years": "Who was rubbing the wood like Kiki Shepard",
                  "_deepnote_index_column": 141
                },
                {
                  "Eighteen years eighteen years": "Two tattoos one read No Apologies",
                  "_deepnote_index_column": 142
                },
                {
                  "Eighteen years eighteen years": "The other said Love is Cursed by Monogamy",
                  "_deepnote_index_column": 143
                },
                {
                  "Eighteen years eighteen years": "Its something that the pastor dont preach",
                  "_deepnote_index_column": 144
                },
                {
                  "Eighteen years eighteen years": "Its something that a teacher cant teach",
                  "_deepnote_index_column": 145
                },
                {
                  "Eighteen years eighteen years": "When we die the money we cant keep",
                  "_deepnote_index_column": 146
                },
                {
                  "Eighteen years eighteen years": "But we probably spend it all cause the pain aint cheap",
                  "_deepnote_index_column": 147
                },
                {
                  "Eighteen years eighteen years": "Preach",
                  "_deepnote_index_column": 148
                },
                {
                  "Eighteen years eighteen years": "Now if I fuck this model",
                  "_deepnote_index_column": 149
                },
                {
                  "Eighteen years eighteen years": "And she just bleached her asshole",
                  "_deepnote_index_column": 150
                },
                {
                  "Eighteen years eighteen years": "And I get bleach on my Tshirt",
                  "_deepnote_index_column": 151
                },
                {
                  "Eighteen years eighteen years": "Imma feel like an asshole",
                  "_deepnote_index_column": 152
                },
                {
                  "Eighteen years eighteen years": "I was high when I met her",
                  "_deepnote_index_column": 153
                },
                {
                  "Eighteen years eighteen years": "We was down in Tribeca",
                  "_deepnote_index_column": 154
                },
                {
                  "Eighteen years eighteen years": "She get under your skin if you let her",
                  "_deepnote_index_column": 155
                },
                {
                  "Eighteen years eighteen years": "She get under your skin if youuh",
                  "_deepnote_index_column": 156
                },
                {
                  "Eighteen years eighteen years": "I dont even want to talk about it",
                  "_deepnote_index_column": 157
                },
                {
                  "Eighteen years eighteen years": "I dont even want to talk about it",
                  "_deepnote_index_column": 158
                },
                {
                  "Eighteen years eighteen years": "I dont even want to say nothing",
                  "_deepnote_index_column": 159
                },
                {
                  "Eighteen years eighteen years": "Everybody gon say something",
                  "_deepnote_index_column": 160
                },
                {
                  "Eighteen years eighteen years": "Id be worried if they said nothing",
                  "_deepnote_index_column": 161
                },
                {
                  "Eighteen years eighteen years": "Remind me where I know you from",
                  "_deepnote_index_column": 162
                },
                {
                  "Eighteen years eighteen years": "She looking like she owe you some",
                  "_deepnote_index_column": 163
                },
                {
                  "Eighteen years eighteen years": "You know just what we want",
                  "_deepnote_index_column": 164
                },
                {
                  "Eighteen years eighteen years": "I want to wake up with you in my beautiful morning",
                  "_deepnote_index_column": 165
                },
                {
                  "Eighteen years eighteen years": "My momma was raised in the era when",
                  "_deepnote_index_column": 166
                },
                {
                  "Eighteen years eighteen years": "Clean water was only served to the fairer skin",
                  "_deepnote_index_column": 167
                },
                {
                  "Eighteen years eighteen years": "Doin clothes you would have thought I had help",
                  "_deepnote_index_column": 168
                },
                {
                  "Eighteen years eighteen years": "But they wasnt satisfied unless I picked the cotton myself",
                  "_deepnote_index_column": 169
                },
                {
                  "Eighteen years eighteen years": "You see its broke nigga racism",
                  "_deepnote_index_column": 170
                },
                {
                  "Eighteen years eighteen years": "Thats that Dont touch anything in the store",
                  "_deepnote_index_column": 171
                },
                {
                  "Eighteen years eighteen years": "And its rich nigga racism",
                  "_deepnote_index_column": 172
                },
                {
                  "Eighteen years eighteen years": "Thats that Come in please buy more",
                  "_deepnote_index_column": 173
                },
                {
                  "Eighteen years eighteen years": "What you want a Bentley Fur coat A diamond chain",
                  "_deepnote_index_column": 174
                },
                {
                  "Eighteen years eighteen years": "All you blacks want all the same things",
                  "_deepnote_index_column": 175
                },
                {
                  "Eighteen years eighteen years": "Used to only be niggas now everybody playin",
                  "_deepnote_index_column": 176
                },
                {
                  "Eighteen years eighteen years": "Spendin everything on Alexander Wang",
                  "_deepnote_index_column": 177
                },
                {
                  "Eighteen years eighteen years": "New Slaves",
                  "_deepnote_index_column": 178
                },
                {
                  "Eighteen years eighteen years": "I throw these Maybach keys",
                  "_deepnote_index_column": 179
                },
                {
                  "Eighteen years eighteen years": "I wear my heart on the sleeve",
                  "_deepnote_index_column": 180
                },
                {
                  "Eighteen years eighteen years": "I know that we the new slaves",
                  "_deepnote_index_column": 181
                },
                {
                  "Eighteen years eighteen years": "I see the blood on the leaves",
                  "_deepnote_index_column": 182
                },
                {
                  "Eighteen years eighteen years": "I see the blood on the leaves",
                  "_deepnote_index_column": 183
                },
                {
                  "Eighteen years eighteen years": "I see the blood on the leaves",
                  "_deepnote_index_column": 184
                },
                {
                  "Eighteen years eighteen years": "I know that we the new slaves",
                  "_deepnote_index_column": 185
                },
                {
                  "Eighteen years eighteen years": "I see the blood on the leaves",
                  "_deepnote_index_column": 186
                },
                {
                  "Eighteen years eighteen years": "They throwin hate at me",
                  "_deepnote_index_column": 187
                },
                {
                  "Eighteen years eighteen years": "Want me to stay at ease",
                  "_deepnote_index_column": 188
                },
                {
                  "Eighteen years eighteen years": "Fuck you and your corporation",
                  "_deepnote_index_column": 189
                },
                {
                  "Eighteen years eighteen years": "Yall niggas cant control me",
                  "_deepnote_index_column": 190
                },
                {
                  "Eighteen years eighteen years": "I know that we the new slaves",
                  "_deepnote_index_column": 191
                },
                {
                  "Eighteen years eighteen years": "I know that we the new slaves",
                  "_deepnote_index_column": 192
                },
                {
                  "Eighteen years eighteen years": "Im bout to wild the fuck out",
                  "_deepnote_index_column": 193
                },
                {
                  "Eighteen years eighteen years": "Im goin Bobby Boucher",
                  "_deepnote_index_column": 194
                },
                {
                  "Eighteen years eighteen years": "I know that pussy aint free",
                  "_deepnote_index_column": 195
                },
                {
                  "Eighteen years eighteen years": "You niggas pussy aint me",
                  "_deepnote_index_column": 196
                },
                {
                  "Eighteen years eighteen years": "Yall throwin contracts at me",
                  "_deepnote_index_column": 197
                },
                {
                  "Eighteen years eighteen years": "You know that niggas cant read",
                  "_deepnote_index_column": 198
                },
                {
                  "Eighteen years eighteen years": "Throw em some Maybach keys",
                  "_deepnote_index_column": 199
                },
                {
                  "Eighteen years eighteen years": "Fuck it cest la vie",
                  "_deepnote_index_column": 200
                },
                {
                  "Eighteen years eighteen years": "I know that we the new slaves",
                  "_deepnote_index_column": 201
                },
                {
                  "Eighteen years eighteen years": "Yall niggas cant fuck with me",
                  "_deepnote_index_column": 202
                },
                {
                  "Eighteen years eighteen years": "Yall niggas cant fuck with Ye",
                  "_deepnote_index_column": 203
                },
                {
                  "Eighteen years eighteen years": "Yall niggas cant fuck with Ye",
                  "_deepnote_index_column": 204
                },
                {
                  "Eighteen years eighteen years": "Ill move my family out the country",
                  "_deepnote_index_column": 205
                },
                {
                  "Eighteen years eighteen years": "So you cant see where I stay",
                  "_deepnote_index_column": 206
                },
                {
                  "Eighteen years eighteen years": "So go and grab the reporters",
                  "_deepnote_index_column": 207
                },
                {
                  "Eighteen years eighteen years": "So I can smash their recorders",
                  "_deepnote_index_column": 208
                },
                {
                  "Eighteen years eighteen years": "See theyll confuse us with some bullshit",
                  "_deepnote_index_column": 209
                },
                {
                  "Eighteen years eighteen years": "Like the New World Order",
                  "_deepnote_index_column": 210
                },
                {
                  "Eighteen years eighteen years": "Meanwhile the DEA",
                  "_deepnote_index_column": 211
                },
                {
                  "Eighteen years eighteen years": "Teamed up with the CCA",
                  "_deepnote_index_column": 212
                },
                {
                  "Eighteen years eighteen years": "They tryna lock niggas up",
                  "_deepnote_index_column": 213
                },
                {
                  "Eighteen years eighteen years": "They tryna make new slaves",
                  "_deepnote_index_column": 214
                },
                {
                  "Eighteen years eighteen years": "See thats that privately owned prison",
                  "_deepnote_index_column": 215
                },
                {
                  "Eighteen years eighteen years": "Get your piece today",
                  "_deepnote_index_column": 216
                },
                {
                  "Eighteen years eighteen years": "They prolly all in the Hamptons",
                  "_deepnote_index_column": 217
                },
                {
                  "Eighteen years eighteen years": "Braggin bout what they made",
                  "_deepnote_index_column": 218
                },
                {
                  "Eighteen years eighteen years": "Fuck you and your Hampton house",
                  "_deepnote_index_column": 219
                },
                {
                  "Eighteen years eighteen years": "Ill fuck your Hampton spouse",
                  "_deepnote_index_column": 220
                },
                {
                  "Eighteen years eighteen years": "Came on her Hampton blouse",
                  "_deepnote_index_column": 221
                },
                {
                  "Eighteen years eighteen years": "And in her Hampton mouth",
                  "_deepnote_index_column": 222
                },
                {
                  "Eighteen years eighteen years": "Yall bout to turn shit up",
                  "_deepnote_index_column": 223
                },
                {
                  "Eighteen years eighteen years": "Im bout to tear shit down",
                  "_deepnote_index_column": 224
                },
                {
                  "Eighteen years eighteen years": "Im bout to air shit out",
                  "_deepnote_index_column": 225
                },
                {
                  "Eighteen years eighteen years": "Now what the fuck they gon say now",
                  "_deepnote_index_column": 226
                },
                {
                  "Eighteen years eighteen years": "I just need to clear my mind now",
                  "_deepnote_index_column": 227
                },
                {
                  "Eighteen years eighteen years": "Its been racin since the summertime",
                  "_deepnote_index_column": 228
                },
                {
                  "Eighteen years eighteen years": "Now Im holdin down the summer now",
                  "_deepnote_index_column": 229
                },
                {
                  "Eighteen years eighteen years": "And all I want is what I cant buy now",
                  "_deepnote_index_column": 230
                },
                {
                  "Eighteen years eighteen years": "Cause I aint got the money on me right now",
                  "_deepnote_index_column": 231
                },
                {
                  "Eighteen years eighteen years": "And I told you to wait",
                  "_deepnote_index_column": 232
                },
                {
                  "Eighteen years eighteen years": "Yeah I told you to wait",
                  "_deepnote_index_column": 233
                },
                {
                  "Eighteen years eighteen years": "So Imma need a little more time now",
                  "_deepnote_index_column": 234
                },
                {
                  "Eighteen years eighteen years": "Cause I aint got the money on me right now",
                  "_deepnote_index_column": 235
                },
                {
                  "Eighteen years eighteen years": "And I thought you could wait",
                  "_deepnote_index_column": 236
                },
                {
                  "Eighteen years eighteen years": "Yeah I thought you could wait",
                  "_deepnote_index_column": 237
                },
                {
                  "Eighteen years eighteen years": "These bitches surroundin me",
                  "_deepnote_index_column": 238
                },
                {
                  "Eighteen years eighteen years": "All want something out me",
                  "_deepnote_index_column": 239
                },
                {
                  "Eighteen years eighteen years": "Then they talk about me",
                  "_deepnote_index_column": 240
                },
                {
                  "Eighteen years eighteen years": "Would be lost without me",
                  "_deepnote_index_column": 241
                },
                {
                  "Eighteen years eighteen years": "We couldve been somebody",
                  "_deepnote_index_column": 242
                },
                {
                  "Eighteen years eighteen years": "Thought youd be different bout it",
                  "_deepnote_index_column": 243
                },
                {
                  "Eighteen years eighteen years": "Now I know you not it",
                  "_deepnote_index_column": 244
                },
                {
                  "Eighteen years eighteen years": "So lets get on with it",
                  "_deepnote_index_column": 245
                },
                {
                  "Eighteen years eighteen years": "We couldve been somebody",
                  "_deepnote_index_column": 246
                },
                {
                  "Eighteen years eighteen years": "stead you had to tell somebody",
                  "_deepnote_index_column": 247
                },
                {
                  "Eighteen years eighteen years": "Lets take it back to the first party",
                  "_deepnote_index_column": 248
                },
                {
                  "Eighteen years eighteen years": "When you tried your first molly",
                  "_deepnote_index_column": 249
                },
                {
                  "Eighteen years eighteen years": "And came out of your body",
                  "_deepnote_index_column": 250
                },
                {
                  "Eighteen years eighteen years": "And came out of your body",
                  "_deepnote_index_column": 251
                },
                {
                  "Eighteen years eighteen years": "Running naked down the lobby",
                  "_deepnote_index_column": 252
                },
                {
                  "Eighteen years eighteen years": "And you was screamin that you love me",
                  "_deepnote_index_column": 253
                },
                {
                  "Eighteen years eighteen years": "Before the limelight tore ya",
                  "_deepnote_index_column": 254
                },
                {
                  "Eighteen years eighteen years": "Before the limelight stole ya",
                  "_deepnote_index_column": 255
                },
                {
                  "Eighteen years eighteen years": "Remember we were so young",
                  "_deepnote_index_column": 256
                },
                {
                  "Eighteen years eighteen years": "When I would hold you",
                  "_deepnote_index_column": 257
                },
                {
                  "Eighteen years eighteen years": "Before the blood on the leaves",
                  "_deepnote_index_column": 258
                },
                {
                  "Eighteen years eighteen years": "I know there aint wrong with me",
                  "_deepnote_index_column": 259
                },
                {
                  "Eighteen years eighteen years": "Something strange is happenin",
                  "_deepnote_index_column": 260
                },
                {
                  "Eighteen years eighteen years": "You couldve been somebody",
                  "_deepnote_index_column": 261
                },
                {
                  "Eighteen years eighteen years": "We couldve ugh we couldve been somebody",
                  "_deepnote_index_column": 262
                },
                {
                  "Eighteen years eighteen years": "Or was it on the first party",
                  "_deepnote_index_column": 263
                },
                {
                  "Eighteen years eighteen years": "When we tried our first molly",
                  "_deepnote_index_column": 264
                },
                {
                  "Eighteen years eighteen years": "And came out of our body",
                  "_deepnote_index_column": 265
                },
                {
                  "Eighteen years eighteen years": "And came out of our body",
                  "_deepnote_index_column": 266
                },
                {
                  "Eighteen years eighteen years": "Before they call lawyers",
                  "_deepnote_index_column": 267
                },
                {
                  "Eighteen years eighteen years": "Before you tried to destroy us",
                  "_deepnote_index_column": 268
                },
                {
                  "Eighteen years eighteen years": "How you gon lie to the lawyer",
                  "_deepnote_index_column": 269
                },
                {
                  "Eighteen years eighteen years": "Its like I dont even know ya",
                  "_deepnote_index_column": 270
                },
                {
                  "Eighteen years eighteen years": "I gotta bring it back to the nolia",
                  "_deepnote_index_column": 271
                },
                {
                  "Eighteen years eighteen years": "To all my second string bitches try and get a baby",
                  "_deepnote_index_column": 272
                },
                {
                  "Eighteen years eighteen years": "Trying to get a baby now you talkin crazy",
                  "_deepnote_index_column": 273
                },
                {
                  "Eighteen years eighteen years": "I dont give a damn if you used to talk to Jay Z",
                  "_deepnote_index_column": 274
                },
                {
                  "Eighteen years eighteen years": "He aint with you he with Beyonc‚àö¬© you need to stop actin lazy",
                  "_deepnote_index_column": 275
                },
                {
                  "Eighteen years eighteen years": "She Instagram herself like BadBitchAlert",
                  "_deepnote_index_column": 276
                },
                {
                  "Eighteen years eighteen years": "He Instagram his watch like MadRichAlert",
                  "_deepnote_index_column": 277
                },
                {
                  "Eighteen years eighteen years": "He only wanna see that ass in reverse",
                  "_deepnote_index_column": 278
                },
                {
                  "Eighteen years eighteen years": "Twothousanddollar bag with no cash in your purse",
                  "_deepnote_index_column": 279
                },
                {
                  "Eighteen years eighteen years": "Now you sittin courtside wifey on the other side",
                  "_deepnote_index_column": 280
                },
                {
                  "Eighteen years eighteen years": "Gotta keep em separated I call that apartheid",
                  "_deepnote_index_column": 281
                },
                {
                  "Eighteen years eighteen years": "Then she said she impregnated thats the night your heart died",
                  "_deepnote_index_column": 282
                },
                {
                  "Eighteen years eighteen years": "Then you gotta go and tell your girl and report that",
                  "_deepnote_index_column": 283
                },
                {
                  "Eighteen years eighteen years": "Main reason cause your pastor said you cant abort that",
                  "_deepnote_index_column": 284
                },
                {
                  "Eighteen years eighteen years": "Now your driver say that new Benz you cant afford that",
                  "_deepnote_index_column": 285
                },
                {
                  "Eighteen years eighteen years": "All that cocaine on the table you cant snort that",
                  "_deepnote_index_column": 286
                },
                {
                  "Eighteen years eighteen years": "That goin to that owin money that the court got",
                  "_deepnote_index_column": 287
                },
                {
                  "Eighteen years eighteen years": "All in on that alimony uh yeahyeah she got you homie yeah",
                  "_deepnote_index_column": 288
                },
                {
                  "Eighteen years eighteen years": "til death but do your part unholy matrimony",
                  "_deepnote_index_column": 289
                },
                {
                  "Eighteen years eighteen years": "For my theme song black",
                  "_deepnote_index_column": 290
                },
                {
                  "Eighteen years eighteen years": "My leather black jeans on black",
                  "_deepnote_index_column": 291
                },
                {
                  "Eighteen years eighteen years": "My byanymeans on",
                  "_deepnote_index_column": 292
                },
                {
                  "Eighteen years eighteen years": "Pardon Im getting my scream on",
                  "_deepnote_index_column": 293
                },
                {
                  "Eighteen years eighteen years": "Enter the kingdom black",
                  "_deepnote_index_column": 294
                },
                {
                  "Eighteen years eighteen years": "But watch who you bring home",
                  "_deepnote_index_column": 295
                },
                {
                  "Eighteen years eighteen years": "They see a black man with a white woman",
                  "_deepnote_index_column": 296
                },
                {
                  "Eighteen years eighteen years": "At the top floor they gone come to kill King Kong",
                  "_deepnote_index_column": 297
                },
                {
                  "Eighteen years eighteen years": "Middle America packed in black",
                  "_deepnote_index_column": 298
                },
                {
                  "Eighteen years eighteen years": "Came to see me in my black skin black",
                  "_deepnote_index_column": 299
                },
                {
                  "Eighteen years eighteen years": "Number one question theyre askin",
                  "_deepnote_index_column": 300
                },
                {
                  "Eighteen years eighteen years": "Fuck every question you askin black",
                  "_deepnote_index_column": 301
                },
                {
                  "Eighteen years eighteen years": "If I dont get ran out by Catholics black",
                  "_deepnote_index_column": 302
                },
                {
                  "Eighteen years eighteen years": "Here come some conservative Baptists",
                  "_deepnote_index_column": 303
                },
                {
                  "Eighteen years eighteen years": "Claiming Im overreactin",
                  "_deepnote_index_column": 304
                },
                {
                  "Eighteen years eighteen years": "Like them black kids in Chiraq bitch",
                  "_deepnote_index_column": 305
                },
                {
                  "Eighteen years eighteen years": "Stop all that coon shit black",
                  "_deepnote_index_column": 306
                },
                {
                  "Eighteen years eighteen years": "Early morning cartoon shit black",
                  "_deepnote_index_column": 307
                },
                {
                  "Eighteen years eighteen years": "This is that goon shit",
                  "_deepnote_index_column": 308
                },
                {
                  "Eighteen years eighteen years": "Fuck up your whole afternoon shit",
                  "_deepnote_index_column": 309
                },
                {
                  "Eighteen years eighteen years": "Im aware Im a wolf",
                  "_deepnote_index_column": 310
                },
                {
                  "Eighteen years eighteen years": "Soon as the moon hit",
                  "_deepnote_index_column": 311
                },
                {
                  "Eighteen years eighteen years": "Im aware Im a king",
                  "_deepnote_index_column": 312
                },
                {
                  "Eighteen years eighteen years": "Back out the tomb bitch black",
                  "_deepnote_index_column": 313
                },
                {
                  "Eighteen years eighteen years": "Black out the room bitch black",
                  "_deepnote_index_column": 314
                },
                {
                  "Eighteen years eighteen years": "Stop all that coon shit black",
                  "_deepnote_index_column": 315
                },
                {
                  "Eighteen years eighteen years": "These niggas aint doin shit black",
                  "_deepnote_index_column": 316
                },
                {
                  "Eighteen years eighteen years": "Them niggas aint doin shit",
                  "_deepnote_index_column": 317
                },
                {
                  "Eighteen years eighteen years": "Come on homie what happened",
                  "_deepnote_index_column": 318
                },
                {
                  "Eighteen years eighteen years": "You niggas aint breathin you gaspin",
                  "_deepnote_index_column": 319
                },
                {
                  "Eighteen years eighteen years": "These niggas aint ready for action",
                  "_deepnote_index_column": 320
                },
                {
                  "Eighteen years eighteen years": "Readyready for action",
                  "_deepnote_index_column": 321
                },
                {
                  "Eighteen years eighteen years": "They smile in my face is what I dont like",
                  "_deepnote_index_column": 322
                },
                {
                  "Eighteen years eighteen years": "They steal your whole sound thats a soundbite",
                  "_deepnote_index_column": 323
                },
                {
                  "Eighteen years eighteen years": "The media crucify me like they did Christ",
                  "_deepnote_index_column": 324
                },
                {
                  "Eighteen years eighteen years": "They want to find me not breathing like they found Mike",
                  "_deepnote_index_column": 325
                },
                {
                  "Eighteen years eighteen years": "A girlll run her mouth only out of spite",
                  "_deepnote_index_column": 326
                },
                {
                  "Eighteen years eighteen years": "But I never hit a woman never in my life",
                  "_deepnote_index_column": 327
                },
                {
                  "Eighteen years eighteen years": "I was in too deep like Mekhi Phife",
                  "_deepnote_index_column": 328
                },
                {
                  "Eighteen years eighteen years": "In that pussy so deep I could have drowned twice",
                  "_deepnote_index_column": 329
                },
                {
                  "Eighteen years eighteen years": "Rose gold Jesus piece with the brown ice",
                  "_deepnote_index_column": 330
                },
                {
                  "Eighteen years eighteen years": "Eating good vegetarian with the brown rice",
                  "_deepnote_index_column": 331
                },
                {
                  "Eighteen years eighteen years": "Girls kissing girls cause its hot right",
                  "_deepnote_index_column": 332
                },
                {
                  "Eighteen years eighteen years": "But unless they use a strapon then they not dykes",
                  "_deepnote_index_column": 333
                },
                {
                  "Eighteen years eighteen years": "They aint about that life they aint about that life",
                  "_deepnote_index_column": 334
                },
                {
                  "Eighteen years eighteen years": "We hanging out that window its about to be a Suge night",
                  "_deepnote_index_column": 335
                },
                {
                  "Eighteen years eighteen years": "Free Bump J real nigga for life",
                  "_deepnote_index_column": 336
                },
                {
                  "Eighteen years eighteen years": "Shoutout to Derrick Rose man that nigga nice",
                  "_deepnote_index_column": 337
                },
                {
                  "Eighteen years eighteen years": "Shout out to LEP Jay Boogie right",
                  "_deepnote_index_column": 338
                },
                {
                  "Eighteen years eighteen years": "Chief Keef King Louie this is Chi right Right",
                  "_deepnote_index_column": 339
                },
                {
                  "Eighteen years eighteen years": "The best living or dead hands down huh",
                  "_deepnote_index_column": 340
                },
                {
                  "Eighteen years eighteen years": "Less talk more head right now huh",
                  "_deepnote_index_column": 341
                },
                {
                  "Eighteen years eighteen years": "And my eyes more red than the devil is",
                  "_deepnote_index_column": 342
                },
                {
                  "Eighteen years eighteen years": "And Im about to take it to another level bitch",
                  "_deepnote_index_column": 343
                },
                {
                  "Eighteen years eighteen years": "No matter who you go and get",
                  "_deepnote_index_column": 344
                },
                {
                  "Eighteen years eighteen years": "Aint nobody cold as this",
                  "_deepnote_index_column": 345
                },
                {
                  "Eighteen years eighteen years": "Do the rap and the track triple double no assists",
                  "_deepnote_index_column": 346
                },
                {
                  "Eighteen years eighteen years": "And my only focus is staying on some bogus shit",
                  "_deepnote_index_column": 347
                },
                {
                  "Eighteen years eighteen years": "Arguing with my older bitch acting like I owe her shit",
                  "_deepnote_index_column": 348
                },
                {
                  "Eighteen years eighteen years": "I heard that people sing raps to give the track pain",
                  "_deepnote_index_column": 349
                },
                {
                  "Eighteen years eighteen years": "Bought the chain that always give me back pain",
                  "_deepnote_index_column": 350
                },
                {
                  "Eighteen years eighteen years": "Fucking up my money so yeah I had to act sane",
                  "_deepnote_index_column": 351
                },
                {
                  "Eighteen years eighteen years": "Chi nigga but these hoes love my accent",
                  "_deepnote_index_column": 352
                },
                {
                  "Eighteen years eighteen years": "Chick came up to me and said",
                  "_deepnote_index_column": 353
                },
                {
                  "Eighteen years eighteen years": "This the number to dial",
                  "_deepnote_index_column": 354
                },
                {
                  "Eighteen years eighteen years": "If you wanna make your your now",
                  "_deepnote_index_column": 355
                },
                {
                  "Eighteen years eighteen years": "Mix that Goose and Malibu I call it Malibooyah",
                  "_deepnote_index_column": 356
                },
                {
                  "Eighteen years eighteen years": "Goddamn Yeezy how he hit them with a new style",
                  "_deepnote_index_column": 357
                },
                {
                  "Eighteen years eighteen years": "Know that motherfucker well What you gonna do now",
                  "_deepnote_index_column": 358
                },
                {
                  "Eighteen years eighteen years": "Whatever I want to do Gosh Its cool now",
                  "_deepnote_index_column": 359
                },
                {
                  "Eighteen years eighteen years": "Know Im gonna do ah its the new now",
                  "_deepnote_index_column": 360
                },
                {
                  "Eighteen years eighteen years": "Think you motherfuckers really really need to cool out",
                  "_deepnote_index_column": 361
                },
                {
                  "Eighteen years eighteen years": "Cause youll never get on top of this",
                  "_deepnote_index_column": 362
                },
                {
                  "Eighteen years eighteen years": "So mommy best advice is just to get on top of this",
                  "_deepnote_index_column": 363
                },
                {
                  "Eighteen years eighteen years": "Have you ever had sex with a pharaoh",
                  "_deepnote_index_column": 364
                },
                {
                  "Eighteen years eighteen years": "Put the pussy in a sarcophagus",
                  "_deepnote_index_column": 365
                },
                {
                  "Eighteen years eighteen years": "Now she claiming that I bruised her esophagus",
                  "_deepnote_index_column": 366
                },
                {
                  "Eighteen years eighteen years": "Head of the class and she just won a swallowship",
                  "_deepnote_index_column": 367
                },
                {
                  "Eighteen years eighteen years": "Im living in the future so the present is my past",
                  "_deepnote_index_column": 368
                },
                {
                  "Eighteen years eighteen years": "My presence is a present kiss my ass",
                  "_deepnote_index_column": 369
                },
                {
                  "Eighteen years eighteen years": "This Ye nigga",
                  "_deepnote_index_column": 370
                },
                {
                  "Eighteen years eighteen years": "Shoppin for the winter and its just May nigga",
                  "_deepnote_index_column": 371
                },
                {
                  "Eighteen years eighteen years": "Ball so hard man this shit cray nigga",
                  "_deepnote_index_column": 372
                },
                {
                  "Eighteen years eighteen years": "And you aint gettin money less you got eight figures",
                  "_deepnote_index_column": 373
                },
                {
                  "Eighteen years eighteen years": "For that Jesus piece man Ive been saved nigga",
                  "_deepnote_index_column": 374
                },
                {
                  "Eighteen years eighteen years": "Just talked to Farrakhan thats sensei nigga",
                  "_deepnote_index_column": 375
                },
                {
                  "Eighteen years eighteen years": "Told him Ive been on ten since the th grade nigga",
                  "_deepnote_index_column": 376
                },
                {
                  "Eighteen years eighteen years": "Got a middle finger longer than Dikembe my nigga uh",
                  "_deepnote_index_column": 377
                },
                {
                  "Eighteen years eighteen years": "I dont let em play with me",
                  "_deepnote_index_column": 378
                },
                {
                  "Eighteen years eighteen years": "I dont let em talk to me no kind of way",
                  "_deepnote_index_column": 379
                },
                {
                  "Eighteen years eighteen years": "Uh they better watch what they say to me",
                  "_deepnote_index_column": 380
                },
                {
                  "Eighteen years eighteen years": "Niggas still gettin popped on the day to day",
                  "_deepnote_index_column": 381
                },
                {
                  "Eighteen years eighteen years": "Yeah I still got the hundred with the small face nigga",
                  "_deepnote_index_column": 382
                },
                {
                  "Eighteen years eighteen years": "Might spend racks on my off day nigga",
                  "_deepnote_index_column": 383
                },
                {
                  "Eighteen years eighteen years": "You a fake Denzel like the Allstate nigga",
                  "_deepnote_index_column": 384
                },
                {
                  "Eighteen years eighteen years": "If you run into me better have Allstate with yah",
                  "_deepnote_index_column": 385
                },
                {
                  "Eighteen years eighteen years": "You a Rico Suave nigga",
                  "_deepnote_index_column": 386
                },
                {
                  "Eighteen years eighteen years": "Ride round listen to Sade nigga",
                  "_deepnote_index_column": 387
                },
                {
                  "Eighteen years eighteen years": "If you aint with us you in our way nigga",
                  "_deepnote_index_column": 388
                },
                {
                  "Eighteen years eighteen years": "You an actor you should be on Broadway nigga",
                  "_deepnote_index_column": 389
                },
                {
                  "Eighteen years eighteen years": "Cause you do shit the broad way nigga",
                  "_deepnote_index_column": 390
                },
                {
                  "Eighteen years eighteen years": "Your bitch got a ass but my broad way thicker",
                  "_deepnote_index_column": 391
                },
                {
                  "Eighteen years eighteen years": "Late for the class in the hallway nigga",
                  "_deepnote_index_column": 392
                },
                {
                  "Eighteen years eighteen years": "Yeah the dropout at it as always nigga as always",
                  "_deepnote_index_column": 393
                },
                {
                  "Eighteen years eighteen years": "All day nigga",
                  "_deepnote_index_column": 394
                },
                {
                  "Eighteen years eighteen years": "I could do this all day boy Im finna turn this bitch out",
                  "_deepnote_index_column": 395
                },
                {
                  "Eighteen years eighteen years": "They need that Ye in the streets boy theres been a mothafuckin drought",
                  "_deepnote_index_column": 396
                },
                {
                  "Eighteen years eighteen years": "Dont really matter what I make boy you know I still go wild",
                  "_deepnote_index_column": 397
                },
                {
                  "Eighteen years eighteen years": "Like a light skinned slave boy we in the mothafuckin house",
                  "_deepnote_index_column": 398
                },
                {
                  "Eighteen years eighteen years": "Right now you lookin real sus right now",
                  "_deepnote_index_column": 399
                },
                {
                  "Eighteen years eighteen years": "I swear Ive been on this flight like a month right now",
                  "_deepnote_index_column": 400
                },
                {
                  "Eighteen years eighteen years": "Stupid niggas gettin money Forrest Gump right now",
                  "_deepnote_index_column": 401
                },
                {
                  "Eighteen years eighteen years": "Shoutout to Jackie Chan I need to stunt right now",
                  "_deepnote_index_column": 402
                },
                {
                  "Eighteen years eighteen years": "Theyve been lookin at the Gram Ive been lookin at the Grammys",
                  "_deepnote_index_column": 403
                },
                {
                  "Eighteen years eighteen years": "Like huh thats us right now",
                  "_deepnote_index_column": 404
                },
                {
                  "Eighteen years eighteen years": "days everybody gettin paid",
                  "_deepnote_index_column": 405
                },
                {
                  "Eighteen years eighteen years": "Niggas lookin at me like Im worth both MJs",
                  "_deepnote_index_column": 406
                },
                {
                  "Eighteen years eighteen years": "People saying Ye Ye take it easy",
                  "_deepnote_index_column": 407
                },
                {
                  "Eighteen years eighteen years": "Gs for the Yeezys off of eBay",
                  "_deepnote_index_column": 408
                },
                {
                  "Eighteen years eighteen years": "Niggas do the most and they aint done shit",
                  "_deepnote_index_column": 409
                },
                {
                  "Eighteen years eighteen years": "Only way I can sum it up sumbitch",
                  "_deepnote_index_column": 410
                },
                {
                  "Eighteen years eighteen years": "I told I told ay ay I told you",
                  "_deepnote_index_column": 411
                },
                {
                  "Eighteen years eighteen years": "Up in the morning miss you bad",
                  "_deepnote_index_column": 412
                },
                {
                  "Eighteen years eighteen years": "Sorry I aint called you back",
                  "_deepnote_index_column": 413
                },
                {
                  "Eighteen years eighteen years": "Same problem my father had",
                  "_deepnote_index_column": 414
                },
                {
                  "Eighteen years eighteen years": "All his time all he had all he had",
                  "_deepnote_index_column": 415
                },
                {
                  "Eighteen years eighteen years": "In what he dreamed",
                  "_deepnote_index_column": 416
                },
                {
                  "Eighteen years eighteen years": "All his cash market crashed",
                  "_deepnote_index_column": 417
                },
                {
                  "Eighteen years eighteen years": "Hurt him bad people get divorced for that",
                  "_deepnote_index_column": 418
                },
                {
                  "Eighteen years eighteen years": "Drops some stacks pops is good",
                  "_deepnote_index_column": 419
                },
                {
                  "Eighteen years eighteen years": "Momma pass in Hollywood",
                  "_deepnote_index_column": 420
                },
                {
                  "Eighteen years eighteen years": "If you ask lost my soul",
                  "_deepnote_index_column": 421
                },
                {
                  "Eighteen years eighteen years": "Driving fast lost control",
                  "_deepnote_index_column": 422
                },
                {
                  "Eighteen years eighteen years": "Off the road jaw was broke",
                  "_deepnote_index_column": 423
                },
                {
                  "Eighteen years eighteen years": "Member we all was broke",
                  "_deepnote_index_column": 424
                },
                {
                  "Eighteen years eighteen years": "Member Im coming back",
                  "_deepnote_index_column": 425
                },
                {
                  "Eighteen years eighteen years": "Ill be taking all the stacks",
                  "_deepnote_index_column": 426
                },
                {
                  "Eighteen years eighteen years": "Soon as they like you make em unlike you",
                  "_deepnote_index_column": 427
                },
                {
                  "Eighteen years eighteen years": "Cause kissin people ass is so unlike you",
                  "_deepnote_index_column": 428
                },
                {
                  "Eighteen years eighteen years": "The only rapper compared to Michael",
                  "_deepnote_index_column": 429
                },
                {
                  "Eighteen years eighteen years": "So heres a few hatinass niggas to fight you",
                  "_deepnote_index_column": 430
                },
                {
                  "Eighteen years eighteen years": "And heres a few snakeass niggas to bite you",
                  "_deepnote_index_column": 431
                },
                {
                  "Eighteen years eighteen years": "And I dont even wanna hear bout what niggas might do",
                  "_deepnote_index_column": 432
                },
                {
                  "Eighteen years eighteen years": "Old niggas mentally still in high school",
                  "_deepnote_index_column": 433
                },
                {
                  "Eighteen years eighteen years": "Since the tight jeans they aint never liked you",
                  "_deepnote_index_column": 434
                },
                {
                  "Eighteen years eighteen years": "Pinkass polos with a fuckin backpack",
                  "_deepnote_index_column": 435
                },
                {
                  "Eighteen years eighteen years": "But everybody know you brought real rap back",
                  "_deepnote_index_column": 436
                },
                {
                  "Eighteen years eighteen years": "Nobody had swag man we the Rat Pack",
                  "_deepnote_index_column": 437
                },
                {
                  "Eighteen years eighteen years": "Virgil Pyrex Don C snapback",
                  "_deepnote_index_column": 438
                },
                {
                  "Eighteen years eighteen years": "Ibn diamond Chitown shinin",
                  "_deepnote_index_column": 439
                },
                {
                  "Eighteen years eighteen years": "Monop in this bitch again changed the climate",
                  "_deepnote_index_column": 440
                },
                {
                  "Eighteen years eighteen years": "Hop in this bitch again same thing Im in",
                  "_deepnote_index_column": 441
                },
                {
                  "Eighteen years eighteen years": "Until the day I get struck by lightning",
                  "_deepnote_index_column": 442
                },
                {
                  "Eighteen years eighteen years": "I just talked to Jesus",
                  "_deepnote_index_column": 443
                },
                {
                  "Eighteen years eighteen years": "He said What up Yeezus",
                  "_deepnote_index_column": 444
                },
                {
                  "Eighteen years eighteen years": "I said Shit Im chillin",
                  "_deepnote_index_column": 445
                },
                {
                  "Eighteen years eighteen years": "Tryna stack these millions",
                  "_deepnote_index_column": 446
                },
                {
                  "Eighteen years eighteen years": "I know he the most high",
                  "_deepnote_index_column": 447
                },
                {
                  "Eighteen years eighteen years": "But I am a close high",
                  "_deepnote_index_column": 448
                },
                {
                  "Eighteen years eighteen years": "Mi casa su casa",
                  "_deepnote_index_column": 449
                },
                {
                  "Eighteen years eighteen years": "Thats our cosa nostra",
                  "_deepnote_index_column": 450
                },
                {
                  "Eighteen years eighteen years": "I am a god",
                  "_deepnote_index_column": 451
                },
                {
                  "Eighteen years eighteen years": "I am a god",
                  "_deepnote_index_column": 452
                },
                {
                  "Eighteen years eighteen years": "I am a god",
                  "_deepnote_index_column": 453
                },
                {
                  "Eighteen years eighteen years": "For all my Southside niggas that know me best",
                  "_deepnote_index_column": 454
                },
                {
                  "Eighteen years eighteen years": "I feel like me and Taylor might still have sex",
                  "_deepnote_index_column": 455
                },
                {
                  "Eighteen years eighteen years": "Why I made that bitch famous God damn",
                  "_deepnote_index_column": 456
                },
                {
                  "Eighteen years eighteen years": "I made that bitch famous",
                  "_deepnote_index_column": 457
                },
                {
                  "Eighteen years eighteen years": "For all the girls that got dick from Kanye West",
                  "_deepnote_index_column": 458
                },
                {
                  "Eighteen years eighteen years": "If you see em in the streets give em Kanyes best",
                  "_deepnote_index_column": 459
                },
                {
                  "Eighteen years eighteen years": "Why They mad they aint famous God damn",
                  "_deepnote_index_column": 460
                },
                {
                  "Eighteen years eighteen years": "They mad theyre still nameless Talk that talk man",
                  "_deepnote_index_column": 461
                },
                {
                  "Eighteen years eighteen years": "Her man in the store tryna try his best",
                  "_deepnote_index_column": 462
                },
                {
                  "Eighteen years eighteen years": "But he just cant seem to get Kanye fresh",
                  "_deepnote_index_column": 463
                },
                {
                  "Eighteen years eighteen years": "But we still hood famous God damn",
                  "_deepnote_index_column": 464
                },
                {
                  "Eighteen years eighteen years": "Yeah we still hood famous",
                  "_deepnote_index_column": 465
                },
                {
                  "Eighteen years eighteen years": "I be Puerto Rican day parade floatin",
                  "_deepnote_index_column": 466
                },
                {
                  "Eighteen years eighteen years": "That Benz Marina Del Rey coastin",
                  "_deepnote_index_column": 467
                },
                {
                  "Eighteen years eighteen years": "She in school to be a real estate agent",
                  "_deepnote_index_column": 468
                },
                {
                  "Eighteen years eighteen years": "Last month I helped her with the car payment",
                  "_deepnote_index_column": 469
                },
                {
                  "Eighteen years eighteen years": "Young and we alive whoo",
                  "_deepnote_index_column": 470
                },
                {
                  "Eighteen years eighteen years": "We never gonna die whoo",
                  "_deepnote_index_column": 471
                },
                {
                  "Eighteen years eighteen years": "I just copped a jet to fly over personal debt",
                  "_deepnote_index_column": 472
                },
                {
                  "Eighteen years eighteen years": "Put one up in the sky",
                  "_deepnote_index_column": 473
                },
                {
                  "Eighteen years eighteen years": "The sun is in my eyes whoo",
                  "_deepnote_index_column": 474
                },
                {
                  "Eighteen years eighteen years": "Woke up and felt the vibe whoo",
                  "_deepnote_index_column": 475
                },
                {
                  "Eighteen years eighteen years": "No matter how hard they try whoo",
                  "_deepnote_index_column": 476
                },
                {
                  "Eighteen years eighteen years": "We never gonna die",
                  "_deepnote_index_column": 477
                },
                {
                  "Eighteen years eighteen years": "Hey baby you forgot your Ray Bans",
                  "_deepnote_index_column": 478
                },
                {
                  "Eighteen years eighteen years": "And my sheets still orange from your spray tan",
                  "_deepnote_index_column": 479
                },
                {
                  "Eighteen years eighteen years": "It was more than soft porn for the Kman",
                  "_deepnote_index_column": 480
                },
                {
                  "Eighteen years eighteen years": "She remember my Sprinter said I was in the grape van",
                  "_deepnote_index_column": 481
                },
                {
                  "Eighteen years eighteen years": "Uhm well cutie I like your bougie booty",
                  "_deepnote_index_column": 482
                },
                {
                  "Eighteen years eighteen years": "Come Erykah Badu me well lets make a movie",
                  "_deepnote_index_column": 483
                },
                {
                  "Eighteen years eighteen years": "Hell you know my repertoire is like a wrestler",
                  "_deepnote_index_column": 484
                },
                {
                  "Eighteen years eighteen years": "I show you the ropes connect the dots",
                  "_deepnote_index_column": 485
                },
                {
                  "Eighteen years eighteen years": "A country girl that love Hollywood",
                  "_deepnote_index_column": 486
                },
                {
                  "Eighteen years eighteen years": "Mama used to cook red beans and rice",
                  "_deepnote_index_column": 487
                },
                {
                  "Eighteen years eighteen years": "Now its Dennys in the morning spoil your appetite",
                  "_deepnote_index_column": 488
                },
                {
                  "Eighteen years eighteen years": "Liquor pouring and niggas swarming your section with erection",
                  "_deepnote_index_column": 489
                },
                {
                  "Eighteen years eighteen years": "Smoke in every direction middle finger pedestrians",
                  "_deepnote_index_column": 490
                },
                {
                  "Eighteen years eighteen years": "RB singers and lesbians rappers and managers",
                  "_deepnote_index_column": 491
                },
                {
                  "Eighteen years eighteen years": "Music and iPhone cameras",
                  "_deepnote_index_column": 492
                },
                {
                  "Eighteen years eighteen years": "This shit unanimous for you its damaging for you I think",
                  "_deepnote_index_column": 493
                },
                {
                  "Eighteen years eighteen years": "That pussy should only be holding exclusive rights to me I mean",
                  "_deepnote_index_column": 494
                },
                {
                  "Eighteen years eighteen years": "He flew you in this motherfucker on first class",
                  "_deepnote_index_column": 495
                },
                {
                  "Eighteen years eighteen years": "Even went out his way so you could check in an extra bag",
                  "_deepnote_index_column": 496
                },
                {
                  "Eighteen years eighteen years": "Now you wanna divide the yam like it equate the math",
                  "_deepnote_index_column": 497
                },
                {
                  "Eighteen years eighteen years": "That shit dont add up youre making him mad as fuck",
                  "_deepnote_index_column": 498
                },
                {
                  "Eighteen years eighteen years": "She said she came out here to find an Alist rapper",
                  "_deepnote_index_column": 499
                }
              ],
              "rows_bottom": [
                {
                  "Eighteen years eighteen years": "You my number hit on the line of the charts",
                  "_deepnote_index_column": 5690
                },
                {
                  "Eighteen years eighteen years": "Imma FedEx my love and have you sign for my heart",
                  "_deepnote_index_column": 5691
                },
                {
                  "Eighteen years eighteen years": "For my number I keep ya dumb fly",
                  "_deepnote_index_column": 5692
                },
                {
                  "Eighteen years eighteen years": "Fresh to death you like after death",
                  "_deepnote_index_column": 5693
                },
                {
                  "Eighteen years eighteen years": "I resurrected my gold Jesus of Nazareth",
                  "_deepnote_index_column": 5694
                },
                {
                  "Eighteen years eighteen years": "Now we Fresh as a Prince while they Jazzy Jeff",
                  "_deepnote_index_column": 5695
                },
                {
                  "Eighteen years eighteen years": "And you dont be sayin shit when they askin questions",
                  "_deepnote_index_column": 5696
                },
                {
                  "Eighteen years eighteen years": "Aaand you be givin me my space aaand",
                  "_deepnote_index_column": 5697
                },
                {
                  "Eighteen years eighteen years": "You dont be runnin on MySpace aaand",
                  "_deepnote_index_column": 5698
                },
                {
                  "Eighteen years eighteen years": "You know some other shit I hate wwwhat",
                  "_deepnote_index_column": 5699
                },
                {
                  "Eighteen years eighteen years": "Wwwhen they violate bbut",
                  "_deepnote_index_column": 5700
                },
                {
                  "Eighteen years eighteen years": "Tonight man I aint in the mood for it",
                  "_deepnote_index_column": 5701
                },
                {
                  "Eighteen years eighteen years": "Dont matter who wore it you wore it",
                  "_deepnote_index_column": 5702
                },
                {
                  "Eighteen years eighteen years": "Look how ya coor Dinated man thats my favorite",
                  "_deepnote_index_column": 5703
                },
                {
                  "Eighteen years eighteen years": "I love the way that it",
                  "_deepnote_index_column": 5704
                },
                {
                  "Eighteen years eighteen years": "GLC gon be stoned as Angie",
                  "_deepnote_index_column": 5705
                },
                {
                  "Eighteen years eighteen years": "I be Don C Johnny Patron and me",
                  "_deepnote_index_column": 5706
                },
                {
                  "Eighteen years eighteen years": "Its a celebration bitches more bottles of champaign",
                  "_deepnote_index_column": 5707
                },
                {
                  "Eighteen years eighteen years": "In love with the same stripper that sprung TPain",
                  "_deepnote_index_column": 5708
                },
                {
                  "Eighteen years eighteen years": "And all this Louis Vuitton shit aint cheap mayn",
                  "_deepnote_index_column": 5709
                },
                {
                  "Eighteen years eighteen years": "Dawg I cant keep saying GOOD music the greatest latest",
                  "_deepnote_index_column": 5710
                },
                {
                  "Eighteen years eighteen years": "Stunting out the middle of nowhere like Vegas",
                  "_deepnote_index_column": 5711
                },
                {
                  "Eighteen years eighteen years": "From the Chi the city of hella haters",
                  "_deepnote_index_column": 5712
                },
                {
                  "Eighteen years eighteen years": "Where we keep rising to the top like elevators",
                  "_deepnote_index_column": 5713
                },
                {
                  "Eighteen years eighteen years": "Hi haters Im back off hiatus I feel just like you I mean even I hate us",
                  "_deepnote_index_column": 5714
                },
                {
                  "Eighteen years eighteen years": "Turn the radio down I mean every song",
                  "_deepnote_index_column": 5715
                },
                {
                  "Eighteen years eighteen years": "Yeezy got a vision thats clearer than Evian",
                  "_deepnote_index_column": 5716
                },
                {
                  "Eighteen years eighteen years": "Used to hit the radio them faggots aint let me on",
                  "_deepnote_index_column": 5717
                },
                {
                  "Eighteen years eighteen years": "Until Khaled turned up the volume",
                  "_deepnote_index_column": 5718
                },
                {
                  "Eighteen years eighteen years": "Hit the club with it come on homie they wilding",
                  "_deepnote_index_column": 5719
                },
                {
                  "Eighteen years eighteen years": "Nas done told you come on homie we major",
                  "_deepnote_index_column": 5720
                },
                {
                  "Eighteen years eighteen years": "Really Doe told you hoes where we staying",
                  "_deepnote_index_column": 5721
                },
                {
                  "Eighteen years eighteen years": "GOOD music up in this bitch now quit playing",
                  "_deepnote_index_column": 5722
                },
                {
                  "Eighteen years eighteen years": "Bein at the bar tryin ask what that hypno hit fo Hit fo",
                  "_deepnote_index_column": 5723
                },
                {
                  "Eighteen years eighteen years": "Knowin I cant afford to get mo Get mo",
                  "_deepnote_index_column": 5724
                },
                {
                  "Eighteen years eighteen years": "Heres a broke nigga tricked buy one bottle and sip slow sip slow",
                  "_deepnote_index_column": 5725
                },
                {
                  "Eighteen years eighteen years": "Or or leave the club now",
                  "_deepnote_index_column": 5726
                },
                {
                  "Eighteen years eighteen years": "Do like I did come back when u get dough",
                  "_deepnote_index_column": 5727
                },
                {
                  "Eighteen years eighteen years": "A fishstick nigga now we messing with lobsters",
                  "_deepnote_index_column": 5728
                },
                {
                  "Eighteen years eighteen years": "We messin with Grammies we messin with Oscars",
                  "_deepnote_index_column": 5729
                },
                {
                  "Eighteen years eighteen years": "You messin with that dranky drank",
                  "_deepnote_index_column": 5730
                },
                {
                  "Eighteen years eighteen years": "Plus you puffin on that stanky stank",
                  "_deepnote_index_column": 5731
                },
                {
                  "Eighteen years eighteen years": "In the morning you gon draw a blank",
                  "_deepnote_index_column": 5732
                },
                {
                  "Eighteen years eighteen years": "The hotel said yall was on em",
                  "_deepnote_index_column": 5733
                },
                {
                  "Eighteen years eighteen years": "My girl wasnt on shit I picked the wrong one",
                  "_deepnote_index_column": 5734
                },
                {
                  "Eighteen years eighteen years": "Steady talkin bout I aint like them other girls",
                  "_deepnote_index_column": 5735
                },
                {
                  "Eighteen years eighteen years": "Well tonight Im tryin to find them other girls",
                  "_deepnote_index_column": 5736
                },
                {
                  "Eighteen years eighteen years": "Bring they own rubber girl",
                  "_deepnote_index_column": 5737
                },
                {
                  "Eighteen years eighteen years": "Never meet ya mother girl",
                  "_deepnote_index_column": 5738
                },
                {
                  "Eighteen years eighteen years": "You know they love it when you love em",
                  "_deepnote_index_column": 5739
                },
                {
                  "Eighteen years eighteen years": "And they tell they friends girl",
                  "_deepnote_index_column": 5740
                },
                {
                  "Eighteen years eighteen years": "They say your attitude determines your latitude",
                  "_deepnote_index_column": 5741
                },
                {
                  "Eighteen years eighteen years": "Im high as a motherfucker fly as a motherfucker",
                  "_deepnote_index_column": 5742
                },
                {
                  "Eighteen years eighteen years": "And still the motherfucker you love to hate",
                  "_deepnote_index_column": 5743
                },
                {
                  "Eighteen years eighteen years": "But cant because you love what I make",
                  "_deepnote_index_column": 5744
                },
                {
                  "Eighteen years eighteen years": "Now aint that about a bitch",
                  "_deepnote_index_column": 5745
                },
                {
                  "Eighteen years eighteen years": "And Imma talk shit until Im out of hits",
                  "_deepnote_index_column": 5746
                },
                {
                  "Eighteen years eighteen years": "They dont want to turn they speakers up they claim I aint deep enough",
                  "_deepnote_index_column": 5747
                },
                {
                  "Eighteen years eighteen years": "All that talkin I feed off of keep it up",
                  "_deepnote_index_column": 5748
                },
                {
                  "Eighteen years eighteen years": "Im relaxin my feet is up",
                  "_deepnote_index_column": 5749
                },
                {
                  "Eighteen years eighteen years": "Im leavin you haters like when Shaq left the Lakers just to Heat it up",
                  "_deepnote_index_column": 5750
                },
                {
                  "Eighteen years eighteen years": "I state the stats to stunt I dont need to front",
                  "_deepnote_index_column": 5751
                },
                {
                  "Eighteen years eighteen years": "Make black history every day I dont need a month",
                  "_deepnote_index_column": 5752
                },
                {
                  "Eighteen years eighteen years": "The survey says by the streets according",
                  "_deepnote_index_column": 5753
                },
                {
                  "Eighteen years eighteen years": "Kanyes just important as Michael Jordan",
                  "_deepnote_index_column": 5754
                },
                {
                  "Eighteen years eighteen years": "Was to the NBA when he was scorin",
                  "_deepnote_index_column": 5755
                },
                {
                  "Eighteen years eighteen years": "Ralph Lauren was borin before I wore him and",
                  "_deepnote_index_column": 5756
                },
                {
                  "Eighteen years eighteen years": "I keep you laced up so you aint gotta borrow nothing",
                  "_deepnote_index_column": 5757
                },
                {
                  "Eighteen years eighteen years": "From them broke ass friends who be bargain hunting",
                  "_deepnote_index_column": 5758
                },
                {
                  "Eighteen years eighteen years": "They say they shop on eBay baby why is they frontin",
                  "_deepnote_index_column": 5759
                },
                {
                  "Eighteen years eighteen years": "They be on the internet but they never cop nothin",
                  "_deepnote_index_column": 5760
                },
                {
                  "Eighteen years eighteen years": "I keep you in Girl what is those on your toes",
                  "_deepnote_index_column": 5761
                },
                {
                  "Eighteen years eighteen years": "And your neck staying froze off that rose colored gold",
                  "_deepnote_index_column": 5762
                },
                {
                  "Eighteen years eighteen years": "I suppose you was told by them hoes I was cheatin",
                  "_deepnote_index_column": 5763
                },
                {
                  "Eighteen years eighteen years": "Thinkin my heart dont got nothing to do with my penis",
                  "_deepnote_index_column": 5764
                },
                {
                  "Eighteen years eighteen years": "He got a mind of his own and he just be seeing shit",
                  "_deepnote_index_column": 5765
                },
                {
                  "Eighteen years eighteen years": "And I dont wanna cheat but I dont be saying shit",
                  "_deepnote_index_column": 5766
                },
                {
                  "Eighteen years eighteen years": "I try to jack off he ask me who is you playin wit",
                  "_deepnote_index_column": 5767
                },
                {
                  "Eighteen years eighteen years": "But I know he love you he told me you was his favorite",
                  "_deepnote_index_column": 5768
                },
                {
                  "Eighteen years eighteen years": "I had that little ass Nissan at your crib showin up",
                  "_deepnote_index_column": 5769
                },
                {
                  "Eighteen years eighteen years": "Liquor store out of Arbor Mist we Irish Rosed it up",
                  "_deepnote_index_column": 5770
                },
                {
                  "Eighteen years eighteen years": "Then we rolled to the movies you rocked your fake Chloes",
                  "_deepnote_index_column": 5771
                },
                {
                  "Eighteen years eighteen years": "You had Gap and Gucci thats still two Gs",
                  "_deepnote_index_column": 5772
                },
                {
                  "Eighteen years eighteen years": "But thats that last year purse like its still too cheap",
                  "_deepnote_index_column": 5773
                },
                {
                  "Eighteen years eighteen years": "Ooh you so bougie boo you could have fooled me",
                  "_deepnote_index_column": 5774
                },
                {
                  "Eighteen years eighteen years": "Cuz five years ago you was so Fugees",
                  "_deepnote_index_column": 5775
                },
                {
                  "Eighteen years eighteen years": "Now you dont want nothin unless it cost a few Gs",
                  "_deepnote_index_column": 5776
                },
                {
                  "Eighteen years eighteen years": "You like the lightskinned Ania the darkskinned Aaliyah",
                  "_deepnote_index_column": 5777
                },
                {
                  "Eighteen years eighteen years": "The black Jennifer Lopez a ghetto senorita",
                  "_deepnote_index_column": 5778
                },
                {
                  "Eighteen years eighteen years": "You remind me of my Jeep but not no Kia",
                  "_deepnote_index_column": 5779
                },
                {
                  "Eighteen years eighteen years": "We can talk on your cell but not Nokia",
                  "_deepnote_index_column": 5780
                },
                {
                  "Eighteen years eighteen years": "It be goin in and out thats why I barely hear ya",
                  "_deepnote_index_column": 5781
                },
                {
                  "Eighteen years eighteen years": "It be goin in and out like a robbery ah",
                  "_deepnote_index_column": 5782
                },
                {
                  "Eighteen years eighteen years": "Im tryin to take this money like Rob and G Dep",
                  "_deepnote_index_column": 5783
                },
                {
                  "Eighteen years eighteen years": "Then Imma take you to the house like Trick and Trina",
                  "_deepnote_index_column": 5784
                },
                {
                  "Eighteen years eighteen years": "My favorite girl wanna leave me just because I got a girlfriend",
                  "_deepnote_index_column": 5785
                },
                {
                  "Eighteen years eighteen years": "My freak girl told me now she a Christian",
                  "_deepnote_index_column": 5786
                },
                {
                  "Eighteen years eighteen years": "My White girl wanna move back to Michigan",
                  "_deepnote_index_column": 5787
                },
                {
                  "Eighteen years eighteen years": "Im pulling girls off the bench like a sixth man",
                  "_deepnote_index_column": 5788
                },
                {
                  "Eighteen years eighteen years": "Im in the club doing the same ol two step",
                  "_deepnote_index_column": 5789
                },
                {
                  "Eighteen years eighteen years": "While Omegas doing the same ol Q step",
                  "_deepnote_index_column": 5790
                },
                {
                  "Eighteen years eighteen years": "I have my money on my mind I was thinking green",
                  "_deepnote_index_column": 5791
                },
                {
                  "Eighteen years eighteen years": "She a pledge AKA she was pink and green",
                  "_deepnote_index_column": 5792
                },
                {
                  "Eighteen years eighteen years": "I want a good girl she want a gentleman",
                  "_deepnote_index_column": 5793
                },
                {
                  "Eighteen years eighteen years": "We saying the same thing like a synonym",
                  "_deepnote_index_column": 5794
                },
                {
                  "Eighteen years eighteen years": "I wasnt really spitting game I was scrimmaging",
                  "_deepnote_index_column": 5795
                },
                {
                  "Eighteen years eighteen years": "My penmanship so hard it needs censorship",
                  "_deepnote_index_column": 5796
                },
                {
                  "Eighteen years eighteen years": "Im a Chicagoan till Chicago ends",
                  "_deepnote_index_column": 5797
                },
                {
                  "Eighteen years eighteen years": "Till we blow like Chicago wind",
                  "_deepnote_index_column": 5798
                },
                {
                  "Eighteen years eighteen years": "I dont know whats better getting laid or getting paid",
                  "_deepnote_index_column": 5799
                },
                {
                  "Eighteen years eighteen years": "I just know when Im getting one the others getting away",
                  "_deepnote_index_column": 5800
                },
                {
                  "Eighteen years eighteen years": "This way",
                  "_deepnote_index_column": 5801
                },
                {
                  "Eighteen years eighteen years": "Plain Pat what up",
                  "_deepnote_index_column": 5802
                },
                {
                  "Eighteen years eighteen years": "Lifestyles of the broke and famous",
                  "_deepnote_index_column": 5803
                },
                {
                  "Eighteen years eighteen years": "Let you know how crazy this game is",
                  "_deepnote_index_column": 5804
                },
                {
                  "Eighteen years eighteen years": "Look at all the new beautiful faces",
                  "_deepnote_index_column": 5805
                },
                {
                  "Eighteen years eighteen years": "At home supermodel myspaces",
                  "_deepnote_index_column": 5806
                },
                {
                  "Eighteen years eighteen years": "Long for their shot on the TV screens",
                  "_deepnote_index_column": 5807
                },
                {
                  "Eighteen years eighteen years": "American Idol never seen these dreams",
                  "_deepnote_index_column": 5808
                },
                {
                  "Eighteen years eighteen years": "Just last week they want to see ID",
                  "_deepnote_index_column": 5809
                },
                {
                  "Eighteen years eighteen years": "Now they got you in VIP huh",
                  "_deepnote_index_column": 5810
                },
                {
                  "Eighteen years eighteen years": "How many people almost famous",
                  "_deepnote_index_column": 5811
                },
                {
                  "Eighteen years eighteen years": "You almost remember what they name is",
                  "_deepnote_index_column": 5812
                },
                {
                  "Eighteen years eighteen years": "Like Hey didnt you play in No it couldnt be quit playin",
                  "_deepnote_index_column": 5813
                },
                {
                  "Eighteen years eighteen years": "Try to keep that balance",
                  "_deepnote_index_column": 5814
                },
                {
                  "Eighteen years eighteen years": "After MTV thats a Real World Challenge",
                  "_deepnote_index_column": 5815
                },
                {
                  "Eighteen years eighteen years": "Back on that train",
                  "_deepnote_index_column": 5816
                },
                {
                  "Eighteen years eighteen years": "Never to be heard from again",
                  "_deepnote_index_column": 5817
                },
                {
                  "Eighteen years eighteen years": "Yes Mr Wests turn that new child rebel",
                  "_deepnote_index_column": 5818
                },
                {
                  "Eighteen years eighteen years": "Loud as a badass child level",
                  "_deepnote_index_column": 5819
                },
                {
                  "Eighteen years eighteen years": "Who need a chorus We do it tyrannosaurus",
                  "_deepnote_index_column": 5820
                },
                {
                  "Eighteen years eighteen years": "Tyrone its been a year with no phone",
                  "_deepnote_index_column": 5821
                },
                {
                  "Eighteen years eighteen years": "Could you explain how high is your zone",
                  "_deepnote_index_column": 5822
                },
                {
                  "Eighteen years eighteen years": "Well take the plane rub his nose in cocaine",
                  "_deepnote_index_column": 5823
                },
                {
                  "Eighteen years eighteen years": "Theres hoes in magazines you layin saying youre lame",
                  "_deepnote_index_column": 5824
                },
                {
                  "Eighteen years eighteen years": "And for the hate in advance pull down your pants",
                  "_deepnote_index_column": 5825
                },
                {
                  "Eighteen years eighteen years": "Make em kiss both cheeks like we living in France",
                  "_deepnote_index_column": 5826
                },
                {
                  "Eighteen years eighteen years": "Diamonds blue his business managers Jewish",
                  "_deepnote_index_column": 5827
                },
                {
                  "Eighteen years eighteen years": "And if I get sued my lawyers Jews",
                  "_deepnote_index_column": 5828
                },
                {
                  "Eighteen years eighteen years": "Some girls do grab the cojones",
                  "_deepnote_index_column": 5829
                },
                {
                  "Eighteen years eighteen years": "Say you got enough diamonds to at least Sierra loan us",
                  "_deepnote_index_column": 5830
                },
                {
                  "Eighteen years eighteen years": "Brand new Ferraris I gotta make the donuts",
                  "_deepnote_index_column": 5831
                },
                {
                  "Eighteen years eighteen years": "CRS is like a hiphop Chris bonus",
                  "_deepnote_index_column": 5832
                },
                {
                  "Eighteen years eighteen years": "Niggas is hating on the internet I couldnt tell",
                  "_deepnote_index_column": 5833
                },
                {
                  "Eighteen years eighteen years": "I was too busy rapping GOOD as hell",
                  "_deepnote_index_column": 5834
                },
                {
                  "Eighteen years eighteen years": "I was too busy flying parasail",
                  "_deepnote_index_column": 5835
                },
                {
                  "Eighteen years eighteen years": "To Colette to get the new shit that Paris sell",
                  "_deepnote_index_column": 5836
                },
                {
                  "Eighteen years eighteen years": "Tarantino Da Vinci getting Benjies get half off of Fendi",
                  "_deepnote_index_column": 5837
                },
                {
                  "Eighteen years eighteen years": "Half of thats to Cindys",
                  "_deepnote_index_column": 5838
                },
                {
                  "Eighteen years eighteen years": "Hopped out the spaceship put my Mork in Mindy",
                  "_deepnote_index_column": 5839
                },
                {
                  "Eighteen years eighteen years": "Popped too many corks to let you dorks offend me",
                  "_deepnote_index_column": 5840
                },
                {
                  "Eighteen years eighteen years": "Props in New York but ChiTowns the city",
                  "_deepnote_index_column": 5841
                },
                {
                  "Eighteen years eighteen years": "Get my groupie hoochies Gucci Monica Belluccis",
                  "_deepnote_index_column": 5842
                },
                {
                  "Eighteen years eighteen years": "Are those the real millionnaires or the bendies",
                  "_deepnote_index_column": 5843
                },
                {
                  "Eighteen years eighteen years": "Im so ultra Im even over Oprah",
                  "_deepnote_index_column": 5844
                },
                {
                  "Eighteen years eighteen years": "But let me check your account haha no sir",
                  "_deepnote_index_column": 5845
                },
                {
                  "Eighteen years eighteen years": "Niggas be lovin the old Ye they sayin the new Ye that nigga be spazzin",
                  "_deepnote_index_column": 5846
                },
                {
                  "Eighteen years eighteen years": "But when Ali turn up and be Ali you cant ever change that nigga back to Cassius",
                  "_deepnote_index_column": 5847
                },
                {
                  "Eighteen years eighteen years": "So you can gon and make up lies but Im so sanctified",
                  "_deepnote_index_column": 5848
                },
                {
                  "Eighteen years eighteen years": "I dont sweat it wipe my forehead with a handkerchief",
                  "_deepnote_index_column": 5849
                },
                {
                  "Eighteen years eighteen years": "And wash my sins in the blood of Jesus Ross grunt",
                  "_deepnote_index_column": 5850
                },
                {
                  "Eighteen years eighteen years": "People sayin Ye we need another Yeezus Ross grunt",
                  "_deepnote_index_column": 5851
                },
                {
                  "Eighteen years eighteen years": "Lames try to tell me Cut the wildin out out",
                  "_deepnote_index_column": 5852
                },
                {
                  "Eighteen years eighteen years": "But who the fuck is you reachin",
                  "_deepnote_index_column": 5853
                },
                {
                  "Eighteen years eighteen years": "Pass me bottles champagne procession",
                  "_deepnote_index_column": 5854
                },
                {
                  "Eighteen years eighteen years": "Thats that Holy water sanctified refreshments",
                  "_deepnote_index_column": 5855
                },
                {
                  "Eighteen years eighteen years": "God sent me a message said Im too aggressive",
                  "_deepnote_index_column": 5856
                },
                {
                  "Eighteen years eighteen years": "Really Me Too aggressive",
                  "_deepnote_index_column": 5857
                },
                {
                  "Eighteen years eighteen years": "You say you wrong you wrong Im right Im right",
                  "_deepnote_index_column": 5858
                },
                {
                  "Eighteen years eighteen years": "Youre wrong we fight",
                  "_deepnote_index_column": 5859
                },
                {
                  "Eighteen years eighteen years": "Ok Im running from the light running from the day to night",
                  "_deepnote_index_column": 5860
                },
                {
                  "Eighteen years eighteen years": "Oh the quiet silence defines our misery",
                  "_deepnote_index_column": 5861
                },
                {
                  "Eighteen years eighteen years": "The riot inside keeps trying to visit me",
                  "_deepnote_index_column": 5862
                },
                {
                  "Eighteen years eighteen years": "No matter how we try its too much history",
                  "_deepnote_index_column": 5863
                },
                {
                  "Eighteen years eighteen years": "Too many bad notes playing in our symphony",
                  "_deepnote_index_column": 5864
                },
                {
                  "Eighteen years eighteen years": "So let it breathe let it fly let it go",
                  "_deepnote_index_column": 5865
                },
                {
                  "Eighteen years eighteen years": "Let it fall let it crash burn slow",
                  "_deepnote_index_column": 5866
                },
                {
                  "Eighteen years eighteen years": "And then you call upon God",
                  "_deepnote_index_column": 5867
                },
                {
                  "Eighteen years eighteen years": "Oh you call upon God",
                  "_deepnote_index_column": 5868
                },
                {
                  "Eighteen years eighteen years": "We keep these Gs in an alloy safe",
                  "_deepnote_index_column": 5869
                },
                {
                  "Eighteen years eighteen years": "And stash the weed in an Altoids case",
                  "_deepnote_index_column": 5870
                },
                {
                  "Eighteen years eighteen years": "They say good things come to those who wait",
                  "_deepnote_index_column": 5871
                },
                {
                  "Eighteen years eighteen years": "So Imma be at least about a hour late",
                  "_deepnote_index_column": 5872
                },
                {
                  "Eighteen years eighteen years": "Im so fresh bitch I should be arrested",
                  "_deepnote_index_column": 5873
                },
                {
                  "Eighteen years eighteen years": "New Cody Chesnutt with my nuts on your chest bitch",
                  "_deepnote_index_column": 5874
                },
                {
                  "Eighteen years eighteen years": "She said hey Ye ",
                  "_deepnote_index_column": 5875
                },
                {
                  "Eighteen years eighteen years": "I said Yes bitch ",
                  "_deepnote_index_column": 5876
                },
                {
                  "Eighteen years eighteen years": "Damn Im only asking you a question",
                  "_deepnote_index_column": 5877
                },
                {
                  "Eighteen years eighteen years": "I met this milf at the AllStar getting action",
                  "_deepnote_index_column": 5878
                },
                {
                  "Eighteen years eighteen years": "A cougar with more rings than Phil Jackson",
                  "_deepnote_index_column": 5879
                },
                {
                  "Eighteen years eighteen years": "Told her beauty is why God invented eyeballs",
                  "_deepnote_index_column": 5880
                },
                {
                  "Eighteen years eighteen years": "And her booty is why God invented my balls",
                  "_deepnote_index_column": 5881
                },
                {
                  "Eighteen years eighteen years": "Im a rockstar huh start it up",
                  "_deepnote_index_column": 5882
                },
                {
                  "Eighteen years eighteen years": "Start it up huh start it up",
                  "_deepnote_index_column": 5883
                },
                {
                  "Eighteen years eighteen years": "So popular you should get a shot of us",
                  "_deepnote_index_column": 5884
                },
                {
                  "Eighteen years eighteen years": "Niggas dont take shots at us that is only obvious",
                  "_deepnote_index_column": 5885
                },
                {
                  "Eighteen years eighteen years": "The first album I vomited the second I colonicd it",
                  "_deepnote_index_column": 5886
                },
                {
                  "Eighteen years eighteen years": "Aint nobody fucking with me I Platonicd it",
                  "_deepnote_index_column": 5887
                },
                {
                  "Eighteen years eighteen years": "Bet I got some slippers on bet niggas gon honor it",
                  "_deepnote_index_column": 5888
                },
                {
                  "Eighteen years eighteen years": "These aint even real clothes homie Im pajama rich",
                  "_deepnote_index_column": 5889
                },
                {
                  "Eighteen years eighteen years": "Banks told me homie go switch the style up",
                  "_deepnote_index_column": 5890
                },
                {
                  "Eighteen years eighteen years": "These bitches on me homie only to arouse us",
                  "_deepnote_index_column": 5891
                },
                {
                  "Eighteen years eighteen years": "Told her I aint paying tonight Im only browsing",
                  "_deepnote_index_column": 5892
                },
                {
                  "Eighteen years eighteen years": "She pulled her blouse up said Its free I said WOWZERS",
                  "_deepnote_index_column": 5893
                },
                {
                  "Eighteen years eighteen years": "Im going in and Ima go hard",
                  "_deepnote_index_column": 5894
                },
                {
                  "Eighteen years eighteen years": "I mean whats the point if it aint no scars",
                  "_deepnote_index_column": 5895
                },
                {
                  "Eighteen years eighteen years": "A little teeth marks",
                  "_deepnote_index_column": 5896
                },
                {
                  "Eighteen years eighteen years": "Blood on the collar",
                  "_deepnote_index_column": 5897
                },
                {
                  "Eighteen years eighteen years": "Thats real love mmhmm ahhnah",
                  "_deepnote_index_column": 5898
                },
                {
                  "Eighteen years eighteen years": "She said uh",
                  "_deepnote_index_column": 5899
                },
                {
                  "Eighteen years eighteen years": "How could you love someone that hurt you played you spoke to provoke you",
                  "_deepnote_index_column": 5900
                },
                {
                  "Eighteen years eighteen years": "How could you love someone that burns you turns you into a werewolf",
                  "_deepnote_index_column": 5901
                },
                {
                  "Eighteen years eighteen years": "And in the moment you might do some things youre not aware of",
                  "_deepnote_index_column": 5902
                },
                {
                  "Eighteen years eighteen years": "No ones prepared for the scale of this and now you fear love",
                  "_deepnote_index_column": 5903
                },
                {
                  "Eighteen years eighteen years": "And war and war and more and more drama looking for a score",
                  "_deepnote_index_column": 5904
                },
                {
                  "Eighteen years eighteen years": "State youre looking for a tour",
                  "_deepnote_index_column": 5905
                },
                {
                  "Eighteen years eighteen years": "Her allure is more couture tailormade",
                  "_deepnote_index_column": 5906
                },
                {
                  "Eighteen years eighteen years": "Til your screams in rage",
                  "_deepnote_index_column": 5907
                },
                {
                  "Eighteen years eighteen years": "I mean ahhhhh Im breaking out the damn cage aghh",
                  "_deepnote_index_column": 5908
                },
                {
                  "Eighteen years eighteen years": "Hannibal Lector my American Psycho",
                  "_deepnote_index_column": 5909
                },
                {
                  "Eighteen years eighteen years": "A iller version of Ike yo",
                  "_deepnote_index_column": 5910
                },
                {
                  "Eighteen years eighteen years": "The Thriller version of Michael",
                  "_deepnote_index_column": 5911
                },
                {
                  "Eighteen years eighteen years": "My recital is as bright as the light show up at the Eiffel",
                  "_deepnote_index_column": 5912
                },
                {
                  "Eighteen years eighteen years": "A werewolf up in Paris Im livin off your vitals",
                  "_deepnote_index_column": 5913
                },
                {
                  "Eighteen years eighteen years": "I mean Ill be your con man Ill be your damn liar",
                  "_deepnote_index_column": 5914
                },
                {
                  "Eighteen years eighteen years": "Lets start the interview Ill be your vampire",
                  "_deepnote_index_column": 5915
                },
                {
                  "Eighteen years eighteen years": "I gotta feel you bite your neck to get familiar",
                  "_deepnote_index_column": 5916
                },
                {
                  "Eighteen years eighteen years": "And if you die guess what I fuckin killed you",
                  "_deepnote_index_column": 5917
                },
                {
                  "Eighteen years eighteen years": "You know what yo You a bitch",
                  "_deepnote_index_column": 5918
                },
                {
                  "Eighteen years eighteen years": "You should have a travel agent cause you a trip",
                  "_deepnote_index_column": 5919
                },
                {
                  "Eighteen years eighteen years": "You should make your own toilet tissue since you the shit",
                  "_deepnote_index_column": 5920
                },
                {
                  "Eighteen years eighteen years": "But all you got is some fucking issues you fucking bitch",
                  "_deepnote_index_column": 5921
                },
                {
                  "Eighteen years eighteen years": "I hate niggas but I love your mom",
                  "_deepnote_index_column": 5922
                },
                {
                  "Eighteen years eighteen years": "Give her a kiss for me her second son",
                  "_deepnote_index_column": 5923
                },
                {
                  "Eighteen years eighteen years": "Get your mind right baby or get your shit together",
                  "_deepnote_index_column": 5924
                },
                {
                  "Eighteen years eighteen years": "You gonna be hot a little while Imma be rich forever",
                  "_deepnote_index_column": 5925
                },
                {
                  "Eighteen years eighteen years": "Girl seducers they come in deuces",
                  "_deepnote_index_column": 5926
                },
                {
                  "Eighteen years eighteen years": "But when I cut em off they always become a nuisance",
                  "_deepnote_index_column": 5927
                },
                {
                  "Eighteen years eighteen years": "Niggas take my old flows and they take my old swag",
                  "_deepnote_index_column": 5928
                },
                {
                  "Eighteen years eighteen years": "He just took my old bitch and turn it to his new bitch",
                  "_deepnote_index_column": 5929
                },
                {
                  "Eighteen years eighteen years": "Im stupid but I wont get my drama on",
                  "_deepnote_index_column": 5930
                },
                {
                  "Eighteen years eighteen years": "What Im dealing with is too real for me to comment on",
                  "_deepnote_index_column": 5931
                },
                {
                  "Eighteen years eighteen years": "Jay finally got it through my head not to run my mouth",
                  "_deepnote_index_column": 5932
                },
                {
                  "Eighteen years eighteen years": "So when you talk bout you know who I dont know who you talking bout",
                  "_deepnote_index_column": 5933
                },
                {
                  "Eighteen years eighteen years": "Unfortunately for the rest of yall",
                  "_deepnote_index_column": 5934
                },
                {
                  "Eighteen years eighteen years": "Im way better than the best of all",
                  "_deepnote_index_column": 5935
                },
                {
                  "Eighteen years eighteen years": "And even though they focus on just the flaws",
                  "_deepnote_index_column": 5936
                },
                {
                  "Eighteen years eighteen years": "They still gonna annihilate the festivals",
                  "_deepnote_index_column": 5937
                },
                {
                  "Eighteen years eighteen years": "And we still gonna sip Dom Perignon",
                  "_deepnote_index_column": 5938
                },
                {
                  "Eighteen years eighteen years": "And still gonna eat the filet mignon",
                  "_deepnote_index_column": 5939
                },
                {
                  "Eighteen years eighteen years": "Yeah yeah yeah Ive been known to cover up my eyes",
                  "_deepnote_index_column": 5940
                },
                {
                  "Eighteen years eighteen years": "With the Ray Beons",
                  "_deepnote_index_column": 5941
                },
                {
                  "Eighteen years eighteen years": "Flashing lights the stress of life",
                  "_deepnote_index_column": 5942
                },
                {
                  "Eighteen years eighteen years": "Its way too much to handle in one night",
                  "_deepnote_index_column": 5943
                },
                {
                  "Eighteen years eighteen years": "Live this life like theres no tomorrow",
                  "_deepnote_index_column": 5944
                },
                {
                  "Eighteen years eighteen years": "Wake up in Paris with a Russian model",
                  "_deepnote_index_column": 5945
                },
                {
                  "Eighteen years eighteen years": "Throw your hands in the sky",
                  "_deepnote_index_column": 5946
                },
                {
                  "Eighteen years eighteen years": "If anybody got five dollars in your pocket right now",
                  "_deepnote_index_column": 5947
                },
                {
                  "Eighteen years eighteen years": "I call this club Titanic",
                  "_deepnote_index_column": 5948
                },
                {
                  "Eighteen years eighteen years": "Why cause its going down",
                  "_deepnote_index_column": 5949
                },
                {
                  "Eighteen years eighteen years": "For all my young ladies ladies that driving Miss Daisy",
                  "_deepnote_index_column": 5950
                },
                {
                  "Eighteen years eighteen years": "Driving me crazy rock the beat baby",
                  "_deepnote_index_column": 5951
                },
                {
                  "Eighteen years eighteen years": "Hop up out the ERR she eat up the pavement",
                  "_deepnote_index_column": 5952
                },
                {
                  "Eighteen years eighteen years": "I dont give a ERR baby he crazy",
                  "_deepnote_index_column": 5953
                },
                {
                  "Eighteen years eighteen years": "Im back by unpopular demand",
                  "_deepnote_index_column": 5954
                },
                {
                  "Eighteen years eighteen years": "Least he still popping in Japan shopping in Milan",
                  "_deepnote_index_column": 5955
                },
                {
                  "Eighteen years eighteen years": "Hopping out the van screams from the fans",
                  "_deepnote_index_column": 5956
                },
                {
                  "Eighteen years eighteen years": "Yeezy always knew youd be on top again",
                  "_deepnote_index_column": 5957
                },
                {
                  "Eighteen years eighteen years": "And we bout to hit Jacob the Jeweler",
                  "_deepnote_index_column": 5958
                },
                {
                  "Eighteen years eighteen years": "So I can be like Slick Rick and rule ya",
                  "_deepnote_index_column": 5959
                },
                {
                  "Eighteen years eighteen years": "Dr Martin Louis the King Junior",
                  "_deepnote_index_column": 5960
                },
                {
                  "Eighteen years eighteen years": "And Imma never let the dream turn to Kruegers",
                  "_deepnote_index_column": 5961
                },
                {
                  "Eighteen years eighteen years": "My outfit so disrespectful",
                  "_deepnote_index_column": 5962
                },
                {
                  "Eighteen years eighteen years": "You can go head and sneeze cause my presence blessed you",
                  "_deepnote_index_column": 5963
                },
                {
                  "Eighteen years eighteen years": "I mean we walked in this bitch so stylish",
                  "_deepnote_index_column": 5964
                },
                {
                  "Eighteen years eighteen years": "Niggas done mistook me for my stylist",
                  "_deepnote_index_column": 5965
                },
                {
                  "Eighteen years eighteen years": "And I know its superficial and you say its just clothes",
                  "_deepnote_index_column": 5966
                },
                {
                  "Eighteen years eighteen years": "But we shopping in that motherfucker and they just closed",
                  "_deepnote_index_column": 5967
                },
                {
                  "Eighteen years eighteen years": "So go ahead and just pose",
                  "_deepnote_index_column": 5968
                },
                {
                  "Eighteen years eighteen years": "When she walked up out the dressing room the store just froze",
                  "_deepnote_index_column": 5969
                },
                {
                  "Eighteen years eighteen years": "And I know they tryna get they cool back",
                  "_deepnote_index_column": 5970
                },
                {
                  "Eighteen years eighteen years": "And them ghetto bitches hollin How you do that",
                  "_deepnote_index_column": 5971
                },
                {
                  "Eighteen years eighteen years": "So they could never say we never lived it",
                  "_deepnote_index_column": 5972
                },
                {
                  "Eighteen years eighteen years": "And if I see Biggie tonight I loved every minute",
                  "_deepnote_index_column": 5973
                },
                {
                  "Eighteen years eighteen years": "Martin Louie the King Jr",
                  "_deepnote_index_column": 5974
                },
                {
                  "Eighteen years eighteen years": "Starting all that stunting is gonna ruin you",
                  "_deepnote_index_column": 5975
                },
                {
                  "Eighteen years eighteen years": "If BI was alive hed probly have the tone",
                  "_deepnote_index_column": 5976
                },
                {
                  "Eighteen years eighteen years": "With the Grey Poupon anything Ye poop on",
                  "_deepnote_index_column": 5977
                },
                {
                  "Eighteen years eighteen years": "Will explode cause I am the shit and this is my commode",
                  "_deepnote_index_column": 5978
                },
                {
                  "Eighteen years eighteen years": "Uhoh there they go",
                  "_deepnote_index_column": 5979
                },
                {
                  "Eighteen years eighteen years": "Talkin bout how your boys clothes extratight",
                  "_deepnote_index_column": 5980
                },
                {
                  "Eighteen years eighteen years": "I just remembered that my limelight extrabright",
                  "_deepnote_index_column": 5981
                },
                {
                  "Eighteen years eighteen years": "I hit the strip club and girls get extrahype",
                  "_deepnote_index_column": 5982
                },
                {
                  "Eighteen years eighteen years": "You hit the strip club and girls turn extradyke",
                  "_deepnote_index_column": 5983
                },
                {
                  "Eighteen years eighteen years": "We know who not getting no sex tonight",
                  "_deepnote_index_column": 5984
                },
                {
                  "Eighteen years eighteen years": "And a lap dancell probly be a blessing right",
                  "_deepnote_index_column": 5985
                },
                {
                  "Eighteen years eighteen years": "So all the shit you talking dead coffin",
                  "_deepnote_index_column": 5986
                },
                {
                  "Eighteen years eighteen years": "Light the weed coughin new crib loft in",
                  "_deepnote_index_column": 5987
                },
                {
                  "Eighteen years eighteen years": "Where its at Austin Where is that Texas",
                  "_deepnote_index_column": 5988
                },
                {
                  "Eighteen years eighteen years": "Whats in front Benzes What else Lexus",
                  "_deepnote_index_column": 5989
                },
                {
                  "Eighteen years eighteen years": "Well whos Maybach is this Mr Wests",
                  "_deepnote_index_column": 5990
                },
                {
                  "Eighteen years eighteen years": "Mr West is in the buildin",
                  "_deepnote_index_column": 5991
                },
                {
                  "Eighteen years eighteen years": "Swagger on a hundred thousand trillion",
                  "_deepnote_index_column": 5992
                },
                {
                  "Eighteen years eighteen years": "Ayo I know I got it first",
                  "_deepnote_index_column": 5993
                },
                {
                  "Eighteen years eighteen years": "Im Christopher Columbus yall just the Pilgrims",
                  "_deepnote_index_column": 5994
                },
                {
                  "Eighteen years eighteen years": "Thanksgiving do we even got a question",
                  "_deepnote_index_column": 5995
                },
                {
                  "Eighteen years eighteen years": "Hermes pastel I pass the dressing",
                  "_deepnote_index_column": 5996
                },
                {
                  "Eighteen years eighteen years": "My attitude is tattooed that mean its permanent",
                  "_deepnote_index_column": 5997
                },
                {
                  "Eighteen years eighteen years": "So I guess we should address it huh",
                  "_deepnote_index_column": 5998
                },
                {
                  "Eighteen years eighteen years": "My swagger is Mick Jagger",
                  "_deepnote_index_column": 5999
                },
                {
                  "Eighteen years eighteen years": "Every time I breathe on a track I asthma attack it",
                  "_deepnote_index_column": 6000
                },
                {
                  "Eighteen years eighteen years": "Why you so mad for Why you gotta have it",
                  "_deepnote_index_column": 6001
                },
                {
                  "Eighteen years eighteen years": "Cause I slaved my whole life now Im the master",
                  "_deepnote_index_column": 6002
                },
                {
                  "Eighteen years eighteen years": "Naaaaananaaaaa",
                  "_deepnote_index_column": 6003
                },
                {
                  "Eighteen years eighteen years": "How it feel to wake up and be the shit and the urine",
                  "_deepnote_index_column": 6004
                },
                {
                  "Eighteen years eighteen years": "Naaaaananaaaaa",
                  "_deepnote_index_column": 6005
                },
                {
                  "Eighteen years eighteen years": "Tryin to get that Kobe number one over Jordan",
                  "_deepnote_index_column": 6006
                },
                {
                  "Eighteen years eighteen years": "Lollipop lollipop",
                  "_deepnote_index_column": 6007
                },
                {
                  "Eighteen years eighteen years": "Breasts is just like Dolly Parton",
                  "_deepnote_index_column": 6008
                },
                {
                  "Eighteen years eighteen years": "She ride my spaceship til she hit the top",
                  "_deepnote_index_column": 6009
                },
                {
                  "Eighteen years eighteen years": "That hit the spot til she ask",
                  "_deepnote_index_column": 6010
                },
                {
                  "Eighteen years eighteen years": "How many liiliilicks do it take til she get to shop",
                  "_deepnote_index_column": 6011
                },
                {
                  "Eighteen years eighteen years": "Dont worry why my wrists got so freeze",
                  "_deepnote_index_column": 6012
                },
                {
                  "Eighteen years eighteen years": "Tell her Girl like Doritos thats nacho cheese",
                  "_deepnote_index_column": 6013
                },
                {
                  "Eighteen years eighteen years": "Tell her friends Like Fritos Im trying to lay",
                  "_deepnote_index_column": 6014
                },
                {
                  "Eighteen years eighteen years": "I cant only have one and I aint tryin to wait",
                  "_deepnote_index_column": 6015
                },
                {
                  "Eighteen years eighteen years": "This a song with Wayne so you know its gonna melt",
                  "_deepnote_index_column": 6016
                },
                {
                  "Eighteen years eighteen years": "But you aint finna murder me like everybody else",
                  "_deepnote_index_column": 6017
                },
                {
                  "Eighteen years eighteen years": "Imma rap like I got some type of respect for myself",
                  "_deepnote_index_column": 6018
                },
                {
                  "Eighteen years eighteen years": "I dont do it for my health man I do it for the belt",
                  "_deepnote_index_column": 6019
                },
                {
                  "Eighteen years eighteen years": "Man I do it to the death til the roof get melt",
                  "_deepnote_index_column": 6020
                },
                {
                  "Eighteen years eighteen years": "Hundred degrees drop the roof so the coupe dont melt",
                  "_deepnote_index_column": 6021
                },
                {
                  "Eighteen years eighteen years": "Man the flow so cold chicken soup wont help",
                  "_deepnote_index_column": 6022
                },
                {
                  "Eighteen years eighteen years": "We need fo mo hoes we need ohohohoh",
                  "_deepnote_index_column": 6023
                },
                {
                  "Eighteen years eighteen years": "You know what it is when were outta town",
                  "_deepnote_index_column": 6024
                },
                {
                  "Eighteen years eighteen years": "We ball in seats and you out of bounds",
                  "_deepnote_index_column": 6025
                },
                {
                  "Eighteen years eighteen years": "So come here baby girl",
                  "_deepnote_index_column": 6026
                },
                {
                  "Eighteen years eighteen years": "Youre now fuckin with the best in the world",
                  "_deepnote_index_column": 6027
                },
                {
                  "Eighteen years eighteen years": "Lollipop",
                  "_deepnote_index_column": 6028
                },
                {
                  "Eighteen years eighteen years": "The best in the world",
                  "_deepnote_index_column": 6029
                },
                {
                  "Eighteen years eighteen years": "I aint tryin to stress my wealth",
                  "_deepnote_index_column": 6030
                },
                {
                  "Eighteen years eighteen years": "But sometimes I gotta American Express myself",
                  "_deepnote_index_column": 6031
                },
                {
                  "Eighteen years eighteen years": "When the pastor asked me why Im flashy",
                  "_deepnote_index_column": 6032
                },
                {
                  "Eighteen years eighteen years": "Well sometimes I gotta bless myself",
                  "_deepnote_index_column": 6033
                },
                {
                  "Eighteen years eighteen years": "I see you shining shining like a mirror ball",
                  "_deepnote_index_column": 6034
                },
                {
                  "Eighteen years eighteen years": "Why when were abroad we dont never hear of yall",
                  "_deepnote_index_column": 6035
                },
                {
                  "Eighteen years eighteen years": "You local retard Im the king of the world",
                  "_deepnote_index_column": 6036
                },
                {
                  "Eighteen years eighteen years": "So the king of your city by default",
                  "_deepnote_index_column": 6037
                },
                {
                  "Eighteen years eighteen years": "Niggas pullin out cash in wads",
                  "_deepnote_index_column": 6038
                },
                {
                  "Eighteen years eighteen years": "My pants kinda tight only fit a credit card",
                  "_deepnote_index_column": 6039
                },
                {
                  "Eighteen years eighteen years": "But please dont get to spazzin on em",
                  "_deepnote_index_column": 6040
                },
                {
                  "Eighteen years eighteen years": "Really Doe got a different type of plastic on him",
                  "_deepnote_index_column": 6041
                },
                {
                  "Eighteen years eighteen years": "And all my niggas is big tippers",
                  "_deepnote_index_column": 6042
                },
                {
                  "Eighteen years eighteen years": "Why A little rain never hurt no strippers",
                  "_deepnote_index_column": 6043
                },
                {
                  "Eighteen years eighteen years": "And it aint like I cant get along with you",
                  "_deepnote_index_column": 6044
                },
                {
                  "Eighteen years eighteen years": "But I need you to get along while I get richer",
                  "_deepnote_index_column": 6045
                },
                {
                  "Eighteen years eighteen years": "Speakin of richer you talkin bout prior",
                  "_deepnote_index_column": 6046
                },
                {
                  "Eighteen years eighteen years": "Lets talk about now and the future which I am",
                  "_deepnote_index_column": 6047
                },
                {
                  "Eighteen years eighteen years": "All star ah Super Bowl shuffle",
                  "_deepnote_index_column": 6048
                },
                {
                  "Eighteen years eighteen years": "Suicide door ah big world tour ah",
                  "_deepnote_index_column": 6049
                },
                {
                  "Eighteen years eighteen years": "I am the menorah of this new era",
                  "_deepnote_index_column": 6050
                },
                {
                  "Eighteen years eighteen years": "And uh you are dawg whatever",
                  "_deepnote_index_column": 6051
                },
                {
                  "Eighteen years eighteen years": "Got to excuse the cockiness",
                  "_deepnote_index_column": 6052
                },
                {
                  "Eighteen years eighteen years": "But only an asshole can give you this much shit",
                  "_deepnote_index_column": 6053
                },
                {
                  "Eighteen years eighteen years": "Right about this time raise your glasses",
                  "_deepnote_index_column": 6054
                },
                {
                  "Eighteen years eighteen years": "Whats my motivation that ass is",
                  "_deepnote_index_column": 6055
                },
                {
                  "Eighteen years eighteen years": "Start a conversation like as if",
                  "_deepnote_index_column": 6056
                },
                {
                  "Eighteen years eighteen years": "You really want to know about a day in that shit",
                  "_deepnote_index_column": 6057
                },
                {
                  "Eighteen years eighteen years": "Go ahead and tell the DJ to play Swizz",
                  "_deepnote_index_column": 6058
                },
                {
                  "Eighteen years eighteen years": "So I aint gotta tell these hoes who I is",
                  "_deepnote_index_column": 6059
                },
                {
                  "Eighteen years eighteen years": "Bitches hatin again thats music to my ears",
                  "_deepnote_index_column": 6060
                },
                {
                  "Eighteen years eighteen years": "Whats you think my fuel was for all Of these years",
                  "_deepnote_index_column": 6061
                },
                {
                  "Eighteen years eighteen years": "Im inspired when people dont like me",
                  "_deepnote_index_column": 6062
                },
                {
                  "Eighteen years eighteen years": "It keep me writing so exciting",
                  "_deepnote_index_column": 6063
                },
                {
                  "Eighteen years eighteen years": "Man the drama is so enticing",
                  "_deepnote_index_column": 6064
                },
                {
                  "Eighteen years eighteen years": "I might just bite a motherfucker like Tyson",
                  "_deepnote_index_column": 6065
                },
                {
                  "Eighteen years eighteen years": "And just too fly a motherfucker show your chain",
                  "_deepnote_index_column": 6066
                },
                {
                  "Eighteen years eighteen years": "Throw your cash thats cake and icing",
                  "_deepnote_index_column": 6067
                },
                {
                  "Eighteen years eighteen years": "I asked her you buying",
                  "_deepnote_index_column": 6068
                },
                {
                  "Eighteen years eighteen years": "She said no just sight seeing",
                  "_deepnote_index_column": 6069
                },
                {
                  "Eighteen years eighteen years": "Maybe thats just because you aint found the right thing yeah",
                  "_deepnote_index_column": 6070
                },
                {
                  "Eighteen years eighteen years": "Lookin out my loft windows man my dreams became true",
                  "_deepnote_index_column": 6071
                },
                {
                  "Eighteen years eighteen years": "Lookin at the mirror wondering if its the same dude",
                  "_deepnote_index_column": 6072
                },
                {
                  "Eighteen years eighteen years": "Lookin at my closet wondering if its all about clothes",
                  "_deepnote_index_column": 6073
                },
                {
                  "Eighteen years eighteen years": "Look right next to me wondering if its all about",
                  "_deepnote_index_column": 6074
                },
                {
                  "Eighteen years eighteen years": "Hop in the car and asked the OnStar where this life goes",
                  "_deepnote_index_column": 6075
                },
                {
                  "Eighteen years eighteen years": "And I drive so fast I blur the light post",
                  "_deepnote_index_column": 6076
                },
                {
                  "Eighteen years eighteen years": "They say Drive Slow I say I know",
                  "_deepnote_index_column": 6077
                },
                {
                  "Eighteen years eighteen years": "Then errrr away I go",
                  "_deepnote_index_column": 6078
                },
                {
                  "Eighteen years eighteen years": "And the way I flew",
                  "_deepnote_index_column": 6079
                },
                {
                  "Eighteen years eighteen years": "In this year or two",
                  "_deepnote_index_column": 6080
                },
                {
                  "Eighteen years eighteen years": "I know this is what God put me here to do",
                  "_deepnote_index_column": 6081
                },
                {
                  "Eighteen years eighteen years": "But in this excitement",
                  "_deepnote_index_column": 6082
                },
                {
                  "Eighteen years eighteen years": "You just might miss",
                  "_deepnote_index_column": 6083
                },
                {
                  "Eighteen years eighteen years": "A shorty with a demo like Hey you might like this",
                  "_deepnote_index_column": 6084
                },
                {
                  "Eighteen years eighteen years": "And see",
                  "_deepnote_index_column": 6085
                },
                {
                  "Eighteen years eighteen years": "He",
                  "_deepnote_index_column": 6086
                },
                {
                  "Eighteen years eighteen years": "Remind me of me",
                  "_deepnote_index_column": 6087
                },
                {
                  "Eighteen years eighteen years": "Just a year ago",
                  "_deepnote_index_column": 6088
                },
                {
                  "Eighteen years eighteen years": "Now he",
                  "_deepnote_index_column": 6089
                },
                {
                  "Eighteen years eighteen years": "Tellin me",
                  "_deepnote_index_column": 6090
                },
                {
                  "Eighteen years eighteen years": "Im his herrooh",
                  "_deepnote_index_column": 6091
                },
                {
                  "Eighteen years eighteen years": "I took his CD and asked him what hes lookin for",
                  "_deepnote_index_column": 6092
                },
                {
                  "Eighteen years eighteen years": "He said Man I dont know Maybe a miracle",
                  "_deepnote_index_column": 6093
                },
                {
                  "Eighteen years eighteen years": "Excuse me but this verse",
                  "_deepnote_index_column": 6094
                },
                {
                  "Eighteen years eighteen years": "Has not been Russell Simmons approved uhuh",
                  "_deepnote_index_column": 6095
                },
                {
                  "Eighteen years eighteen years": "You wont see it on Runs house uhuh",
                  "_deepnote_index_column": 6096
                },
                {
                  "Eighteen years eighteen years": "You wont see it at a nuns house",
                  "_deepnote_index_column": 6097
                },
                {
                  "Eighteen years eighteen years": "My New York nigga said he heard it at sons house",
                  "_deepnote_index_column": 6098
                },
                {
                  "Eighteen years eighteen years": "Talkin bout how this ho is poor as my low is",
                  "_deepnote_index_column": 6099
                },
                {
                  "Eighteen years eighteen years": "Baby is my Lois maybe Im just bogus",
                  "_deepnote_index_column": 6100
                },
                {
                  "Eighteen years eighteen years": "Cause she dont want you to buy her a drank",
                  "_deepnote_index_column": 6101
                },
                {
                  "Eighteen years eighteen years": "Swizz said she aint got no money in the bank",
                  "_deepnote_index_column": 6102
                },
                {
                  "Eighteen years eighteen years": "And she be standin there cause its cameras",
                  "_deepnote_index_column": 6103
                },
                {
                  "Eighteen years eighteen years": "Tryin to show yo legs off you aint Amerie",
                  "_deepnote_index_column": 6104
                },
                {
                  "Eighteen years eighteen years": "If I fall in love a girl gon live on rodeo",
                  "_deepnote_index_column": 6105
                },
                {
                  "Eighteen years eighteen years": "Until that dayo she take the monorail",
                  "_deepnote_index_column": 6106
                },
                {
                  "Eighteen years eighteen years": "And I dont want no girl that will answer to ayo",
                  "_deepnote_index_column": 6107
                },
                {
                  "Eighteen years eighteen years": "Make it more harder make me put some work in",
                  "_deepnote_index_column": 6108
                },
                {
                  "Eighteen years eighteen years": "You get to flirtin play her just perfect",
                  "_deepnote_index_column": 6109
                },
                {
                  "Eighteen years eighteen years": "Fuck a drank Imma buy tha bar if ya worth it",
                  "_deepnote_index_column": 6110
                },
                {
                  "Eighteen years eighteen years": "Now I dont know what the hell this song is talkin bout",
                  "_deepnote_index_column": 6111
                },
                {
                  "Eighteen years eighteen years": "Do you",
                  "_deepnote_index_column": 6112
                },
                {
                  "Eighteen years eighteen years": "She said Yeah I been spendin all day tryin to figure that out",
                  "_deepnote_index_column": 6113
                },
                {
                  "Eighteen years eighteen years": "You too",
                  "_deepnote_index_column": 6114
                },
                {
                  "Eighteen years eighteen years": "The arms race made em raise they arm and race straight to the top",
                  "_deepnote_index_column": 6115
                },
                {
                  "Eighteen years eighteen years": "Who knew who knew",
                  "_deepnote_index_column": 6116
                },
                {
                  "Eighteen years eighteen years": "Right now they got that number one spot do you want that want that",
                  "_deepnote_index_column": 6117
                },
                {
                  "Eighteen years eighteen years": "Me too",
                  "_deepnote_index_column": 6118
                },
                {
                  "Eighteen years eighteen years": "One thing I gotta call out boy take a look at Fall Out Boy",
                  "_deepnote_index_column": 6119
                },
                {
                  "Eighteen years eighteen years": "Since they aint black when they get money they dont ball out boy",
                  "_deepnote_index_column": 6120
                },
                {
                  "Eighteen years eighteen years": "They just buy tight jeans till their nuts hang all out boy",
                  "_deepnote_index_column": 6121
                },
                {
                  "Eighteen years eighteen years": "They figure Ye dress tight so we gonna dress tighter",
                  "_deepnote_index_column": 6122
                },
                {
                  "Eighteen years eighteen years": "He dress white so we gone dress whiter",
                  "_deepnote_index_column": 6123
                },
                {
                  "Eighteen years eighteen years": "So in spite of",
                  "_deepnote_index_column": 6124
                },
                {
                  "Eighteen years eighteen years": "Anything you mightve",
                  "_deepnote_index_column": 6125
                },
                {
                  "Eighteen years eighteen years": "Seen or heard",
                  "_deepnote_index_column": 6126
                },
                {
                  "Eighteen years eighteen years": "This scene occurred",
                  "_deepnote_index_column": 6127
                },
                {
                  "Eighteen years eighteen years": "Word",
                  "_deepnote_index_column": 6128
                },
                {
                  "Eighteen years eighteen years": "How can you say Kan is so pompous",
                  "_deepnote_index_column": 6129
                },
                {
                  "Eighteen years eighteen years": "You aint been to his concerts",
                  "_deepnote_index_column": 6130
                },
                {
                  "Eighteen years eighteen years": "You just talking that nonsense",
                  "_deepnote_index_column": 6131
                },
                {
                  "Eighteen years eighteen years": "He in the same league Nas is",
                  "_deepnote_index_column": 6132
                },
                {
                  "Eighteen years eighteen years": "Or Jay is",
                  "_deepnote_index_column": 6133
                },
                {
                  "Eighteen years eighteen years": "My favorite",
                  "_deepnote_index_column": 6134
                },
                {
                  "Eighteen years eighteen years": "A lot of people say thats where Ye is",
                  "_deepnote_index_column": 6135
                },
                {
                  "Eighteen years eighteen years": "Though a freshman still the West man",
                  "_deepnote_index_column": 6136
                },
                {
                  "Eighteen years eighteen years": "One of the best man like Taye Diggs",
                  "_deepnote_index_column": 6137
                },
                {
                  "Eighteen years eighteen years": "And I was oh so patient",
                  "_deepnote_index_column": 6138
                },
                {
                  "Eighteen years eighteen years": "While niggas straight disrespectin him",
                  "_deepnote_index_column": 6139
                },
                {
                  "Eighteen years eighteen years": "So I did what they aint expect from him",
                  "_deepnote_index_column": 6140
                },
                {
                  "Eighteen years eighteen years": "Dropped The Dropout and blazed em",
                  "_deepnote_index_column": 6141
                },
                {
                  "Eighteen years eighteen years": "And aint nobody feel my pain",
                  "_deepnote_index_column": 6142
                },
                {
                  "Eighteen years eighteen years": "Until the hits that I came with",
                  "_deepnote_index_column": 6143
                },
                {
                  "Eighteen years eighteen years": "Im Kanye not Kayne",
                  "_deepnote_index_column": 6144
                },
                {
                  "Eighteen years eighteen years": "But to you Im Rick James bitch",
                  "_deepnote_index_column": 6145
                },
                {
                  "Eighteen years eighteen years": "Uh And Ill be trying to come around my girl acting like Mr",
                  "_deepnote_index_column": 6146
                },
                {
                  "Eighteen years eighteen years": "Friendly",
                  "_deepnote_index_column": 6147
                },
                {
                  "Eighteen years eighteen years": "And steal the spotlight like Mr Bentley",
                  "_deepnote_index_column": 6148
                },
                {
                  "Eighteen years eighteen years": "I spotted her like Spud McKenzie",
                  "_deepnote_index_column": 6149
                },
                {
                  "Eighteen years eighteen years": "And for them fake boobies I payed them Benjies",
                  "_deepnote_index_column": 6150
                },
                {
                  "Eighteen years eighteen years": "Get your own I got Paris he got Nicky he tried to get em a",
                  "_deepnote_index_column": 6151
                },
                {
                  "Eighteen years eighteen years": "Clone",
                  "_deepnote_index_column": 6152
                },
                {
                  "Eighteen years eighteen years": "He said yeah you know you got extra hoes",
                  "_deepnote_index_column": 6153
                },
                {
                  "Eighteen years eighteen years": "And everything you do is extra cold",
                  "_deepnote_index_column": 6154
                },
                {
                  "Eighteen years eighteen years": "From the Polo fleece to the Jesus piece",
                  "_deepnote_index_column": 6155
                },
                {
                  "Eighteen years eighteen years": "I got family in high places like Jesus niece",
                  "_deepnote_index_column": 6156
                },
                {
                  "Eighteen years eighteen years": "Can I please say my peace",
                  "_deepnote_index_column": 6157
                },
                {
                  "Eighteen years eighteen years": "If yall fresh to death then Im deceased",
                  "_deepnote_index_column": 6158
                },
                {
                  "Eighteen years eighteen years": "And this one here is a heat rocks",
                  "_deepnote_index_column": 6159
                },
                {
                  "Eighteen years eighteen years": "Spit like a beat box the way the beat rocks",
                  "_deepnote_index_column": 6160
                },
                {
                  "Eighteen years eighteen years": "New version of Pete Rock",
                  "_deepnote_index_column": 6161
                },
                {
                  "Eighteen years eighteen years": "But for that Benz I get CL love",
                  "_deepnote_index_column": 6162
                },
                {
                  "Eighteen years eighteen years": "So I switch my girls around like LW",
                  "_deepnote_index_column": 6163
                },
                {
                  "Eighteen years eighteen years": "Im calling",
                  "_deepnote_index_column": 6164
                },
                {
                  "Eighteen years eighteen years": "You my name is Kanye from the Rocafam",
                  "_deepnote_index_column": 6165
                },
                {
                  "Eighteen years eighteen years": "When the Glocks on jam so when we pop em scram",
                  "_deepnote_index_column": 6166
                },
                {
                  "Eighteen years eighteen years": "We showed you on champions how we get down",
                  "_deepnote_index_column": 6167
                },
                {
                  "Eighteen years eighteen years": "So dont twist your lips up like bobby brown",
                  "_deepnote_index_column": 6168
                },
                {
                  "Eighteen years eighteen years": "You got LL on your bedroom wall",
                  "_deepnote_index_column": 6169
                },
                {
                  "Eighteen years eighteen years": "Well Ill be double L trying to talk to yall",
                  "_deepnote_index_column": 6170
                },
                {
                  "Eighteen years eighteen years": "Now I aint even stay in class",
                  "_deepnote_index_column": 6171
                },
                {
                  "Eighteen years eighteen years": "To figure out RnB to get all of that",
                  "_deepnote_index_column": 6172
                },
                {
                  "Eighteen years eighteen years": "Yow cuence this girl is bad",
                  "_deepnote_index_column": 6173
                },
                {
                  "Eighteen years eighteen years": "Im getting spins all day in LA",
                  "_deepnote_index_column": 6174
                },
                {
                  "Eighteen years eighteen years": "We can go to the D where Dwele dwell",
                  "_deepnote_index_column": 6175
                },
                {
                  "Eighteen years eighteen years": "DC PG or ATL",
                  "_deepnote_index_column": 6176
                },
                {
                  "Eighteen years eighteen years": "Back in the Chi mean my life like a magazine",
                  "_deepnote_index_column": 6177
                },
                {
                  "Eighteen years eighteen years": "Honey wanna know the details about my ebony",
                  "_deepnote_index_column": 6178
                },
                {
                  "Eighteen years eighteen years": "Well thats XXL",
                  "_deepnote_index_column": 6179
                },
                {
                  "Eighteen years eighteen years": "Far as the penthouse yeah thats upscale",
                  "_deepnote_index_column": 6180
                },
                {
                  "Eighteen years eighteen years": "Mademoiselle got a hell of a Black tail",
                  "_deepnote_index_column": 6181
                },
                {
                  "Eighteen years eighteen years": "Im feeling her vibe her Body and Soul",
                  "_deepnote_index_column": 6182
                },
                {
                  "Eighteen years eighteen years": "I heard you stay in a metropolitan home",
                  "_deepnote_index_column": 6183
                },
                {
                  "Eighteen years eighteen years": "Well lets kill all the parlayin and offer you a cosmopolitan",
                  "_deepnote_index_column": 6184
                },
                {
                  "Eighteen years eighteen years": "Lets jet out the club get some oxygen",
                  "_deepnote_index_column": 6185
                },
                {
                  "Eighteen years eighteen years": "Your friends claim Im a player you be lucky to keep me",
                  "_deepnote_index_column": 6186
                },
                {
                  "Eighteen years eighteen years": "But you know people gon be talking bout us weekly",
                  "_deepnote_index_column": 6187
                },
                {
                  "Eighteen years eighteen years": "My car be in a Robb Report but whats more important to me",
                  "_deepnote_index_column": 6188
                },
                {
                  "Eighteen years eighteen years": "Is that you",
                  "_deepnote_index_column": 6189
                }
              ]
            },
            "text/plain": "                          Eighteen years eighteen years\n0     She got one of your kids got you for eighteen ...\n1     I know somebody paying child support for one o...\n2         His baby mama car and crib is bigger than his\n3               You will see him on TV any given Sunday\n4         Win the Super Bowl and drive off in a Hyundai\n...                                                 ...\n6185              Lets jet out the club get some oxygen\n6186  Your friends claim Im a player you be lucky to...\n6187  But you know people gon be talking bout us weekly\n6188  My car be in a Robb Report but whats more impo...\n6189                                        Is that you\n\n[6190 rows x 1 columns]",
            "text/html": "<div>\n<style scoped>\n    .dataframe tbody tr th:only-of-type {\n        vertical-align: middle;\n    }\n\n    .dataframe tbody tr th {\n        vertical-align: top;\n    }\n\n    .dataframe thead th {\n        text-align: right;\n    }\n</style>\n<table border=\"1\" class=\"dataframe\">\n  <thead>\n    <tr style=\"text-align: right;\">\n      <th></th>\n      <th>Eighteen years eighteen years</th>\n    </tr>\n  </thead>\n  <tbody>\n    <tr>\n      <th>0</th>\n      <td>She got one of your kids got you for eighteen ...</td>\n    </tr>\n    <tr>\n      <th>1</th>\n      <td>I know somebody paying child support for one o...</td>\n    </tr>\n    <tr>\n      <th>2</th>\n      <td>His baby mama car and crib is bigger than his</td>\n    </tr>\n    <tr>\n      <th>3</th>\n      <td>You will see him on TV any given Sunday</td>\n    </tr>\n    <tr>\n      <th>4</th>\n      <td>Win the Super Bowl and drive off in a Hyundai</td>\n    </tr>\n    <tr>\n      <th>...</th>\n      <td>...</td>\n    </tr>\n    <tr>\n      <th>6185</th>\n      <td>Lets jet out the club get some oxygen</td>\n    </tr>\n    <tr>\n      <th>6186</th>\n      <td>Your friends claim Im a player you be lucky to...</td>\n    </tr>\n    <tr>\n      <th>6187</th>\n      <td>But you know people gon be talking bout us weekly</td>\n    </tr>\n    <tr>\n      <th>6188</th>\n      <td>My car be in a Robb Report but whats more impo...</td>\n    </tr>\n    <tr>\n      <th>6189</th>\n      <td>Is that you</td>\n    </tr>\n  </tbody>\n</table>\n<p>6190 rows × 1 columns</p>\n</div>"
          },
          "metadata": {}
        }
      ]
    },
    {
      "cell_type": "code",
      "metadata": {
        "colab": {
          "base_uri": "https://localhost:8080/"
        },
        "id": "0Z7aQvCI8xx0",
        "outputId": "09524c4a-f2b4-4df8-ed41-896119657049",
        "cell_id": "00004-4ef4d89a-172b-444e-b5b7-42b6c435f769",
        "output_cleared": false,
        "source_hash": "c9ef6959",
        "deepnote_to_be_reexecuted": false,
        "execution_millis": 48,
        "execution_start": 1616596301123,
        "deepnote_cell_type": "code"
      },
      "source": "with open(file, encoding='utf-8') as f:\n    Corpus = f.readlines()  \nCorpus = ' '.join(Corpus).lower().split('\\n')\n\nCorpus",
      "execution_count": null,
      "outputs": [
        {
          "output_type": "execute_result",
          "execution_count": 4,
          "data": {
            "text/plain": "['eighteen years eighteen years',\n ' she got one of your kids got you for eighteen years',\n ' i know somebody paying child support for one of his kids',\n ' his baby mama car and crib is bigger than his',\n ' you will see him on tv any given sunday',\n ' win the super bowl and drive off in a hyundai',\n ' she was supposed to buy your shorty tyco with your money',\n ' she went to the doctor got lipo with your money',\n ' she walking around looking like michael with your money',\n ' shouldve got that insured geico for your money',\n ' if you aint no punk',\n ' holla we want prenup we want prenup yeah',\n ' its something that you need to have',\n ' cause when she leave your ass she gon leave with half',\n ' eighteen years eighteen years',\n ' and on the the birthday he found out it wasnt his',\n ' now i aint saying you a gold digger you got needs',\n ' you dont want a dude to smoke but he cant buy weed',\n ' you go out to eat and he cant pay yall cant leave',\n ' theres dishes in the back he gotta roll up your sleeves',\n ' but while yall washin watch him',\n ' he gone make it into a benz out of that datsun',\n ' he got that ambition baby look in his eyes',\n ' this week he mopping floors next week its the fries',\n ' so stick by his side',\n ' i know theres dudes ballin and yeah thats nice',\n ' and they gonna keep calling and trying but you stay right girl',\n ' and when you get on hell leave your ass for a white girl',\n ' let the suicide doors up',\n ' i threw suicides on the tour bus',\n ' i threw suicides on the private jet',\n ' you know what that mean im fly to death',\n ' i step in def jam buildin like im the shit',\n ' tell em give me fifty million or ima quit',\n ' most rappers taste level aint at my waist level',\n ' turn up the bass til its upinyoface level',\n ' dont do no press but i get the most press kit',\n ' plus yo my bitch make your bitch look like precious',\n ' somethin bout mary she gone off that molly',\n ' now the whole party is melted like dal‚àö‚â†',\n ' now everybody is movin they body',\n ' dont sell me apartment ill move in the lobby',\n ' niggas is loiterin just to feel important',\n ' you gon see lawyers and niggas in jordans',\n ' she said ye can we get married at the mall',\n ' i said look you need to crawl fore you ball',\n ' come and meet me in the bathroom stall',\n ' and show me why you deserve to have it all',\n ' ball so hard that shit cray aint it jay',\n ' what she order fish filet',\n ' your whip so cold this old thing',\n ' act like youll ever be around mothafuckas like this again',\n ' bougie girl grab my hand',\n ' fuck that bitch she dont wanna dance',\n ' excuse my french but im in france im just sayin',\n ' prince williams aint do it right if you ask me',\n ' cause i was him i would have married kate and ashley',\n ' whats gucci my nigga whats louis my killa',\n ' whats drugs my dealer whats that jacket margiela',\n ' doctors say im the illest',\n ' cause im suffering from realness',\n ' got my niggas in paris and they going gorillas huh',\n ' break records at louis ate breakfast at gucci',\n ' my girl a superstar all from a home movie',\n ' bow on our arrival the unamerican idols',\n ' what niggas did in paris got em hanging off the eiffel',\n ' yeah im talking business we talking cia',\n ' im talking george tenet i seen him the other day',\n ' he asked me about my maybach think he had the same',\n ' except mine tinted and his might have been rented',\n ' you know white people get money dont spend it',\n ' or maybe they get money buy a business',\n ' i rather buy gold chains and go ignant',\n ' i know spike lee gon kill me but let me finish',\n ' blame it on the pigment we living no limits',\n ' them gold master p ceilings was just a figment',\n ' of our imagination mtv cribs',\n ' now im looking at a crib right next to where tc lives',\n ' thats tom cruise whatever she accuse',\n ' he wasnt really drunk he just had a frew brews',\n ' pass the refreshments a cool cool beverage',\n ' everything i do need a news crews presence',\n ' speedboat swerve homie watch out for the waves',\n ' im way too black to burn from sun rays',\n ' so i just meditate at the home in pompeii',\n ' about how i could build a new rome in one day',\n ' everytime im in vegas they screaming like hes elvis',\n ' but i just wanna design hotels and nail it',\n ' shit is real got me feeling israelian',\n ' like bar refaeli or gisele no thats brazilian',\n ' went through deep depression when my momma passed',\n ' suicide what kinda talk is that',\n ' but i been talking to god for so long',\n ' that if you look at my life i guess hes talking back',\n ' fucking with my clique',\n ' what you doin in the club on a thursday',\n ' she say she only here for her girl birthday',\n ' they ordered champagne but still look thirsty',\n ' rock forever but just turned thirty',\n ' i know i got a bad reputation',\n ' walkingroundalwaysmad reputation',\n ' leaveaprettygirlsad reputation',\n ' start a fight club brad reputation',\n ' i turnt the nightclub out of the basement',\n ' ill turn the plane round your ass keep complainin',\n ' how you gon be mad on vacation',\n ' dutty wining round all these jamaicans',\n ' uh this that prom shit',\n ' this that whatwedodonttellyourmom shit',\n ' this that redcupallonthelawn shit',\n ' got a fresh cut straight out the salon bitch',\n ' i wanna fuck you hard on the sink',\n ' after that give you somethin to drink',\n ' step back cant get spunk on the mink',\n ' i mean damn what would jeromey romey romey rome think',\n ' hey you remember where we first met',\n ' okay i dont remember where we first met',\n ' but hey admittin is the first step',\n ' and hey you know aint nobody perfect',\n ' and i know with the hoes i got the worst rep',\n ' but hey their backstroke im tryna perfect',\n ' and hey ayo we made it thanksgivin',\n ' so hey maybe we can make it to christmas',\n ' she asked me what i wished for on my wishlist',\n ' have you ever asked your bitch for other bitches',\n ' maybe we could still make it to the church steps',\n ' but first you gon remember how to forget',\n ' after all these longass verses',\n ' im tired you tired jesus wept',\n ' coke on her black skin made it stripe like a zebra',\n ' i call that jungle fever',\n ' you will not control the threesome',\n ' just roll the weed up until i get me some',\n ' we formed a new religion',\n ' no sins as long as theres permission',\n ' and deception is the only felony',\n ' so never fuck nobody without telling me',\n ' sunglasses and advil',\n ' last night was mad real',\n ' sun coming up am',\n ' i wonder if they got cabs still',\n ' thinking bout the girl in all leopard',\n ' who was rubbing the wood like kiki shepard',\n ' two tattoos one read no apologies',\n ' the other said love is cursed by monogamy',\n ' its something that the pastor dont preach',\n ' its something that a teacher cant teach',\n ' when we die the money we cant keep',\n ' but we probably spend it all cause the pain aint cheap',\n ' preach',\n ' now if i fuck this model',\n ' and she just bleached her asshole',\n ' and i get bleach on my tshirt',\n ' imma feel like an asshole',\n ' i was high when i met her',\n ' we was down in tribeca',\n ' she get under your skin if you let her',\n ' she get under your skin if youuh',\n ' i dont even want to talk about it',\n ' i dont even want to talk about it',\n ' i dont even want to say nothing',\n ' everybody gon say something',\n ' id be worried if they said nothing',\n ' remind me where i know you from',\n ' she looking like she owe you some',\n ' you know just what we want',\n ' i want to wake up with you in my beautiful morning',\n ' my momma was raised in the era when',\n ' clean water was only served to the fairer skin',\n ' doin clothes you would have thought i had help',\n ' but they wasnt satisfied unless i picked the cotton myself',\n ' you see its broke nigga racism',\n ' thats that dont touch anything in the store',\n ' and its rich nigga racism',\n ' thats that come in please buy more',\n ' what you want a bentley fur coat a diamond chain',\n ' all you blacks want all the same things',\n ' used to only be niggas now everybody playin',\n ' spendin everything on alexander wang',\n ' new slaves',\n ' i throw these maybach keys',\n ' i wear my heart on the sleeve',\n ' i know that we the new slaves',\n ' i see the blood on the leaves',\n ' i see the blood on the leaves',\n ' i see the blood on the leaves',\n ' i know that we the new slaves',\n ' i see the blood on the leaves',\n ' they throwin hate at me',\n ' want me to stay at ease',\n ' fuck you and your corporation',\n ' yall niggas cant control me',\n ' i know that we the new slaves',\n ' i know that we the new slaves',\n ' im bout to wild the fuck out',\n ' im goin bobby boucher',\n ' i know that pussy aint free',\n ' you niggas pussy aint me',\n ' yall throwin contracts at me',\n ' you know that niggas cant read',\n ' throw em some maybach keys',\n ' fuck it cest la vie',\n ' i know that we the new slaves',\n ' yall niggas cant fuck with me',\n ' yall niggas cant fuck with ye',\n ' yall niggas cant fuck with ye',\n ' ill move my family out the country',\n ' so you cant see where i stay',\n ' so go and grab the reporters',\n ' so i can smash their recorders',\n ' see theyll confuse us with some bullshit',\n ' like the new world order',\n ' meanwhile the dea',\n ' teamed up with the cca',\n ' they tryna lock niggas up',\n ' they tryna make new slaves',\n ' see thats that privately owned prison',\n ' get your piece today',\n ' they prolly all in the hamptons',\n ' braggin bout what they made',\n ' fuck you and your hampton house',\n ' ill fuck your hampton spouse',\n ' came on her hampton blouse',\n ' and in her hampton mouth',\n ' yall bout to turn shit up',\n ' im bout to tear shit down',\n ' im bout to air shit out',\n ' now what the fuck they gon say now',\n ' i just need to clear my mind now',\n ' its been racin since the summertime',\n ' now im holdin down the summer now',\n ' and all i want is what i cant buy now',\n ' cause i aint got the money on me right now',\n ' and i told you to wait',\n ' yeah i told you to wait',\n ' so imma need a little more time now',\n ' cause i aint got the money on me right now',\n ' and i thought you could wait',\n ' yeah i thought you could wait',\n ' these bitches surroundin me',\n ' all want something out me',\n ' then they talk about me',\n ' would be lost without me',\n ' we couldve been somebody',\n ' thought youd be different bout it',\n ' now i know you not it',\n ' so lets get on with it',\n ' we couldve been somebody',\n ' stead you had to tell somebody',\n ' lets take it back to the first party',\n ' when you tried your first molly',\n ' and came out of your body',\n ' and came out of your body',\n ' running naked down the lobby',\n ' and you was screamin that you love me',\n ' before the limelight tore ya',\n ' before the limelight stole ya',\n ' remember we were so young',\n ' when i would hold you',\n ' before the blood on the leaves',\n ' i know there aint wrong with me',\n ' something strange is happenin',\n ' you couldve been somebody',\n ' we couldve ugh we couldve been somebody',\n ' or was it on the first party',\n ' when we tried our first molly',\n ' and came out of our body',\n ' and came out of our body',\n ' before they call lawyers',\n ' before you tried to destroy us',\n ' how you gon lie to the lawyer',\n ' its like i dont even know ya',\n ' i gotta bring it back to the nolia',\n ' to all my second string bitches try and get a baby',\n ' trying to get a baby now you talkin crazy',\n ' i dont give a damn if you used to talk to jay z',\n ' he aint with you he with beyonc‚àö¬© you need to stop actin lazy',\n ' she instagram herself like badbitchalert',\n ' he instagram his watch like madrichalert',\n ' he only wanna see that ass in reverse',\n ' twothousanddollar bag with no cash in your purse',\n ' now you sittin courtside wifey on the other side',\n ' gotta keep em separated i call that apartheid',\n ' then she said she impregnated thats the night your heart died',\n ' then you gotta go and tell your girl and report that',\n ' main reason cause your pastor said you cant abort that',\n ' now your driver say that new benz you cant afford that',\n ' all that cocaine on the table you cant snort that',\n ' that goin to that owin money that the court got',\n ' all in on that alimony uh yeahyeah she got you homie yeah',\n ' til death but do your part unholy matrimony',\n ' for my theme song black',\n ' my leather black jeans on black',\n ' my byanymeans on',\n ' pardon im getting my scream on',\n ' enter the kingdom black',\n ' but watch who you bring home',\n ' they see a black man with a white woman',\n ' at the top floor they gone come to kill king kong',\n ' middle america packed in black',\n ' came to see me in my black skin black',\n ' number one question theyre askin',\n ' fuck every question you askin black',\n ' if i dont get ran out by catholics black',\n ' here come some conservative baptists',\n ' claiming im overreactin',\n ' like them black kids in chiraq bitch',\n ' stop all that coon shit black',\n ' early morning cartoon shit black',\n ' this is that goon shit',\n ' fuck up your whole afternoon shit',\n ' im aware im a wolf',\n ' soon as the moon hit',\n ' im aware im a king',\n ' back out the tomb bitch black',\n ' black out the room bitch black',\n ' stop all that coon shit black',\n ' these niggas aint doin shit black',\n ' them niggas aint doin shit',\n ' come on homie what happened',\n ' you niggas aint breathin you gaspin',\n ' these niggas aint ready for action',\n ' readyready for action',\n ' they smile in my face is what i dont like',\n ' they steal your whole sound thats a soundbite',\n ' the media crucify me like they did christ',\n ' they want to find me not breathing like they found mike',\n ' a girlll run her mouth only out of spite',\n ' but i never hit a woman never in my life',\n ' i was in too deep like mekhi phife',\n ' in that pussy so deep i could have drowned twice',\n ' rose gold jesus piece with the brown ice',\n ' eating good vegetarian with the brown rice',\n ' girls kissing girls cause its hot right',\n ' but unless they use a strapon then they not dykes',\n ' they aint about that life they aint about that life',\n ' we hanging out that window its about to be a suge night',\n ' free bump j real nigga for life',\n ' shoutout to derrick rose man that nigga nice',\n ' shout out to lep jay boogie right',\n ' chief keef king louie this is chi right right',\n ' the best living or dead hands down huh',\n ' less talk more head right now huh',\n ' and my eyes more red than the devil is',\n ' and im about to take it to another level bitch',\n ' no matter who you go and get',\n ' aint nobody cold as this',\n ' do the rap and the track triple double no assists',\n ' and my only focus is staying on some bogus shit',\n ' arguing with my older bitch acting like i owe her shit',\n ' i heard that people sing raps to give the track pain',\n ' bought the chain that always give me back pain',\n ' fucking up my money so yeah i had to act sane',\n ' chi nigga but these hoes love my accent',\n ' chick came up to me and said',\n ' this the number to dial',\n ' if you wanna make your your now',\n ' mix that goose and malibu i call it malibooyah',\n ' goddamn yeezy how he hit them with a new style',\n ' know that motherfucker well what you gonna do now',\n ' whatever i want to do gosh its cool now',\n ' know im gonna do ah its the new now',\n ' think you motherfuckers really really need to cool out',\n ' cause youll never get on top of this',\n ' so mommy best advice is just to get on top of this',\n ' have you ever had sex with a pharaoh',\n ' put the pussy in a sarcophagus',\n ' now she claiming that i bruised her esophagus',\n ' head of the class and she just won a swallowship',\n ' im living in the future so the present is my past',\n ' my presence is a present kiss my ass',\n ' this ye nigga',\n ' shoppin for the winter and its just may nigga',\n ' ball so hard man this shit cray nigga',\n ' and you aint gettin money less you got eight figures',\n ' for that jesus piece man ive been saved nigga',\n ' just talked to farrakhan thats sensei nigga',\n ' told him ive been on ten since the th grade nigga',\n ' got a middle finger longer than dikembe my nigga uh',\n ' i dont let em play with me',\n ' i dont let em talk to me no kind of way',\n ' uh they better watch what they say to me',\n ' niggas still gettin popped on the day to day',\n ' yeah i still got the hundred with the small face nigga',\n ' might spend racks on my off day nigga',\n ' you a fake denzel like the allstate nigga',\n ' if you run into me better have allstate with yah',\n ' you a rico suave nigga',\n ' ride round listen to sade nigga',\n ' if you aint with us you in our way nigga',\n ' you an actor you should be on broadway nigga',\n ' cause you do shit the broad way nigga',\n ' your bitch got a ass but my broad way thicker',\n ' late for the class in the hallway nigga',\n ' yeah the dropout at it as always nigga as always',\n ' all day nigga',\n ' i could do this all day boy im finna turn this bitch out',\n ' they need that ye in the streets boy theres been a mothafuckin drought',\n ' dont really matter what i make boy you know i still go wild',\n ' like a light skinned slave boy we in the mothafuckin house',\n ' right now you lookin real sus right now',\n ' i swear ive been on this flight like a month right now',\n ' stupid niggas gettin money forrest gump right now',\n ' shoutout to jackie chan i need to stunt right now',\n ' theyve been lookin at the gram ive been lookin at the grammys',\n ' like huh thats us right now',\n ' days everybody gettin paid',\n ' niggas lookin at me like im worth both mjs',\n ' people saying ye ye take it easy',\n ' gs for the yeezys off of ebay',\n ' niggas do the most and they aint done shit',\n ' only way i can sum it up sumbitch',\n ' i told i told ay ay i told you',\n ' up in the morning miss you bad',\n ' sorry i aint called you back',\n ' same problem my father had',\n ' all his time all he had all he had',\n ' in what he dreamed',\n ' all his cash market crashed',\n ' hurt him bad people get divorced for that',\n ' drops some stacks pops is good',\n ' momma pass in hollywood',\n ' if you ask lost my soul',\n ' driving fast lost control',\n ' off the road jaw was broke',\n ' member we all was broke',\n ' member im coming back',\n ' ill be taking all the stacks',\n ' soon as they like you make em unlike you',\n ' cause kissin people ass is so unlike you',\n ' the only rapper compared to michael',\n ' so heres a few hatinass niggas to fight you',\n ' and heres a few snakeass niggas to bite you',\n ' and i dont even wanna hear bout what niggas might do',\n ' old niggas mentally still in high school',\n ' since the tight jeans they aint never liked you',\n ' pinkass polos with a fuckin backpack',\n ' but everybody know you brought real rap back',\n ' nobody had swag man we the rat pack',\n ' virgil pyrex don c snapback',\n ' ibn diamond chitown shinin',\n ' monop in this bitch again changed the climate',\n ' hop in this bitch again same thing im in',\n ' until the day i get struck by lightning',\n ' i just talked to jesus',\n ' he said what up yeezus',\n ' i said shit im chillin',\n ' tryna stack these millions',\n ' i know he the most high',\n ' but i am a close high',\n ' mi casa su casa',\n ' thats our cosa nostra',\n ' i am a god',\n ' i am a god',\n ' i am a god',\n ' for all my southside niggas that know me best',\n ' i feel like me and taylor might still have sex',\n ' why i made that bitch famous god damn',\n ' i made that bitch famous',\n ' for all the girls that got dick from kanye west',\n ' if you see em in the streets give em kanyes best',\n ' why they mad they aint famous god damn',\n ' they mad theyre still nameless talk that talk man',\n ' her man in the store tryna try his best',\n ' but he just cant seem to get kanye fresh',\n ' but we still hood famous god damn',\n ' yeah we still hood famous',\n ' i be puerto rican day parade floatin',\n ' that benz marina del rey coastin',\n ' she in school to be a real estate agent',\n ' last month i helped her with the car payment',\n ' young and we alive whoo',\n ' we never gonna die whoo',\n ' i just copped a jet to fly over personal debt',\n ' put one up in the sky',\n ' the sun is in my eyes whoo',\n ' woke up and felt the vibe whoo',\n ' no matter how hard they try whoo',\n ' we never gonna die',\n ' hey baby you forgot your ray bans',\n ' and my sheets still orange from your spray tan',\n ' it was more than soft porn for the kman',\n ' she remember my sprinter said i was in the grape van',\n ' uhm well cutie i like your bougie booty',\n ' come erykah badu me well lets make a movie',\n ' hell you know my repertoire is like a wrestler',\n ' i show you the ropes connect the dots',\n ' a country girl that love hollywood',\n ' mama used to cook red beans and rice',\n ' now its dennys in the morning spoil your appetite',\n ' liquor pouring and niggas swarming your section with erection',\n ' smoke in every direction middle finger pedestrians',\n ' rb singers and lesbians rappers and managers',\n ' music and iphone cameras',\n ' this shit unanimous for you its damaging for you i think',\n ' that pussy should only be holding exclusive rights to me i mean',\n ' he flew you in this motherfucker on first class',\n ' even went out his way so you could check in an extra bag',\n ' now you wanna divide the yam like it equate the math',\n ' that shit dont add up youre making him mad as fuck',\n ' she said she came out here to find an alist rapper',\n ' i said baby spin that round and say the alphabet backwards',\n ' youre dealing with malpractice dont kill a good niggas confidence',\n ' just cause he a nerd and you dont know what a condom is',\n ' the head still good though the head still good though',\n ' make me say nam myoho renge kyo',\n ' make a nigga say big words and act lyrical',\n ' make me get spiritual',\n ' make me believe in miracles buddhist monks and capn crunch cereal',\n ' lord have mercy thou will not hurt me',\n ' five buddies all herded up on a thursday',\n ' bottle service head service i came in first place',\n ' the opportunity the proper top of breast and booty cheek',\n ' the pop community i mean these bitches come with union fee',\n ' and i want two of these moving units through consumer streets',\n ' then my shoe released she was kicking in gratuity',\n ' and yeah g i was all for it',\n ' she said k lamar you kind of dumb to be a poet',\n ' imma put you on game for the lames that dont know theyre a rookie',\n ' instagram is the best way to promote some pussy',\n ' friday night tryna make it into the city',\n ' breakneck speeds passenger seat something pretty',\n ' thinking back to how i got here in the first place',\n ' second class bitches wouldnt let me on first base',\n ' a backpack nigga with luxury taste buds',\n ' and the louis vuitton store got all of my pay stubs',\n ' got pussy from beats i did for niggas more famous',\n ' when did i become a list i wasnt even on a list',\n ' strippers get invited to where they only get hired',\n ' when i get on my steve jobs somebody gon get fired',\n ' i was uninspired since lauryn hill retired',\n ' and stacks man you preach it to the choir',\n ' any rumor you ever heard about me was true and legendary',\n ' i done got lewinsky and paid secretaries',\n ' for all my niggas with babies by bitches',\n ' that use they kids as meal tickets',\n ' not knowing the disconnect from the father',\n ' the next generation will be the real victims',\n ' i cant fault em really',\n ' i remember amber told my boy no matter what happens she aint going back to philly',\n ' back to our regularly scheduled programmin',\n ' of weak content and slow jammin',\n ' but dont worry this ones so jammin',\n ' you know it la its so jammin',\n ' i be thinkin every day',\n ' mulholland drive need to put up some god damn barricades',\n ' i be paranoid every time',\n ' the pressure the problem aint i be drivin',\n ' the problem is i be textin',\n ' my psychiatrist got kids that i inspired',\n ' first song they played for me was bout their friend that just died',\n ' textin and drivin down mulholland drive',\n ' thats why id rather take the',\n ' i be worried bout my daughter i be worried bout kim',\n ' but saint is baby ye i aint worried bout him',\n ' i had my life threatened by best friends who had selfish intents',\n ' what im supposed to do',\n ' ride around with a bulletproof car and some tints',\n ' every agent i know know i hate agents',\n ' im too black im too vocal im too flagrant',\n ' something smellin like shit thats the new fragrance',\n ' its just me i do it my way bitch',\n ' some days im in my yeezys some days im in my vans',\n ' if i knew yall made plans i wouldnt have popped the xans',\n ' i know some fans who thought i wouldnt rap like this again',\n ' but the writers block is over emcees cancel your plans',\n ' a yearold yearold with rich nigga problems',\n ' tell my wife that i hate the rolls so i dont never drive it',\n ' it took months to get the maybach all matted out',\n ' and my assistant crashed it soon as they backed it out',\n ' god damn got a bald fade i might slam',\n ' pink fur got nori dressing like cam',\n ' thank god for me',\n ' whole family gettin money thank god for e',\n ' i love rockin jewelry a whole neck full',\n ' bitches say he funny and disrespectful',\n ' i feel like pablo when im workin on my shoes',\n ' i feel like pablo when i see me on the news',\n ' i feel like pablo when im workin on my house',\n ' tell em partys in here we dont need to go out',\n ' we need the turbo thots high speed turbo thots',\n ' dropdrodrodrodrop it like robocop',\n ' she brace herself and hold my stomach good dickll do that',\n ' she keep pushin me back good dickll do that',\n ' she push me back when the dick go too deep',\n ' this good dickll put your ass to sleep',\n ' get money money money money',\n ' big big money money money money',\n ' and as far as real friends tell all my cousins i love em',\n ' even the one that stole the laptop you dirty motherfucker',\n ' damn your lips very soft',\n ' as i turn my blackberry off',\n ' and i turn your bathwater on',\n ' and you turn off your iphone',\n ' careless whispers eye fuckin bitin ass',\n ' neck ears hair legs eating ass',\n ' your pussys too good i need to crash',\n ' your titties let em out free at last',\n ' thank god almighty they free at last',\n ' we was up at the party but we was leavin fast',\n ' had to stop at eleven like i needed gas ouh',\n ' im lyin i needed condoms dont look through the glass',\n ' chasin love all the bittersweet hours lost',\n ' eatin asian pussy all i need was sweet and sour sauce',\n ' tell your boss you need an extra hour off',\n ' get you super wet after we turn the shower off',\n ' uh picked up where we left off',\n ' uh i need you home when i get off',\n ' uh you know i need that wet mouth',\n ' uh i know you need that reptile',\n ' uh she cut from a different textile',\n ' uh she love different kinds of sex now',\n ' uh black girl sippin white wine',\n ' put my fist in her like a civil rights sign',\n ' and grabbed it with a slight grind',\n ' and held it til the right time',\n ' then she came like aaaaahhh',\n ' bitch im back out my coma',\n ' wakin up on your sofa',\n ' when i park my range rover',\n ' slightly scratch your corolla',\n ' okay i smashed your corolla',\n ' im hangin on a hangover',\n ' five years we been over',\n ' ask me why i came over',\n ' one more hit and i can own ya',\n ' one more fuck and i can own ya',\n ' one cold night in october',\n ' pussy had me floatin',\n ' feel like deepak chopra',\n ' pussy had me dead',\n ' might call pac over',\n ' yeezys all on your sofa',\n ' these the red octobers',\n ' still aint learn me no manners',\n ' you love me when i aint sober',\n ' you love me when im hungover',\n ' even when i blow doja',\n ' then her auntie came over',\n ' skinny bitch with no shoulders',\n ' tellin you that im bogus',\n ' bitch you dont even know us',\n ' baby girl hes a loner',\n ' baby girl hes a loner',\n ' latenight organ donor',\n ' after that he disown ya',\n ' after that hes just hopeless',\n ' soul mates become soulless',\n ' when its over its over',\n ' and bitch im back out my coma',\n ' yeezy yeezy yeezy i feel so accomplished',\n ' i done talked a lot of shit but i just did the numbers',\n ' herzog and adidas man you know they love it',\n ' if nike aint have drizzy man they wouldnt have nothin woo',\n ' if nike aint have don c man they wouldnt have nothin ooh',\n ' but im all for the family tell em get your money',\n ' yeezy yeezy yeezy they line up for days',\n ' nike out here bad they cant give shit away',\n ' i stuck to my roots im like jimmy fallon',\n ' i aint dropped the album but the shoes went platinum woo',\n ' every time i talk they say im too aggressive',\n ' i was out here spazzin all yall get the message',\n ' on the field im overreckless on my odell beckham',\n ' ima run the whole election yah',\n ' ive been trending years yall a couple days',\n ' yeezy in the house and we just got appraised',\n ' nike nike treat employees just like slaves',\n ' gave lebron a billi not to run away yo',\n ' thousand dollar fur for nori i just copped it yo',\n ' your baby daddy wont even take your daughter shoppin yo',\n ' i done wore designers i wont wear again',\n ' make em niggas famous they get arrogant',\n ' yeezy yeezy yeezy this is pure luxury',\n ' i give em grey poupon on a dj mustard ah',\n ' if you aint poppin shit then why you rap for haaan',\n ' plus kimoji just shut down the app store ah',\n ' and we made a million a minute we made a million a minute',\n ' yeah we made a million a minute we made a million a minute ah',\n ' do anybody feel bad for bill cosby',\n ' did he forget the names just like steve harvey yo',\n ' tell adidas that we need a million in production yo',\n ' i done told yall all i needed was the infrastructure boom',\n ' now we hottest in the streets it aint no discussion',\n ' james harden swaggy p runnin up the budget yoga flame',\n ' keep the work at my baby mamas mamas house',\n ' im a jerk you need to work you need to call my spouse',\n ' yeezy yeezy take a picture with me on rodeo',\n ' yeezy yeezy yeezy i might do my own hotel',\n ' couches couches couches couches which one should i pick',\n ' i need extra deep i like my bitches extra thick sonic boom',\n ' every time i see the news man it bring me home',\n ' call up dj mano shout out twilite tone',\n ' we just blessed to be alive yeah aint that the truth',\n ' so lets celebrate the life of timbuck',\n ' timbuck timbuck',\n ' im living in that st century doing something mean to it',\n ' do it better than anybody you ever seen do it',\n ' screams from the haters got a nice ring to it',\n ' i guess every superhero need his theme music',\n ' no one man should have all that power',\n ' the clocks ticking i just count the hours',\n ' stop tripping im tripping off the power',\n ' stcentury schizoid man',\n ' the system broken the school is closed the prisons open',\n ' we aint got nothing to lose motherfucker we rolling',\n ' huh motherfucker we rolling',\n ' with some lightskinned girls and some kelly rowlands',\n ' in this white man world we the ones chosen',\n ' so goodnight cruel world ill see you in the morning',\n ' huh ill see you in the morning',\n ' this is way too much i need a moment',\n ' fuck snl and the whole cast',\n ' tell them yeezy said they can kiss my whole ass',\n ' more specifically they can kiss my asshole',\n ' im an asshole you niggas got jokes',\n ' you shortminded niggas thoughts is napoleon',\n ' my furs is mongolian my ice brought the goalies in',\n ' and i embody every characteristic of the egotistic',\n ' he knows hes so fucking gifted',\n ' i just needed time alone with my own thoughts',\n ' got treasures in my mind but couldnt open up my own vault',\n ' my childlike creativity purity and honesty',\n ' is honestly being crowded by these grown thoughts',\n ' reality is catching up with me',\n ' taking my inner child im fighting for custody',\n ' with these responsibilities that they entrusted me',\n ' as i look down at my diamond encrusted piece',\n ' thinking',\n ' colin powells austin powers',\n ' lost in translation with a whole fucking nation',\n ' they say i was the abomination of obamas nation',\n ' well thats a pretty bad way to start the conversation',\n ' at the end of the day god damn it im killing this shit',\n ' i know damn well yall feeling this shit',\n ' i dont need your pussy bitch im on my own dick',\n ' i aint gotta power trip who you going home with',\n ' how ye doing im surviving',\n ' i was drinking earlier now im driving',\n ' where the bad bitches huh where you hiding',\n ' i got the power to make your life so exciting',\n ' dinner with anna wintour racing with anja rubik',\n ' i told you motherfuckers it was more than the music',\n ' in the projects one day to project runway',\n ' we done heard all that loudass talking were used to it',\n ' im from where shorties fucked up doublecupped up',\n ' might even kill somebody and youtube it',\n ' to whoever think their words affect me is too stupid',\n ' and if you can do it better than me then you do it',\n ' we flyer than a parakeet floatin with no parachute',\n ' six thousand dollar pair of shoes we made it to the paris news',\n ' dont talk about style cause i embarrass you',\n ' shut the fuck up when you talk to me fore i embarrass you',\n ' and the whole industry want to fuck your old chick',\n ' only nigga i got respect for is wiz',\n ' and ill admit i had fell in love with kim',\n ' around the same time she had fell in love with him',\n ' well thats cool baby girl do ya thang',\n ' lucky i aint had jay drop him from the team',\n ' la familia roc nation',\n ' we in the building we still keep it basement',\n ' flyer than a parakeet floatin with no parachute',\n ' six thousand dollar pair of shoes i made it to the paris news',\n ' dont talk about style cause ill embarrass you',\n ' shut the fuck up when you talk to me fore i embarrass you',\n ' good music we fresh we fresh',\n ' anything else we detest detest',\n ' bitchass niggas got ass and breasts',\n ' all that said let me ask this question',\n ' i believe theres a god above me',\n ' im just the god of everything else',\n ' i put holes in everything else',\n ' new god flow fuck everything else',\n ' supreme dope dealer write it in bold letters',\n ' they love a niggas spirit like pac at the coachella',\n ' they said pusha aint fit with the umbrella',\n ' but i was good with the yay as a wholesaler',\n ' i think its good that ye got a blow dealer',\n ' a hot temper matched with a cold killer',\n ' i came aboard for more than just to rhyme with him',\n ' think when puff woulda had shyne with him yuugh',\n ' matchin daytonas rose gold on us',\n ' goin h¬¨‚àëa¬¨‚àëm in ibiza done took a toll on us',\n ' but since you overdo it ima pour more',\n ' well if you goin coupe im goin four door',\n ' hold up i aint trying to stunt man',\n ' but the yeezys jumped over the jumpman',\n ' went from most hated to the champion god flow',\n ' i guess thats a feeling only me and lebron know',\n ' im living three dreams biggie smalls dr king',\n ' rodney kings uhh cause',\n ' cause we cant get along no resolution',\n ' til we drown all these haters rest in peace to whitney houston',\n ' cars money girls and the clothes',\n ' aww man you sold your soul',\n ' naww man mad people was frontin',\n ' aww man made somethin from nothin',\n ' picture workin so hard and you cant cut through',\n ' that can mess up your whole life like an uncle that touched you',\n ' what has the world come to im from the',\n ' where cops dont come through and dreams dont come true',\n ' like there the god go in his murcielago',\n ' from workin mcdonalds barely payin the car note',\n ' he even got enough to get his mama a condo',\n ' then they ran up and shot him right in front of his mom',\n ' killings in a weekend killings in a week',\n ' man the summer too hot you can feel it in the street',\n ' welcome to sunday service if you hope to someday serve us',\n ' we got green in our eyes just follow my erick sermon',\n ' did moses not part the water with the cane',\n ' did strippers not make an ark when i made it rain',\n ' did yeezy not get signed by hov and dame',\n ' and ran to jacob and made the new jesus chains',\n ' in jesus name let the choir say',\n ' im on fire ay thats what richard pryor say',\n ' and well annihilate anybody that violate',\n ' ask any dope boy you know they admire ye',\n ' ello ello ello hello white america assassinate my character',\n ' money matrimony yeah they tryna break the marriage up',\n ' who gon act phony or who gone try to embarrass ya',\n ' imma need a day off i think ill call ferris up',\n ' bueller had a muller but i switched it for a mille',\n ' cause im richer and prior to this shit was moving free base',\n ' had a conference with the djs puerto rico three days',\n ' poli with the pds now they got our shit on replay',\n ' sorry im in pajamas but i just got off the pj',\n ' and last party we had they shut down prive',\n ' aint that where the heat play niggas hate ballas these days yep',\n ' aint that like lebron james aint that just like d wade wait',\n ' on a bathroom wall i wrote',\n ' id rather argue with you than be with someone else',\n ' i took a piss and dismiss it like fuck it',\n ' and i went and found somebody else',\n ' fuck arguing and harvesting the feelings',\n ' yo id rather be by my fucking self',\n ' till about two am and i call back',\n ' and i hang up and i start to blame myself',\n ' somebody help',\n ' you werent perfect but you made life worth it',\n ' stick around some real feelings might surface',\n ' been a long time since i spoke to you in a bathroom',\n ' gripping you up fucking and choking you',\n ' what the hell was i supposed to do',\n ' i know you aint getting this type of dick from that local dude',\n ' and if you are i hope you have a good time',\n ' cause i definitely be having mine',\n ' and you aint finna see a mogul get emotional',\n ' every time i hear bout other niggas is strokin you',\n ' lying say i hit you he sitting there consoling you',\n ' running my name through the mud whos provoking you',\n ' you should be grateful a nigga like me ever noticed you',\n ' now you noticeable and cant nobody get control of you',\n ' am and cant nobody get a hold of you',\n ' im calling your brothers phone like what was i supposed to do',\n ' even though i knew he never told the truth',\n ' he was just gon say whatever that you told him to',\n ' at a certain point i had to stop asking questions',\n ' yall got dirt on each other like mud wrestlers',\n ' i heard he bought some coke with my money',\n ' that aint right girl',\n ' you getting blackmailed for that white girl',\n ' you always said yeezy i aint your right girl',\n ' youll probably find one of them i like arttype girls',\n ' all of the lights shewascaughtinthehype girl',\n ' and i was satisfied being in love with the lie',\n ' now who to blame you to blame me to blame',\n ' for the pain and it poured every time when it rained',\n ' lets play the blame game',\n ' things used to be now they not',\n ' anything but us is who we are',\n ' disguising ourselves as secret lovers',\n ' weve become public enemies',\n ' we walk away like strangers in the street',\n ' gone for eternity',\n ' we erased one another',\n ' so far from where we came',\n ' with so much of everything how do we leave with nothing',\n ' lack of visual empathy equates the meaning of love',\n ' hatred and attitude tear us entirely chloe mitchell',\n ' and i know that you are somewhere doing your thing',\n ' and when the phone called it just ring and ring',\n ' you aint pick up but your phone accidentally called me back',\n ' and i heard the whole thing',\n ' i heard the whole thing the whole thing the whole thing',\n ' you gotta let me know if i could be your joseph',\n ' only tell you real shit thats the tea no sip',\n ' dont trip dont trip that pussy slippery no whip',\n ' we aint trippin on shit we just sippin on this',\n ' just forget the whole shit we could laugh about nothin',\n ' i impregnate your mind lets have a baby without fuckin yo',\n ' i know its corny bitches you wish you could unfollow',\n ' i know its corny niggas you wish you could unswallow',\n ' i know its corny bitches you wish you could unfollow',\n ' i know its corny niggas you wish you could unswallow',\n ' i know its corny bitches you wish you could unfollow',\n ' i know its corny niggas you wish you could unswallow',\n ' you tried to play nice everybody just took advantage',\n ' you left your fridge open somebody just took a sandwich',\n ' i said baby what if you was clubbin',\n ' thuggin hustlin before you met your husband',\n ' then i said what if mary was in the club',\n ' fore she met joseph around hella thugs',\n ' cover nori in lambs wool',\n ' we surrounded by the fuckin wolves',\n ' what if mary what if mary',\n ' was in the club was in the club',\n ' fore she met joseph with no love',\n ' cover saint in lambs wool',\n ' and she was we surrounded by',\n ' surrounded by the fuckin wolves',\n ' i been waiting for a minute',\n ' for my lady',\n ' so i cant jeopardize that for one of these hoes',\n ' i been living without limits',\n ' as far as my business',\n ' im the only one thats in control',\n ' i been feeling all ive given',\n ' for my children',\n ' i will die for those i love',\n ' god im willing',\n ' to make this my mission',\n ' give up the women',\n ' before i lose half of what i own',\n ' i been thinking',\n ' about my vision',\n ' pour out my feelings',\n ' revealing the layers to my soul',\n ' my soul',\n ' the layers to my soul',\n ' revealing the layers to my soul',\n ' see before i let you go',\n ' one last thing i need to let you know',\n ' you aint never seen nothing crazier than',\n ' this nigga when he off his lexapro',\n ' remember that last time in mexico',\n ' remember that last time the episode',\n ' asking me why the hell i text in code',\n ' four times just to say dont text me hoe',\n ' told you four times dont test me hoe',\n ' now we finna lose all selfcontrol',\n ' but you aint finna be raising your voice at me',\n ' especially when we in the giuseppe store',\n ' but imma have the last laugh in the end',\n ' cause im from a tribe called check a hoe',\n ' yeah imma have to laugh indian',\n ' cause im from a tribe called check a hoe',\n ' and i',\n ' she find pictures in my email',\n ' i sent this bitch a picture of my dick',\n ' i dont know what it is with females',\n ' but im not too good with that shit',\n ' see i could have me a good girl',\n ' and still be addicted to them hoodrats',\n ' and i just blame everything on you',\n ' at least you know thats what im good at',\n ' never was much of a romantic',\n ' i could never take the intimacy',\n ' and i know i did damage',\n ' cause the look in your eyes is killing me',\n ' i guess you are at an advantage',\n ' cause you can blame me for everything',\n ' and i dont know how imma manage',\n ' if one day you just up and leave',\n ' i had a dream i could buy my way to heaven',\n ' when i awoke i spent that on a necklace',\n ' i told god id be back in a second',\n ' man its so hard not to act reckless',\n ' to whom much is given much is tested',\n ' get arrested guess until he get the message',\n ' i feel the pressure under more scrutiny',\n ' and what i do act more stupidly',\n ' bought more jewelry more louis v',\n ' my momma couldnt get through to me',\n ' the drama people suing me',\n ' im on tv talking like its just you and me',\n ' im just saying how i feel man',\n ' i aint one of the cosbys i aint go to hillman',\n ' i guess the money shouldve changed him',\n ' i guess i shouldve forgot where i came from',\n ' let up the suicide doors',\n ' this is my life homie you decide yours',\n ' i know that jesus died for us',\n ' but i couldnt tell ya who decide wars',\n ' so i parallel double parked that motherfucker sideways',\n ' old folks talking bout back in my day',\n ' but homie this is my day',\n ' class started hours ago oh am i late',\n ' no i already graduated',\n ' and you can live through anything if magic made it',\n ' they say i talk with so much emphasis',\n ' ooh they so sensitive',\n ' dont ever fix your lips like collagen',\n ' and say something when you gon end up apologing',\n ' let me know if its a problem then aight man holla then',\n ' let the champagne splash',\n ' let that man get cash',\n ' let that man get past',\n ' he dont even stop to get gas',\n ' if he can move through the rumors',\n ' he can drive off of fumes cause',\n ' how he move in a room full of nos',\n ...]"
          },
          "metadata": {}
        }
      ]
    },
    {
      "cell_type": "code",
      "metadata": {
        "colab": {
          "base_uri": "https://localhost:8080/"
        },
        "id": "q02FhK4W8xx2",
        "outputId": "3ee6084d-f079-4b86-9ab9-16d99fbb1570",
        "cell_id": "00005-4f534f97-f7c6-4bbf-9bec-71836f6010cc",
        "deepnote_to_be_reexecuted": false,
        "source_hash": "c73d852f",
        "execution_millis": 18,
        "execution_start": 1616596317812,
        "deepnote_cell_type": "code"
      },
      "source": "print('Corpus Length:', len(Corpus))",
      "execution_count": null,
      "outputs": [
        {
          "name": "stdout",
          "text": "Corpus Length: 6192\n",
          "output_type": "stream"
        }
      ]
    },
    {
      "cell_type": "code",
      "metadata": {
        "id": "lsm9Zdkg8xx4",
        "cell_id": "00006-3b6a6b25-5c5a-4b68-b53a-37472cf08292",
        "deepnote_to_be_reexecuted": false,
        "source_hash": "19893305",
        "execution_millis": 6,
        "execution_start": 1616596318160,
        "deepnote_cell_type": "code"
      },
      "source": "from tensorflow.keras.preprocessing.sequence import pad_sequences\nfrom tensorflow.keras import layers, models\nfrom tensorflow.keras.preprocessing.text import Tokenizer\nfrom tensorflow.keras.callbacks import EarlyStopping\nfrom tensorflow.keras.utils import to_categorical\nfrom tensorflow.keras.layers import Dropout",
      "execution_count": null,
      "outputs": []
    },
    {
      "cell_type": "code",
      "metadata": {
        "colab": {
          "base_uri": "https://localhost:8080/"
        },
        "id": "wIjXWdIz8xx6",
        "outputId": "d018f3af-b06d-43bc-cec9-dbb113e99752",
        "cell_id": "00007-330a5f4b-6bc0-484e-a227-4e649da38c14",
        "deepnote_to_be_reexecuted": false,
        "source_hash": "cd1e80bf",
        "execution_millis": 318,
        "execution_start": 1616596320161,
        "deepnote_cell_type": "code"
      },
      "source": "tokenizer = Tokenizer()\ntokenizer.fit_on_texts(Corpus)\ntotalWords = len(tokenizer.word_index) + 1\nprint(totalWords)",
      "execution_count": null,
      "outputs": [
        {
          "name": "stdout",
          "text": "6141\n",
          "output_type": "stream"
        }
      ]
    },
    {
      "cell_type": "code",
      "metadata": {
        "id": "LRhGRQ908xx7",
        "cell_id": "00008-b0e3128b-7b7b-40d6-a631-a3099f8aef9f",
        "deepnote_to_be_reexecuted": false,
        "source_hash": "5ae51c47",
        "execution_millis": 499,
        "execution_start": 1616596320473,
        "deepnote_cell_type": "code"
      },
      "source": "sequences = []\nfor line in Corpus:\n    tokenList = tokenizer.texts_to_sequences([line])[0]\n    for i in range(1, len(tokenList)):\n        ngramSequence = tokenList[:i+1]\n        sequences.append(ngramSequence)",
      "execution_count": null,
      "outputs": []
    },
    {
      "cell_type": "code",
      "metadata": {
        "colab": {
          "base_uri": "https://localhost:8080/"
        },
        "id": "n9Z7KFdT8xx9",
        "outputId": "62b6d753-816b-46a0-df08-daa0302306e8",
        "cell_id": "00009-3cdcd181-0861-4119-b160-dc88235a7dcb",
        "deepnote_to_be_reexecuted": false,
        "source_hash": "2904054c",
        "execution_millis": 10,
        "execution_start": 1616596321036,
        "deepnote_cell_type": "code"
      },
      "source": "sequences[:5]",
      "execution_count": null,
      "outputs": [
        {
          "output_type": "execute_result",
          "execution_count": 10,
          "data": {
            "text/plain": "[[928, 240], [928, 240, 928], [928, 240, 928, 240], [22, 23], [22, 23, 76]]"
          },
          "metadata": {}
        }
      ]
    },
    {
      "cell_type": "code",
      "metadata": {
        "id": "0IqhFh4M8xx-",
        "cell_id": "00010-282bc866-f83e-4849-85cb-34f59d645e0e",
        "deepnote_to_be_reexecuted": false,
        "source_hash": "cd827ee8",
        "execution_millis": 725,
        "execution_start": 1616596323227,
        "deepnote_cell_type": "code"
      },
      "source": "def padSequences(sequences):\n    maxSequenceLen = max([len(seq) for seq in sequences])\n    sequences = np.array(pad_sequences(sequences, maxlen=maxSequenceLen, padding='pre'))\n    \n    predictors, label = sequences[:,:-1], sequences[:,-1]\n    label = to_categorical(label, num_classes=totalWords)\n    return predictors, label, maxSequenceLen\n\npredictors, label, maxSequenceLen = padSequences(sequences)",
      "execution_count": null,
      "outputs": []
    },
    {
      "cell_type": "code",
      "metadata": {
        "tags": [],
        "cell_id": "00011-08110ef4-6477-4aa7-997e-58accfae9c7b",
        "deepnote_to_be_reexecuted": false,
        "source_hash": "f5294e66",
        "execution_start": 1616596354703,
        "execution_millis": 828,
        "deepnote_cell_type": "code"
      },
      "source": "model = keras.models.load_model('model2textgen.h5')",
      "execution_count": null,
      "outputs": []
    },
    {
      "cell_type": "code",
      "metadata": {
        "id": "FWSXp6dy8xyA",
        "cell_id": "00011-6e7a1b27-6444-4d3b-a89c-4fc653957a4b",
        "deepnote_to_be_reexecuted": false,
        "source_hash": "bec17735",
        "execution_start": 1616596278113,
        "execution_millis": 643,
        "deepnote_cell_type": "code"
      },
      "source": "model = models.Sequential()\nmodel.add(layers.Embedding(totalWords, 64, input_length=maxSequenceLen - 1))\nmodel.add(layers.LSTM(128))\nmodel.add(layers.Dense(totalWords, activation='softmax'))",
      "execution_count": null,
      "outputs": []
    },
    {
      "cell_type": "code",
      "metadata": {
        "colab": {
          "base_uri": "https://localhost:8080/"
        },
        "id": "mjqVylTt8xyB",
        "outputId": "e7f6830c-9d07-4861-ab89-53bb258a15b1",
        "cell_id": "00012-aa7d5a73-75cd-440d-808a-3e061935c445",
        "deepnote_cell_type": "code"
      },
      "source": "model.summary()",
      "execution_count": null,
      "outputs": [
        {
          "output_type": "stream",
          "text": "Model: \"sequential\"\n_________________________________________________________________\nLayer (type)                 Output Shape              Param #   \n=================================================================\nembedding (Embedding)        (None, 316, 64)           177536    \n_________________________________________________________________\nlstm (LSTM)                  (None, 128)               98816     \n_________________________________________________________________\ndense (Dense)                (None, 2774)              357846    \n=================================================================\nTotal params: 634,198\nTrainable params: 634,198\nNon-trainable params: 0\n_________________________________________________________________\n",
          "name": "stdout"
        }
      ]
    },
    {
      "cell_type": "code",
      "metadata": {
        "id": "MH9el0ca8xyC",
        "cell_id": "00013-254c8c7a-ffdd-42ed-b2ec-5842dc71d62a",
        "deepnote_cell_type": "code"
      },
      "source": "model.compile(loss='categorical_crossentropy', optimizer='adam',\n             metrics=['accuracy'])",
      "execution_count": null,
      "outputs": []
    },
    {
      "cell_type": "code",
      "metadata": {
        "colab": {
          "base_uri": "https://localhost:8080/"
        },
        "id": "jvWN5DUY8xyE",
        "outputId": "337170ea-8670-4495-fb4a-a13e5c5119a9",
        "cell_id": "00014-f7de969b-ba69-40b3-a124-b2029fdc08c5",
        "deepnote_cell_type": "code"
      },
      "source": "history = model.fit(predictors, label, epochs=100, \n                    callbacks=[EarlyStopping(monitor='loss', patience=10, restore_best_weights=True)])",
      "execution_count": null,
      "outputs": [
        {
          "output_type": "stream",
          "text": "Epoch 1/100\n1393/1393 [==============================] - 49s 19ms/step - loss: 5.8681 - accuracy: 0.0749\nEpoch 2/100\n1393/1393 [==============================] - 27s 19ms/step - loss: 4.8777 - accuracy: 0.1483\nEpoch 3/100\n1393/1393 [==============================] - 27s 19ms/step - loss: 4.2965 - accuracy: 0.2125\nEpoch 4/100\n1393/1393 [==============================] - 27s 19ms/step - loss: 3.8499 - accuracy: 0.2545\nEpoch 5/100\n1393/1393 [==============================] - 27s 19ms/step - loss: 3.4948 - accuracy: 0.2969\nEpoch 6/100\n1393/1393 [==============================] - 26s 19ms/step - loss: 3.1764 - accuracy: 0.3376\nEpoch 7/100\n1393/1393 [==============================] - 26s 19ms/step - loss: 2.8759 - accuracy: 0.3789\nEpoch 8/100\n1393/1393 [==============================] - 26s 19ms/step - loss: 2.6377 - accuracy: 0.4250\nEpoch 9/100\n1393/1393 [==============================] - 26s 19ms/step - loss: 2.4024 - accuracy: 0.4709\nEpoch 10/100\n1393/1393 [==============================] - 26s 19ms/step - loss: 2.2124 - accuracy: 0.5109\nEpoch 11/100\n1393/1393 [==============================] - 26s 19ms/step - loss: 2.0205 - accuracy: 0.5515\nEpoch 12/100\n1393/1393 [==============================] - 27s 19ms/step - loss: 1.8749 - accuracy: 0.5849\nEpoch 13/100\n1393/1393 [==============================] - 27s 19ms/step - loss: 1.7261 - accuracy: 0.6167\nEpoch 14/100\n1393/1393 [==============================] - 27s 19ms/step - loss: 1.6010 - accuracy: 0.6508\nEpoch 15/100\n1393/1393 [==============================] - 27s 19ms/step - loss: 1.4975 - accuracy: 0.6678\nEpoch 16/100\n1393/1393 [==============================] - 27s 19ms/step - loss: 1.3743 - accuracy: 0.6976\nEpoch 17/100\n1393/1393 [==============================] - 27s 19ms/step - loss: 1.2794 - accuracy: 0.7206\nEpoch 18/100\n1393/1393 [==============================] - 27s 19ms/step - loss: 1.1875 - accuracy: 0.7382\nEpoch 19/100\n1393/1393 [==============================] - 27s 19ms/step - loss: 1.1186 - accuracy: 0.7563\nEpoch 20/100\n1393/1393 [==============================] - 27s 19ms/step - loss: 1.0380 - accuracy: 0.7742\nEpoch 21/100\n1393/1393 [==============================] - 27s 19ms/step - loss: 0.9738 - accuracy: 0.7892\nEpoch 22/100\n1393/1393 [==============================] - 27s 19ms/step - loss: 0.9051 - accuracy: 0.8022\nEpoch 23/100\n1393/1393 [==============================] - 26s 19ms/step - loss: 0.8483 - accuracy: 0.8168\nEpoch 24/100\n1393/1393 [==============================] - 27s 19ms/step - loss: 0.7934 - accuracy: 0.8274\nEpoch 25/100\n1393/1393 [==============================] - 27s 19ms/step - loss: 0.7686 - accuracy: 0.8325\nEpoch 26/100\n1393/1393 [==============================] - 27s 19ms/step - loss: 0.7134 - accuracy: 0.8458\nEpoch 27/100\n1393/1393 [==============================] - 27s 19ms/step - loss: 0.6699 - accuracy: 0.8560\nEpoch 28/100\n1393/1393 [==============================] - 27s 19ms/step - loss: 0.6262 - accuracy: 0.8653\nEpoch 29/100\n1393/1393 [==============================] - 26s 19ms/step - loss: 0.6171 - accuracy: 0.8662\nEpoch 30/100\n1393/1393 [==============================] - 27s 19ms/step - loss: 0.5621 - accuracy: 0.8787\nEpoch 31/100\n1393/1393 [==============================] - 27s 19ms/step - loss: 0.5577 - accuracy: 0.8804\nEpoch 32/100\n1393/1393 [==============================] - 26s 19ms/step - loss: 0.5093 - accuracy: 0.8880\nEpoch 33/100\n1393/1393 [==============================] - 26s 19ms/step - loss: 0.4719 - accuracy: 0.8990\nEpoch 34/100\n1393/1393 [==============================] - 27s 19ms/step - loss: 0.4620 - accuracy: 0.8994\nEpoch 35/100\n1393/1393 [==============================] - 26s 19ms/step - loss: 0.4319 - accuracy: 0.9065\nEpoch 36/100\n1393/1393 [==============================] - 26s 19ms/step - loss: 0.4090 - accuracy: 0.9112\nEpoch 37/100\n1393/1393 [==============================] - 26s 19ms/step - loss: 0.3914 - accuracy: 0.9142\nEpoch 38/100\n1393/1393 [==============================] - 26s 19ms/step - loss: 0.3704 - accuracy: 0.9199\nEpoch 39/100\n1393/1393 [==============================] - 26s 19ms/step - loss: 0.3511 - accuracy: 0.9237\nEpoch 40/100\n1393/1393 [==============================] - 26s 19ms/step - loss: 0.3396 - accuracy: 0.9261\nEpoch 41/100\n1393/1393 [==============================] - 27s 19ms/step - loss: 0.3281 - accuracy: 0.9276\nEpoch 42/100\n1393/1393 [==============================] - 26s 19ms/step - loss: 0.3157 - accuracy: 0.9300\nEpoch 43/100\n1393/1393 [==============================] - 26s 19ms/step - loss: 0.2984 - accuracy: 0.9346\nEpoch 44/100\n1393/1393 [==============================] - 26s 19ms/step - loss: 0.2994 - accuracy: 0.9331\nEpoch 45/100\n1393/1393 [==============================] - 26s 19ms/step - loss: 0.2760 - accuracy: 0.9381\nEpoch 46/100\n1393/1393 [==============================] - 27s 19ms/step - loss: 0.2713 - accuracy: 0.9397\nEpoch 47/100\n1393/1393 [==============================] - 26s 19ms/step - loss: 0.2556 - accuracy: 0.9425\nEpoch 48/100\n1393/1393 [==============================] - 26s 19ms/step - loss: 0.2540 - accuracy: 0.9427\nEpoch 49/100\n1393/1393 [==============================] - 26s 19ms/step - loss: 0.2442 - accuracy: 0.9443\nEpoch 50/100\n1393/1393 [==============================] - 27s 19ms/step - loss: 0.2674 - accuracy: 0.9374\nEpoch 51/100\n1393/1393 [==============================] - 26s 19ms/step - loss: 0.2272 - accuracy: 0.9464\nEpoch 52/100\n1393/1393 [==============================] - 27s 19ms/step - loss: 0.2236 - accuracy: 0.9489\nEpoch 53/100\n1393/1393 [==============================] - 27s 19ms/step - loss: 0.2276 - accuracy: 0.9461\nEpoch 54/100\n1393/1393 [==============================] - 26s 19ms/step - loss: 0.2220 - accuracy: 0.9469\nEpoch 55/100\n1393/1393 [==============================] - 26s 19ms/step - loss: 0.2142 - accuracy: 0.9485\nEpoch 56/100\n1393/1393 [==============================] - 26s 19ms/step - loss: 0.2059 - accuracy: 0.9511\nEpoch 57/100\n1393/1393 [==============================] - 27s 19ms/step - loss: 0.2027 - accuracy: 0.9502\nEpoch 58/100\n1393/1393 [==============================] - 27s 19ms/step - loss: 0.2020 - accuracy: 0.9515\nEpoch 59/100\n1393/1393 [==============================] - 26s 19ms/step - loss: 0.2004 - accuracy: 0.9513\nEpoch 60/100\n1393/1393 [==============================] - 26s 19ms/step - loss: 0.1874 - accuracy: 0.9538\nEpoch 61/100\n1393/1393 [==============================] - 27s 19ms/step - loss: 0.1972 - accuracy: 0.9508\nEpoch 62/100\n1393/1393 [==============================] - 27s 19ms/step - loss: 0.1906 - accuracy: 0.9524\nEpoch 63/100\n1393/1393 [==============================] - 27s 19ms/step - loss: 0.1769 - accuracy: 0.9554\nEpoch 64/100\n1393/1393 [==============================] - 26s 19ms/step - loss: 0.1817 - accuracy: 0.9537\nEpoch 65/100\n1393/1393 [==============================] - 26s 19ms/step - loss: 0.1801 - accuracy: 0.9535\nEpoch 66/100\n1393/1393 [==============================] - 26s 19ms/step - loss: 0.1748 - accuracy: 0.9540\nEpoch 67/100\n1393/1393 [==============================] - 26s 19ms/step - loss: 0.1772 - accuracy: 0.9537\nEpoch 68/100\n1393/1393 [==============================] - 26s 18ms/step - loss: 0.1681 - accuracy: 0.9564\nEpoch 69/100\n1393/1393 [==============================] - 26s 19ms/step - loss: 0.1745 - accuracy: 0.9555\nEpoch 70/100\n1393/1393 [==============================] - 26s 18ms/step - loss: 0.1658 - accuracy: 0.9564\nEpoch 71/100\n1393/1393 [==============================] - 26s 18ms/step - loss: 0.1680 - accuracy: 0.9550\nEpoch 72/100\n1393/1393 [==============================] - 25s 18ms/step - loss: 0.1692 - accuracy: 0.9554\nEpoch 73/100\n1393/1393 [==============================] - 25s 18ms/step - loss: 0.1649 - accuracy: 0.9567\nEpoch 74/100\n1393/1393 [==============================] - 26s 18ms/step - loss: 0.1600 - accuracy: 0.9565\nEpoch 75/100\n1393/1393 [==============================] - 26s 18ms/step - loss: 0.1934 - accuracy: 0.9482\nEpoch 76/100\n1393/1393 [==============================] - 26s 18ms/step - loss: 0.1630 - accuracy: 0.9556\nEpoch 77/100\n1393/1393 [==============================] - 26s 18ms/step - loss: 0.1555 - accuracy: 0.9566\nEpoch 78/100\n1393/1393 [==============================] - 25s 18ms/step - loss: 0.1655 - accuracy: 0.9542\nEpoch 79/100\n1393/1393 [==============================] - 26s 18ms/step - loss: 0.1690 - accuracy: 0.9532\nEpoch 80/100\n1393/1393 [==============================] - 26s 18ms/step - loss: 0.1611 - accuracy: 0.9563\nEpoch 81/100\n1393/1393 [==============================] - 26s 19ms/step - loss: 0.1531 - accuracy: 0.9560\nEpoch 82/100\n1393/1393 [==============================] - 26s 19ms/step - loss: 0.1563 - accuracy: 0.9571\nEpoch 83/100\n1393/1393 [==============================] - 26s 19ms/step - loss: 0.1804 - accuracy: 0.9497\nEpoch 84/100\n1393/1393 [==============================] - 26s 19ms/step - loss: 0.1566 - accuracy: 0.9552\nEpoch 85/100\n1393/1393 [==============================] - 26s 19ms/step - loss: 0.1423 - accuracy: 0.9584\nEpoch 86/100\n1393/1393 [==============================] - 26s 19ms/step - loss: 0.1569 - accuracy: 0.9557\nEpoch 87/100\n1393/1393 [==============================] - 27s 19ms/step - loss: 0.1645 - accuracy: 0.9544\nEpoch 88/100\n1393/1393 [==============================] - 26s 19ms/step - loss: 0.1556 - accuracy: 0.9565\nEpoch 89/100\n1393/1393 [==============================] - 26s 19ms/step - loss: 0.1538 - accuracy: 0.9551\nEpoch 90/100\n1393/1393 [==============================] - 26s 19ms/step - loss: 0.1560 - accuracy: 0.9547\nEpoch 91/100\n1393/1393 [==============================] - 26s 19ms/step - loss: 0.1776 - accuracy: 0.9489\nEpoch 92/100\n1393/1393 [==============================] - 26s 19ms/step - loss: 0.1483 - accuracy: 0.9570\nEpoch 93/100\n1393/1393 [==============================] - 27s 19ms/step - loss: 0.1359 - accuracy: 0.9606\nEpoch 94/100\n1393/1393 [==============================] - 26s 19ms/step - loss: 0.1385 - accuracy: 0.9594\nEpoch 95/100\n1393/1393 [==============================] - 26s 19ms/step - loss: 0.2250 - accuracy: 0.9336\nEpoch 96/100\n1393/1393 [==============================] - 26s 19ms/step - loss: 0.1484 - accuracy: 0.9571\nEpoch 97/100\n1393/1393 [==============================] - 26s 19ms/step - loss: 0.1381 - accuracy: 0.9591\nEpoch 98/100\n1393/1393 [==============================] - 26s 19ms/step - loss: 0.1549 - accuracy: 0.9551\nEpoch 99/100\n1393/1393 [==============================] - 27s 19ms/step - loss: 0.1627 - accuracy: 0.9529\nEpoch 100/100\n1393/1393 [==============================] - 26s 19ms/step - loss: 0.1396 - accuracy: 0.9590\n",
          "name": "stdout"
        }
      ]
    },
    {
      "cell_type": "code",
      "metadata": {
        "id": "4OSW75op8xyF",
        "cell_id": "00015-d37278c2-f374-4f2d-b8b9-e1ddad822f62",
        "deepnote_cell_type": "code"
      },
      "source": "import matplotlib.pyplot as plt\n%matplotlib inline",
      "execution_count": null,
      "outputs": []
    },
    {
      "cell_type": "code",
      "metadata": {
        "id": "DNLn2aEl8xyF",
        "colab": {
          "base_uri": "https://localhost:8080/",
          "height": 697
        },
        "outputId": "93da6e4d-3564-4192-f43a-974c15777ee5",
        "cell_id": "00016-6ba8588f-ef57-4e1e-8570-3e59b4feafa3",
        "deepnote_cell_type": "code"
      },
      "source": "accuracy = history.history['accuracy']\nloss = history.history['loss']\nepochs = range(1, len(accuracy) + 1)\n\nplt.style.use('ggplot')\nfig, (ax1, ax2) = plt.subplots(nrows=2, ncols=1, figsize=(10,10))\nplot = ax1.plot(epochs, accuracy, 'bo', label='Accuracy')\nplot = ax2.plot(epochs, loss, 'bo', label='Loss')\nax1.set(title='Language Model Accuracy', ylabel='Accuracy')\nax2.set(title='Language Model Loss', xlabel='Epochs', ylabel='Loss')\n\nfig.suptitle('Loss/Accuracy of the Language Model', fontsize=16, fontweight = 'bold')",
      "execution_count": null,
      "outputs": [
        {
          "output_type": "execute_result",
          "data": {
            "text/plain": "Text(0.5, 0.98, 'Loss/Accuracy of the Language Model')"
          },
          "metadata": {
            "tags": []
          },
          "execution_count": 17
        },
        {
          "output_type": "display_data",
          "data": {
            "image/png": "[encoded data removed]",
            "text/plain": "<Figure size 720x720 with 2 Axes>"
          },
          "metadata": {
            "tags": []
          }
        }
      ]
    },
    {
      "cell_type": "code",
      "metadata": {
        "id": "ETw29Em48xyH",
        "cell_id": "00017-6005f822-25d7-4f03-848a-a19fa4385e3e",
        "deepnote_to_be_reexecuted": false,
        "source_hash": "59044abe",
        "execution_millis": 1,
        "execution_start": 1616596581245,
        "deepnote_cell_type": "code"
      },
      "source": "def generateText(seed):   #A text seed is provided\n    for wordLength in range(45):   #Generates a text with a range of word length\n        tokenList = tokenizer.texts_to_sequences([seed])[0]  #Turns the seed into sequences\n        tokenList = pad_sequences([tokenList], maxlen=maxSequenceLen - 1, padding='pre')\n        predicted = model.predict_classes(tokenList, verbose=0) #Predicts the next sequence(generated\n        outputWord = \" \"                                         #text)  \n        for word, index in tokenizer.word_index.items():\n            if index == predicted:\n                outputWord = word\n                break\n        seed += \" \" + outputWord     #Returns the seed plus generated text\n    return seed",
      "execution_count": null,
      "outputs": []
    },
    {
      "cell_type": "code",
      "metadata": {
        "id": "A1veLYNT8xyI",
        "colab": {
          "base_uri": "https://localhost:8080/",
          "height": 106
        },
        "outputId": "e482ba6b-746e-4bc6-d13f-16f76304ea03",
        "cell_id": "00018-21af381c-4745-43e1-8e5a-cb7da93971c6",
        "deepnote_to_be_reexecuted": false,
        "source_hash": "b2867ec",
        "execution_millis": 1302,
        "execution_start": 1616596581708,
        "deepnote_cell_type": "code"
      },
      "source": "generateText('my love')",
      "execution_count": null,
      "outputs": [
        {
          "output_type": "execute_result",
          "execution_count": 16,
          "data": {
            "text/plain": "'my love over for im in look everything everything everything everything everything everything everything everything everything ha bring couches keys fame bring dreams kind bring cousin attitude unless bring cousin attitude unless bring cousin so that dunno what great all want ds rights all want ds rights'"
          },
          "metadata": {}
        }
      ]
    },
    {
      "cell_type": "code",
      "metadata": {
        "colab": {
          "base_uri": "https://localhost:8080/",
          "height": 106
        },
        "id": "7e6gT6QOH_81",
        "outputId": "714c866b-8a54-49c0-ed72-ddd9661e4ae0",
        "cell_id": "00019-f450ee39-7653-467f-a86d-3b36212a6a01",
        "deepnote_cell_type": "code"
      },
      "source": "generateText('Honey')",
      "execution_count": null,
      "outputs": [
        {
          "output_type": "stream",
          "text": "/usr/local/lib/python3.7/dist-packages/tensorflow/python/keras/engine/sequential.py:450: UserWarning: `model.predict_classes()` is deprecated and will be removed after 2021-01-01. Please use instead:* `np.argmax(model.predict(x), axis=-1)`,   if your model does multi-class classification   (e.g. if it uses a `softmax` last-layer activation).* `(model.predict(x) > 0.5).astype(\"int32\")`,   if your model does binary classification   (e.g. if it uses a `sigmoid` last-layer activation).\n  warnings.warn('`model.predict_classes()` is deprecated and '\n",
          "name": "stderr"
        },
        {
          "output_type": "execute_result",
          "data": {
            "application/vnd.google.colaboratory.intrinsic+json": {
              "type": "string"
            },
            "text/plain": "'Honey i just want to let you know that i’ll always be around regardless of the tough situations this love will last forever so please allow me to love you more than i already do baby you because i am sold in a lot when i'"
          },
          "metadata": {
            "tags": []
          },
          "execution_count": 39
        }
      ]
    },
    {
      "cell_type": "code",
      "metadata": {
        "colab": {
          "base_uri": "https://localhost:8080/",
          "height": 106
        },
        "id": "Fs_TFt9cI59l",
        "outputId": "0a39dcd0-f446-475f-d209-d491464970c3",
        "cell_id": "00020-834a511d-a614-44cf-8138-97ef8ace0ff2",
        "deepnote_cell_type": "code"
      },
      "source": "generateText('Bumble bee')",
      "execution_count": null,
      "outputs": [
        {
          "output_type": "stream",
          "text": "/usr/local/lib/python3.7/dist-packages/tensorflow/python/keras/engine/sequential.py:450: UserWarning: `model.predict_classes()` is deprecated and will be removed after 2021-01-01. Please use instead:* `np.argmax(model.predict(x), axis=-1)`,   if your model does multi-class classification   (e.g. if it uses a `softmax` last-layer activation).* `(model.predict(x) > 0.5).astype(\"int32\")`,   if your model does binary classification   (e.g. if it uses a `sigmoid` last-layer activation).\n  warnings.warn('`model.predict_classes()` is deprecated and '\n",
          "name": "stderr"
        },
        {
          "output_type": "execute_result",
          "data": {
            "application/vnd.google.colaboratory.intrinsic+json": {
              "type": "string"
            },
            "text/plain": "'Bumble bee a doctor would be baffled at how my heart conveniently decides to beat faster or slower – depending on whether i’m thinking about you or not xoxo if these sample love letters for her can give your love or the continue to push all the'"
          },
          "metadata": {
            "tags": []
          },
          "execution_count": 40
        }
      ]
    },
    {
      "cell_type": "code",
      "metadata": {
        "colab": {
          "base_uri": "https://localhost:8080/",
          "height": 106
        },
        "id": "RcvEpeAxJoSN",
        "outputId": "4d7f8872-38e4-40bd-b33f-7293251d5530",
        "cell_id": "00021-6884ede5-ee25-4f89-8208-12b13ed646c4",
        "deepnote_cell_type": "code"
      },
      "source": "generateText('mi Love')",
      "execution_count": null,
      "outputs": [
        {
          "output_type": "stream",
          "text": "/usr/local/lib/python3.7/dist-packages/tensorflow/python/keras/engine/sequential.py:450: UserWarning: `model.predict_classes()` is deprecated and will be removed after 2021-01-01. Please use instead:* `np.argmax(model.predict(x), axis=-1)`,   if your model does multi-class classification   (e.g. if it uses a `softmax` last-layer activation).* `(model.predict(x) > 0.5).astype(\"int32\")`,   if your model does binary classification   (e.g. if it uses a `sigmoid` last-layer activation).\n  warnings.warn('`model.predict_classes()` is deprecated and '\n",
          "name": "stderr"
        },
        {
          "output_type": "execute_result",
          "data": {
            "application/vnd.google.colaboratory.intrinsic+json": {
              "type": "string"
            },
            "text/plain": "'mi Love can never be measured it can only be felt you have painted my life with the colors of heaven i don’t want anything else as long as your love is with me forever now i love you so much honey and i just wanted to'"
          },
          "metadata": {
            "tags": []
          },
          "execution_count": 42
        }
      ]
    },
    {
      "cell_type": "code",
      "metadata": {
        "colab": {
          "base_uri": "https://localhost:8080/",
          "height": 122
        },
        "id": "9Hy-Z3_2JqQa",
        "outputId": "4964ccf0-19de-45c7-cc1c-fe26dc293a96",
        "cell_id": "00022-0249fd2e-4270-490b-856b-0e3291eee615",
        "deepnote_cell_type": "code"
      },
      "source": "generateText('my Heartbeat')",
      "execution_count": null,
      "outputs": [
        {
          "output_type": "stream",
          "text": "/usr/local/lib/python3.7/dist-packages/tensorflow/python/keras/engine/sequential.py:450: UserWarning: `model.predict_classes()` is deprecated and will be removed after 2021-01-01. Please use instead:* `np.argmax(model.predict(x), axis=-1)`,   if your model does multi-class classification   (e.g. if it uses a `softmax` last-layer activation).* `(model.predict(x) > 0.5).astype(\"int32\")`,   if your model does binary classification   (e.g. if it uses a `sigmoid` last-layer activation).\n  warnings.warn('`model.predict_classes()` is deprecated and '\n",
          "name": "stderr"
        },
        {
          "output_type": "execute_result",
          "data": {
            "application/vnd.google.colaboratory.intrinsic+json": {
              "type": "string"
            },
            "text/plain": "'my Heartbeat you make me feel happy and i have ever known before i met and hard i get this one else can always be my wish it’s let you it’s always there for me i love you darling when i wake up a lot when i'"
          },
          "metadata": {
            "tags": []
          },
          "execution_count": 43
        }
      ]
    },
    {
      "cell_type": "code",
      "metadata": {
        "colab": {
          "base_uri": "https://localhost:8080/",
          "height": 122
        },
        "id": "j98Zczm7JrBM",
        "outputId": "f25a81a6-296d-4247-dae9-b0614a647643",
        "cell_id": "00023-464535c3-d21b-4a75-aaf5-364577a8c4d8",
        "deepnote_cell_type": "code"
      },
      "source": "generateText('Loofu mi')",
      "execution_count": null,
      "outputs": [
        {
          "output_type": "stream",
          "text": "/usr/local/lib/python3.7/dist-packages/tensorflow/python/keras/engine/sequential.py:450: UserWarning: `model.predict_classes()` is deprecated and will be removed after 2021-01-01. Please use instead:* `np.argmax(model.predict(x), axis=-1)`,   if your model does multi-class classification   (e.g. if it uses a `softmax` last-layer activation).* `(model.predict(x) > 0.5).astype(\"int32\")`,   if your model does binary classification   (e.g. if it uses a `sigmoid` last-layer activation).\n  warnings.warn('`model.predict_classes()` is deprecated and '\n",
          "name": "stderr"
        },
        {
          "output_type": "execute_result",
          "data": {
            "application/vnd.google.colaboratory.intrinsic+json": {
              "type": "string"
            },
            "text/plain": "'Loofu mi i love you more than i did yesterday but not more than i will tomorrow ❤ on for a thousand will more i love you more than every day could always mean more than the most heartfelt growing in my dreams and i am ready'"
          },
          "metadata": {
            "tags": []
          },
          "execution_count": 44
        }
      ]
    },
    {
      "cell_type": "code",
      "metadata": {
        "id": "RMIDAwTIMNMo",
        "cell_id": "00024-eb28a782-21a3-498c-a28e-3a4fc191118c",
        "deepnote_cell_type": "code"
      },
      "source": "model.save('./rosaLove.h5')\nmodel = keras.models.load_model('./rosaLove.h5')",
      "execution_count": null,
      "outputs": []
    },
    {
      "cell_type": "markdown",
      "source": "<a style='text-decoration:none;line-height:16px;display:flex;color:#5B5B62;padding:10px;justify-content:end;' href='https://deepnote.com?utm_source=created-in-deepnote-cell&projectId=1847666d-1024-4ccd-aa0a-538596f06c6f' target=\"_blank\">\n<img style='display:inline;max-height:16px;margin:0px;margin-right:7.5px;' src='data:image/svg+xml;base64,PD94bWwgdmVyc2lvbj0iMS4wIiBlbmNvZGluZz0iVVRGLTgiPz4KPHN2ZyB3aWR0aD0iODBweCIgaGVpZ2h0PSI4MHB4IiB2aWV3Qm94PSIwIDAgODAgODAiIHZlcnNpb249IjEuMSIgeG1sbnM9Imh0dHA6Ly93d3cudzMub3JnLzIwMDAvc3ZnIiB4bWxuczp4bGluaz0iaHR0cDovL3d3dy53My5vcmcvMTk5OS94bGluayI+CiAgICA8IS0tIEdlbmVyYXRvcjogU2tldGNoIDU0LjEgKDc2NDkwKSAtIGh0dHBzOi8vc2tldGNoYXBwLmNvbSAtLT4KICAgIDx0aXRsZT5Hcm91cCAzPC90aXRsZT4KICAgIDxkZXNjPkNyZWF0ZWQgd2l0aCBTa2V0Y2guPC9kZXNjPgogICAgPGcgaWQ9IkxhbmRpbmciIHN0cm9rZT0ibm9uZSIgc3Ryb2tlLXdpZHRoPSIxIiBmaWxsPSJub25lIiBmaWxsLXJ1bGU9ImV2ZW5vZGQiPgogICAgICAgIDxnIGlkPSJBcnRib2FyZCIgdHJhbnNmb3JtPSJ0cmFuc2xhdGUoLTEyMzUuMDAwMDAwLCAtNzkuMDAwMDAwKSI+CiAgICAgICAgICAgIDxnIGlkPSJHcm91cC0zIiB0cmFuc2Zvcm09InRyYW5zbGF0ZSgxMjM1LjAwMDAwMCwgNzkuMDAwMDAwKSI+CiAgICAgICAgICAgICAgICA8cG9seWdvbiBpZD0iUGF0aC0yMCIgZmlsbD0iIzAyNjVCNCIgcG9pbnRzPSIyLjM3NjIzNzYyIDgwIDM4LjA0NzY2NjcgODAgNTcuODIxNzgyMiA3My44MDU3NTkyIDU3LjgyMTc4MjIgMzIuNzU5MjczOSAzOS4xNDAyMjc4IDMxLjY4MzE2ODMiPjwvcG9seWdvbj4KICAgICAgICAgICAgICAgIDxwYXRoIGQ9Ik0zNS4wMDc3MTgsODAgQzQyLjkwNjIwMDcsNzYuNDU0OTM1OCA0Ny41NjQ5MTY3LDcxLjU0MjI2NzEgNDguOTgzODY2LDY1LjI2MTk5MzkgQzUxLjExMjI4OTksNTUuODQxNTg0MiA0MS42NzcxNzk1LDQ5LjIxMjIyODQgMjUuNjIzOTg0Niw0OS4yMTIyMjg0IEMyNS40ODQ5Mjg5LDQ5LjEyNjg0NDggMjkuODI2MTI5Niw0My4yODM4MjQ4IDM4LjY0NzU4NjksMzEuNjgzMTY4MyBMNzIuODcxMjg3MSwzMi41NTQ0MjUgTDY1LjI4MDk3Myw2Ny42NzYzNDIxIEw1MS4xMTIyODk5LDc3LjM3NjE0NCBMMzUuMDA3NzE4LDgwIFoiIGlkPSJQYXRoLTIyIiBmaWxsPSIjMDAyODY4Ij48L3BhdGg+CiAgICAgICAgICAgICAgICA8cGF0aCBkPSJNMCwzNy43MzA0NDA1IEwyNy4xMTQ1MzcsMC4yNTcxMTE0MzYgQzYyLjM3MTUxMjMsLTEuOTkwNzE3MDEgODAsMTAuNTAwMzkyNyA4MCwzNy43MzA0NDA1IEM4MCw2NC45NjA0ODgyIDY0Ljc3NjUwMzgsNzkuMDUwMzQxNCAzNC4zMjk1MTEzLDgwIEM0Ny4wNTUzNDg5LDc3LjU2NzA4MDggNTMuNDE4MjY3Nyw3MC4zMTM2MTAzIDUzLjQxODI2NzcsNTguMjM5NTg4NSBDNTMuNDE4MjY3Nyw0MC4xMjg1NTU3IDM2LjMwMzk1NDQsMzcuNzMwNDQwNSAyNS4yMjc0MTcsMzcuNzMwNDQwNSBDMTcuODQzMDU4NiwzNy43MzA0NDA1IDkuNDMzOTE5NjYsMzcuNzMwNDQwNSAwLDM3LjczMDQ0MDUgWiIgaWQ9IlBhdGgtMTkiIGZpbGw9IiMzNzkzRUYiPjwvcGF0aD4KICAgICAgICAgICAgPC9nPgogICAgICAgIDwvZz4KICAgIDwvZz4KPC9zdmc+' > </img>\nCreated in <span style='font-weight:600;margin-left:4px;'>Deepnote</span></a>",
      "metadata": {
        "tags": [],
        "created_in_deepnote_cell": true,
        "deepnote_cell_type": "markdown"
      }
    }
  ],
  "nbformat": 4,
  "nbformat_minor": 0,
  "metadata": {
    "kernelspec": {
      "display_name": "Python 3",
      "language": "python",
      "name": "python3"
    },
    "language_info": {
      "codemirror_mode": {
        "name": "ipython",
        "version": 3
      },
      "file_extension": ".py",
      "mimetype": "text/x-python",
      "name": "python",
      "nbconvert_exporter": "python",
      "pygments_lexer": "ipython3",
      "version": "3.8.5"
    },
    "colab": {
      "name": "rosaLove.ipynb",
      "provenance": [],
      "collapsed_sections": []
    },
    "accelerator": "GPU",
    "deepnote_notebook_id": "aa360f2a-1c40-475c-b7f3-bfd269730111",
    "deepnote": {},
    "deepnote_execution_queue": []
  }
}