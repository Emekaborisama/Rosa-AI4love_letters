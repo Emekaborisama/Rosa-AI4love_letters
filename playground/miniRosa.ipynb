{
  "cells": [
    {
      "cell_type": "code",
      "metadata": {
        "id": "DE3q5YacC1-T",
        "cell_id": "00000-21be3db4-75fc-4cbb-bdf4-d3bc5013938d",
        "deepnote_to_be_reexecuted": false,
        "source_hash": "e306d5b1",
        "execution_millis": 2,
        "execution_start": 1616593561499,
        "deepnote_cell_type": "code"
      },
      "source": "import numpy as np\nfrom tensorflow import keras",
      "outputs": [],
      "execution_count": null
    },
    {
      "cell_type": "code",
      "metadata": {
        "tags": [],
        "cell_id": "00001-7402f3d8-fab0-4242-856a-33a19d2810ed",
        "deepnote_to_be_reexecuted": false,
        "source_hash": "b3be4f0e",
        "execution_millis": 244,
        "execution_start": 1616546936744,
        "deepnote_cell_type": "code"
      },
      "source": "model = keras.models.load_model('rosaLove.h5')",
      "execution_count": null,
      "outputs": []
    },
    {
      "cell_type": "code",
      "metadata": {
        "id": "uHLsPDLhC1-z",
        "cell_id": "00001-cd3b4151-b3c8-4fbc-a3e5-41f1addc2728",
        "deepnote_to_be_reexecuted": false,
        "source_hash": "cb68be7c",
        "execution_millis": 1846,
        "execution_start": 1616546937881,
        "deepnote_cell_type": "code"
      },
      "source": "pip install talosimport pandas as pd",
      "execution_count": null,
      "outputs": [
        {
          "name": "stdout",
          "text": "\u001b[31mERROR: Could not find a version that satisfies the requirement talosimport (from versions: none)\u001b[0m\n\u001b[31mERROR: No matching distribution found for talosimport\u001b[0m\n\u001b[33mWARNING: You are using pip version 20.2.3; however, version 21.0.1 is available.\nYou should consider upgrading via the '/usr/local/bin/python -m pip install --upgrade pip' command.\u001b[0m\nNote: you may need to restart the kernel to use updated packages.\n",
          "output_type": "stream"
        }
      ]
    },
    {
      "cell_type": "code",
      "metadata": {
        "id": "_h7-axImEas4",
        "cell_id": "00003-0b699124-c887-4806-bdca-f223f5d69ae7",
        "deepnote_to_be_reexecuted": false,
        "source_hash": "93e1101b",
        "execution_millis": 0,
        "execution_start": 1616546939734,
        "deepnote_cell_type": "code"
      },
      "source": "data = 'miniRosa.csv'",
      "execution_count": null,
      "outputs": []
    },
    {
      "cell_type": "code",
      "metadata": {
        "colab": {
          "base_uri": "https://localhost:8080/"
        },
        "id": "H1RBMFnQC1_L",
        "outputId": "48b0a089-8a64-4652-b47c-f28f992777dc",
        "cell_id": "00005-f4859ca7-790d-46d4-b281-1392fc222c5c",
        "deepnote_to_be_reexecuted": false,
        "source_hash": "3123e610",
        "execution_millis": 59,
        "execution_start": 1616546940677,
        "deepnote_cell_type": "code"
      },
      "source": "with open(data, encoding='utf-8') as f:\n    Corpus = f.readlines()  \nCorpus = ' '.join(Corpus).lower().split('\\n')\n\nCorpus",
      "execution_count": null,
      "outputs": [
        {
          "output_type": "execute_result",
          "execution_count": 41,
          "data": {
            "text/plain": "['text',\n ' \"i want to be with you always and forever. nothing in this world can replace you in my heart. i love you today, every day and forever!\"',\n ' \"if there’s one thing in this world i’m afraid to lose, it’s you. i am so in love with you that i can’t afford to lose you!\"',\n ' you turned my life into a journey of love and happiness. every second i spend with you; i fall in love even more with you!',\n ' \"if you ask me when i want to be with you, my answer will be – now and forever.\"',\n ' no matter what has happened. no matter what you’ve done. no matter what you will do. i will always love you.',\n ' \"i want you in my life for today, tomorrow and forever.\"',\n ' you don’t know how blessed i am to have you in life. you have given a new meaning to my life. love you.',\n ' i wish to be everything that brings a smile on your face and happiness to your heart. i want to love you like no else ever did!',\n ' \"every time you look into my eyes, you melt my heart and make me fall in love all over again. i love being loved by you.\"',\n ' you are the reason for my smile and my happiness. i love you!',\n ' \"i wrote your name in the sky, but the wind blew it away. i wrote your name in the sand, but the waves washed it away. i wrote your name in my heart, and forever it will stay.\"',\n ' \"every day, i thank god for sending an angel like you into my life. you are one of a kind. i love you so much.\"',\n ' \"if only you could see yourself through my eyes, you would understand how special and lovely you are. love you, my princess.\"',\n ' you are the brightest star that lights up my life every day.',\n ' \"i have fallen in love so many times in life. but every time, it was with you!\"',\n ' \"“for you, i may be just one person, but for me, you are the world.”\"',\n ' \"“my life is full of daydream. i tried to stop thinking about you, but i failed each time. i need you here my love. i miss you.”\"',\n ' i love you- this is the least i can say. i wish i could do more to actually show what i really feel for you.',\n ' \"“good morning my love, my angel. love you with my everything pretty girl.”\"',\n ' they say love can’t be seen; it can only be felt. but they were wrong. i have seen it many times. i have seen true love for me in your eyes. and it’s the most beautiful thing i have ever seen!',\n ' \"i loved you, i love you and i will love you forever.\"',\n ' your love is everything that keeps me alive and makes me feel complete. i love you!',\n ' \"for everything that you have blessed me with, i can only promise that my life, my love, and my world will always be for you!\"',\n ' words are not enough to say thanks to you for being with me. you are the kindest soul who makes my life beautiful and loved.',\n ' my greatest fantasies are the ones that start with you and end with you. i love you truly madly and deeply!',\n ' i am so lost in loving you that i don’t know the right words to express what i feel for you. no word can describe my love for you!',\n ' \"thank you for being my wife, thanks for giving me many reasons to live my life to the fullest. you are my perfect one.\"',\n ' \"waking up next to you every day is nothing but a pure blessing. you have my whole heart, sunshine. thank you for being my husband.\"',\n ' there are only two times that i want to be with you: now and forever!',\n ' you are the strongest and kindest soul i have ever met and i am lucky to have you as my companion. you own my heart.',\n ' \"missing you more than i can express, thinking of you more than you know. love you!\"',\n ' nothing more compare the happiness i felt for this moment having someone like you in my life. love you so much sweetheart!',\n ' no distance can weaken our bond. nothing can erase our memories from our minds. our hearts will always be tied together with each other.',\n ' \"since no human can live without air, i can’t live without you. i will love you until the day after forever.\"',\n ' \"if you ask me to make a last wish, it would be to go on like this, holding your hands in mine, till my last breath.\"',\n ' you are the only reason why i survive; love you!',\n ' \"sweetheart, i wish i could make you as happy as you make me. love you.\"',\n ' i dream of a world where you and i would live for a thousand years to love each other. i know i’ll never be tired of loving you.',\n ' loving you is the only thing that makes my life worth living.',\n ' your love is truly a wonderful gift for me. i can never think of anyone else who could love me so deeply!',\n ' \"life without you is impossible. life after you is unimaginable. even after death, i want our souls to be reunited!\"',\n ' \"my love for you is deeper than the ocean and wider than the sky. nobody can measure it, but you know how much i love you.\"',\n ' \"thank you for coming into my life. i love you, darling.\"',\n ' \"you are just so beautiful, both inside and outside. i must be so lucky that i could find you in this big world and make you mine.\"',\n ' \"when we’re together, an hour would feel like a minute. but when we are apart, a minute will feel like an hour!\"',\n ' \"i am lucky enough to get a person like you in my life who gives me a thousand reasons to smile every day. you are so precious, my handsome.\"',\n ' \"your heart is so full of love, and i’m lucky enough to find a place in there. love you, honey.\"',\n ' \"if you were a book, i would read you over and over again. that is how much i love you my prettiness.\"',\n ' you are the kindest soul who makes my life beautiful and loved.',\n ' \"it takes great luck to have someone like you as a boyfriend. i feel blessed every day and every moment for this gift. i will love you till my last breath, no matter what life brings before us!\"',\n ' such an amazing wife like you doesn’t come from this earth; they come straight from heaven. you are the most perfect wife ever!',\n ' \"my love for you is always growing stronger, and i’m slowly losing myself deeper into it.\"',\n ' \"the beauty in your eyes and the innocence in your face drives me crazy all the time. i want you in my life for today, tomorrow and forever.\"',\n ' you make me feel alive every moment. you are the reason behind every joy and every smile of my life. i love you so deeply!',\n ' my love for you is deeper than the ocean. you can see it if you look right into my eyes. you’ll know how madly i’m in love with you!',\n ' \"you gave me a reason to live, dream, and fight. you make my days worth living. thank you for being the only person who understands me!\"',\n ' \"i don’t want the world, i don’t want the skies, i don’t want the moon, i just want you in my share. love you a lot my love\"',\n ' i can’t stop loving you because it’s the only thing i’m good at and the only reason i was sent here on earth. i love you!',\n ' your childish giggles melt my heart every time i hear them. keep laughing like this always. i love you.',\n ' \"the gleam of your eyes is what i fell for. i will never let tears come to those beautiful eyes. i promise to keep you happy, always.\"',\n ' your presence in my life is a blessing of a lifetime. you’re the gift that i never dared to ask for. the love you have given me is more than i could ever imagine.',\n ' \"sometimes it feels like i’m having a dream, but then i realize it’s all real and i’m one lucky fellow in this beautiful world. thank you for being mine!\"',\n ' i thank god every day because he answered my prayer and gave me the most gorgeous woman in the world. i can’t help myself from falling in love with you every day!',\n ' \"you are the most beautiful woman i have ever known. you grew a flower in my heart, which i call love. i love you more than anything else in life!\"',\n ' \"every time i close my eyes, i dream about us being happy and merry together in our dream house. stay with me forever, love.\"',\n ' your smile is the reward i want to get every day. it is the only thing that keeps me breathing beautifully.',\n ' i feel fortunate to have you in my life as you light it up with your glow. i value your presence more than anything else; i love you.',\n ' \"by holding your hands tightly, i get the strength of conquering all my life problems. stay with me always.\"',\n ' i promise you that i will protect you from all the negativity of this world. you only promise to stay with me always. i love you.',\n ' \"it doesn’t matter where you are; i can always hear your heartbeat when i lay down and see your face when i close my eyes. i love you, sweetheart!\"',\n ' \"people with truth in their heart and passion in their eyes are hard to come by. i was lucky that i found you. i love you so much, my dear!\"',\n ' \"you have everything in you to be loved, to be adored and to be pampered. i’ll always give my best to make you feel special. i love you!\"',\n ' you are the perfect match for me and i know it from the first time i saw your beautiful face. love you with my everything pretty girl.',\n ' \"my sweet prince, i loved you once, love you still, always have, and always will.\"',\n ' \"meeting you was the best thing that has ever happened to me. i feel lucky to have you. i love you, babe.\"',\n ' \"your love pierced my heart like a sword, and it’s for you to heal me now. don’t ever leave me because i’m nothing without you!\"',\n ' i was crawling in darkness before you showed up. you took my soul away from its hiding place. i love you darling!',\n ' you know every trick to make my heart melt like april snow. i am so lucky that you’re in my life. the love i have for you will never fade!',\n ' \"you carry my heart with you. as long as you’re with me, i have nothing to fear because i know my heart is safe with you.\"',\n ' i don’t want to live without you even a single day. you’re the best thing that ever happened to me and i’ll cherish you in my heart forever!',\n ' \"you give me a reason to wake up every day, a dream to fight for, a life to worth live off. i love you my young man.\"',\n ' \"nothing is more important than your weird laugh and silly jokes. yes, i love everything about you my man.\"',\n ' you promised to protect me from every negativity of this world. i promise you to protect your heart from every sorrow from now on. we are perfect together.',\n ' you have truth in your heart and passion in your eyes; things about you that make me love you even more.',\n ' my heart sealed your place in it right at the moment i met you. this place will always remain constant and intact. i love you so much!',\n ' i always pray to the lord to never get separated from you no matter how many arguments we have. i want our togetherness to last forever.',\n ' the mischievous smile you give whenever i get pissed off at you does not let me stay angry for long. i love you more than anything.',\n ' the word ‘fortunate’ made sense to me only after you came into my life. be with me always handsome.',\n ' \"my love for you is never-ending, and no matter how hard life becomes, i will always be there for you like you have been for me. i love you, darling.\"',\n ' \"i have a special chamber inside my heart. nothing can occupy this but you. sending you a box full of love, my sweetheart!\"',\n ' \"you can finish counting the stars in the sky, but you can never finish counting the love i have for you. because my heart is filled with infinite love for you!\"',\n ' \"i don’t care about anything and anyone else, as long as you love me. i can ignore the rest of the world if you’re with me. i love you so much.\"',\n ' you are the queen of my heart. my heart finds pleasure in following your commands at any time and every time. you are the one i love!',\n ' \"no matter how many times i see you, your beauty makes my knees go weak and my stomach growl in nervousness! i love you!\"',\n ' \"darling, my day goes well if i get just a small peak of your face or hear that sweet voice of yours! you are truly my lucky charm!\"',\n ' i live every day hoping to wake up someday with you beside me. nothing can make me happier than a day that starts with you and ends with you!',\n ' i need an entire lifetime to appreciate god for bringing you into my life. all i want now is to dedicate this life in loving you!',\n ' \"i don’t know if you feel the same, but i do feel the love in the air. in fact, i feel it everywhere i go and in everything i do. i’m surely in love with you!\"',\n ' \"spending time with you heals my mental health. you can heal me like nothing else, glad that i have you in my life. thank you, babe. i love you so much.\"',\n ' thousand reasons are not enough to make me feel loved and special. only your touch and smile can do it in a blink. love you forever.',\n ' nothing in this world can replace your place in my heart because you own it.',\n ' my love for you will never fade away as i have built a home for you in my heart with great care and loveable memories.',\n ' \"my heart was filled with sorrow and hard feelings, but you came and filled it with love and happiness. i can never be grateful enough to you for loving me like that.\"',\n ' \"i love how you put a smile on my face every time! i love you today and will love you till kingdom come. thank you for everything, my love.\"',\n ' every day of ours feels just like the very first day because i cannot help falling in love with you over and over again. i love you!',\n ' \"my dear, you make me feel safe around you and bring out all the goodness in me. i think we are truly meant for each other!\"',\n ' \"every time i think of you, half my worries are gone. you make everything around you so positive and energetic. i love you so much.\"',\n ' there are no words i could use to describe the love we share. i’m so incredibly thankful for you.',\n ' you’re the center of my fantasy because i love you way more than the sun than brighten my day and the moon that keeps the night awake.',\n ' i know we will always be together because you know all the tricks to melt my heart like april snow. you are my favorite magician in the whole world.',\n ' may god never separate us despite all the silly arguments we have. i cannot tolerate the distance between you and me ever.',\n ' love has the power to transform the hardest of hearts; it has the power to heal and the power to comfort and redeem. i know this because i’ve seen what your love does to me.',\n ' i’ve seen the truest and purest form of love in you. i don’t need anything else in life as long as i have your love. thank you for loving me so sincerely and genuinely!',\n ' \"if there’s anything in life i wouldn’t want to change, it is the chance of meeting you and falling in love with you.\"',\n ' i do not fear sorrows anymore because i know your love will instantly heal my heart. i am lucky for having you.',\n ' \"when i was crawling in the dark, hiding all my feelings and insecurities, you came like a knight in the shining armor and saved me. love you for everything.\"',\n ' i cannot be more blessed for having you in my life. only i know how you have saved me from the darkness. will cherish you in my heart forever and always.',\n ' i will forever be thankful to god for gifting me to you. you are not just my husband/ lover; you are my best friend. i know i can always count on you. i love you so much.',\n ' i have never believed in love at first sight. love surely takes time to develop. and i’m glad that i chose to let my love for you grow each day. it’s worth the wait. i love you.',\n ' \"thank you for being the most wonderful friend and companion and making my day beautiful, every day!\"',\n ' \"i love you more than the stars in the night; even every day we fight, my love will never change, even slightly. i just love you; i simply do.\"',\n ' \"each time i make a wish, i wish for us to be together forever. i know it will come true because you already live in my heart. i love you.\"',\n ' you always give me a million little reasons to smile. i have never had anyone in my life who was so amazing as you. i love you!',\n ' \"when i look into your eyes, i see a world full of love and affection. i want to be lost in your eyes and find myself again in a new world. i love you!\"',\n ' \"when i look into eyes, i get lost into the vastness of an ocean full of love. i feel lucky because you’re in my life. i love you!\"',\n ' \"someday, i might write a poem to describe your beauty or a song to express my affection for you. but right now, i’m just lost in your love!\"',\n ' loving you is the only thing that makes my life worth living. i enjoy every moment i spend in loving you. you are my sunshine in life!',\n ' i have loved you more times than i have loved myself. you are the reason why i’m happy and hopeful always. i love you so much!',\n ' \"you have an aura around you and whenever you come near me, i feel lucky to be engulfed in your aura of happiness.\"',\n ' i might live without you but that life would be meaningless. never ever want to lose you because i am passionately in love with your soul.',\n ' love takes time to develop but my love for you grows exponentially every day. i love you my admiring partner.',\n ' \"when i’m with you, all i do is pray to god that he stops the time from flowing. all i want in life is to spend forever with you. i love you dear!\"',\n ' \"if you ask me why do i love you so much, i’d say because i see a piece of myself in you and because you let me be myself when i’m with you.\"',\n ' you took control of my heart from the moment i met you. now the owner of my heart is you. take care of it and give it what it wants. i love you!',\n ' i lived a black and white life until i met you. you brought colors into it and now i see rainbows everywhere. i love you!',\n ' \"look at the computer keyboard, u and i were placed side by side. that’s how the alphabets should be arranged because my love will never cease to exist as long as it’s you and me.\"',\n ' \"each time i look at you, i just smile to myself and think, ‘i certainly could not have done better’. you are perfect the way you are. i love you honey.\"',\n ' \"now that you have stolen my heart from me, i hope you’ve already found out that there is only love for you in it and nothing else.\"',\n ' no words can describe what you mean to me. you are the sunshine of my life. you light up every i walk on and give me courage. i love you so much.',\n ' \"i have seen something completely different in you, that is the ability to love people unconditionally. to me, you are like a sunflower in the dust. i love you!\"',\n ' \"i know i do many stupid things, and i am not good enough for you but thank you for always being next to me.\"',\n ' \"you are perfect, but it is your imperfections which make me love you more and more every day.\"',\n ' \"you are not only my lover. you are my doctor of mental health. your love is the best medicine that keeps me going on, and i cannot love you enough for that.\"',\n ' \"the love you have in your heart for me is the truest and purest form of affection, and i seek madly for it.\"',\n ' \"the way you love me, i hope i can return it to your heart in the same way. stay with me always, dear.\"',\n ' \"a sky full of stars is not even comparable with my love for you. my love, my feelings for you is immeasurable. you are my sweetheart.\"',\n ' \"you are the most beautiful addition to my life’s journey, and i could not want more. i love you to the moon and back.\"',\n ' my life is incomplete without your love. my soul is incomplete without your companionship. don’t leave me till my last breath. love you so much.',\n ' \"without you, my life is like an earth without sunshine. it is gloomy and monotonous. you are the color that brings happiness in my journey of life.\"',\n ' my heart belongs to you and it doesn’t want anything but you. you are the reason for my smile and my happiness. i love you!',\n ' \"my world was so empty and dark that it all seemed so meaningless to me. but when i met you, suddenly it felt like the sky over me has lightened up by a thousand stars. i love you!\"',\n ' i was dreaming of an angel to come into my life and shower it with unlimited love. then i woke up and saw you. i realized reality is more beautiful than my dream was. i am lucky to have you!',\n ' \"saying ‘i love you’ every day is not enough, and it is such an understatement. you are my soulmate, and i cannot live without you.\"',\n ' i fall in love with you every time i see you. you have that magic. keep my heart safe in your magic box my prettiness.',\n ' \"i’m dedicating all the love songs in this world for you because you are worthy of all those lovely lyrics. love you, beautiful.\"',\n ' \"if i were given all the time to live from the big bang to the big crunch, i would spend the entire time in loving you.\"',\n ' \"it’s hard to find someone willing to stay with you in every up and down of your life. i feel blessed to have you in my life because i know no matter what happens, you will never stop loving me!\"',\n ' love can never be measured. it can only be felt. you have painted my life with the colors of heaven. i don’t want anything else as long as your love is with me!',\n ' \"even if the stars fail to shine and the moon refuses to light up the world, i know i have nothing to fear. i have my guardian angel to look after me, care for me and love me forever and always. i love you!\"',\n ' i look forward to each new day with a desire to spend my entire life with you. my love for you is always growing stronger and i’m slowly losing myself deeper into it.',\n ' \"since you have entered into my life, there have been chapters before you and will never be any chapter after you. it’s only about you and all about you!\"',\n ' \"i hope you know that wherever i go or whatever i do, i have you always on my mind. thank you for happening to me, love.\"',\n ' you are the wish that comes true when we see a falling star. you are my destiny. i love you my girl.',\n ' \"my love, with you in my life, every day feels like a holiday! so i cannot wait to marry you and have an eternal happy vacation!\"',\n ' \"life has thrown many lemons at me, but life has also gifted me with your presence. and i am forever grateful for that. you are my everything!\"',\n ' \"whenever i go far away from you, i start to feel a little homesick. because even when we are apart, i keep searching for you. i love you!\"',\n ' \"baby, we may not be attached with the red string of fate, but i do not doubt that you are my soulmate forever.\"',\n ' \"sweetheart, you know why i don’t like romantic movies? it’s because you and i make the greatest love story ever and no one can even come close!\"',\n ' \"i don’t need a picture of you in my wallet as i have you in my heart. i love you so much, sweetheart. you make me a better person.\"',\n ' \"when you came into my life, you brightened up my whole world. thank you for having it a proper meaning; i love you.\"',\n ' \"i love you the way cloud loves the sky; i love you the way birds love to fly, i love you the way waves love the sea, i love you the way honey is loved by the bee.\"',\n ' \"i love how even being with you all day long doesn’t get boring. i guess that’s what love does! so, glad that i have you in my life, sugar.\"',\n ' \"want to be with you during both happy and sad times. because without happiness, sorrow is worthless, and happiness can’t be enjoyed to the fullest without sorrow.\"',\n ' \"the more i spend time with you, the more i fall in love with you every day. you have a very gentle and beautiful heart that i promise to take care of all my life. i love you!\"',\n ' you fill my heart with countless joy every time you smile. it’s a privilege for anyone to be able to love you! i feel lucky every moment!',\n ' i was lost and hopeless. but i kept praying for a savior to come into my life. god accepted my prayer and sent you. now i owe you my life for eternity. loving you madly is the only thing i can do perfectly!',\n ' \"thanks for being there for me always. i have never known anyone who could love with such intensity. for me, you are the best lover in this world. i can’t help loving you deeply.\"',\n ' \"my life was empty and my heart grew cold. then you came into my life, made my heart warm with your love and my life filled with happiness. i love that!\"',\n ' if only you knew how fast my heart beats whenever i see you. be with me always and forever. love you handsome.',\n ' i feel beautiful and special whenever i am with you. i cannot let go of you ever. love you so much.',\n ' your eyes are the best mirror where i can see my soul set on fire by your love. love me like this always sweetheart!',\n ' your love for me is one of a kind. no one in this world can or will love me as you do. you are the brightest star that lights up my life every day.',\n ' \"i love how you make me fall in love with not only you but also with everything, newly. you are my precious sweetheart. i love you so much.\"',\n ' \"in case you don’t know, you are my no.  ! thank you for sticking by through thick and thin. i love you to the moon and back. boyfriend.\"',\n ' \"my love for you is immeasurable and it’s growing every day. with your love in my heart, i am making the impossible possible.\"',\n ' \"dear boyfriend, i cannot wait to marry you one day and live happily ever after. thank you for making me believe that it isn’t unreal. i love you.\"',\n ' \"i’m grateful for all the lovely moments and sweet texts. you are my favorite human being. i love you more than yesterday, less than tomorrow.\"',\n ' thank you for experiencing me this magical kind of love; i cannot think of my future with anyone other than you! i love you so much.',\n ' \"you know, you’ve been living in my heart for way too long. it’s time to start paying rent.\"',\n ' you are my hercules. i hope the flames of our love lasts for eternity.',\n ' i want to hold your hand under the moonlight as you lovingly place a cherry blossom on my hair.',\n ' \"be the candle that gives light, not the candle that is melted by its own bright. i love you.\"',\n ' \"good and bad both are crucial in human life. so, i love you like the way you are mingled with both.\"',\n ' i started believing in fairy tales after marrying you. i have realized that you are my happily ever after.',\n ' \"my dear wife, you are the prettier than the prettiest flowers to me. every day, i fall in love with that gorgeous face and that golden heart you have.\"',\n ' \"because you are in my life, everything seems perfect, and nothing is out of balance. i love you for making my life a piece of heaven.\"',\n ' \"you are my greatest comfort and biggest inspiration. you are the reason why my life is so beautiful, and my dreams are so colorful.\"',\n ' you keep my life on track and everything in balance. you are a perfect woman. to say ‘love you’ simply is an understatement.',\n ' \"sweetheart, you’re not my other ‘half’ because you are a complete and beautiful person yourself. rather, you complimented me in such a way that no one could. i love you!\"',\n ' \"you know, we are like the two socks of a pair, and like the birds of the same feather. you fulfill my life with your presence, and i am so lucky to have you!\"',\n ' \"marrying you was a fairy tale that came true for me. i’m still living in a fantasy, and all credit for that goes to you. i love you!\"',\n ' you are the kind of wife that every man desires for. you are that fairy which comes in a dream and never disappear even when the dream is over.',\n ' \"some people get sweeter as they grow old, and some love becomes stronger with time. the first one is true for you and the second one is for me!\"',\n ' \"i love how you keep on taking my breath away every single time. i love you so much, honey. you are the epitome of beauty.\"',\n ' \"my love for you grow stronger with time, and i will never let go of you. thank you for marrying me, my beautiful wife.\"',\n ' \"my life is a dream, and you are the beautiful fairy in it. the best thing is you never disappear even when i wake up. love you, dearest wifey.\"',\n ' \"if incarnation is true, i will want you as my wife in every life i get. you are my strength and biggest inspiration.\"',\n ' \"darling, when my life was filled with heavy rainfall, you shone brightly like a rainbow in my sky. and i instantly fell in love with all seven colors of yours.\"',\n ' \"from the very first moment i saw you, i knew that i wouldn’t settle down for any less. you and i may not be flawless, but we are perfect for each other. love you!\"',\n ' \"i still skip my heartbeat whenever i look at you. you make me smile a zillionth time over, baby! you surely are the best thing that has ever happened to me.\"',\n ' \"your genuine kindness and beautiful soul capture my heart every time, darling. love you always and forever, my sweetheart.\"',\n ' \"dear wife, i hope you know that you are the love of my life. thank you for saying “yes,” thank you for everything!\"',\n ' \"you are perfect even with all of your imperfections. you are amazing, even at the times when you are annoying. i love you for everything!\"',\n ' \"it is a privilege to wake up beside you every day. it is a dream come true to have you by my side. love you like nothing matters without you, dear husband.\"',\n ' i find peace when i am with you. i want nothing more than you and nothing less than you!',\n ' every moment with you is a blessing. you are the strongest and kindest soul i have ever met and i am lucky to have you as my companion. you own my heart.',\n ' i don’t think i will ever be able to thank god enough for sending you into my life and blessing me. thank you for being the best! i love you.',\n ' \"through thick and thin, we have been together. may god bless our bond and keep us safe. i will love you for a thousand years more, husband.\"',\n ' i’m the luckiest woman in this world to have the best man as my partner. thanks for making my life simply amazing!',\n ' i love how you make me want to pause the moment whenever i am with you. you are my precious husband. i want to grow old with you.',\n ' \"you make every morning a little bit brighter and every night a little bit sparkler than it used to be. thank you for coming into my life. i love you, darling.\"',\n ' \"thanks, hubby, you are there when i feel sad, you are there when my mood is bad, you always support me in life, you are the only reason why i survive, love you!\"',\n ' \"you have given me all the reasons to love you but i love you for everything you are and everything you are not. i love you today, tomorrow and every day!\"',\n ' you are my strength and my power. you make me full of hope even when there’s no hope left. you are the treasure that i looked for all of my life!',\n ' \"taking the vow with you was the best decision i have ever made. it is impossible to live without you, my man. love you to the fullest.\"',\n ' \"the things you do for our family and me melts my heart and makes me realize how lucky i have you by my side forever. stay with me always, dear husband.\"',\n ' you captured my soul with your unconditional love for me. i wish to make you feel just as much love as you make me feel always!',\n ' \"in this life, god has blessed me with many things, but the best one is obviously you, my dear husband. i love you till death tear us apart.\"',\n ' \"i had been dreaming of you, way before i met you, way before you were even born in this world. and i am happy that you are mine now.\"',\n ' \"if i were a teardrop in your eye, i would roll down onto your lips. but if you were a tear in my eye, i would never cry as i would be afraid to lose you.\"',\n ' \"if you could see yourself through my eyes, you would know how much i love you. you hold a very special place in my heart! i will love you forever!\"',\n ' you turned all my imperfections into perfection just by the power of your love. i love you for all the great things that you did for me.',\n ' i fell in love right at the first moment i saw you. my love for you will never fade away. i love you for everything you are!',\n ' there is not a single scale in this world that can measure my love for you. it’s deeper than the ocean and truer than my reality!',\n ' every morning of my life gives me a new reason to love you and to appreciate you for what you’ve given me. you are the one that holds the key to my heart!',\n ' \"i love you for being my truest lover, biggest friend, and most loyal companion. without you, my life is nothing but an ocean of dust.\"',\n ' no fear can touch me except the fear of losing you. i have never loved anyone this much before. my only hope in life is you. i love you!',\n ' \"as long as you are in my life, i have absolutely no reason to be sad. only you can give me everything i want in life. i love you for that!\"',\n ' i dream of a world where you and i would live for a thousand years to love each other. i know i’ll never be tired of loving you.',\n ' \"you mean everything to me. without you, everything is dull and meaningless. i want to be with you for an eternity and more. i love you sweetheart!\"',\n ' i can go at any stretch to defend my love for you. i have only one desire in my heart and that is having you as my lover. i love you!',\n ' \"i will never promise you everything on earth, but i’ll promise you everything my heart brings out because you own my heart.\"',\n ' \"if there’s one thing in this world i’m afraid to lose, it’s you. i am so in love with you that i can’t afford to lose you!\"',\n ' \"i promise to be your guardian angel, the one that makes you smile when you’re moody. the one that cares about you than itself. the one that will love you until the end of time. i love you.\"',\n ' i have been blessed by the almighty with such a precious gem like you. i will never let you go. i love you.',\n ' every moment i spent with you seems to me like treasures. i will preserve you and these treasures lifelong. i will never let you go away from me. i love you.',\n ' \"“there is a madness in loving you, a lack of reason that makes it feel so flawless.”\"',\n ' \"“if you want to know how much i love and care for you, count the waves.”\"',\n ' \"my life wouldn’t have been this wonderful with you. i wouldn’t have been this enjoyable without your love. i’m in heaven, having you as my lover.\"',\n ' \"you came to my life as a blessing. thank you, darling, for never giving up on me.\"',\n ' \"“for you see, each day i love you more, today more than yesterday and less than tomorrow.”\"',\n ' living this life without you will be worthless. i want to stay with you forever and always.',\n ' \"“i love you as one loves certain dark things, secretly, between the shadow and the soul.”\"',\n ' \"you are my sunshine, sweet blessing and drop of joy. i wouldn’t have been able to do anything without you. i love you.\"',\n ' \"if there is anything like infinity in the world, i know where it lives. it stays in the form of love in between you and me and keeps traveling across every day!\"',\n ' my love for you is so real that it makes me want to do unreal things like jumping on the clouds and climbing the rainbow. i love you.',\n ' \"“i swear i couldn’t love you more than i do right now, and yet i know i will tomorrow.”\"',\n ' “the water shines only by the sun. and it is you who are my sun.”',\n ' “i love you more than there are stars in the sky and fish in the sea.”',\n ' \"if you are a prize, i’ll do anything to take you home. if you are medal, i’ll work hard to earn you. if you are a flower, i’ll be watering you to grow beautifully.\"',\n ' \"if you listen to my breaths closely, you will hear the words i love you coming out with every single one. i am literally living with you, and only you. i love you.\"',\n ' \"ours is the most beautiful love story that ever happened on this earth. for me, you are a priceless gem that i don’t want to lose ever. your love makes my life worth living every day. thank you for being the nicest person that i ever met!\"',\n ' \"a girl like you deserves all the happiness in the world. you are so precious to me, and i’ll protect you from every harm. every time i see the smile on your face, it feels like heaven to me. you are the most beautiful part of my life, and i’ll keep you happy always, i promise.\"',\n ' \"the only desire of my heart is to be with you every moment of my life. your love draws me closer to you like a magnet. for me, you’re the only person with whom i can be myself without all the worries of being judged.\"',\n ' i’ll always find my way back to you no matter where life takes us. you are my perfect soulmate and the only person who knows me better than anyone. i am grateful for every single happy moment i have spent with you! you’re my only reason to smile.',\n ' you’re the best thing that life has given me so far and i know nothing can take your place in my heart. the love i have for you is pure and eternal!',\n ' \"you bring so much joy into my life that it is very hard for me even to imagine a life without you. it feels like i have been living my life in a paradise since i met you. every time i think of you, my heart rejoices.\"',\n ' \"we live in two different bodies but share the same soul. we talk in one single language called love, and the only thing we are good at is caring for each other. thank you for becoming the most important person in my life!\"',\n ' our bond was decided in heaven long before we met each other. i can never think of a world without you. you are the sunshine of my life. i feel blessed every day for having such a beautiful soulmate like you!',\n ' a day without the picture of your face is like a year in military detention.   hours without the sound of your voice is frustrating because my heart beats all abnormally every second. i miss you.',\n ' \"your love brings out the best in me. you give me the better i used to pray for. thank you for loving me with your heart. i will love you not like anybody, but as nobody has ever loved you.\"',\n ' your love is all that makes me a happy person in this unhappy world.',\n ' \"because of you, my life is full of fun, and there is no shortage of love!\"',\n ' \"i’m in love with you, and i’m the happiest for the rest of my life.\"',\n ' my life has never been this much better. i wish i had met you sooner.',\n ' \"no matter how dark my days are, your presence lights up my heart every time.\"',\n ' i can’t live without you; you’re the best thing that ever happened to me.',\n ' \"i love you and we meant to be, and being together was written into our destiny.\"',\n ' you make my life a better place and full of great moments. i love you so much!',\n ' your love is like a beautiful island in which i have no problem to be stranded in forever!',\n ' \"in your smile, i see something more beautiful than flowers.\"',\n ' my life is fully recharged with joy and happiness because of you. never let me go!',\n ' i love you more than i can say. you’re my favorite person of all time.',\n ' i have never felt someone with all my heart so profoundly than you. you’re undoubtedly the best when it comes to loving me!',\n ' your love is truly a wonderful gift for me. i can never think of anyone else who could love me so deeply!',\n ' \"you’re not perfect, but you’re just so close to it that it makes me feel so lucky all the time!\"',\n ' \"if i ever found a genie in a bottle, i would spend my three wishes wanting you by my side forever.\"',\n ' you are my greatest possession and i cannot risk losing you for anything. love you to the fullest.',\n ' \"i fall in love even more with you with every second. tell me, what magic spell did you cast on me?\"',\n ' \"i thought that love was overrated until the day i fell in love with you. you changed everything, my world, my life.\"',\n ' i don’t need a thousand reasons to feel special. all i need is you to live in this world. you are the sunshine of my life.',\n ' my love for you is nothing to do with me. it’s all about the way you are and the way you bring joy to everyone around you.',\n ' \"the almighty has chosen you to be my soulmate, as no one else can understand me better than you do. i love you, stay with me always.\"',\n ' you have made me realized that love is the best feeling any human can feel. thank you for coming into my life. i love you.',\n ' i cannot imagine surviving all the hardships of my life without your love and support. keep holding my hands tightly forever. i love you.',\n ' \"if you ever asked me to pick between you and my dreams, i wouldn’t know what to say because being with you is my only dream. i love you.\"',\n ' you bring smiles to my face and joy to my heart. you make me so happy that you’re the only thing i think of all day long. i love you honey.',\n ' \"the best thing about being in love with you is that i have begun to enjoy every season of life with a lot more zest than i usually do. such is the magic of your love, sweetheart.\"',\n ' even a doctor would be baffled at how my heart conveniently decides to beat faster or slower – depending on whether i’m thinking about you or not. xoxo',\n ' you evoke happy emotions in me; you surface the most beautiful feelings in me – the ones i have kept hidden for too long.',\n ' believe me when i say your love is more than a word i can spell. it’s so real that i can’t discard it. it’s so precious that everyone wishes for it. it’s so special that i can’t get enough of it.',\n '  . “i would rather spend one moment holding you than a lifetime knowing i never could.” — unknown',\n ' \" . “but you’ve slipped under my skin, invaded my blood and seized my heart.” — maria v. snyder\"',\n ' \" . “i never loved you any more than i do, right this second. and i’ll never love you any less than i do, right this second.”— kami garcia, margaret stohl\"',\n '  . “i love you and i don’t want to lose you. because my life has been better since the day i found out.” – unknown',\n ' \" . “you have bewitched me, body and soul, and i love, i love, i love you. i never wish to be parted from you from this day on.” – pride and prejudice\"',\n '  . “i do know some things. i know i love you. i know you love me.” – game of thrones',\n '  . “and in her smile i see something more beautiful than the stars.”— across the universe',\n '  . “we are made of particles that existed since the moment the universe began. i like to think those atoms travelled   billion years through time and space to create us so that we could be together and make each other whole.” – the big bang theory',\n ' \" . “as he read, i fell in love the way you fall asleep: slowly, and then all at once.” ― john green\"',\n ' \" . “if my love were an ocean, there would be no more land. if my love were a desert, you would see only sand. if my love were a star–late at night, only light. and if my love could grow wings, i’d be soaring in flight.”— jay asher\"',\n ' \" . “i want you. all of you. your flaws. your mistakes. your imperfections. i want you, and only you.” – john legend\"',\n '  . “i’ve never had a moment’s doubt. i love you. i believe in you completely. you are my dearest one. my reason for life.” – ian mcewan',\n ' \" . “when i saw you i fell in love, and you smiled because you knew.” ― arrigo boito\"',\n ' \" . “so, i love you because the entire universe conspired to help me find you.” ― paulo coehlo\"',\n ' \" . “i swear i couldn’t love you more than i do right now, and yet i know i will tomorrow.” – leo christopher\"',\n ' \" . “if i had a flower for every time i thought of you, i could walk in my garden forever.” – unknown\"',\n ' \" . “i don’t care how hard being together is, nothing is worse than being apart.” — josephine angelini\"',\n ' \" . “in a sea of people, my eyes will always be searching for you.” – unknown\"',\n ' \" . “sometimes, i knock on the doors of your heart, just to make sure i still live there.” – unknown\"',\n '  . “no matter what has happened. no matter what you’ve done. no matter what you will do. i will always love you. i swear it.” — c.j. redwine',\n '  . “i am catastrophically in love with you.”— cassandra clare',\n '  . “and i’ve realized that the beatles got it wrong. love isn’t all we need—love is all there is.”— morgan matson',\n ' \" . “promise me you’ll never forget me, because if i thought you would, i’d never leave.” ― a.a. milne\"',\n '  . “your hand touching mine. this is how galaxies collide.” ― sanober khan',\n '  .\\xa0“love is like a virus. it can happen to anybody at any time.” – maya angelou',\n '  . “i wish i knew how to quit you.” – brokeback mountain',\n ' \" . “loved you yesterday, love you still, always have, always will.” – elaine davis\"',\n '  . “i need you like a heart needs a beat.” — one republic',\n ' \" . “when i look into your eyes, i know i have found the mirror of my soul.” — joey w. hill\"',\n '  . “morning without you is a dwindled dawn.” — emily dickinson',\n ' \" . “it was love at first sight, at last sight, at ever and ever sight.” ― vladimir nabokov\"',\n '  . “your absence has not taught me how to be alone; it has merely shown me that when together we cast a single shadow on the wall.” — doug fetherling',\n '  . “your love shines in my heart as the sun that shines upon the earth.” – eleanor di guillo',\n '  . “i would rather share one lifetime with you than face all the ages of this world alone.” – j.r.r tolkien',\n ' \" . “each day i love you more, today more than yesterday and less than tomorrow.” – rosemonde gerard\"',\n ' \" . “i am in you and you in me, mutual in divine love.” – william blake\"',\n '  . “love is being stupid together.” – paul valéry',\n '  . “my heart is and always will be yours.” – jane austen',\n ' \" . “i don’t wanna close my eyes, i don’t wanna fall asleep, cuz i’d miss you babe and i don’t wanna miss a thing.” – aerosmith\"',\n '  . “if i had to choose between breathing and loving you i would use my last breath to tell you i love you.” – deanna anderson',\n '  . “you had me at hello.” – jerry maguire',\n '  . “absence is to love as wind is to fire; it extinguishes the small and kindles the great.” — roger de bussy-rabutin',\n ' \" . “if i tell you i love you, can i keep you forever?” – casper\"',\n ' \" . “for it was not into my ear you whispered, but into my heart. it was not my lips you kissed, but my soul.” – judy garland\"',\n ' \" . “no matter where i went, i always knew my way back to you. you are my compass star.” — diana peterfreund\"',\n '  . “i love you and i like you” – parks & recreation',\n '  . “the scariest thing about distance is you don’t know if they’ll miss you or forget about you.”— nicholas sparks',\n '  . “you know you’re in love when you can’t fall asleep because reality is finally better than your dreams.” – dr. seuss',\n '  . “and i don’t mind if we take our time ‘cause i’m all yours if you’re all mine.” – defeater',\n ' \" . “love is missing someone when you’re apart, but somehow feeling warm inside because you’re close in the heart.” — kay knudsen\"',\n '  .\\xa0love makes no sense if it is not to the right person. i feel very lucky to be with you!',\n '  . what is love? it is what makes your cell phone ring every time i send text messages.',\n ' \" . i’m giving you my heart now and forever. my goal is to make sure that i always make you feel loved, appreciated, and accepted, even over text.\"',\n ' \" . the world is so perfect because of you, without you the world would be meaningless. i love you.\"',\n '  . you wanna know who i’m in love with? read the first word again.',\n ' \" . you are the owner of my heart, my feelings, my soul and my body. i completely belong to you, baby. i love you. always.\"',\n ' \" . your image is always in my mind, i can always hear my heart whispering your name and i can always see your face when i close my face, how beautiful you are. i love you.\"',\n '  . i love you so much that i’m going crazy. i can’t stop thinking and dreaming about you. only it makes me feel alive and gives my life a meaning.',\n '  . you can keep my heart but bring me back to life with your kisses. miss you!',\n ' \" . excuse me, i just want to tell you that i want to protect you, steal your smiles, stop your tears and wake up by your side. you are the most wonderful thing that ever happened to me.\"',\n '  . i absolutely adore you. just fyi.',\n ' \" . sweetheart, everything is meaningless without you, you are part of me. even when we are apart.\"',\n '  . stop making me think about you! i’m busy.',\n '  . you make me the happiest person on earth.',\n ' \" . i admire you, i care for you, i love you, i respect you and i trust you. unconditionally.\"',\n '  . the only thing i need in life is to see you smile; you are the queen of my heart. i love you.',\n '  . i wish you two things: everything and nothing. everything that makes you happy and nothing that makes you suffer. i love you!',\n ' \" . it’s good to know that when i go back home you will be there, smiling and waiting for me. i think of you all day long and i don’t know what i would do without you.\"',\n '  . you feed my heart and my soul with your love. i love you more than anything in this world!',\n ' \" . good morning, my love, you are so beautiful. i can’t resist being with you.\"',\n '  . the only time i stupidly smile at my phone is when i get text messages from you.',\n ' \" . i might run out of text messages to send you, and i might run out of jokes too. my phone might run out of battery, but my heart will never run out of space for you.\"',\n ' \" . you are my dream come true, i will treasure and love you all the days of my life.\"',\n ' \" . i wish i could send you a kiss through the phone, i could do it every second.\"',\n '  .\\xa0you make my heart melt!',\n '  . come to my dreams if you can. i’ll kiss you there.',\n '  . i just want to be curled up in your arms right now.',\n '  . you’re on my mind every second of every day!',\n ' \" . when i say that you are the love of my life, believe me, it’s true. you are the only one in my heart.\"',\n ' \" . if you wanna stop by my house tonight, i just might have a kiss waiting for you.\"',\n ' related:   quotes on love and marriage',\n '  . i’m getting butterflies just thinking about seeing you later.',\n '  . can we just call in sick tomorrow and spend the whole day together?',\n '  . your texts make my day even better.',\n ' \" . every time you text me, i get butterflies.\"',\n '  . i wish i was in your arms.',\n '  . such a stressful day. want to blow off some steam tonight?',\n '  . you. me. takeout. tonight.',\n ' \" .\\xa0i hope you know how wonderful you are, even when we are apart.\"',\n '  . counting down the seconds until i get to see you again!',\n '  . i love you with all my heart.',\n '  .\\xa0i just realized something for the hundredth time today: i love you.',\n '  .\\xa0just a note to remind you i’m thinking about you.',\n '  . stop looking so hot in the pics you post. you’re killing me over here!',\n '  .\\xa0i can’t wait to come home to you tonight.',\n ' \" . i can not stop thinking about you, and it’s very distracting.\"',\n ' \" . when i close my eyes, i see you. when i open my eyes, i see you. there is nothing i can do without thinking of you.\"',\n '  .\\xa0wanna know something? i love you.',\n '  . i’m so lucky you’re mine.',\n ' \" . even though you’re not beside me right now, i’m smiling—because i know you will be by my side very soon.\"',\n ' \" . forever and always, without a doubt, i am yours.\"',\n '  . i love you to the moon and back.',\n ' \" . these three small words aren’t enough to tell you just how wonderful you are, but i’ll say them anyway: i love you.\"',\n ' \" . i’ll never be able to explain how much i love you, but i’ll try by telling you every morning when you wake up and every night before you go to bed.\"',\n '  . i didn’t think it was even possible to love someone as much as i love you.',\n ' \" .\\xa0you make every day better, which is one of the million reasons i love you.\"',\n '  . love = you + me.',\n '  . i love you more than all the grains of sand on the earth and all the stars in the sky combined.',\n '  . i have loved you long before the beginning of times and i will love you even when the memories of us will be erased from the face of the earth.',\n ' \" . love is the air i breathe. without you, my darling, i wouldn’t be alive, because you have a piece of my heart, and that’s why i need you by my side so much.\"',\n '  . “love is an irresistible desire to be irresistibly desired.” — robert frost',\n '  . “love is the hardest habit to break and the most difficult to satisfy.” — drew barrymore',\n ' \" . “i love you not because of who you are, but because of who i am when i am with you.” — roy croft\"',\n '  . “at the touch of love everyone becomes a poet.” — plato',\n '  . “the only thing we never get enough of is love; and the only thing we never give enough of is love.” — henry miller',\n ' \" . i love you,with the kind of love that’s more than love.\"',\n '  . you are my forever. i will love you always.',\n ' \" . “being deeply loved by someone gives you strength, while loving someone deeply gives you courage.” — lau tzu\"',\n '  . “some love stories aren’t epic novels. some are short stories. but that doesn’t make them any less filled with love.” — carrie bradshaw',\n ' \" . “who, being loved, is poor? — oscar wilde\"',\n '  . “passion is momentary; love is enduring.” — \\xa0john wooden',\n '  . you never fail to amaze me. every day there is something new that makes me love you even more than the day before.',\n ' \" . “do i love you? my god, if your love were a grain of sand, mine would be a universe of beaches.” — william goldman\"',\n ' \" . “if i know what love is, it is because of you.”— herman hesse\"',\n '  . give me a kiss and i’ll serenade you among the stars. give me your love and i will pluck each star to set at your feet.',\n '  . “to love is nothing to be loved is something..to love and be loved is everything.” — bill russel',\n '  . “the real lover is the man who can thrill you by kissing your forehead or smiling into your eyes or just staring into space.” — marilyn monroe',\n ' \" . hold my hand, hold my heart, and hold me forever. i love you.\"',\n ' \" . i love you, in ways you’ve never been loved, for reasons you’ve never been told, for longer than you think you deserved and with more than you will ever know existed inside me.\"',\n ' \" . the more and more i spend time with you, the more and more i realize i am doing the one thing i told myself i would never do again… fall in love.\"',\n ' \" . “you have bewitched me body and soul, and i love, i love, i love you.” — pride and prejudice\"',\n ' \" . “the sea hath its pearls, the heaven hath its stars, but my heart, my heart has its love.” — henry wadsworth longfellow\"',\n ' \" . it’s been said that you only truly fall in love once, but i don’t believe it. every time i see you, i fall in love all over again!\"',\n ' \" . “love never claims, it ever gives. love ever suffers, never resents, never revenges itself.” — mahatma gandhi\"',\n ' \" . part of love is being stupid together, which basically sums up our relationship! love you lots!\"',\n ' \" . cuddling with you, talking with you, and being with you, that’s what i love most.\"',\n '  . i love you—now and always.',\n ' \" . somewhere between all our laughs, long talks, stupid little fights, and inside jokes, i fell in love.\"',\n ' \" . when i tell you i love you, i don’t say it out of habit. i say it to remind you that you’re the best thing that ever happened to me.\"',\n ' \" . thank you, my love, for making me feel like the most beautiful person in the world.\"',\n ' \" . i had no plans of falling in love with you. but now that i have, i plan to stay in love with you forever.\"',\n '  . i know i am in love with you because i see the world in your eyes and your eyes everywhere in the world.',\n '  . it’s just you and me against the world. i love you!',\n '  . i am so in love with you that sometimes i still pinch myself to make sure it’s not a dream.',\n ' \" .\\xa0look into my heart and feel what i am saying, for my heart speaks the truth and the truth is i love you.\"',\n '  .\\xa0i love you. nothing and nobody—not even time—will ever change that.',\n '  . being with you is the best thing that’s every happened to me. i love you.',\n ' \" .\\xa0every atom, molecule, and cell of me loves you.\"',\n '  . being in love with you makes every morning worth getting up for.',\n ' \" . our love is a promise; our love is a souvenir, once given never forgotten, never let it disappear.\"',\n ' \" . to the moon and back, i love you.\"',\n ' \" : baby, you give me so much happiness and i want to give you nothing less. forever is just a start for us. we belong in each other’s arms. i love you.\"',\n ' \" : by being in my life, you gave me a reason to live, a cause to fight for and hopes to look up to every day. thank you for being a part of me. \"',\n ' \" : thanks to you, my life has never felt this good. perfection is your second name, and beauty is your complete definition. i promise to keep your heart safe from heartbreaks and any other emotional baggage. i promise to love you all my life.  \"',\n ' \" : given a chance, i would like to be the sun that heats your warm smile, the air you breathe in those cute lungs, but most of all, i am glad my favorite wish has come to pass; to be the love of your life. i will forever be indebted to you for teaching me how to love. \"',\n ' \" : you’re all i ever want and all i could ever ask for. you made me feel loved in ways i couldn’t even expect. i would never ask for more, my love, i just want you and i, together forever. till my last breath will i continue to cherish you. i love you, sweetheart. \"',\n ' \" : darling, you came into my life as a blessing, you made me feel more alive as the days went by. you’re the best gift nature has given me. i just want to use this opportunity to tell you how much i love and cherish you.\"',\n ' \" : i call you my queen because you made me a king. you’ve turned our relationship into paradise, and i don’t ever want to live without you. with you, is where my heart belongs. i love you! \"',\n '  : a day without you is like a day without air. i wouldn’t breathe if i ever lost you. nothing else completes me like you do my love. ',\n ' \" : if loving you was a mistake darling, then i wouldn’t want to be right. you make me feel whole and you complete me, that’s why i choose to call you my soulmate. i love you lots baby. \"',\n ' \" : dear girlfriend, it seems loving you is the only right decision i’ve ever made. i’m glad we have a good thing going on. sending love, hugs, and kisses. \"',\n ' \" : baby, i’ve never been scared of letting go of something until you came into my life. the thought of a day without you kills me slowly. never will i ever let go of this newfound addiction. i love you with all i have. \"',\n ' \" : darling, whenever i look at you, i feel like i’ve met an angel in person. no one can ever be as sweet as you are. you light up every part of me and i will never stop looking at you. please be mine for the rest of our mortal days. i love you, queen of my heart. \"',\n ' \" : dear girlfriend, there’s nothing compared to the joy i have whenever i’m with you. you’re my sunshine amidst the storm. in you i find peace. thanks for being mine. \"',\n '  : loving someone and being loved back the same way is the single most fulfilling thing in the entire world. i wish i met you a little bit sooner and got more opportunities to press my lips against yours. cheers to many more years of being together!',\n ' \" : most times, i lie around wondering whether love is worth fighting and dying for. then i sit back and think about us, and i get ready for you because i would die for you, without a second thought. that is how much i love and treasure you. you are simply, the best.  \"',\n ' \" : getting to know you felt like a class about how angels operate because, in the real sense, you are angelic in every aspect. thank you for calling me yours and for accepting me for who i am, with all my imperfections. in you, i find peace, comfort, and bliss.  \"',\n ' \" : sugar, this is my vow to you today. i’ll be your lover, i’ll be your friend, i’ll love you like no other till the very end, this heart belongs to you forever baby. \"',\n ' \" : i can’t even think about how life would be without you. it almost feels like a sun without rays, a river without water, ground without sand, and a body without a brain. i’m empty without you, my love. \"',\n ' \" :  i have tried my best to be the best hubby in the whole wide world. as a soldier in this love affair, my greatest mission is to make you the happiest and most fulfilled woman. let me love you endlessly till the end of our days. feel appreciated, dear one. \"',\n ' \" : i don’t know how many years i have left, but i know i’ll always spend every moment with you. no one on the planet makes me as happy or as lively as you do. every second spent with you is worth more than a thousand lifetimes without you.  \"',\n ' \" : dear girlfriend, if i was allowed to own a drop of water to show you how much i loved you, then l would be the owner of the mississippi. \"',\n ' \" : baby, seeing you smile brightens my days. on my darkest days, all i crave is your smile and your electric touch. in so many ways, you heal every broken part in me.  \"',\n ' \" : you gave me light in the dark, water in times of thirst, joy in my saddest moments. all i want is for you to be happy forever. let me make you the happiest woman on the planet.  \"',\n ' \" : if an angel asked me to make a wish, i would ask for a greater length of days because i want to show you how much you mean to me every day. \"',\n ' \" : every day before i wake up and retire to bed, you are the only thought that crosses my mind. i would like to be your sun moon and stars combined. i dropped a tear in the ocean and the day i find it is the day i stop looking for it.  \"',\n ' \" : you’re the one that enters my life from nowhere but suddenly becomes my world itself. i cannot go on without you, my love. stay with me forever. \"',\n ' \" : you’re the queen of my coast and the best thing that ever happened to me. having you, dear has been and will always be my greatest blessing. i love you, sweetie. \"',\n ' \" : lucky, i am to have you by my side. you have become more than a close friend and a sister to me. you are the only person who completes me.  \"',\n ' \" : you are the sole owner of my soul, heart, and body. everything i am belongs to you because i am sold out for you. you and i will stand the test of time and overcome the worst encounters. i love you more than words could describe.\"',\n ' \" : thanks to your kind heart, your generosity, and heartwarming assurance, life has become much better. we deserve each other plus all the happiness in the world.  \"',\n ' \" : every day, i wish you laughter, sweet memories, and helpful adventures to make you the most enlightened person. nothing brings me joy like knowing i have a smart woman for a partner. thank you for holding me down this whole time.  \"',\n ' \" : with you, i realized what it meant to be in love and to be loved in return. i’ve become so selfish that i don’t want to stay a day without you. you are my dream, my prize, and my heart’s desire. \"',\n '  : call me crazy because i’m about to write your name in the sky for the whole world to see how much you mean to me. i love you! ',\n ' \" : if there’s another lifetime, i’ll keep choosing you over and over again my love. i can’t imagine a life without you, darling.  \"',\n ' \" : honey, i just want to let you know that i’ll always be around regardless of the tough situations. this love will last forever, so please allow me to love you more than i already do, baby. \"',\n ' \" : be my juliet and let me be your romeo. be my bonnie and let me be your clyde. be my rose and let me be your jack, i don’t mind sinking in this ship of love with you my love. \"',\n ' \" : you share my dreams baby, and i share yours. in you, i found someone stronger than anyone i know, i found love deeper than i ever expected. you surprise me with everything you do, and i just want to be your man forever. be mine always. \"',\n '  : it’s hard to explain myself or to put all this together in one statement. the only easy course is me loving you. just one look into your eyes makes everything in the world and my life glow.  ',\n ' \" : you make me want to see the sunrise every day, to know i have another day to hold you by my side and love you with all i have. i treasure you, baby girl.  \"',\n ' \" : if i was a lion, i would roar so majestically in the jungle to let you know how much i love you. if i was a dancer, i would break my waist to show how much you mean to me. i love you, my heart’s desire! \"',\n ' \" : most people concentrate on how fast-paced their lives are, but all i can think of is how  \"',\n ' \" : each time my phone rings or vibrates, you are the first person that comes to mind. if there was a way to spend every minute of every hour with you for the rest of my life, i would be the happiest person alive.  \"',\n ' \" : in a world where people are motivated by various factors and dreams, my sole motivation is you and the future i want us to have. cheers to a brighter future. \"',\n '  : i can’t comprehend which is better between waking up next to you or sleeping next to you every day. hurry back home so i can conclude.  ',\n ' \" : darling, you’re the true definition of beauty. your majesty shines through my life and it makes my life colorful. shine on baby! \"',\n ' \" : you’re my last love, everything i ever desire, i find in you and more. keep blessing me with your love baby. \"',\n ' \" : when we met, i pretended to be a strong man with a lot of walls built around my heart, but you demolished those walls and found your way in. i never planned on loving you but now my life will go astray if you leave me. i love you. \"',\n ' \" : as water keeps a plant growing, petrol keeps a car moving, so does your love keep me going. your love strengthens me when i’m weak, makes me smile when i’m sad and gives me hope when i’m lifeless. i love you. \"',\n ' \" : stay with me, don’t go far away from me because a day without you is a total blackout. come back and light up my dark world. i love you, my sunshine. \"',\n ' \" : sweeter than honey, brighter than the stars at night, beautiful than a peacock, calm like a dove, you’re just outstanding in every way, my queen. i love you, baby. \"',\n ' \" : i live for you baby. you’re the key that opens my heart, the queen of my heart and you captivate my soul with your charming smile. i promise to love you forever. \"',\n ' \" : i would stand in the presence of kings, soldiers, commissioners and the whole world at large just to tell them how much you mean to me. i’m not afraid to love you baby, just scared of losing you. please stay with me forever, my princess. \"',\n ' \" : my love, you deserve the best and i would travel thousands of miles just to make you happy. i’m using this medium to tell you i care about you and how i will never stop caring. i love you, wifey. \"',\n ' \" : nothing in this world compares to the joy i have when i’m with you baby. they say love is blind, but i can see it through your eyes baby. you bring me some much joy and all i ever want to do is reciprocate it. i love you, baby. \"',\n ' \" : i’ll be your shoulder to lean on, baby. your soldier in times of battle, your clown when you want to laugh, your advisor when you need counsel. all this, just to show you how much i care about you. no one else comes before you, my love.\"',\n ' \" : by faith, i know we can make this work someday. i will just keep my hopes up. until then, i’ll keep you in my mind. your touch will forever caress me with tenderness, and your kisses will keep the flame in my heart alive. i hope that one day, you and i will be together forever. dearest future girlfriend. \"',\n ' \" : even if i was a musician, i couldn’t find the lyrics to describe you, even as a writer, i couldn’t find the right words to tell you how much you mean to me. you are just too perfect for me. i love you! \"',\n ' \" : from the look in your eyes the first day we met, i knew i was in trouble because of the way you gazed at me. your pretty smile got my heart racing, but i knew it was a new dawn of an endless blissful world. thanks for portraying the truest form of love in my life. i want you forever. \"',\n ' \" : i don’t how life would have turned out had it not been for your support. like a shoulder to the cloth, like the nail to the finger, like the eye to the head, you have been closer than a sister or a brother. thank you for always being my haven. i love you endlessly. \"',\n ' \" : a-times telling you i love you sounds like an understatement because the word love doesn’t encompass what i truly feel for you. if only there was a physical way of measuring exactly how much i love you, then i’d be the happiest person on the planet. forever is just the beginning for us. \"',\n ' \" : baby love, what would life be without you? so tasteless, boring, and not fun. you came into my life, added spices to it and made me so fulfilled. i could never have enough of you. i will love you till the end of our tomorrows.  \"',\n ' \" : if loving you was evil, then i’d have turned hellfire to my heaven. if being with you was a crime, i would be ready to become a terrorist. if showing my feelings to you would make me offend everyone in the world, i would be ready to be alone for the rest of my life. i’m scared of pouring my feelings on you because they are stronger than a rock. i love you so much, my rib. \"',\n '  : what’s the meaning of food without salt? what’s the meaning of having eyes that can’t see? tell me what’s the use of legs that can’t walk? what’s the use of water that can’t quench thirst? tell me the meaning of my life without you! i love you! ',\n ' \" : everything started like planting grass and it has grown to the size of a forest. how would i ever come out of this love? we started like a dam but now we have grown to an ocean. baby, i fall for you deeper every day. letting go could make me die because you’re my lifejacket.  \"',\n ' \" . i may not be your first love, first kiss, or first date but i just want to be your last everything.\"',\n '  .\\xa0if i was a teardrop in your eye i would roll down onto your lips. but if you were a tear in my eye i would never cry as i would be afraid to lose you.',\n ' \" .\\xa0my world was so empty and dark that it all seemed so meaningless to me. but when i met you, suddenly it felt like the sky over me has lightened up by a thousand stars. i love you!\"',\n '  .\\xa0i was dreaming of an angel to come in my life and shower it with unlimited love. then i woke up and saw you. i realized reality is more beautiful than my dream was. i am lucky to have you!',\n '  .\\xa0it’s hard to find someone willing to stay with you in every up and down of your life. i feel blessed to have you in my life because i know no matter what happens you will never stop loving me!',\n '  .\\xa0love can never be measured. it can only be felt. you have painted my life with the colors of heaven. i don’t want anything else as long as your love is with me!',\n ' \" .\\xa0even if the stars fail to shine and the moon refuses to light up the world, i know i have nothing to fear. i have my guardian angel to look after me, care for me, and love me forever and always. i love you!\"',\n '  .\\xa0you make me forget how to breathe.',\n ' \" .\\xa0nobody is perfect, but you’re so close it’s scary.\"',\n '  .\\xa0all i need is you right here.',\n '  .\\xa0i love you more than i did yesterday but not more than i will tomorrow.',\n '  .\\xa0i always wake up smiling. i think it’s your fault.',\n '  .\\xa0just had to let you know… loving you is the best thing that happened to me.',\n '  .\\xa0the only time i stupidly smile at my phone is when i get text messages from you.',\n '  .\\xa0what is love? it is what makes your cell phone ring every time i send text messages.',\n '  .\\xa0can i borrow a kiss? i promise to give it back.',\n ' \" .\\xa0if there’s anything in life i wouldn’t want to change, it is the chance of meeting you and falling in love with you.\"',\n ' \" .\\xa0your sparkling eyes, beautiful smile, sweet lips, and your entire being just hypnotize me with feelings i adore.\"',\n '  .\\xa0you’re the center of my fantasy because i love you way more than the sun than brighten my day and the moon that keeps the night awake.',\n ' \" .\\xa0you came during the darkest days of my life. i was dispirited and broken inside. and when everything was but a mess, your love shone the brightest. then i started to dream of a bright future with you. i love you. i surely do.\"',\n '  .\\xa0you have this incredible way of making my heart happy.',\n '  .\\xa0i want to be your favorite hello and your hardest goodbye.',\n ' \" . the more i spend time with you, the more i fall in love with you every day. you have a very gentle and beautiful heart that i promise to take care of all my life. i love you!\"',\n '  .\\xa0i was lost and hopeless. but i kept praying for a savior to come in my life. god accepted my prayer and sent you. now i owe you my life for eternity. loving you madly is the only thing i can do perfectly!',\n '  .\\xa0it takes great luck to have someone like you as a boyfriend. i feel blessed every day and every moment for this gift. i will love you till my last breath no matter what life brings before us!',\n ' \" .\\xa0the more i spend time with you, the more i fall in love with you every day. you have a very gentle and beautiful heart that i promise to take care of all my life. i love you!\"',\n ' \" .\\xa0they say love can’t be seen, it can only be felt. but they were wrong. i have seen it many times. i have seen true love for me in your eyes. and it’s the most beautiful thing i have ever seen!\"',\n ' \" .\\xa0thanks for being there for me always. i have never known anyone who could love with such intensity. for me, you are the best lover in this world. i can’t help loving you deeply.\"',\n '  .\\xa0i was lost and hopeless. but i kept praying for a savior to come in my life. god accepted my prayer and sent you. now i owe you my life for eternity. loving you madly is the only thing i can do perfectly!',\n ' \" .\\xa0i can’t decide if the best part of my day is waking up next to you, or going to sleep with you. hurry home so i can compare the two again.\"',\n ' \" .\\xa0whenever my phone vibrates, i hope you’re the reason for it.\"',\n '  .\\xa0everyone has their own motivation to get up in the morning and face the day. you are mine.',\n ' \" .\\xa0keep me embraced with your arms, as for me being in your arms is the safest place in the world. i love you.\"',\n ' \" .\\xa0meeting you was the best thing that has ever happened to me. i feel lucky to have you. i love you, babe.\"',\n '  .\\xa0i always pray to the lord to never get separated from you no matter how many arguments we have. i want our togetherness to last forever.',\n ' \" .\\xa0the mischievous smile you give, whenever i get pissed off at you, does not let me stay angry for long. i love you more than anything.\"',\n '  . you have made me realize that love is the best feeling any human can feel. thank you for coming in my life. i love you.',\n ' \" .\\xa0i don’t need to be known to the whole world, your warm hugs and kisses are all that i want. keep loving me like this forever. i love you.\"',\n '  .\\xa0i cannot imagine surviving all the hardships of my life without your love and support. keep holding my hands tightly forever. i love you.',\n ' \" .\\xa0thanks, sweetheart/ hubby, you are there when i feel sad, you are there when my mood is bad, you always support me in life, you are the only reason why i survive, love you!\"',\n ' \" .\\xa0it’s funny how you can go through life thinking you were complete until you fall in love. now every time we’re apart i feel incomplete, my other half. i love you.\"',\n ' \" .\\xa0most women have a certain degree of fear about growing old, as did i. however, as long as i get the opportunity to grow old with you, i know i’ll be just fine.\"',\n ' \" .\\xa0i know i’m in love. the words: tender, affectionate, handsome, strong, and resilient are no longer a bunch of words. they are you.\"',\n ' \" .\\xa0some women say those butterfly feelings you get in your stomach, only exist when you’re a young schoolgirl. how sad, they have never met a man like you.\"',\n ' \"',\n ' being with you is the easiest choice i have ever made, and i’m so lucky i get to make it every day.',\n ' \"',\n ' \"',\n ' i love you more every day.',\n ' \"',\n ' \"',\n ' i love your honesty, your passion, your resilience, your courage, your partnership, and your smile.',\n ' \"',\n ' \"',\n ' as we grow separately, we also grow together, and it’s truly a privilege.',\n ' \"',\n ' \"',\n ' you’re my soulmate, my best friend, my partner, and my confidante. thank you for that.',\n ' \"',\n ' \"',\n ' i want to be your favorite hello and your hardest goodbye.',\n ' \"',\n ' \"',\n ' your smile takes my breath away. it took my breath away on the day we met, on our wedding day, today, and every day in between.',\n ' \"',\n ' \"',\n ' thank you for teaching me what marrying your best friend means.',\n ' \"',\n ' \"',\n ' i wish every day you could see yourself the way i see you. because i see you as absolutely perfect.',\n ' \"',\n ' \"',\n ' when i put my arms around you, i never want to let you go.',\n ' \"',\n ' \"',\n ' my life was black and white until you came in and added color.',\n ' \"',\n ' \"',\n ' i feel safest and happiest when i’m in your arms.',\n ' \"',\n ' \"',\n ' i choose you every day, and i’m so lucky you choose me, too.',\n ' \"',\n ' \"',\n ' i didn’t know what marrying your best friend meant until i met you.',\n ' \"',\n ' \"',\n ' you’re my first thought every morning and my last thought before i go to sleep.',\n ' \"',\n ' \"',\n ' you inspire a love in me that i never knew was possible.',\n ' \"',\n ' \"',\n ' i can’t wait to come home to you tonight.',\n ' \"',\n ' \"',\n ' i love you more than pizza. and i really love pizza.',\n ' \"',\n ' \"',\n ' i am so lucky to have you by my side today, tomorrow, and forever.',\n ' \"',\n ' \"',\n ' you make my heart soar, my mind race, and my lips form a perfect smile.',\n ' \"',\n ' \"',\n ' there are a million ways to say how much i love you that i truly don’t know where to start.',\n ' \"',\n ' \"',\n ' thank you for lifting me up when i’m at my best and my worst. i promise to always return the favor. (then reflect on times when you have each pushed each other to be better, or been there for each other.)',\n ' \"',\n ' \"',\n ' there are a million words to describe our love, but let’s start with this one: everlasting. (then give a few other words that describe your love and explain why.)',\n ' \"',\n ' \"',\n ' i’ll take care of you, and you’ll take care of me. (discuss your partnership and how you appreciate being there for each other  / .)',\n ' \"',\n ' \"',\n ' i want to explore your eyes, the curves of your face, and the pout of your lips forever. (tell him what else you want to explore.)',\n ' \"',\n ' \"',\n ' i’d say you’re my dream come true, but that would be an understatement. (explain why he’s better than a “dream come true” or a “prince charming.”)',\n ' \"',\n ' \"',\n ' i love who you are, i love who you were, i love who you are becoming. (then add a sentence about her in the past, present, and future.)',\n ' \"',\n ' \"',\n ' i get lost in your eyes, i feel safe in your touch. (then explain how she moves each one of your senses.)',\n ' \"',\n ' \"',\n ' you are beautiful when you wake, beautiful before your hair is brushed, beautiful at work, beautiful when you’re all dressed up, and beautiful on the couch in sweatpants. (add examples of when her beauty mesmerizes you.)',\n ' \"',\n ' \"',\n ' you touch every part of my life. (name a few parts of your life that she has changed for the better.)',\n ' \"',\n ' \"',\n ' p.s. i hope you feel beautiful today. (you can also say “i hope you feel as beautiful as you did when ___, and then fill in the blank.)',\n ' \"',\n ' \"',\n ' “we were together. i forget the rest.” - walt whitman',\n ' \"',\n ' \"',\n \" “soul meets soul on lovers' lips.” - percy bysshe shelley\",\n ' \"',\n ' \"',\n ' “in all the world, there is no heart for me like yours.” - maya angelou',\n ' \"',\n ' \"',\n \" “love is like the wind, you can't see it but you can feel it.” - nicholas sparks\",\n ' \"',\n ' \"',\n ' “i loved her and i loved no one else and we had a lovely magic time while we were alone.” - ernest hemingway',\n ' \"',\n ' \"',\n ' “you are my today and all of my tomorrows.“ - leo christopher',\n ' \"',\n ' \"',\n ' “when we are in love, we open to all that life has to offer with passion, excitement, and acceptance.“ - john lennon',\n ' \"',\n ' \"',\n ' “love makes you want to be better. but maybe love, real love, also gives you permission to just be the…[person] you are.” - gillian flynn',\n ' \"',\n ' \"',\n ' \"\"love planted a rose, and the world turned sweet.\"\" - katharine lee bates',\n ' \"',\n ' \"',\n ' “if i had a flower for every time i thought of you, i could walk through my garden forever.” - alfred tennyson',\n ' \"',\n ' \"',\n ' “people say they find love, as if it were an object hidden by a rock. but love takes many forms, and it is never the same for any man and woman.” - mitch albom',\n ' \"',\n ' \"',\n ' “you’re the greatest risk i’ve ever taken. and the greatest reward.” - sylvia day',\n ' \"',\n ' \"',\n ' “true love stories never have endings.” - richard bach',\n ' \"',\n ' \"',\n ' \"\"all, everything that i understand, i only understand because i love.\"\" - leo tolstoy',\n ' \"',\n ' \"',\n ' “to love another person is to see the face of god.” - victor hugo',\n ' \"',\n ' \"',\n ' “lovers are patient and know that the moon needs time to become full.” - rumi',\n ' \"',\n ' \"',\n ' “if you live to be  , i want to live to be   minus one day so i never have to live without you.\"\" - a. a. milne',\n ' \"',\n ' \"',\n ' “i carry your heart (i carry it in my heart).” – e.e. cummings',\n ' \"',\n ' \"',\n ' “you pierce my soul. i am half agony, half hope…i have loved none but you.” - jane austen',\n ' \"',\n ' \"',\n ' “i have died every day waiting for you; darling, don’t be afraid, i have loved you for a thousand years. i’ll love you for a thousand more.” - christina perri\\u200b\\u200b\\u200b\\u200b\\u200b\\u200b',\n ' \"',\n ' \"',\n ' “i love you the more in that i believe you had liked me for my own sake and for nothing else.” - john keats',\n ' \"',\n ' \"',\n ' “you should be kissed and often, and by someone who knows how.” - margaret mitchell',\n ' \"',\n ' \"',\n ' “love makes your soul crawl out from its hiding place.” - zora neale hurston',\n ' \"',\n ' \"',\n ' “it was one of those fine little love stories that can make you smile in your sleep at night.” - hunter thompson',\n ' \"',\n ' \"',\n ' “we loved with a love that was more than love.” - edgar allen poe',\n ' \"',\n ' \"',\n ' \"\"you know you\\'re in love when you can\\'t fall asleep because reality is finally better than your dreams.\"\" - dr. suess',\n ' \"',\n ' \"',\n ' \"\"for the two of us, home isn\\'t a place. it is a person, and we are finally home.\"\" - stephanie perkins',\n ' \"',\n ' \"',\n ' “love is a promise, love is a souvenir, once given never forgotten, never let it disappear.” - john lennon',\n ' \"',\n ' \"',\n ' “i love you, not only for what you are, but for what i am when i am with you.” - roy croft',\n ' \"',\n ' \"',\n ' \"\"whatever our souls are made of, his and mine are the same.\"\" - emily bronte',\n ' \"',\n ' \"',\n ' “i love you without knowing how, or when, or from where. i love you simply, without problems or pride.” - pablo neruda',\n ' \"',\n ' \"',\n ' “to love is to burn, to be on fire.” - jane austen',\n ' \"',\n ' \"',\n ' “i have found the paradox, that if you love until it hurts, there can be no more hurt, only more love.” - mother teresa',\n ' \"',\n ' \"',\n ' “where there is love there is life.” - mahatma gandhi',\n ' \"',\n ' \"',\n ' “to love and be loved is to feel the sun from both sides.” - david viscott',\n ' \"',\n ' \"',\n ' \"\"at the touch of love everyone becomes a poet.\"\" - plato',\n ' \"',\n ' \"',\n ' “when you realize you want to spend the rest of your life with somebody, you want the rest of your life to start as soon as possible.” - nora ephron',\n ' \"',\n ' \"',\n ' “we would be together and have our books and at night be warm in bed together with the windows opens and the stars bright.” - ernest hemingway',\n ' \"',\n ' \"',\n ' “the most important thing in life is to learn how to give out love, and to let it come in.” - mitch albom',\n ' \"',\n ' \"',\n ' “love me when i least deserve it, because that’s when i really need it.” - swedish proverb',\n ' \"',\n ' \"',\n ' “you are more powerful than you know; you are beautiful just as you are.” - melissa etheridge',\n ' \"',\n ' \"',\n ' “you and i, it’s as though we have been taught to kiss in heaven and sent down to earth together, to see if we know what we were taught.” - boris pasternak',\n ' \"',\n ' \"',\n ' \"\"the best love is the kind that awakens the soul and makes us reach for more, that plants a fire in our hearts and brings peace to our minds.\"\" - nicholas sparks',\n ' \"',\n ' \"',\n ' “i remember who i am when i’m with you.” - nicole christie',\n ' \"',\n ' \"',\n ' “all i’ve ever wanted was to be near you.” - shannon hale',\n ' \"',\n ' \"',\n ' “you are whatever a moon has always meant and whatever a sun will always sing.” - e.e. cummings',\n ' \"',\n ' \"',\n ' “no matter where i went, i always knew my way back to you. you are my compass star.“ - diana peterfreund',\n ' \"',\n ' \"',\n ' “so, i love you because the entire universe conspired to help me find you.” - paulo coehlo',\n ' \"',\n ' \"',\n ' “love is a game that two can play and both win.” - eva gabor',\n ' \"',\n ' \"',\n ' “love is composed of a single soul inhabiting two bodies.“ - aristotle',\n ' \"',\n ' \"',\n ' just so you know, i’m madly in love with you.',\n ' \"',\n ' \"',\n ' counting the hours until we’re together again.',\n ' \"',\n ' \"',\n ' i can’t focus today, and i blame it on you. because i can’t stop thinking about you.',\n ' \"',\n ' \"',\n ' tell me how you’ll kiss me when i see you tonight.',\n ' \"',\n ' \"',\n ' every time i think about you, my heart dances.',\n ' \"',\n ' \"',\n ' it was hard to get out of bed this morning, because i just want to hold you forever.',\n ' \"',\n ' \"',\n ' a friendly reminder that you bring so much joy into my life, and i love you for it.',\n ' \"',\n ' \"',\n ' i want to say i love you in a thoroughly non-corny way, but nothing comes to mind, so let me just say this: i love you.',\n ' \"',\n ' \"',\n ' you are beautiful, sexy, and cute, all at the same time.',\n ' \"',\n ' \"',\n ' plans for the weekend? you, me, cuddling for   hours straight?',\n ' \"',\n ' \"',\n ' i love you like xo.',\n ' \"',\n ' \"',\n ' you’re the cheese to my pizza.',\n ' \"',\n ' \"',\n ' every time we part, i realize i want s’more. *insert fire and chocolate emojis*',\n ' \"',\n ' \"',\n ' i love you more than *insert taco emoji*',\n ' \"',\n ' \"',\n ' you’re my *insert sun emoji* and my *insert stars emoji*',\n ' \"',\n ' \"',\n ' hey there *insert honey emoji*! i just wanted to say i love you.',\n ' \"',\n ' \"',\n ' our puppy and i have big plans to give you a million kisses tonight.',\n ' \"',\n ' \"',\n ' you’re the *insert light bulb emoji* of my life.',\n ' \"',\n ' \"',\n ' me + you = a forever kind of love',\n ' \"',\n ' \"',\n ' here’s the plan for tonight: *insert bento box emoji, movie emoji, wine emoji, and kissing emoji*',\n ' \"',\n ' \"',\n \" you have no idea how much my heart races when i see you.i love when i catch you looking at me.you're weird…but i like it!\",\n ' \"',\n ' \"',\n \" your voice is my favorite sound.so far, every moment we've spent together has been awesome. but i promise you, that the best is yet to come.if only you knew how much those little moments with you matter to me.\",\n ' \"',\n ' \"',\n \" since the time i've met you, i cry a little less, laugh a little harder and smile all the more, just because i have you, my life is a better place.every day with you is a wonderful addition to my life's journey.you're my paradise and i'd happily get stranded on you for a lifetime.just when i think that it is impossible to love you any more than i already do, you prove me wrong.\",\n ' \"',\n ' \"',\n \" some tokens of love and affection never go out of style—and the love letter is certainly one of those! in today's digital age, giving a handwritten letter to your girlfriend or wife is a truly unforgettable romantic gesture that's sure to impress. of course, composing a personalized, honest letter is easier said than done. it can make you feel vulnerable—and you may even find yourself at a loss for words! luckily, these sample love letters for her can give you a great starting point.\",\n ' \"',\n ' \"',\n \" sometimes i just think back to the first time i laid eyes on you. i knew right then that i had found someone incredible. ever since that very moment all i have ever wanted was to be with you. no matter how dark my day is, seeing you always brightens it and makes me realize that with you, i am doing right. your heart is so pure and so forgiving that it will always be the center of my attention, no matter what else is going on in my life. i look forward to this day and many more just like it for you will forever be in my heart.you have gripped my soul with a ferocity reserved for a castaway clinging to a raft in the middle of the ocean. if my soul is the raft, it is your hold that keeps me afloat. don't ever let go. i love you.whenever i am with you, it is like having my emotional batteries recharged with joy. your smile radiates into me. your touch sends little shivers through my body. your presence pleases my mind and your soul pours peace on mine. i love you…madly, sincerely, completely and with no reservation, in a way that is blissfully wonderful.\",\n ' \"',\n ' \"',\n ' since writing was first invented, couples have exchanged romantic letters as a sincere expression of undying love and affection. giving your boyfriend or husband a love letter is a timeless and carefully crafted way to say that you care about him. of course, putting your deepest thoughts about your loved one on paper can be a daunting task. if you need a little inspiration, take a peek at these sample love letters for him to get those writing juices flowing!',\n ' \"',\n ' \"',\n \" i want you to know that there's no one who can replace you. the way you look, the way you always know what i am thinking about, the way you gave me hug when i need it the most, and the way you listen to me is priceless. you have touched me more profoundly than i ever thought you could. i love you.i'm so completely in love with you. i wake to think of you and i sleep to see you in my dreams. everyday seems like a blessing since i have met you. i feel so lucky and honored to be in love with you with all of my heart. thank you for sharing your love with me. it's a truly wonderful gift. i will love you always.you were already on my mind when i woke up this morning. funny how i just can't stop thinking about you. six months ago we hadn't even met, and now you are the most important person in my life. so, i just wanted to say i love you, and i can't wait to see you again.\",\n ' \"',\n ' \"',\n ' love letters may be ageless, but in today\\'s day-and-age, romantic text messages are the easiest way to let your special someone know that you\\'re thinking about her. the best part? sweet texts can pack a big emotional punch without spending a lot of money, time, or effort. whether you\\'re giving your girlfriend a creative \"\"good morning\"\" or shooting your wife a midday compliment complete with emojis, these love text message ideas are sure to make her heart flutter!',\n ' \"',\n ' \"',\n \" you make me forget how to breathe.nobody is perfect, but you're so close it's scary 👌👸all i need is you right here.i love you more than i did yesterday but not more than i will tomorrow ❤\",\n ' \"',\n ' \"',\n \" the only time i stupidly smile at my phone is when i get text messages from you.what is love? it is what makes your cell phone ring every time i send text messages.i always wake up smiling. i think it's your fault.i can't explain the way you make me feel when i hear your voice or see your face, but i adore it.just had to let you know… loving you is the best thing that happened to me 💕\",\n ' \"',\n ' \"',\n \" can i borrow a kiss? i promise to give it back 😘i think you're cuter than any cat picture 🐈if van gogh had you as a subject, the sunflowers would have gone in the trash 🌻🌻🌻if i were a stop light 🚦, i would turn red every time you passed by so that i could stare at you a bit longer.you wanna know who i'm in love with? read the first word again ❤\",\n ' \"',\n ' \"',\n \" 🐳 you be mine forever?you're my 👸🐝🍊 you glad we found each other? you're a great 🎣to honor your beauty, i present you with a dozen red roses 🌹🌹🌹🌹🌹🌹🌹🌹🌹🌹🌹🌹you've turned my life 🔄⬆⬇\",\n ' \"',\n ' \"',\n ' want to let your boyfriend know that he\\'s on your mind first thing in the morning? wish you could give your husband a little midday pick-me-up? luckily, technology has made this not just possible, but easy! sending a romantic sms is a great way to make your man feel good anytime, anywhere. whether you\\'re saying \"\"i love you\"\" in words or emojis, these romantic text messages will help you put a smile on his face.',\n ' \"',\n ' \"',\n \" stop making me think about you! i'm busy.cuddling with you would be perfect right now 💑if nothing lasts forever, can i be your nothing?you make my heart melt! 💕i couldn't ignore you even if i wanted to.\",\n ' \"',\n ' \"',\n \" thank you for always making me feel like the most beautiful woman in the world 💅💄👑👄next time i hug you, i probably won't let go for a long time.i can't decide if the best part of my day is waking up next to you, or going to sleep with you. hurry home so i can compare the two again.everyone has their own motivation to get up in the morning and face the day. you are mine.whenever my phone vibrates, i hope you're the reason for it.\",\n ' \"',\n ' \"',\n \" you're just like bacon . you make everything better.forget the butterflies, i feel the whole zoo when i am with you! 🐻🐼🐨🐯you are my knight in shining boxer shortsyou know i really want you to come over, but you're so hot my air condition bill would skyrocket the second you stepped foot in the door!i know you might be too busy today ⏰, but please add me too in your to-do list ✔\",\n ' \"',\n ' \"',\n \" life without you is like 🍕 without we make a great 🍐i'm 🍹🍷🍺 in ❤ with youyou've 🔒 up my ❤ and thrown away the 🔑you're my 👻\",\n ' \"',\n ' \"',\n \" most everyone would agree that few things in the world are more swoon-worthy than love poetry. after all, sometimes poetry expresses feelings in a way that normal words just can't manage. whether you hope to win her over or steal her heart all over again, these quintessential southern love poems for her are a great way to add a romantic touch to her day!\",\n ' \"',\n ' \"',\n ' \"\"but we loved with a love that was more than love— / i and my annabel lee— / with a love that the wingèd seraphs of heaven coveted her and me.\"\" — \"\"annabel lee,\"\" edgar allan poe\"\"i lov\\'d thee from the earliest dawn, / when first i saw thy beauty\\'s ray,/ and will, until life\\'s eve comes on, / and beauty\\'s blossom fades away; / and when all things go well with thee, / with smiles and tears remember me. / i\\'ll love thee when thy morn is past, / and wheedling gallantry is o\\'er, / when youth is lost in age\\'s blast, / and beauty can ascend no more. / and when life\\'s journey ends with thee, / o, then look back and think of me.\"\" — \"\"early affection,\"\" george moses horton\"\"there\\'s no doubt in my mind / a southern girl was born / for a man to hold, / to sway as one / to the sound of country music, / in his arms he embraces pure gold. / a man is born to love a southern girl / blond hair, black hair, brown hair, / straight or curled, / a man is born to love a southern girl.\"\" — \"\"born to love a southern girl,\"\" steven s. walsky',\n ' \"',\n ' \"',\n \" male poets are often shown composing sonnets for their leading ladies, but many women throughout history have written masterpieces in the name of love. you too can carry on this tradition. tell your man exactly how you feel by channeling the power of the written word. whether you pen a poem yourself or borrow from the classics, your loved one is sure to appreciate the eloquent message you're throwing his way. make your southern romance truly come alive with these love poems for him!\",\n ' \"',\n ' \"',\n ' \"\"love arrives / and in its train come ecstasies / old memories of pleasure / ancient histories of pain. / yet if we are bold, / love strikes away the chains of fear / from our souls. / we are weaned from our timidity / in the flush of love\\'s light / we dare be brave / and suddenly we see / that love costs all we are / and will ever be. / yet it is only love / which sets us free.\"\" — \"\"touched by an angel,\"\" maya angelou\"\"my monkey-wrench man is my sweet patootie; / the lover of my life, my youth and age. / my heart belongs to him and to him only; / the children of my flesh are his and bear his rage / now grown to years advancing through the dozens / the honeyed kiss, the lips of wine and fire / fade blissfully into the distant years of yonder / but all my days of happiness and wonder / are cradled in his arms and eyes entire. / they carry us under the waters of the world / out past the starposts of a distant planet / and creeping through the seaweed of the ocean / they tangle us with ropes and yarn of memories / where we have been together, you and i.\"\" — \"\"love song for alex,  ,\"\" margaret walker\"\"i had not thought of violets late, / the wild, shy kind that spring beneath your feet / in wistful april days, when lovers mate / and wander through the fields in raptures sweet. / the thought of violets meant florists\\' shops, / and bows and pins, and perfumed papers fine; / and garish lights, and mincing little fops / and cabarets and soaps, and deadening wines. / so far from sweet real things my thoughts had strayed, / i had forgot wide fields; and clear brown streams; / the perfect loveliness that god has made,— / wild violets shy and heaven-mounting dreams. / and now—unwittingly, you\\'ve made me dream / of violets, and my soul\\'s forgotten gleam.\"\" — \"\"sonnet,\"\" alice moore dunbar-nelson',\n ' \"',\n ' \"',\n \" in those quiet moments before we surrender to sleep, most of us think of the people in our lives that matter most. sending a good night sms is one of the most simple, yet moving ways to let that special someone know that they're on your mind. it also gives them the perfect ending to even the lousiest of days. send one of these good night text messages and give your loved one the closest thing you can to a good night kiss!\",\n ' \"',\n ' \"',\n \" come to my dreams if you can. i'll kiss you there.tonight i'll fall asleep with you in my heart.you will be the last thing i think of before i fall to sleep and first thing to remember when i wake up.everyday i spend with you is the new best day of my life. can't wait for the morning. good nightmy days are worth it if i can end them with you by my side. good night.sleeping is impossible when all i can think about is you. good night!the brightest thing in this world are your eyes when you look at me. i don't want to see stars, but your eyes. have a good night.before i fall asleep, i always picture what it would feel like to fall asleep in your arms. it's the best feeling in the worldi'm in my bed, you're in your bed. one of us is in the wrong place.every night i love coming back home. because home is being in your arms. goodnight.\",\n ' \"',\n ' \"',\n ' all in all, birthdays are a celebration of a person\\'s existence, so what better time to remind your partner how much you adore them? romantic birthday wishes not only congratulate your sweetheart on their joyous day, but also make them feel appreciated and truly loved. with the help of these romantic birthday messages, you can give your partner a \"\"happy birthday\"\" that\\'s truly unforgettable!',\n ' \"',\n ' \"',\n \" although your birthday only comes once a year, my love for you will last forever. today is your special day, i am glad we are spending it together.i hope your birthday is as incredible as my love is for you. you are very special to me and you deserve an even more special day.there is not enough words in the dictionary to express how much you mean to me, and to express how much i love you. life could not be better without you. you complete every missing part of me. happy birthday, my angel. i love you very much.it doesn't matter where you are or what you are doing, what matters is who you are. i love who you are. happy birthday!congratulations to your parents to have given birth to such a beautiful person many years ago on this day. your birthday reminds me that you are the only person i want to spend my life with. happy birthday!no matter how many birthday cake candles you've got lit, they'll never light up my life like you do. have a good one!i can't put a price on our memories, but i can make them better by adding a few more to the pile! happy birthday, love!wishing you a birthday as perfect as you are for me. enjoy your day to the fullest!every day with you is one great celebration filled only with beautiful moments. i love you baby. happy birthday!you're the reason i enjoy the taste of fine wine, the smell of fresh flowers, and the flavors of the best food. life is good because of you. happy birthday!\",\n ' \"',\n ' \"',\n ' we don\\'t get as many opportunities as we should to tell our partners that we care. in keeping with the spirit of the holiday, valentine\\'s day is the ideal time to write sweet messages for your beloved. need a little inspiration? take a peek at these romantic valentine messages to help you find the perfect words for that \"\"someone special!\"\"',\n ' \"',\n ' \"',\n \" valentine's day only comes once a year, but every day you fill my life with joy. thank you for all you do in our relationship!no matter where i go, the warmest place will always be in your arms. sweetheart i love you today, tomorrow, and forever after.i love you for all that you are, all that you've been, and all that you're yet to bei can't imagine what life would have been like without youfalling in love is like looking at the stars. if you pick one out of the billions and stare at it long enough all the others will melt away.i love all the adventures we have together.as busy as we get, we need to be reminded that we are still sweethearts. valentine's day is a good day for me to stop and realize how wonderful you make me feel. happy valentine's day!when i'm with you, the only place i want to be is closer.i love two things, you and the rose. the rose for one day, and you foreverfor love i'd do anything. for you, i'd do more\",\n ' \"',\n ' \"',\n \" weddings are by their very nature a celebration of love and romance, so why not tell your spouse-to-be exactly how you feel? if your emotions are too overwhelming to articulate, call upon these moving words to help you along. whether you're writing one-of-a-kind wedding vows or a cute pre-ceremony letter to your betrothed, these romantic wedding messages and quotes about love will allow you to put that special touch on your big day!\",\n ' \"',\n ' \"',\n ' when you fall i will pick you up. when you are happy i will share your joy. when you need a friend i will be the first one there. i will always love you.i used to not believe in soulmates. i\\'m here with you because you made me believe.even though i\\'m unsure about most things in life, i am certain that i love you and i will continue to love you forever.if you live to be a hundred, i want to live to be a hundred minus one day, so i\\'m i had never lived without you.i feel like everything in my life has led me to you. my choices, my heartbreaks, my regrets. everything. and when we\\'re together, my past seems worth it. because if i had done one thing differently, i might never have met you.i choose you. and i\\'ll choose you over and over. without pause, without a doubt, in a heartbeat. i\\'ll keep choosing you.i never could grasp the meaning of \"\"perfect\"\"—until i met you. suddenly the definition fell into place and my breath was taken away each moment i spent with you.my soul saw you and it kind of went, \"\"oh, there you are. i\\'ve been looking for you.\"\"\"\"eventually soulmates meet, for they have the same hiding place.\"\" — robert brault\"\"you have me. until every last star in the galaxy dies. you have me.\"\" — amie kaufman, illuminae',\n ' \"',\n ' \"',\n ' when you spend most of the day-to-day with someone you love, it can be easy to take them for granted. anniversaries are a wonderful time to shower your spouse with the attention that they deserve. after all, just because you can already call them \"\"yours\"\" doesn\\'t mean that the romance needs to disappear! giving your wife or husband romantic anniversary messages on your anniversary ensures that they\\'ll never forget why they choose you in the first place!',\n ' \"',\n ' \"',\n ' when i tell you \"\"i love you,\"\" i don\\'t say it out of habit or to make conversation. i say it to remind you that you are the best thing that ever happened to me.the best thing about having forever is you. we are timeless. together, we will always have stability, friendship, laughter and joy. i love you. happy anniversary!i\\'m the tea bag and you are my cup of hot water. being drenched in you brings out the best in me. happy anniversary!growing old together is my favorite gift i\\'ve ever got from you. happy anniversary!\"\"as we grow older together, as we continue to change with age, there is one thing that will never change. i will always keep falling in love with you.\"\" — karen clodfelderif i had my life to live over again…next time i would find you sooner so that i could love you longer. happy anniversary to us!our anniversary marks   more days you\\'ve made me laugh, appreciate you, learn, grow and be oh-so-glad we\\'re together!life can\\'t get any better—i tend to overuse this phrase because my life keeps getting better with you every single day. happy anniversary.the years seem to be going faster and faster. i think that\\'s because i am having more and more fun with you.',\n ' \"',\n ' \"',\n \" making your love known to that special someone is one of those little things that not just keep relationships alive, but also helps them flourish. whether it's a special occasion or simply another day on the calendar, your loved one is sure to appreciate any romantic messages you might leave them!\",\n ' \"',\n ' \" .\\xa0\\xa0 \\xa0you mean the world to me, without you the world is meaningless. i wish to be with you every day.\"',\n ' \" .\\xa0\\xa0 \\xa0you fill my head with your thoughts; you are the apple of my eye. your absence is hard to bear. love you, my dear.\"',\n '  .\\xa0\\xa0 \\xa0days have passed since i saw you. it’s been tough missing you. all i got is memories of how we spent our time together. i miss you.',\n ' \" .\\xa0\\xa0 \\xa0you are so far, yet so near, i can feel you near me, i can’t touch you, but i can hold you close, no matter where you are, you are always in my heart.\"',\n ' \" .\\xa0\\xa0 \\xa0as you admire the beautiful things god has made, remember you are one of them, wonderful and special. i love you.\"',\n ' \" .\\xa0\\xa0 \\xa0when i look at you, i realize how much you’ve been part of my life. how special you are and how much you have always made me happy.\"',\n ' \" .\\xa0\\xa0 \\xa0each time i look at you, i see how much you mean the world to me, i can’t imagine my life without you. i love you.\"',\n ' \" .\\xa0\\xa0 \\xa0you are the sunlight to my day, happiness to my heart, and joy to my life. words cannot express how much i love you.\"',\n ' \" .\\xa0\\xa0 \\xa0you are the reason i work so hard, to make that perfect moment for you. i love you.\"',\n '  .\\xa0\\xa0 \\xa0this is the sweetest thing that ever happened in my life. meeting you. you are my first thought in the morning as well as my last thought before i sleep.',\n ' \" .\\xa0\\xa0 \\xa0the day you came into my life, was the day i crowned you the queen of my heart. from that day i gave you all my heart.\"',\n '  . i can’t imagine facing all the challenges life has to offer without you. you are my strength and inspiration. the reason i work hard is because of you. i love you.',\n ' \" . you are the one who has made me feel this way, this feeling is so magical. i love you to the moon and back.\"',\n ' \" . i don’t need to be famous, all that matters is that i have you. you are my world. i love you so much.\"',\n '  . finally i found my soul mate; you are now part of my life and i will never let you go. i will always love you.',\n ' \" . never leave me, hold my hands tightly. without you in my life, everything is meaningless.\"',\n ' \" . i am so blessed to have someone like you, you are a true treasure. i will always treasure and love you till the end of time.\"',\n ' \" . each time i look at you, i find myself smiling. just because you are perfect the way you are. love you, dear.\"',\n ' \" . every time i pray, i pray for us to be together forever. it’s my wish i make every day.\"',\n ' \" . i had been dreaming about you even before i met you, i am glad i found my dream. i love you!\"',\n ' \" . darling, i promise to love and treasure you all the days of my life, because i love you so much.\"',\n ' \" . without you, i would be lost. you make my dreams true. you are my dream.\"',\n '  . all my life i have been dreaming of an angel to come into my life. my dreams came true when i met you. you are my angel.',\n ' \" . you are beautiful, cute and so caring.\"',\n ' \" . darling, you are the queen of my heart. my love for you will never change. i love you dearly.\"',\n ' \" . you bring joy into my life, i love you\"',\n ' \" . every time we part, i realize i want to be closer to you.\"',\n '  . i love you more than anything in this world. my love for you is immeasurable.',\n '  . you are the love of my life.',\n '  . me and you the love we share is one of a kind. i love you!',\n '  . it is very difficult to have someone willing to be with you at every step of your life. we have been through every up and down together. i will forever love you.',\n ' \" . my world was empty and dark, my life had no purpose. but when i met you, everything changed. i am now at peace knowing you have lightened up my life. i love you.\"',\n '  . your love awakens my soul and it makes me reach for more. it’s like it is burning my heart for you. i love you.',\n ' \" . when i am with you, i feel like i am in heaven, i love you.\"',\n '  . all i have ever wanted is to have you for life',\n ' \" . no matter where i go, i always find my way back to you. darling, you are my compass star.\"',\n ' \" . darling, just want to let you know i am deeply in love with you.\"',\n ' \" . every time i think about you, i can’t focus on anything, my heart skips a beat.\"',\n ' \" . darling, i can only say thank you for standing with me even after everything seemed to work against me. now i know what true love means. you are my love.\"',\n ' \" . every moment i spend time with you, i deeply fall in love with you. you are so beautiful, gentle, and caring. i love you.\"',\n ...]"
          },
          "metadata": {}
        }
      ]
    },
    {
      "cell_type": "code",
      "metadata": {
        "id": "wHHyfhzIC1_O",
        "colab": {
          "base_uri": "https://localhost:8080/"
        },
        "outputId": "f482f2af-ef50-4250-8fa6-f2006fc28c60",
        "cell_id": "00006-073be6ac-63b2-4701-adb9-d945fb2da704",
        "deepnote_to_be_reexecuted": false,
        "source_hash": "c73d852f",
        "execution_millis": 5,
        "execution_start": 1616593556256,
        "deepnote_cell_type": "code"
      },
      "source": "print('Corpus Length:', len(Corpus))",
      "outputs": [
        {
          "output_type": "error",
          "ename": "NameError",
          "evalue": "name 'Corpus' is not defined",
          "traceback": [
            "\u001b[0;31m---------------------------------------------------------------------------\u001b[0m",
            "\u001b[0;31mNameError\u001b[0m                                 Traceback (most recent call last)",
            "\u001b[0;32m<ipython-input-5-090a60c5da1a>\u001b[0m in \u001b[0;36m<module>\u001b[0;34m\u001b[0m\n\u001b[0;32m----> 1\u001b[0;31m \u001b[0mprint\u001b[0m\u001b[0;34m(\u001b[0m\u001b[0;34m'Corpus Length:'\u001b[0m\u001b[0;34m,\u001b[0m \u001b[0mlen\u001b[0m\u001b[0;34m(\u001b[0m\u001b[0mCorpus\u001b[0m\u001b[0;34m)\u001b[0m\u001b[0;34m)\u001b[0m\u001b[0;34m\u001b[0m\u001b[0;34m\u001b[0m\u001b[0m\n\u001b[0m",
            "\u001b[0;31mNameError\u001b[0m: name 'Corpus' is not defined"
          ]
        }
      ],
      "execution_count": null
    },
    {
      "cell_type": "code",
      "metadata": {
        "id": "EhAxvx-6C1_R",
        "cell_id": "00007-b2328ab3-cd39-46fe-990b-cc2462f563c4",
        "deepnote_to_be_reexecuted": false,
        "source_hash": "19893305",
        "execution_millis": 2,
        "execution_start": 1616593556748,
        "deepnote_cell_type": "code"
      },
      "source": "from tensorflow.keras.preprocessing.sequence import pad_sequences\nfrom tensorflow.keras import layers, models\nfrom tensorflow.keras.preprocessing.text import Tokenizer\nfrom tensorflow.keras.callbacks import EarlyStopping\nfrom tensorflow.keras.utils import to_categorical\nfrom tensorflow.keras.layers import Dropout",
      "outputs": [],
      "execution_count": null
    },
    {
      "cell_type": "code",
      "metadata": {
        "id": "Tq0uV6TJC1_S",
        "colab": {
          "base_uri": "https://localhost:8080/"
        },
        "outputId": "e95bdd57-a5e6-4215-b6f2-21d3173edb66",
        "cell_id": "00008-265f352e-de67-44fd-bfa9-da1535293d74",
        "deepnote_to_be_reexecuted": false,
        "source_hash": "cd1e80bf",
        "execution_millis": 14,
        "execution_start": 1616593558136,
        "deepnote_cell_type": "code"
      },
      "source": "tokenizer = Tokenizer()\ntokenizer.fit_on_texts(Corpus)\ntotalWords = len(tokenizer.word_index) + 1\nprint(totalWords)",
      "outputs": [
        {
          "output_type": "error",
          "ename": "NameError",
          "evalue": "name 'Corpus' is not defined",
          "traceback": [
            "\u001b[0;31m---------------------------------------------------------------------------\u001b[0m",
            "\u001b[0;31mNameError\u001b[0m                                 Traceback (most recent call last)",
            "\u001b[0;32m<ipython-input-7-a78af883ecbc>\u001b[0m in \u001b[0;36m<module>\u001b[0;34m\u001b[0m\n\u001b[1;32m      1\u001b[0m \u001b[0mtokenizer\u001b[0m \u001b[0;34m=\u001b[0m \u001b[0mTokenizer\u001b[0m\u001b[0;34m(\u001b[0m\u001b[0;34m)\u001b[0m\u001b[0;34m\u001b[0m\u001b[0;34m\u001b[0m\u001b[0m\n\u001b[0;32m----> 2\u001b[0;31m \u001b[0mtokenizer\u001b[0m\u001b[0;34m.\u001b[0m\u001b[0mfit_on_texts\u001b[0m\u001b[0;34m(\u001b[0m\u001b[0mCorpus\u001b[0m\u001b[0;34m)\u001b[0m\u001b[0;34m\u001b[0m\u001b[0;34m\u001b[0m\u001b[0m\n\u001b[0m\u001b[1;32m      3\u001b[0m \u001b[0mtotalWords\u001b[0m \u001b[0;34m=\u001b[0m \u001b[0mlen\u001b[0m\u001b[0;34m(\u001b[0m\u001b[0mtokenizer\u001b[0m\u001b[0;34m.\u001b[0m\u001b[0mword_index\u001b[0m\u001b[0;34m)\u001b[0m \u001b[0;34m+\u001b[0m \u001b[0;36m1\u001b[0m\u001b[0;34m\u001b[0m\u001b[0;34m\u001b[0m\u001b[0m\n\u001b[1;32m      4\u001b[0m \u001b[0mprint\u001b[0m\u001b[0;34m(\u001b[0m\u001b[0mtotalWords\u001b[0m\u001b[0;34m)\u001b[0m\u001b[0;34m\u001b[0m\u001b[0;34m\u001b[0m\u001b[0m\n",
            "\u001b[0;31mNameError\u001b[0m: name 'Corpus' is not defined"
          ]
        }
      ],
      "execution_count": null
    },
    {
      "cell_type": "code",
      "metadata": {
        "id": "fIh7ggFZC1_U",
        "cell_id": "00009-d2978dbe-2a39-4510-86dc-a67fab49548b",
        "deepnote_to_be_reexecuted": true,
        "source_hash": "5ae51c47",
        "execution_millis": 2,
        "deepnote_cell_type": "code"
      },
      "source": "sequences = []\nfor line in Corpus:\n    tokenList = tokenizer.texts_to_sequences([line])[0]\n    for i in range(1, len(tokenList)):\n        ngramSequence = tokenList[:i+1]\n        sequences.append(ngramSequence)",
      "execution_count": null,
      "outputs": []
    },
    {
      "cell_type": "code",
      "metadata": {
        "id": "iauBE7CvC1_V",
        "colab": {
          "base_uri": "https://localhost:8080/"
        },
        "outputId": "5d554b1e-9f53-4a7a-852b-73ab1685cef0",
        "cell_id": "00010-1c5b7861-5291-4069-9845-ec74cf7b50d2",
        "deepnote_to_be_reexecuted": true,
        "source_hash": "2904054c",
        "execution_millis": 7,
        "deepnote_cell_type": "code"
      },
      "source": "sequences[:5]",
      "execution_count": null,
      "outputs": [
        {
          "output_type": "execute_result",
          "execution_count": 46,
          "data": {
            "text/plain": "[[2, 36],\n [2, 36, 6],\n [2, 36, 6, 19],\n [2, 36, 6, 19, 16],\n [2, 36, 6, 19, 16, 1]]"
          },
          "metadata": {}
        }
      ]
    },
    {
      "cell_type": "code",
      "metadata": {
        "id": "q6Nlxc0CC1_W",
        "cell_id": "00011-e979ec6e-5721-4b4e-a3bf-25d0d5e90b0c",
        "deepnote_to_be_reexecuted": true,
        "source_hash": "cd827ee8",
        "execution_millis": 179,
        "deepnote_cell_type": "code"
      },
      "source": "def padSequences(sequences):\n    maxSequenceLen = max([len(seq) for seq in sequences])\n    sequences = np.array(pad_sequences(sequences, maxlen=maxSequenceLen, padding='pre'))\n    \n    predictors, label = sequences[:,:-1], sequences[:,-1]\n    label = to_categorical(label, num_classes=totalWords)\n    return predictors, label, maxSequenceLen\n\npredictors, label, maxSequenceLen = padSequences(sequences)",
      "execution_count": null,
      "outputs": []
    },
    {
      "cell_type": "code",
      "metadata": {
        "id": "7MOSJGMiC1_X",
        "cell_id": "00012-dd41b6c2-e14b-432a-a3fa-bcee0c509c7c",
        "deepnote_to_be_reexecuted": false,
        "source_hash": "b623e53d",
        "execution_millis": 1,
        "execution_start": 1616588004651,
        "deepnote_cell_type": "code"
      },
      "source": "",
      "outputs": [],
      "execution_count": null
    },
    {
      "cell_type": "code",
      "metadata": {
        "id": "ILLKknKMC1_Y",
        "colab": {
          "base_uri": "https://localhost:8080/"
        },
        "outputId": "882078f1-86ca-4b20-fbba-b4c5d5c93e7b",
        "cell_id": "00013-c4220214-6573-4228-92ee-2d9747960fc5",
        "deepnote_to_be_reexecuted": false,
        "source_hash": "4e6a3b95",
        "execution_millis": 14,
        "execution_start": 1616588005283,
        "deepnote_cell_type": "code"
      },
      "source": "model.summary()",
      "outputs": [
        {
          "output_type": "error",
          "ename": "NameError",
          "evalue": "name 'model' is not defined",
          "traceback": [
            "\u001b[0;31m---------------------------------------------------------------------------\u001b[0m",
            "\u001b[0;31mNameError\u001b[0m                                 Traceback (most recent call last)",
            "\u001b[0;32m<ipython-input-3-5f15418b3570>\u001b[0m in \u001b[0;36m<module>\u001b[0;34m\u001b[0m\n\u001b[0;32m----> 1\u001b[0;31m \u001b[0mmodel\u001b[0m\u001b[0;34m.\u001b[0m\u001b[0msummary\u001b[0m\u001b[0;34m(\u001b[0m\u001b[0;34m)\u001b[0m\u001b[0;34m\u001b[0m\u001b[0;34m\u001b[0m\u001b[0m\n\u001b[0m",
            "\u001b[0;31mNameError\u001b[0m: name 'model' is not defined"
          ]
        }
      ],
      "execution_count": null
    },
    {
      "cell_type": "code",
      "metadata": {
        "id": "oXJLi76mC1_Z",
        "cell_id": "00014-350ad42f-ca98-4313-9567-9c36b1eea6bf",
        "deepnote_to_be_reexecuted": false,
        "source_hash": "33a618b6",
        "execution_millis": 0,
        "execution_start": 1616547261107,
        "deepnote_cell_type": "code"
      },
      "source": "model.compile(loss='categorical_crossentropy', optimizer='adam',\n             metrics=['accuracy'])",
      "execution_count": null,
      "outputs": []
    },
    {
      "cell_type": "code",
      "metadata": {
        "tags": [],
        "cell_id": "00013-7adf492b-8fac-4790-9581-c54735e06c3b",
        "deepnote_to_be_reexecuted": false,
        "source_hash": "b623e53d",
        "execution_start": 1616233522025,
        "execution_millis": 1,
        "deepnote_cell_type": "code"
      },
      "source": "",
      "execution_count": null,
      "outputs": []
    },
    {
      "cell_type": "code",
      "metadata": {
        "colab": {
          "base_uri": "https://localhost:8080/"
        },
        "id": "APD-3BoYC1_a",
        "outputId": "55eceb06-62f0-4b59-9d4c-0f17b1256c06",
        "cell_id": "00015-3b8cfb30-9da8-47c4-bb7b-aae7a2fdc01a",
        "deepnote_cell_type": "code"
      },
      "source": "history = model.fit(predictors, label, epochs=100, callbacks=[EarlyStopping(monitor='loss', patience=10,\n                                                                            restore_best_weights=True)])",
      "execution_count": null,
      "outputs": [
        {
          "output_type": "stream",
          "text": "Epoch 1/100\n646/646 [==============================] - 44s 19ms/step - loss: 6.1172 - accuracy: 0.0705\nEpoch 2/100\n646/646 [==============================] - 12s 19ms/step - loss: 5.4448 - accuracy: 0.0994\nEpoch 3/100\n646/646 [==============================] - 12s 19ms/step - loss: 4.9975 - accuracy: 0.1376\nEpoch 4/100\n646/646 [==============================] - 12s 19ms/step - loss: 4.7011 - accuracy: 0.1683\nEpoch 5/100\n646/646 [==============================] - 12s 19ms/step - loss: 4.3823 - accuracy: 0.2023\nEpoch 6/100\n646/646 [==============================] - 13s 20ms/step - loss: 4.1436 - accuracy: 0.2232\nEpoch 7/100\n646/646 [==============================] - 13s 20ms/step - loss: 3.9700 - accuracy: 0.2370\nEpoch 8/100\n646/646 [==============================] - 12s 19ms/step - loss: 3.7612 - accuracy: 0.2576\nEpoch 9/100\n646/646 [==============================] - 12s 19ms/step - loss: 3.5660 - accuracy: 0.2718\nEpoch 10/100\n646/646 [==============================] - 12s 19ms/step - loss: 3.4146 - accuracy: 0.2876\nEpoch 11/100\n646/646 [==============================] - 12s 19ms/step - loss: 3.2547 - accuracy: 0.3114\nEpoch 12/100\n646/646 [==============================] - 12s 19ms/step - loss: 3.0786 - accuracy: 0.3364\nEpoch 13/100\n646/646 [==============================] - 12s 19ms/step - loss: 2.9249 - accuracy: 0.3605\nEpoch 14/100\n646/646 [==============================] - 13s 20ms/step - loss: 2.7757 - accuracy: 0.3877\nEpoch 15/100\n646/646 [==============================] - 12s 19ms/step - loss: 2.6254 - accuracy: 0.4147\nEpoch 16/100\n646/646 [==============================] - 13s 19ms/step - loss: 2.4955 - accuracy: 0.4368\nEpoch 17/100\n646/646 [==============================] - 12s 19ms/step - loss: 2.4016 - accuracy: 0.4574\nEpoch 18/100\n646/646 [==============================] - 12s 19ms/step - loss: 2.2875 - accuracy: 0.4791\nEpoch 19/100\n646/646 [==============================] - 12s 19ms/step - loss: 2.1841 - accuracy: 0.4983\nEpoch 20/100\n646/646 [==============================] - 12s 19ms/step - loss: 2.0548 - accuracy: 0.5246\nEpoch 21/100\n646/646 [==============================] - 12s 19ms/step - loss: 1.9768 - accuracy: 0.5406\nEpoch 22/100\n646/646 [==============================] - 12s 19ms/step - loss: 1.8838 - accuracy: 0.5640\nEpoch 23/100\n646/646 [==============================] - 12s 19ms/step - loss: 1.8053 - accuracy: 0.5811\nEpoch 24/100\n646/646 [==============================] - 12s 18ms/step - loss: 1.6969 - accuracy: 0.6100\nEpoch 25/100\n646/646 [==============================] - 12s 18ms/step - loss: 1.6369 - accuracy: 0.6180\nEpoch 26/100\n646/646 [==============================] - 12s 19ms/step - loss: 1.5725 - accuracy: 0.6357\nEpoch 27/100\n646/646 [==============================] - 12s 18ms/step - loss: 1.5100 - accuracy: 0.6489\nEpoch 28/100\n646/646 [==============================] - 12s 18ms/step - loss: 1.4296 - accuracy: 0.6745\nEpoch 29/100\n646/646 [==============================] - 12s 19ms/step - loss: 1.3709 - accuracy: 0.6820\nEpoch 30/100\n646/646 [==============================] - 12s 18ms/step - loss: 1.2740 - accuracy: 0.7095\nEpoch 31/100\n646/646 [==============================] - 12s 18ms/step - loss: 1.2526 - accuracy: 0.7164\nEpoch 32/100\n646/646 [==============================] - 12s 19ms/step - loss: 1.1752 - accuracy: 0.7346\nEpoch 33/100\n646/646 [==============================] - 13s 19ms/step - loss: 1.1455 - accuracy: 0.7383\nEpoch 34/100\n646/646 [==============================] - 12s 19ms/step - loss: 1.0680 - accuracy: 0.7621\nEpoch 35/100\n646/646 [==============================] - 12s 18ms/step - loss: 1.0411 - accuracy: 0.7670\nEpoch 36/100\n646/646 [==============================] - 12s 18ms/step - loss: 0.9802 - accuracy: 0.7784\nEpoch 37/100\n646/646 [==============================] - 12s 19ms/step - loss: 0.9417 - accuracy: 0.7882\nEpoch 38/100\n646/646 [==============================] - 12s 18ms/step - loss: 0.8959 - accuracy: 0.8027\nEpoch 39/100\n646/646 [==============================] - 12s 18ms/step - loss: 0.8463 - accuracy: 0.8154\nEpoch 40/100\n646/646 [==============================] - 12s 18ms/step - loss: 0.8175 - accuracy: 0.8208\nEpoch 41/100\n646/646 [==============================] - 12s 19ms/step - loss: 0.7918 - accuracy: 0.8265\nEpoch 42/100\n646/646 [==============================] - 12s 18ms/step - loss: 0.7583 - accuracy: 0.8335\nEpoch 43/100\n646/646 [==============================] - 12s 18ms/step - loss: 0.7085 - accuracy: 0.8447\nEpoch 44/100\n646/646 [==============================] - 12s 18ms/step - loss: 0.6794 - accuracy: 0.8530\nEpoch 45/100\n646/646 [==============================] - 12s 18ms/step - loss: 0.6559 - accuracy: 0.8596\nEpoch 46/100\n646/646 [==============================] - 12s 18ms/step - loss: 0.6366 - accuracy: 0.8614\nEpoch 47/100\n646/646 [==============================] - 12s 18ms/step - loss: 0.5992 - accuracy: 0.8740\nEpoch 48/100\n646/646 [==============================] - 12s 18ms/step - loss: 0.5818 - accuracy: 0.8757\nEpoch 49/100\n646/646 [==============================] - 12s 18ms/step - loss: 0.5503 - accuracy: 0.8845\nEpoch 50/100\n646/646 [==============================] - 12s 18ms/step - loss: 0.5275 - accuracy: 0.8906\nEpoch 51/100\n646/646 [==============================] - 12s 18ms/step - loss: 0.5044 - accuracy: 0.8963\nEpoch 52/100\n646/646 [==============================] - 12s 19ms/step - loss: 0.4867 - accuracy: 0.8960\nEpoch 53/100\n646/646 [==============================] - 12s 19ms/step - loss: 0.4600 - accuracy: 0.9059\nEpoch 54/100\n646/646 [==============================] - 12s 18ms/step - loss: 0.4364 - accuracy: 0.9099\nEpoch 55/100\n646/646 [==============================] - 11s 18ms/step - loss: 0.4269 - accuracy: 0.9113\nEpoch 56/100\n646/646 [==============================] - 12s 18ms/step - loss: 0.4045 - accuracy: 0.9165\nEpoch 57/100\n646/646 [==============================] - 12s 18ms/step - loss: 0.3914 - accuracy: 0.9197\nEpoch 58/100\n646/646 [==============================] - 12s 19ms/step - loss: 0.3760 - accuracy: 0.9224\nEpoch 59/100\n646/646 [==============================] - 12s 19ms/step - loss: 0.3581 - accuracy: 0.9271\nEpoch 60/100\n646/646 [==============================] - 12s 19ms/step - loss: 0.3451 - accuracy: 0.9289\nEpoch 61/100\n646/646 [==============================] - 12s 19ms/step - loss: 0.3407 - accuracy: 0.9309\nEpoch 62/100\n646/646 [==============================] - 12s 19ms/step - loss: 0.3274 - accuracy: 0.9339\nEpoch 63/100\n646/646 [==============================] - 12s 19ms/step - loss: 0.3132 - accuracy: 0.9346\nEpoch 64/100\n646/646 [==============================] - 12s 19ms/step - loss: 0.3015 - accuracy: 0.9367\nEpoch 65/100\n646/646 [==============================] - 12s 19ms/step - loss: 0.2872 - accuracy: 0.9408\nEpoch 66/100\n646/646 [==============================] - 12s 19ms/step - loss: 0.2779 - accuracy: 0.9432\nEpoch 67/100\n646/646 [==============================] - 13s 20ms/step - loss: 0.2681 - accuracy: 0.9437\nEpoch 68/100\n646/646 [==============================] - 12s 19ms/step - loss: 0.2592 - accuracy: 0.9454\nEpoch 69/100\n646/646 [==============================] - 12s 18ms/step - loss: 0.2472 - accuracy: 0.9494\nEpoch 70/100\n646/646 [==============================] - 12s 19ms/step - loss: 0.2457 - accuracy: 0.9477\nEpoch 71/100\n646/646 [==============================] - 12s 19ms/step - loss: 0.2279 - accuracy: 0.9508\nEpoch 72/100\n646/646 [==============================] - 12s 19ms/step - loss: 0.2384 - accuracy: 0.9465\nEpoch 73/100\n646/646 [==============================] - 12s 19ms/step - loss: 0.2285 - accuracy: 0.9500\nEpoch 74/100\n646/646 [==============================] - 13s 19ms/step - loss: 0.2123 - accuracy: 0.9514\nEpoch 75/100\n646/646 [==============================] - 12s 19ms/step - loss: 0.2084 - accuracy: 0.9533\nEpoch 76/100\n646/646 [==============================] - 12s 19ms/step - loss: 0.2060 - accuracy: 0.9528\nEpoch 77/100\n646/646 [==============================] - 12s 19ms/step - loss: 0.2082 - accuracy: 0.9499\nEpoch 78/100\n646/646 [==============================] - 12s 19ms/step - loss: 0.1948 - accuracy: 0.9561\nEpoch 79/100\n646/646 [==============================] - 12s 19ms/step - loss: 0.2148 - accuracy: 0.9479\nEpoch 80/100\n646/646 [==============================] - 12s 19ms/step - loss: 0.1928 - accuracy: 0.9548\nEpoch 81/100\n646/646 [==============================] - 12s 19ms/step - loss: 0.1840 - accuracy: 0.9562\nEpoch 82/100\n646/646 [==============================] - 12s 19ms/step - loss: 0.1757 - accuracy: 0.9565\nEpoch 83/100\n646/646 [==============================] - 12s 19ms/step - loss: 0.1808 - accuracy: 0.9549\nEpoch 84/100\n646/646 [==============================] - 12s 19ms/step - loss: 0.1918 - accuracy: 0.9547\nEpoch 85/100\n646/646 [==============================] - 12s 19ms/step - loss: 0.1714 - accuracy: 0.9564\nEpoch 86/100\n646/646 [==============================] - 12s 19ms/step - loss: 0.1670 - accuracy: 0.9568\nEpoch 87/100\n646/646 [==============================] - 13s 20ms/step - loss: 0.1655 - accuracy: 0.9577\nEpoch 88/100\n646/646 [==============================] - 12s 19ms/step - loss: 0.1641 - accuracy: 0.9555\nEpoch 89/100\n646/646 [==============================] - 12s 19ms/step - loss: 0.1833 - accuracy: 0.9533\nEpoch 90/100\n646/646 [==============================] - 12s 19ms/step - loss: 0.1642 - accuracy: 0.9582\nEpoch 91/100\n646/646 [==============================] - 13s 20ms/step - loss: 0.1557 - accuracy: 0.9575\nEpoch 92/100\n646/646 [==============================] - 12s 19ms/step - loss: 0.1503 - accuracy: 0.9580\nEpoch 93/100\n646/646 [==============================] - 12s 19ms/step - loss: 0.1470 - accuracy: 0.9602\nEpoch 94/100\n646/646 [==============================] - 12s 19ms/step - loss: 0.1674 - accuracy: 0.9529\nEpoch 95/100\n646/646 [==============================] - 12s 19ms/step - loss: 0.1844 - accuracy: 0.9529\nEpoch 96/100\n646/646 [==============================] - 12s 19ms/step - loss: 0.1522 - accuracy: 0.9572\nEpoch 97/100\n646/646 [==============================] - 12s 19ms/step - loss: 0.1470 - accuracy: 0.9580\nEpoch 98/100\n646/646 [==============================] - 12s 19ms/step - loss: 0.1390 - accuracy: 0.9596\nEpoch 99/100\n646/646 [==============================] - 12s 19ms/step - loss: 0.1396 - accuracy: 0.9590\nEpoch 100/100\n646/646 [==============================] - 12s 19ms/step - loss: 0.1692 - accuracy: 0.9524\n",
          "name": "stdout"
        }
      ]
    },
    {
      "cell_type": "code",
      "metadata": {
        "tags": [],
        "cell_id": "00015-f6ece9e3-b919-4030-86a0-2362e6d3901d",
        "deepnote_cell_type": "code"
      },
      "source": "",
      "execution_count": null,
      "outputs": []
    },
    {
      "cell_type": "code",
      "metadata": {
        "id": "u3zbgqx5C1_b",
        "cell_id": "00016-047be88d-4086-4d43-b69c-7e16fc11543a",
        "deepnote_to_be_reexecuted": false,
        "source_hash": "8280b1d2",
        "execution_start": 1616430881439,
        "execution_millis": 2711,
        "deepnote_cell_type": "code"
      },
      "source": "import matplotlib.pyplot as plt\n%matplotlib inline",
      "execution_count": null,
      "outputs": []
    },
    {
      "cell_type": "code",
      "metadata": {
        "colab": {
          "base_uri": "https://localhost:8080/",
          "height": 697
        },
        "id": "JM3I6Ut4L81Q",
        "outputId": "a5661c0d-fea2-44c7-fc35-0c15b97810c3",
        "cell_id": "00017-e9538884-f578-44c1-ac78-4634769c33ca",
        "deepnote_to_be_reexecuted": false,
        "source_hash": "6c19ebf0",
        "execution_millis": 26,
        "execution_start": 1616430897851,
        "deepnote_cell_type": "code"
      },
      "source": "accuracy = history.history['accuracy']\nloss = history.history['loss']\nepochs = range(1, len(accuracy) + 1)\n\nplt.style.use('ggplot')\nfig, (ax1, ax2) = plt.subplots(nrows=2, ncols=1, figsize=(10,10))\nplot = ax1.plot(epochs, accuracy, 'bo', label='Accuracy')\nplot = ax2.plot(epochs, loss, 'bo', label='Loss')\nax1.set(title='Language Model Accuracy', ylabel='Accuracy')\nax2.set(title='Language Model Loss', xlabel='Epochs', ylabel='Loss')\n\nfig.suptitle('Loss/Accuracy of the Language Model', fontsize=16, fontweight = 'bold')",
      "execution_count": null,
      "outputs": [
        {
          "output_type": "error",
          "ename": "NameError",
          "evalue": "name 'history' is not defined",
          "traceback": [
            "\u001b[0;31m---------------------------------------------------------------------------\u001b[0m",
            "\u001b[0;31mNameError\u001b[0m                                 Traceback (most recent call last)",
            "\u001b[0;32m<ipython-input-3-89eb7ecf5e5d>\u001b[0m in \u001b[0;36m<module>\u001b[0;34m\u001b[0m\n\u001b[0;32m----> 1\u001b[0;31m \u001b[0maccuracy\u001b[0m \u001b[0;34m=\u001b[0m \u001b[0mhistory\u001b[0m\u001b[0;34m.\u001b[0m\u001b[0mhistory\u001b[0m\u001b[0;34m[\u001b[0m\u001b[0;34m'accuracy'\u001b[0m\u001b[0;34m]\u001b[0m\u001b[0;34m\u001b[0m\u001b[0;34m\u001b[0m\u001b[0m\n\u001b[0m\u001b[1;32m      2\u001b[0m \u001b[0mloss\u001b[0m \u001b[0;34m=\u001b[0m \u001b[0mhistory\u001b[0m\u001b[0;34m.\u001b[0m\u001b[0mhistory\u001b[0m\u001b[0;34m[\u001b[0m\u001b[0;34m'loss'\u001b[0m\u001b[0;34m]\u001b[0m\u001b[0;34m\u001b[0m\u001b[0;34m\u001b[0m\u001b[0m\n\u001b[1;32m      3\u001b[0m \u001b[0mepochs\u001b[0m \u001b[0;34m=\u001b[0m \u001b[0mrange\u001b[0m\u001b[0;34m(\u001b[0m\u001b[0;36m1\u001b[0m\u001b[0;34m,\u001b[0m \u001b[0mlen\u001b[0m\u001b[0;34m(\u001b[0m\u001b[0maccuracy\u001b[0m\u001b[0;34m)\u001b[0m \u001b[0;34m+\u001b[0m \u001b[0;36m1\u001b[0m\u001b[0;34m)\u001b[0m\u001b[0;34m\u001b[0m\u001b[0;34m\u001b[0m\u001b[0m\n\u001b[1;32m      4\u001b[0m \u001b[0;34m\u001b[0m\u001b[0m\n\u001b[1;32m      5\u001b[0m \u001b[0mplt\u001b[0m\u001b[0;34m.\u001b[0m\u001b[0mstyle\u001b[0m\u001b[0;34m.\u001b[0m\u001b[0muse\u001b[0m\u001b[0;34m(\u001b[0m\u001b[0;34m'ggplot'\u001b[0m\u001b[0;34m)\u001b[0m\u001b[0;34m\u001b[0m\u001b[0;34m\u001b[0m\u001b[0m\n",
            "\u001b[0;31mNameError\u001b[0m: name 'history' is not defined"
          ]
        }
      ]
    },
    {
      "cell_type": "code",
      "metadata": {
        "id": "L1oOJwmOL_gK",
        "cell_id": "00018-10b01f27-1cb0-4e80-b320-053dd5a9d5e2",
        "deepnote_to_be_reexecuted": false,
        "source_hash": "291420bc",
        "execution_millis": 0,
        "execution_start": 1616547278267,
        "deepnote_cell_type": "code"
      },
      "source": "def generateText(seed): \n    tokenizer = Tokenizer()  #A text seed is provided\n    for wordLength in range(45):   #Generates a text with a range of word length\n        tokenList = tokenizer.texts_to_sequences([seed])[0]  #Turns the seed into sequences\n        tokenList = pad_sequences([tokenList], maxlen=maxSequenceLen - 1, padding='pre')\n        predicted = model.predict_classes(tokenList, verbose=0) #Predicts the next sequence(generated\n        outputWord = \" \"                                         #text)  \n        for word, index in tokenizer.word_index.items():\n            if index == predicted:\n                outputWord = word\n                break\n        seed += \" \" + outputWord     #Returns the seed plus generated text\n    return seed",
      "execution_count": null,
      "outputs": []
    },
    {
      "cell_type": "code",
      "metadata": {
        "colab": {
          "base_uri": "https://localhost:8080/",
          "height": 106
        },
        "id": "cfXaZ9HtMCTY",
        "outputId": "96cb29d8-7e8a-4f98-c36e-ba1c9b5ed70f",
        "cell_id": "00019-12f816c6-7198-4efa-a645-ed2ec4292a6b",
        "deepnote_to_be_reexecuted": false,
        "source_hash": "b2867ec",
        "execution_millis": 2199,
        "execution_start": 1616547279051,
        "deepnote_cell_type": "code"
      },
      "source": "generateText('my love')",
      "execution_count": null,
      "outputs": [
        {
          "output_type": "execute_result",
          "execution_count": 53,
          "data": {
            "text/plain": "'my love                                                                                          '"
          },
          "metadata": {}
        }
      ]
    },
    {
      "cell_type": "code",
      "metadata": {
        "colab": {
          "base_uri": "https://localhost:8080/",
          "height": 106
        },
        "id": "iLIHZi02MEgn",
        "outputId": "70bc745a-cf05-4a16-94d1-e7b0ba72baca",
        "cell_id": "00020-4624e05b-4208-427b-94c9-31ff7073765f",
        "deepnote_to_be_reexecuted": false,
        "source_hash": "924827dc",
        "execution_millis": 2177,
        "execution_start": 1616546914405,
        "deepnote_cell_type": "code"
      },
      "source": "generateText('Honey')",
      "execution_count": null,
      "outputs": [
        {
          "output_type": "execute_result",
          "execution_count": 37,
          "data": {
            "text/plain": "'Honey                                                                                          '"
          },
          "metadata": {}
        }
      ]
    },
    {
      "cell_type": "code",
      "metadata": {
        "colab": {
          "base_uri": "https://localhost:8080/",
          "height": 106
        },
        "id": "NUi6C6EiMHip",
        "outputId": "3834ac99-036a-4620-dceb-e6b99afb170c",
        "cell_id": "00021-fb004eaa-b64d-4e68-9780-e3238a280dfa",
        "deepnote_to_be_reexecuted": false,
        "source_hash": "3398aff9",
        "execution_start": 1614784209753,
        "execution_millis": 2240,
        "deepnote_cell_type": "code"
      },
      "source": "generateText('Bumble bee')",
      "execution_count": null,
      "outputs": [
        {
          "output_type": "execute_result",
          "execution_count": 17,
          "data": {
            "text/plain": "'Bumble bee in as you’re i ” coming as same i love i like beautiful and it are you on to on has for the without thank i up always reason and christie ever your day your love to make in and it our and it your'"
          },
          "metadata": {}
        }
      ]
    },
    {
      "cell_type": "code",
      "metadata": {
        "colab": {
          "base_uri": "https://localhost:8080/",
          "height": 106
        },
        "id": "qCL5RZyaMKDQ",
        "outputId": "bdc52090-6a6b-4149-b233-0e45c4f8129c",
        "cell_id": "00022-6fdd3980-0779-4f8c-b850-8680203c72ee",
        "deepnote_cell_type": "code"
      },
      "source": "generateText('Loofu mi')",
      "execution_count": null,
      "outputs": [
        {
          "output_type": "stream",
          "text": "/usr/local/lib/python3.7/dist-packages/tensorflow/python/keras/engine/sequential.py:450: UserWarning: `model.predict_classes()` is deprecated and will be removed after 2021-01-01. Please use instead:* `np.argmax(model.predict(x), axis=-1)`,   if your model does multi-class classification   (e.g. if it uses a `softmax` last-layer activation).* `(model.predict(x) > 0.5).astype(\"int32\")`,   if your model does binary classification   (e.g. if it uses a `sigmoid` last-layer activation).\n  warnings.warn('`model.predict_classes()` is deprecated and '\n",
          "name": "stderr"
        },
        {
          "output_type": "execute_result",
          "data": {
            "application/vnd.google.colaboratory.intrinsic+json": {
              "type": "string"
            },
            "text/plain": "\"Loofu mi you are the most beautiful woman i have ever known you grew a flower in my heart which i call love i love you like everything else as nothing in this world can replace you over on me a happy a little midday i can't\""
          },
          "metadata": {
            "tags": []
          },
          "execution_count": 44
        }
      ]
    },
    {
      "cell_type": "code",
      "metadata": {
        "colab": {
          "base_uri": "https://localhost:8080/",
          "height": 106
        },
        "id": "20aaXqIbMQ5H",
        "outputId": "9b72a858-f3c0-4752-a839-8696ed8b5e12",
        "cell_id": "00023-cafffbc8-9233-4a31-b0ae-2b7efe809e02",
        "deepnote_cell_type": "code"
      },
      "source": "generateText('mi Love')",
      "execution_count": null,
      "outputs": [
        {
          "output_type": "stream",
          "text": "/usr/local/lib/python3.7/dist-packages/tensorflow/python/keras/engine/sequential.py:450: UserWarning: `model.predict_classes()` is deprecated and will be removed after 2021-01-01. Please use instead:* `np.argmax(model.predict(x), axis=-1)`,   if your model does multi-class classification   (e.g. if it uses a `softmax` last-layer activation).* `(model.predict(x) > 0.5).astype(\"int32\")`,   if your model does binary classification   (e.g. if it uses a `sigmoid` last-layer activation).\n  warnings.warn('`model.predict_classes()` is deprecated and '\n",
          "name": "stderr"
        },
        {
          "output_type": "execute_result",
          "data": {
            "application/vnd.google.colaboratory.intrinsic+json": {
              "type": "string"
            },
            "text/plain": "'mi Love is the air i breathe without you my darling i wouldn’t be alive because you have a piece of my heart and that’s why i need you by my side so much i love you my girl i love you my heart’s desire for you'"
          },
          "metadata": {
            "tags": []
          },
          "execution_count": 45
        }
      ]
    },
    {
      "cell_type": "code",
      "metadata": {
        "colab": {
          "base_uri": "https://localhost:8080/",
          "height": 106
        },
        "id": "zo5MUneFMTZG",
        "outputId": "8694d786-bf0d-4c4e-9f91-9f59078456c4",
        "cell_id": "00024-b2243568-49ff-44df-8350-6d314fa51849",
        "deepnote_cell_type": "code"
      },
      "source": "generateText('my Heartbeat')",
      "execution_count": null,
      "outputs": [
        {
          "output_type": "stream",
          "text": "/usr/local/lib/python3.7/dist-packages/tensorflow/python/keras/engine/sequential.py:450: UserWarning: `model.predict_classes()` is deprecated and will be removed after 2021-01-01. Please use instead:* `np.argmax(model.predict(x), axis=-1)`,   if your model does multi-class classification   (e.g. if it uses a `softmax` last-layer activation).* `(model.predict(x) > 0.5).astype(\"int32\")`,   if your model does binary classification   (e.g. if it uses a `sigmoid` last-layer activation).\n  warnings.warn('`model.predict_classes()` is deprecated and '\n",
          "name": "stderr"
        },
        {
          "output_type": "execute_result",
          "data": {
            "application/vnd.google.colaboratory.intrinsic+json": {
              "type": "string"
            },
            "text/plain": "'my Heartbeat god has blessed me with many things but the best part about is what is first day it was a crime which many lives we are weaned or from our memories that days is one of the perfect letter is the ideal time to write'"
          },
          "metadata": {
            "tags": []
          },
          "execution_count": 46
        }
      ]
    },
    {
      "cell_type": "code",
      "metadata": {
        "id": "ebHUFy7pRuTv",
        "cell_id": "00025-f4096576-fdac-49f0-b5b1-e06f0eb8a328",
        "deepnote_to_be_reexecuted": false,
        "source_hash": "85e55b2a",
        "execution_start": 1614784162095,
        "execution_millis": 270,
        "deepnote_cell_type": "code"
      },
      "source": "model = keras.models.load_model('./rosaLove.h5')",
      "execution_count": null,
      "outputs": []
    },
    {
      "cell_type": "code",
      "metadata": {
        "tags": [],
        "cell_id": "00026-9425885e-09ef-4019-a011-891df359c08a",
        "deepnote_to_be_reexecuted": false,
        "source_hash": "839a86ce",
        "execution_millis": 27,
        "execution_start": 1616588019372,
        "deepnote_cell_type": "code"
      },
      "source": "from tensorboard.plugins.hparams import api as hp\nimport tensorflow as tf",
      "outputs": [],
      "execution_count": null
    },
    {
      "cell_type": "code",
      "metadata": {
        "tags": [],
        "cell_id": "00027-fff55dfe-0152-4e40-96f2-70061dbe21cc",
        "deepnote_to_be_reexecuted": false,
        "source_hash": "fabe104b",
        "execution_millis": 0,
        "execution_start": 1616237677573,
        "deepnote_cell_type": "code"
      },
      "source": "HP_NUM_UNITS = hp.HParam('num_units', hp.Discrete([16, 32]))\nHP_DROPOUT = hp.HParam('dropout', hp.RealInterval(0.1, 0.2))\nHP_OPTIMIZER = hp.HParam('optimizer', hp.Discrete(['adam', 'sgd']))\n\nMETRIC_ACCURACY = 'accuracy'\n\nwith tf.summary.create_file_writer('logs/hparam_tuning').as_default():\n  hp.hparams_config(\n    hparams=[HP_NUM_UNITS, HP_DROPOUT, HP_OPTIMIZER],\n    metrics=[hp.Metric(METRIC_ACCURACY, display_name='Accuracy')],\n  )\n\ndef run(run_dir, hparams):\n  with tf.summary.create_file_writer(run_dir).as_default():\n    hp.hparams(hparams)  # record the values used in this trial\n    accuracy = create_model(hparams)\n    tf.summary.scalar(METRIC_ACCURACY, accuracy, step=1)",
      "execution_count": null,
      "outputs": []
    },
    {
      "cell_type": "code",
      "metadata": {
        "tags": [],
        "cell_id": "00028-1e5dd800-4aa2-4482-915f-065ab4757c4e",
        "deepnote_to_be_reexecuted": false,
        "source_hash": "dbc7329",
        "execution_start": 1616237699785,
        "execution_millis": 562,
        "deepnote_cell_type": "code"
      },
      "source": "# Clear any logs from previous runs\n!rm -rf ./logs/ ",
      "execution_count": null,
      "outputs": []
    },
    {
      "cell_type": "code",
      "metadata": {
        "tags": [],
        "cell_id": "00029-79b0d931-3c6a-4bd4-826b-3d0eddc47dd0",
        "deepnote_to_be_reexecuted": false,
        "source_hash": "5fbdf0ab",
        "execution_millis": 6,
        "execution_start": 1616237715614,
        "deepnote_cell_type": "code"
      },
      "source": "# Load the TensorBoard notebook extension\n%load_ext tensorboard",
      "execution_count": null,
      "outputs": []
    },
    {
      "cell_type": "code",
      "metadata": {
        "tags": [],
        "cell_id": "00030-e3365b20-a6ba-43b9-8702-a9948700fb04",
        "deepnote_to_be_reexecuted": false,
        "source_hash": "9fc6b55e",
        "execution_start": 1616237747273,
        "execution_millis": 6028,
        "deepnote_cell_type": "code"
      },
      "source": "%tensorboard --logdir logs/hparam_demo",
      "execution_count": null,
      "outputs": [
        {
          "data": {
            "text/plain": "Launching TensorBoard..."
          },
          "metadata": {},
          "output_type": "display_data"
        }
      ]
    },
    {
      "cell_type": "code",
      "metadata": {
        "tags": [],
        "cell_id": "00028-c066d112-7533-4b89-b010-dd23a7346957",
        "deepnote_to_be_reexecuted": false,
        "source_hash": "2c8ca1f5",
        "execution_millis": 5,
        "execution_start": 1616237802901,
        "deepnote_cell_type": "code"
      },
      "source": "model.fit(\n    ...,\n    callbacks=[\n        tf.keras.callbacks.TensorBoard(logdir),  # log metrics\n        hp.KerasCallback(logdir, hparams),  # log hparams\n    ],\n)",
      "execution_count": null,
      "outputs": [
        {
          "output_type": "error",
          "ename": "NameError",
          "evalue": "name 'logdir' is not defined",
          "traceback": [
            "\u001b[0;31m---------------------------------------------------------------------------\u001b[0m",
            "\u001b[0;31mNameError\u001b[0m                                 Traceback (most recent call last)",
            "\u001b[0;32m<ipython-input-82-7015fd080d0b>\u001b[0m in \u001b[0;36m<module>\u001b[0;34m\u001b[0m\n\u001b[1;32m      2\u001b[0m     \u001b[0;34m...\u001b[0m\u001b[0;34m,\u001b[0m\u001b[0;34m\u001b[0m\u001b[0;34m\u001b[0m\u001b[0m\n\u001b[1;32m      3\u001b[0m     callbacks=[\n\u001b[0;32m----> 4\u001b[0;31m         \u001b[0mtf\u001b[0m\u001b[0;34m.\u001b[0m\u001b[0mkeras\u001b[0m\u001b[0;34m.\u001b[0m\u001b[0mcallbacks\u001b[0m\u001b[0;34m.\u001b[0m\u001b[0mTensorBoard\u001b[0m\u001b[0;34m(\u001b[0m\u001b[0mlogdir\u001b[0m\u001b[0;34m)\u001b[0m\u001b[0;34m,\u001b[0m  \u001b[0;31m# log metrics\u001b[0m\u001b[0;34m\u001b[0m\u001b[0;34m\u001b[0m\u001b[0m\n\u001b[0m\u001b[1;32m      5\u001b[0m         \u001b[0mhp\u001b[0m\u001b[0;34m.\u001b[0m\u001b[0mKerasCallback\u001b[0m\u001b[0;34m(\u001b[0m\u001b[0mlogdir\u001b[0m\u001b[0;34m,\u001b[0m \u001b[0mhparams\u001b[0m\u001b[0;34m)\u001b[0m\u001b[0;34m,\u001b[0m  \u001b[0;31m# log hparams\u001b[0m\u001b[0;34m\u001b[0m\u001b[0;34m\u001b[0m\u001b[0m\n\u001b[1;32m      6\u001b[0m     ],\n",
            "\u001b[0;31mNameError\u001b[0m: name 'logdir' is not defined"
          ]
        }
      ]
    },
    {
      "cell_type": "code",
      "metadata": {
        "tags": [],
        "cell_id": "00029-e322678d-0ea8-4bca-9a38-95506c6a7cab",
        "deepnote_cell_type": "code"
      },
      "source": "session_num = 0\n\nfor num_units in HP_NUM_UNITS.domain.values:\n  for dropout_rate in (HP_DROPOUT.domain.min_value, HP_DROPOUT.domain.max_value):\n    for optimizer in HP_OPTIMIZER.domain.values:\n      hparams = {\n          HP_NUM_UNITS: num_units,\n          HP_DROPOUT: dropout_rate,\n          HP_OPTIMIZER: optimizer,\n      }\n      run_name = \"run-%d\" % session_num\n      print('--- Starting trial: %s' % run_name)\n      print({h.name: hparams[h] for h in hparams})\n      run('logs/hparam_tuning/' + run_name, hparams)\n      session_num += 1\n",
      "execution_count": null,
      "outputs": []
    },
    {
      "cell_type": "code",
      "metadata": {
        "tags": [],
        "cell_id": "00027-bc4388e8-b062-480a-a005-5d3615b384d5",
        "deepnote_to_be_reexecuted": false,
        "source_hash": "1342a75c",
        "execution_millis": 0,
        "execution_start": 1616237624177,
        "deepnote_cell_type": "code"
      },
      "source": "\n\n\n\ndef create_model(x, y, params):\n    model = models.Sequential()\n    model.add(layers.Embedding(totalWords, 64, input_length=maxSequenceLen - 1))\n    model.add(layers.LSTM(128))\n    model.add(layers.Dense(totalWords, activation=params['activation']))\n    model.compile(loss=params['losses'], optimizer=params['optimizer'],\n             metrics=['accuracy'])\n\n\n    H = model.fit(x, y, epochs=params['epochs'], batch_size= params['batch_size'])\n\n    return H, model\n\n\n\n\n",
      "execution_count": null,
      "outputs": []
    },
    {
      "cell_type": "code",
      "metadata": {
        "tags": [],
        "cell_id": "00033-cab16b19-b239-4550-a4a6-47de3f2f2fa4",
        "deepnote_to_be_reexecuted": false,
        "source_hash": "968e03e6",
        "execution_millis": 0,
        "execution_start": 1616237994629,
        "deepnote_cell_type": "code"
      },
      "source": "",
      "execution_count": null,
      "outputs": []
    },
    {
      "cell_type": "code",
      "metadata": {
        "tags": [],
        "cell_id": "00041-94ffa863-101c-49a2-b851-a0c232d9dbd4",
        "deepnote_cell_type": "code"
      },
      "source": "import random\n\nfor i in range(1,20):\n    mul_3 = i*3\n    ",
      "execution_count": null,
      "outputs": []
    },
    {
      "cell_type": "markdown",
      "source": "<a style='text-decoration:none;line-height:16px;display:flex;color:#5B5B62;padding:10px;justify-content:end;' href='https://deepnote.com?utm_source=created-in-deepnote-cell&projectId=1847666d-1024-4ccd-aa0a-538596f06c6f' target=\"_blank\">\n<img style='display:inline;max-height:16px;margin:0px;margin-right:7.5px;' src='data:image/svg+xml;base64,PD94bWwgdmVyc2lvbj0iMS4wIiBlbmNvZGluZz0iVVRGLTgiPz4KPHN2ZyB3aWR0aD0iODBweCIgaGVpZ2h0PSI4MHB4IiB2aWV3Qm94PSIwIDAgODAgODAiIHZlcnNpb249IjEuMSIgeG1sbnM9Imh0dHA6Ly93d3cudzMub3JnLzIwMDAvc3ZnIiB4bWxuczp4bGluaz0iaHR0cDovL3d3dy53My5vcmcvMTk5OS94bGluayI+CiAgICA8IS0tIEdlbmVyYXRvcjogU2tldGNoIDU0LjEgKDc2NDkwKSAtIGh0dHBzOi8vc2tldGNoYXBwLmNvbSAtLT4KICAgIDx0aXRsZT5Hcm91cCAzPC90aXRsZT4KICAgIDxkZXNjPkNyZWF0ZWQgd2l0aCBTa2V0Y2guPC9kZXNjPgogICAgPGcgaWQ9IkxhbmRpbmciIHN0cm9rZT0ibm9uZSIgc3Ryb2tlLXdpZHRoPSIxIiBmaWxsPSJub25lIiBmaWxsLXJ1bGU9ImV2ZW5vZGQiPgogICAgICAgIDxnIGlkPSJBcnRib2FyZCIgdHJhbnNmb3JtPSJ0cmFuc2xhdGUoLTEyMzUuMDAwMDAwLCAtNzkuMDAwMDAwKSI+CiAgICAgICAgICAgIDxnIGlkPSJHcm91cC0zIiB0cmFuc2Zvcm09InRyYW5zbGF0ZSgxMjM1LjAwMDAwMCwgNzkuMDAwMDAwKSI+CiAgICAgICAgICAgICAgICA8cG9seWdvbiBpZD0iUGF0aC0yMCIgZmlsbD0iIzAyNjVCNCIgcG9pbnRzPSIyLjM3NjIzNzYyIDgwIDM4LjA0NzY2NjcgODAgNTcuODIxNzgyMiA3My44MDU3NTkyIDU3LjgyMTc4MjIgMzIuNzU5MjczOSAzOS4xNDAyMjc4IDMxLjY4MzE2ODMiPjwvcG9seWdvbj4KICAgICAgICAgICAgICAgIDxwYXRoIGQ9Ik0zNS4wMDc3MTgsODAgQzQyLjkwNjIwMDcsNzYuNDU0OTM1OCA0Ny41NjQ5MTY3LDcxLjU0MjI2NzEgNDguOTgzODY2LDY1LjI2MTk5MzkgQzUxLjExMjI4OTksNTUuODQxNTg0MiA0MS42NzcxNzk1LDQ5LjIxMjIyODQgMjUuNjIzOTg0Niw0OS4yMTIyMjg0IEMyNS40ODQ5Mjg5LDQ5LjEyNjg0NDggMjkuODI2MTI5Niw0My4yODM4MjQ4IDM4LjY0NzU4NjksMzEuNjgzMTY4MyBMNzIuODcxMjg3MSwzMi41NTQ0MjUgTDY1LjI4MDk3Myw2Ny42NzYzNDIxIEw1MS4xMTIyODk5LDc3LjM3NjE0NCBMMzUuMDA3NzE4LDgwIFoiIGlkPSJQYXRoLTIyIiBmaWxsPSIjMDAyODY4Ij48L3BhdGg+CiAgICAgICAgICAgICAgICA8cGF0aCBkPSJNMCwzNy43MzA0NDA1IEwyNy4xMTQ1MzcsMC4yNTcxMTE0MzYgQzYyLjM3MTUxMjMsLTEuOTkwNzE3MDEgODAsMTAuNTAwMzkyNyA4MCwzNy43MzA0NDA1IEM4MCw2NC45NjA0ODgyIDY0Ljc3NjUwMzgsNzkuMDUwMzQxNCAzNC4zMjk1MTEzLDgwIEM0Ny4wNTUzNDg5LDc3LjU2NzA4MDggNTMuNDE4MjY3Nyw3MC4zMTM2MTAzIDUzLjQxODI2NzcsNTguMjM5NTg4NSBDNTMuNDE4MjY3Nyw0MC4xMjg1NTU3IDM2LjMwMzk1NDQsMzcuNzMwNDQwNSAyNS4yMjc0MTcsMzcuNzMwNDQwNSBDMTcuODQzMDU4NiwzNy43MzA0NDA1IDkuNDMzOTE5NjYsMzcuNzMwNDQwNSAwLDM3LjczMDQ0MDUgWiIgaWQ9IlBhdGgtMTkiIGZpbGw9IiMzNzkzRUYiPjwvcGF0aD4KICAgICAgICAgICAgPC9nPgogICAgICAgIDwvZz4KICAgIDwvZz4KPC9zdmc+' > </img>\nCreated in <span style='font-weight:600;margin-left:4px;'>Deepnote</span></a>",
      "metadata": {
        "tags": [],
        "created_in_deepnote_cell": true,
        "deepnote_cell_type": "markdown"
      }
    }
  ],
  "nbformat": 4,
  "nbformat_minor": 0,
  "metadata": {
    "accelerator": "GPU",
    "colab": {
      "name": "miniRosa.ipynb",
      "provenance": []
    },
    "kernelspec": {
      "display_name": "Python 3",
      "language": "python",
      "name": "python3"
    },
    "language_info": {
      "codemirror_mode": {
        "name": "ipython",
        "version": 3
      },
      "file_extension": ".py",
      "mimetype": "text/x-python",
      "name": "python",
      "nbconvert_exporter": "python",
      "pygments_lexer": "ipython3",
      "version": "3.8.5"
    },
    "deepnote_notebook_id": "99036027-9b84-44d3-94ff-3fdbd51a6a87",
    "deepnote": {},
    "deepnote_execution_queue": []
  }
}