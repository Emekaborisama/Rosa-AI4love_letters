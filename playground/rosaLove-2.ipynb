{
  "cells": [
    {
      "cell_type": "code",
      "metadata": {
        "id": "WgqJnjsB8xxN",
        "deepnote_to_be_reexecuted": false,
        "source_hash": "c7e71e1f",
        "execution_millis": 0,
        "cell_id": "00000-3c3e7473-fd24-4ebc-9419-8fea423f1936",
        "execution_start": 1616593569976,
        "deepnote_cell_type": "code"
      },
      "source": "import numpy as np\nfrom tensorflow import keras\nimport pandas as pd\nimport os",
      "outputs": [],
      "execution_count": null
    },
    {
      "cell_type": "code",
      "metadata": {
        "id": "qjYz-TfW9ev_",
        "deepnote_to_be_reexecuted": false,
        "source_hash": "6efbbcb5",
        "execution_millis": 23,
        "cell_id": "00002-90ac83c6-ed43-4792-ad97-83da86551125",
        "execution_start": 1616593570296,
        "deepnote_cell_type": "code"
      },
      "source": "data = open('tt.txt').read()\n\n\ncorpus = data.lower().split(\"\\n\")\ncorpus",
      "outputs": [
        {
          "output_type": "execute_result",
          "execution_count": 6,
          "data": {
            "text/plain": "['eighteen years eighteen years',\n 'she got one of your kids got you for eighteen years',\n 'i know somebody paying child support for one of his kids',\n 'his baby mama car and crib is bigger than his',\n 'you will see him on tv any given sunday',\n 'win the super bowl and drive off in a hyundai',\n 'she was supposed to buy your shorty tyco with your money',\n 'she went to the doctor got lipo with your money',\n 'she walking around looking like michael with your money',\n 'shouldve got that insured geico for your money',\n 'if you aint no punk',\n 'holla we want prenup we want prenup yeah',\n 'its something that you need to have',\n 'cause when she leave your ass she gon leave with half',\n 'eighteen years eighteen years',\n 'and on the the birthday he found out it wasnt his',\n 'now i aint saying you a gold digger you got needs',\n 'you dont want a dude to smoke but he cant buy weed',\n 'you go out to eat and he cant pay yall cant leave',\n 'theres dishes in the back he gotta roll up your sleeves',\n 'but while yall washin watch him',\n 'he gone make it into a benz out of that datsun',\n 'he got that ambition baby look in his eyes',\n 'this week he mopping floors next week its the fries',\n 'so stick by his side',\n 'i know theres dudes ballin and yeah thats nice',\n 'and they gonna keep calling and trying but you stay right girl',\n 'and when you get on hell leave your ass for a white girl',\n 'let the suicide doors up',\n 'i threw suicides on the tour bus',\n 'i threw suicides on the private jet',\n 'you know what that mean im fly to death',\n 'i step in def jam buildin like im the shit',\n 'tell em give me fifty million or ima quit',\n 'most rappers taste level aint at my waist level',\n 'turn up the bass til its upinyoface level',\n 'dont do no press but i get the most press kit',\n 'plus yo my bitch make your bitch look like precious',\n 'somethin bout mary she gone off that molly',\n 'now the whole party is melted like dal‚àö‚â†',\n 'now everybody is movin they body',\n 'dont sell me apartment ill move in the lobby',\n 'niggas is loiterin just to feel important',\n 'you gon see lawyers and niggas in jordans',\n 'she said ye can we get married at the mall',\n 'i said look you need to crawl fore you ball',\n 'come and meet me in the bathroom stall',\n 'and show me why you deserve to have it all',\n 'ball so hard that shit cray aint it jay',\n 'what she order fish filet',\n 'your whip so cold this old thing',\n 'act like youll ever be around mothafuckas like this again',\n 'bougie girl grab my hand',\n 'fuck that bitch she dont wanna dance',\n 'excuse my french but im in france im just sayin',\n 'prince williams aint do it right if you ask me',\n 'cause i was him i would have married kate and ashley',\n 'whats gucci my nigga whats louis my killa',\n 'whats drugs my dealer whats that jacket margiela',\n 'doctors say im the illest',\n 'cause im suffering from realness',\n 'got my niggas in paris and they going gorillas huh',\n 'break records at louis ate breakfast at gucci',\n 'my girl a superstar all from a home movie',\n 'bow on our arrival the unamerican idols',\n 'what niggas did in paris got em hanging off the eiffel',\n 'yeah im talking business we talking cia',\n 'im talking george tenet i seen him the other day',\n 'he asked me about my maybach think he had the same',\n 'except mine tinted and his might have been rented',\n 'you know white people get money dont spend it',\n 'or maybe they get money buy a business',\n 'i rather buy gold chains and go ignant',\n 'i know spike lee gon kill me but let me finish',\n 'blame it on the pigment we living no limits',\n 'them gold master p ceilings was just a figment',\n 'of our imagination mtv cribs',\n 'now im looking at a crib right next to where tc lives',\n 'thats tom cruise whatever she accuse',\n 'he wasnt really drunk he just had a frew brews',\n 'pass the refreshments a cool cool beverage',\n 'everything i do need a news crews presence',\n 'speedboat swerve homie watch out for the waves',\n 'im way too black to burn from sun rays',\n 'so i just meditate at the home in pompeii',\n 'about how i could build a new rome in one day',\n 'everytime im in vegas they screaming like hes elvis',\n 'but i just wanna design hotels and nail it',\n 'shit is real got me feeling israelian',\n 'like bar refaeli or gisele no thats brazilian',\n 'went through deep depression when my momma passed',\n 'suicide what kinda talk is that',\n 'but i been talking to god for so long',\n 'that if you look at my life i guess hes talking back',\n 'fucking with my clique',\n 'what you doin in the club on a thursday',\n 'she say she only here for her girl birthday',\n 'they ordered champagne but still look thirsty',\n 'rock forever but just turned thirty',\n 'i know i got a bad reputation',\n 'walkingroundalwaysmad reputation',\n 'leaveaprettygirlsad reputation',\n 'start a fight club brad reputation',\n 'i turnt the nightclub out of the basement',\n 'ill turn the plane round your ass keep complainin',\n 'how you gon be mad on vacation',\n 'dutty wining round all these jamaicans',\n 'uh this that prom shit',\n 'this that whatwedodonttellyourmom shit',\n 'this that redcupallonthelawn shit',\n 'got a fresh cut straight out the salon bitch',\n 'i wanna fuck you hard on the sink',\n 'after that give you somethin to drink',\n 'step back cant get spunk on the mink',\n 'i mean damn what would jeromey romey romey rome think',\n 'hey you remember where we first met',\n 'okay i dont remember where we first met',\n 'but hey admittin is the first step',\n 'and hey you know aint nobody perfect',\n 'and i know with the hoes i got the worst rep',\n 'but hey their backstroke im tryna perfect',\n 'and hey ayo we made it thanksgivin',\n 'so hey maybe we can make it to christmas',\n 'she asked me what i wished for on my wishlist',\n 'have you ever asked your bitch for other bitches',\n 'maybe we could still make it to the church steps',\n 'but first you gon remember how to forget',\n 'after all these longass verses',\n 'im tired you tired jesus wept',\n 'coke on her black skin made it stripe like a zebra',\n 'i call that jungle fever',\n 'you will not control the threesome',\n 'just roll the weed up until i get me some',\n 'we formed a new religion',\n 'no sins as long as theres permission',\n 'and deception is the only felony',\n 'so never fuck nobody without telling me',\n 'sunglasses and advil',\n 'last night was mad real',\n 'sun coming up am',\n 'i wonder if they got cabs still',\n 'thinking bout the girl in all leopard',\n 'who was rubbing the wood like kiki shepard',\n 'two tattoos one read no apologies',\n 'the other said love is cursed by monogamy',\n 'its something that the pastor dont preach',\n 'its something that a teacher cant teach',\n 'when we die the money we cant keep',\n 'but we probably spend it all cause the pain aint cheap',\n 'preach',\n 'now if i fuck this model',\n 'and she just bleached her asshole',\n 'and i get bleach on my tshirt',\n 'imma feel like an asshole',\n 'i was high when i met her',\n 'we was down in tribeca',\n 'she get under your skin if you let her',\n 'she get under your skin if youuh',\n 'i dont even want to talk about it',\n 'i dont even want to talk about it',\n 'i dont even want to say nothing',\n 'everybody gon say something',\n 'id be worried if they said nothing',\n 'remind me where i know you from',\n 'she looking like she owe you some',\n 'you know just what we want',\n 'i want to wake up with you in my beautiful morning',\n 'my momma was raised in the era when',\n 'clean water was only served to the fairer skin',\n 'doin clothes you would have thought i had help',\n 'but they wasnt satisfied unless i picked the cotton myself',\n 'you see its broke nigga racism',\n 'thats that dont touch anything in the store',\n 'and its rich nigga racism',\n 'thats that come in please buy more',\n 'what you want a bentley fur coat a diamond chain',\n 'all you blacks want all the same things',\n 'used to only be niggas now everybody playin',\n 'spendin everything on alexander wang',\n 'new slaves',\n 'i throw these maybach keys',\n 'i wear my heart on the sleeve',\n 'i know that we the new slaves',\n 'i see the blood on the leaves',\n 'i see the blood on the leaves',\n 'i see the blood on the leaves',\n 'i know that we the new slaves',\n 'i see the blood on the leaves',\n 'they throwin hate at me',\n 'want me to stay at ease',\n 'fuck you and your corporation',\n 'yall niggas cant control me',\n 'i know that we the new slaves',\n 'i know that we the new slaves',\n 'im bout to wild the fuck out',\n 'im goin bobby boucher',\n 'i know that pussy aint free',\n 'you niggas pussy aint me',\n 'yall throwin contracts at me',\n 'you know that niggas cant read',\n 'throw em some maybach keys',\n 'fuck it cest la vie',\n 'i know that we the new slaves',\n 'yall niggas cant fuck with me',\n 'yall niggas cant fuck with ye',\n 'yall niggas cant fuck with ye',\n 'ill move my family out the country',\n 'so you cant see where i stay',\n 'so go and grab the reporters',\n 'so i can smash their recorders',\n 'see theyll confuse us with some bullshit',\n 'like the new world order',\n 'meanwhile the dea',\n 'teamed up with the cca',\n 'they tryna lock niggas up',\n 'they tryna make new slaves',\n 'see thats that privately owned prison',\n 'get your piece today',\n 'they prolly all in the hamptons',\n 'braggin bout what they made',\n 'fuck you and your hampton house',\n 'ill fuck your hampton spouse',\n 'came on her hampton blouse',\n 'and in her hampton mouth',\n 'yall bout to turn shit up',\n 'im bout to tear shit down',\n 'im bout to air shit out',\n 'now what the fuck they gon say now',\n 'i just need to clear my mind now',\n 'its been racin since the summertime',\n 'now im holdin down the summer now',\n 'and all i want is what i cant buy now',\n 'cause i aint got the money on me right now',\n 'and i told you to wait',\n 'yeah i told you to wait',\n 'so imma need a little more time now',\n 'cause i aint got the money on me right now',\n 'and i thought you could wait',\n 'yeah i thought you could wait',\n 'these bitches surroundin me',\n 'all want something out me',\n 'then they talk about me',\n 'would be lost without me',\n 'we couldve been somebody',\n 'thought youd be different bout it',\n 'now i know you not it',\n 'so lets get on with it',\n 'we couldve been somebody',\n 'stead you had to tell somebody',\n 'lets take it back to the first party',\n 'when you tried your first molly',\n 'and came out of your body',\n 'and came out of your body',\n 'running naked down the lobby',\n 'and you was screamin that you love me',\n 'before the limelight tore ya',\n 'before the limelight stole ya',\n 'remember we were so young',\n 'when i would hold you',\n 'before the blood on the leaves',\n 'i know there aint wrong with me',\n 'something strange is happenin',\n 'you couldve been somebody',\n 'we couldve ugh we couldve been somebody',\n 'or was it on the first party',\n 'when we tried our first molly',\n 'and came out of our body',\n 'and came out of our body',\n 'before they call lawyers',\n 'before you tried to destroy us',\n 'how you gon lie to the lawyer',\n 'its like i dont even know ya',\n 'i gotta bring it back to the nolia',\n 'to all my second string bitches try and get a baby',\n 'trying to get a baby now you talkin crazy',\n 'i dont give a damn if you used to talk to jay z',\n 'he aint with you he with beyonc‚àö¬© you need to stop actin lazy',\n 'she instagram herself like badbitchalert',\n 'he instagram his watch like madrichalert',\n 'he only wanna see that ass in reverse',\n 'twothousanddollar bag with no cash in your purse',\n 'now you sittin courtside wifey on the other side',\n 'gotta keep em separated i call that apartheid',\n 'then she said she impregnated thats the night your heart died',\n 'then you gotta go and tell your girl and report that',\n 'main reason cause your pastor said you cant abort that',\n 'now your driver say that new benz you cant afford that',\n 'all that cocaine on the table you cant snort that',\n 'that goin to that owin money that the court got',\n 'all in on that alimony uh yeahyeah she got you homie yeah',\n 'til death but do your part unholy matrimony',\n 'for my theme song black',\n 'my leather black jeans on black',\n 'my byanymeans on',\n 'pardon im getting my scream on',\n 'enter the kingdom black',\n 'but watch who you bring home',\n 'they see a black man with a white woman',\n 'at the top floor they gone come to kill king kong',\n 'middle america packed in black',\n 'came to see me in my black skin black',\n 'number one question theyre askin',\n 'fuck every question you askin black',\n 'if i dont get ran out by catholics black',\n 'here come some conservative baptists',\n 'claiming im overreactin',\n 'like them black kids in chiraq bitch',\n 'stop all that coon shit black',\n 'early morning cartoon shit black',\n 'this is that goon shit',\n 'fuck up your whole afternoon shit',\n 'im aware im a wolf',\n 'soon as the moon hit',\n 'im aware im a king',\n 'back out the tomb bitch black',\n 'black out the room bitch black',\n 'stop all that coon shit black',\n 'these niggas aint doin shit black',\n 'them niggas aint doin shit',\n 'come on homie what happened',\n 'you niggas aint breathin you gaspin',\n 'these niggas aint ready for action',\n 'readyready for action',\n 'they smile in my face is what i dont like',\n 'they steal your whole sound thats a soundbite',\n 'the media crucify me like they did christ',\n 'they want to find me not breathing like they found mike',\n 'a girlll run her mouth only out of spite',\n 'but i never hit a woman never in my life',\n 'i was in too deep like mekhi phife',\n 'in that pussy so deep i could have drowned twice',\n 'rose gold jesus piece with the brown ice',\n 'eating good vegetarian with the brown rice',\n 'girls kissing girls cause its hot right',\n 'but unless they use a strapon then they not dykes',\n 'they aint about that life they aint about that life',\n 'we hanging out that window its about to be a suge night',\n 'free bump j real nigga for life',\n 'shoutout to derrick rose man that nigga nice',\n 'shout out to lep jay boogie right',\n 'chief keef king louie this is chi right right',\n 'the best living or dead hands down huh',\n 'less talk more head right now huh',\n 'and my eyes more red than the devil is',\n 'and im about to take it to another level bitch',\n 'no matter who you go and get',\n 'aint nobody cold as this',\n 'do the rap and the track triple double no assists',\n 'and my only focus is staying on some bogus shit',\n 'arguing with my older bitch acting like i owe her shit',\n 'i heard that people sing raps to give the track pain',\n 'bought the chain that always give me back pain',\n 'fucking up my money so yeah i had to act sane',\n 'chi nigga but these hoes love my accent',\n 'chick came up to me and said',\n 'this the number to dial',\n 'if you wanna make your your now',\n 'mix that goose and malibu i call it malibooyah',\n 'goddamn yeezy how he hit them with a new style',\n 'know that motherfucker well what you gonna do now',\n 'whatever i want to do gosh its cool now',\n 'know im gonna do ah its the new now',\n 'think you motherfuckers really really need to cool out',\n 'cause youll never get on top of this',\n 'so mommy best advice is just to get on top of this',\n 'have you ever had sex with a pharaoh',\n 'put the pussy in a sarcophagus',\n 'now she claiming that i bruised her esophagus',\n 'head of the class and she just won a swallowship',\n 'im living in the future so the present is my past',\n 'my presence is a present kiss my ass',\n 'this ye nigga',\n 'shoppin for the winter and its just may nigga',\n 'ball so hard man this shit cray nigga',\n 'and you aint gettin money less you got eight figures',\n 'for that jesus piece man ive been saved nigga',\n 'just talked to farrakhan thats sensei nigga',\n 'told him ive been on ten since the th grade nigga',\n 'got a middle finger longer than dikembe my nigga uh',\n 'i dont let em play with me',\n 'i dont let em talk to me no kind of way',\n 'uh they better watch what they say to me',\n 'niggas still gettin popped on the day to day',\n 'yeah i still got the hundred with the small face nigga',\n 'might spend racks on my off day nigga',\n 'you a fake denzel like the allstate nigga',\n 'if you run into me better have allstate with yah',\n 'you a rico suave nigga',\n 'ride round listen to sade nigga',\n 'if you aint with us you in our way nigga',\n 'you an actor you should be on broadway nigga',\n 'cause you do shit the broad way nigga',\n 'your bitch got a ass but my broad way thicker',\n 'late for the class in the hallway nigga',\n 'yeah the dropout at it as always nigga as always',\n 'all day nigga',\n 'i could do this all day boy im finna turn this bitch out',\n 'they need that ye in the streets boy theres been a mothafuckin drought',\n 'dont really matter what i make boy you know i still go wild',\n 'like a light skinned slave boy we in the mothafuckin house',\n 'right now you lookin real sus right now',\n 'i swear ive been on this flight like a month right now',\n 'stupid niggas gettin money forrest gump right now',\n 'shoutout to jackie chan i need to stunt right now',\n 'theyve been lookin at the gram ive been lookin at the grammys',\n 'like huh thats us right now',\n 'days everybody gettin paid',\n 'niggas lookin at me like im worth both mjs',\n 'people saying ye ye take it easy',\n 'gs for the yeezys off of ebay',\n 'niggas do the most and they aint done shit',\n 'only way i can sum it up sumbitch',\n 'i told i told ay ay i told you',\n 'up in the morning miss you bad',\n 'sorry i aint called you back',\n 'same problem my father had',\n 'all his time all he had all he had',\n 'in what he dreamed',\n 'all his cash market crashed',\n 'hurt him bad people get divorced for that',\n 'drops some stacks pops is good',\n 'momma pass in hollywood',\n 'if you ask lost my soul',\n 'driving fast lost control',\n 'off the road jaw was broke',\n 'member we all was broke',\n 'member im coming back',\n 'ill be taking all the stacks',\n 'soon as they like you make em unlike you',\n 'cause kissin people ass is so unlike you',\n 'the only rapper compared to michael',\n 'so heres a few hatinass niggas to fight you',\n 'and heres a few snakeass niggas to bite you',\n 'and i dont even wanna hear bout what niggas might do',\n 'old niggas mentally still in high school',\n 'since the tight jeans they aint never liked you',\n 'pinkass polos with a fuckin backpack',\n 'but everybody know you brought real rap back',\n 'nobody had swag man we the rat pack',\n 'virgil pyrex don c snapback',\n 'ibn diamond chitown shinin',\n 'monop in this bitch again changed the climate',\n 'hop in this bitch again same thing im in',\n 'until the day i get struck by lightning',\n 'i just talked to jesus',\n 'he said what up yeezus',\n 'i said shit im chillin',\n 'tryna stack these millions',\n 'i know he the most high',\n 'but i am a close high',\n 'mi casa su casa',\n 'thats our cosa nostra',\n 'i am a god',\n 'i am a god',\n 'i am a god',\n 'for all my southside niggas that know me best',\n 'i feel like me and taylor might still have sex',\n 'why i made that bitch famous god damn',\n 'i made that bitch famous',\n 'for all the girls that got dick from kanye west',\n 'if you see em in the streets give em kanyes best',\n 'why they mad they aint famous god damn',\n 'they mad theyre still nameless talk that talk man',\n 'her man in the store tryna try his best',\n 'but he just cant seem to get kanye fresh',\n 'but we still hood famous god damn',\n 'yeah we still hood famous',\n 'i be puerto rican day parade floatin',\n 'that benz marina del rey coastin',\n 'she in school to be a real estate agent',\n 'last month i helped her with the car payment',\n 'young and we alive whoo',\n 'we never gonna die whoo',\n 'i just copped a jet to fly over personal debt',\n 'put one up in the sky',\n 'the sun is in my eyes whoo',\n 'woke up and felt the vibe whoo',\n 'no matter how hard they try whoo',\n 'we never gonna die',\n 'hey baby you forgot your ray bans',\n 'and my sheets still orange from your spray tan',\n 'it was more than soft porn for the kman',\n 'she remember my sprinter said i was in the grape van',\n 'uhm well cutie i like your bougie booty',\n 'come erykah badu me well lets make a movie',\n 'hell you know my repertoire is like a wrestler',\n 'i show you the ropes connect the dots',\n 'a country girl that love hollywood',\n 'mama used to cook red beans and rice',\n 'now its dennys in the morning spoil your appetite',\n 'liquor pouring and niggas swarming your section with erection',\n 'smoke in every direction middle finger pedestrians',\n 'rb singers and lesbians rappers and managers',\n 'music and iphone cameras',\n 'this shit unanimous for you its damaging for you i think',\n 'that pussy should only be holding exclusive rights to me i mean',\n 'he flew you in this motherfucker on first class',\n 'even went out his way so you could check in an extra bag',\n 'now you wanna divide the yam like it equate the math',\n 'that shit dont add up youre making him mad as fuck',\n 'she said she came out here to find an alist rapper',\n 'i said baby spin that round and say the alphabet backwards',\n 'youre dealing with malpractice dont kill a good niggas confidence',\n 'just cause he a nerd and you dont know what a condom is',\n 'the head still good though the head still good though',\n 'make me say nam myoho renge kyo',\n 'make a nigga say big words and act lyrical',\n 'make me get spiritual',\n 'make me believe in miracles buddhist monks and capn crunch cereal',\n 'lord have mercy thou will not hurt me',\n 'five buddies all herded up on a thursday',\n 'bottle service head service i came in first place',\n 'the opportunity the proper top of breast and booty cheek',\n 'the pop community i mean these bitches come with union fee',\n 'and i want two of these moving units through consumer streets',\n 'then my shoe released she was kicking in gratuity',\n 'and yeah g i was all for it',\n 'she said k lamar you kind of dumb to be a poet',\n 'imma put you on game for the lames that dont know theyre a rookie',\n 'instagram is the best way to promote some pussy',\n 'friday night tryna make it into the city',\n 'breakneck speeds passenger seat something pretty',\n 'thinking back to how i got here in the first place',\n 'second class bitches wouldnt let me on first base',\n 'a backpack nigga with luxury taste buds',\n 'and the louis vuitton store got all of my pay stubs',\n 'got pussy from beats i did for niggas more famous',\n 'when did i become a list i wasnt even on a list',\n 'strippers get invited to where they only get hired',\n 'when i get on my steve jobs somebody gon get fired',\n 'i was uninspired since lauryn hill retired',\n 'and stacks man you preach it to the choir',\n 'any rumor you ever heard about me was true and legendary',\n 'i done got lewinsky and paid secretaries',\n 'for all my niggas with babies by bitches',\n 'that use they kids as meal tickets',\n 'not knowing the disconnect from the father',\n 'the next generation will be the real victims',\n 'i cant fault em really',\n 'i remember amber told my boy no matter what happens she aint going back to philly',\n 'back to our regularly scheduled programmin',\n 'of weak content and slow jammin',\n 'but dont worry this ones so jammin',\n 'you know it la its so jammin',\n 'i be thinkin every day',\n 'mulholland drive need to put up some god damn barricades',\n 'i be paranoid every time',\n 'the pressure the problem aint i be drivin',\n 'the problem is i be textin',\n 'my psychiatrist got kids that i inspired',\n 'first song they played for me was bout their friend that just died',\n 'textin and drivin down mulholland drive',\n 'thats why id rather take the',\n 'i be worried bout my daughter i be worried bout kim',\n 'but saint is baby ye i aint worried bout him',\n 'i had my life threatened by best friends who had selfish intents',\n 'what im supposed to do',\n 'ride around with a bulletproof car and some tints',\n 'every agent i know know i hate agents',\n 'im too black im too vocal im too flagrant',\n 'something smellin like shit thats the new fragrance',\n 'its just me i do it my way bitch',\n 'some days im in my yeezys some days im in my vans',\n 'if i knew yall made plans i wouldnt have popped the xans',\n 'i know some fans who thought i wouldnt rap like this again',\n 'but the writers block is over emcees cancel your plans',\n 'a yearold yearold with rich nigga problems',\n 'tell my wife that i hate the rolls so i dont never drive it',\n 'it took months to get the maybach all matted out',\n 'and my assistant crashed it soon as they backed it out',\n 'god damn got a bald fade i might slam',\n 'pink fur got nori dressing like cam',\n 'thank god for me',\n 'whole family gettin money thank god for e',\n 'i love rockin jewelry a whole neck full',\n 'bitches say he funny and disrespectful',\n 'i feel like pablo when im workin on my shoes',\n 'i feel like pablo when i see me on the news',\n 'i feel like pablo when im workin on my house',\n 'tell em partys in here we dont need to go out',\n 'we need the turbo thots high speed turbo thots',\n 'dropdrodrodrodrop it like robocop',\n 'she brace herself and hold my stomach good dickll do that',\n 'she keep pushin me back good dickll do that',\n 'she push me back when the dick go too deep',\n 'this good dickll put your ass to sleep',\n 'get money money money money',\n 'big big money money money money',\n 'and as far as real friends tell all my cousins i love em',\n 'even the one that stole the laptop you dirty motherfucker',\n 'damn your lips very soft',\n 'as i turn my blackberry off',\n 'and i turn your bathwater on',\n 'and you turn off your iphone',\n 'careless whispers eye fuckin bitin ass',\n 'neck ears hair legs eating ass',\n 'your pussys too good i need to crash',\n 'your titties let em out free at last',\n 'thank god almighty they free at last',\n 'we was up at the party but we was leavin fast',\n 'had to stop at eleven like i needed gas ouh',\n 'im lyin i needed condoms dont look through the glass',\n 'chasin love all the bittersweet hours lost',\n 'eatin asian pussy all i need was sweet and sour sauce',\n 'tell your boss you need an extra hour off',\n 'get you super wet after we turn the shower off',\n 'uh picked up where we left off',\n 'uh i need you home when i get off',\n 'uh you know i need that wet mouth',\n 'uh i know you need that reptile',\n 'uh she cut from a different textile',\n 'uh she love different kinds of sex now',\n 'uh black girl sippin white wine',\n 'put my fist in her like a civil rights sign',\n 'and grabbed it with a slight grind',\n 'and held it til the right time',\n 'then she came like aaaaahhh',\n 'bitch im back out my coma',\n 'wakin up on your sofa',\n 'when i park my range rover',\n 'slightly scratch your corolla',\n 'okay i smashed your corolla',\n 'im hangin on a hangover',\n 'five years we been over',\n 'ask me why i came over',\n 'one more hit and i can own ya',\n 'one more fuck and i can own ya',\n 'one cold night in october',\n 'pussy had me floatin',\n 'feel like deepak chopra',\n 'pussy had me dead',\n 'might call pac over',\n 'yeezys all on your sofa',\n 'these the red octobers',\n 'still aint learn me no manners',\n 'you love me when i aint sober',\n 'you love me when im hungover',\n 'even when i blow doja',\n 'then her auntie came over',\n 'skinny bitch with no shoulders',\n 'tellin you that im bogus',\n 'bitch you dont even know us',\n 'baby girl hes a loner',\n 'baby girl hes a loner',\n 'latenight organ donor',\n 'after that he disown ya',\n 'after that hes just hopeless',\n 'soul mates become soulless',\n 'when its over its over',\n 'and bitch im back out my coma',\n 'yeezy yeezy yeezy i feel so accomplished',\n 'i done talked a lot of shit but i just did the numbers',\n 'herzog and adidas man you know they love it',\n 'if nike aint have drizzy man they wouldnt have nothin woo',\n 'if nike aint have don c man they wouldnt have nothin ooh',\n 'but im all for the family tell em get your money',\n 'yeezy yeezy yeezy they line up for days',\n 'nike out here bad they cant give shit away',\n 'i stuck to my roots im like jimmy fallon',\n 'i aint dropped the album but the shoes went platinum woo',\n 'every time i talk they say im too aggressive',\n 'i was out here spazzin all yall get the message',\n 'on the field im overreckless on my odell beckham',\n 'ima run the whole election yah',\n 'ive been trending years yall a couple days',\n 'yeezy in the house and we just got appraised',\n 'nike nike treat employees just like slaves',\n 'gave lebron a billi not to run away yo',\n 'thousand dollar fur for nori i just copped it yo',\n 'your baby daddy wont even take your daughter shoppin yo',\n 'i done wore designers i wont wear again',\n 'make em niggas famous they get arrogant',\n 'yeezy yeezy yeezy this is pure luxury',\n 'i give em grey poupon on a dj mustard ah',\n 'if you aint poppin shit then why you rap for haaan',\n 'plus kimoji just shut down the app store ah',\n 'and we made a million a minute we made a million a minute',\n 'yeah we made a million a minute we made a million a minute ah',\n 'do anybody feel bad for bill cosby',\n 'did he forget the names just like steve harvey yo',\n 'tell adidas that we need a million in production yo',\n 'i done told yall all i needed was the infrastructure boom',\n 'now we hottest in the streets it aint no discussion',\n 'james harden swaggy p runnin up the budget yoga flame',\n 'keep the work at my baby mamas mamas house',\n 'im a jerk you need to work you need to call my spouse',\n 'yeezy yeezy take a picture with me on rodeo',\n 'yeezy yeezy yeezy i might do my own hotel',\n 'couches couches couches couches which one should i pick',\n 'i need extra deep i like my bitches extra thick sonic boom',\n 'every time i see the news man it bring me home',\n 'call up dj mano shout out twilite tone',\n 'we just blessed to be alive yeah aint that the truth',\n 'so lets celebrate the life of timbuck',\n 'timbuck timbuck',\n 'im living in that st century doing something mean to it',\n 'do it better than anybody you ever seen do it',\n 'screams from the haters got a nice ring to it',\n 'i guess every superhero need his theme music',\n 'no one man should have all that power',\n 'the clocks ticking i just count the hours',\n 'stop tripping im tripping off the power',\n 'stcentury schizoid man',\n 'the system broken the school is closed the prisons open',\n 'we aint got nothing to lose motherfucker we rolling',\n 'huh motherfucker we rolling',\n 'with some lightskinned girls and some kelly rowlands',\n 'in this white man world we the ones chosen',\n 'so goodnight cruel world ill see you in the morning',\n 'huh ill see you in the morning',\n 'this is way too much i need a moment',\n 'fuck snl and the whole cast',\n 'tell them yeezy said they can kiss my whole ass',\n 'more specifically they can kiss my asshole',\n 'im an asshole you niggas got jokes',\n 'you shortminded niggas thoughts is napoleon',\n 'my furs is mongolian my ice brought the goalies in',\n 'and i embody every characteristic of the egotistic',\n 'he knows hes so fucking gifted',\n 'i just needed time alone with my own thoughts',\n 'got treasures in my mind but couldnt open up my own vault',\n 'my childlike creativity purity and honesty',\n 'is honestly being crowded by these grown thoughts',\n 'reality is catching up with me',\n 'taking my inner child im fighting for custody',\n 'with these responsibilities that they entrusted me',\n 'as i look down at my diamond encrusted piece',\n 'thinking',\n 'colin powells austin powers',\n 'lost in translation with a whole fucking nation',\n 'they say i was the abomination of obamas nation',\n 'well thats a pretty bad way to start the conversation',\n 'at the end of the day god damn it im killing this shit',\n 'i know damn well yall feeling this shit',\n 'i dont need your pussy bitch im on my own dick',\n 'i aint gotta power trip who you going home with',\n 'how ye doing im surviving',\n 'i was drinking earlier now im driving',\n 'where the bad bitches huh where you hiding',\n 'i got the power to make your life so exciting',\n 'dinner with anna wintour racing with anja rubik',\n 'i told you motherfuckers it was more than the music',\n 'in the projects one day to project runway',\n 'we done heard all that loudass talking were used to it',\n 'im from where shorties fucked up doublecupped up',\n 'might even kill somebody and youtube it',\n 'to whoever think their words affect me is too stupid',\n 'and if you can do it better than me then you do it',\n 'we flyer than a parakeet floatin with no parachute',\n 'six thousand dollar pair of shoes we made it to the paris news',\n 'dont talk about style cause i embarrass you',\n 'shut the fuck up when you talk to me fore i embarrass you',\n 'and the whole industry want to fuck your old chick',\n 'only nigga i got respect for is wiz',\n 'and ill admit i had fell in love with kim',\n 'around the same time she had fell in love with him',\n 'well thats cool baby girl do ya thang',\n 'lucky i aint had jay drop him from the team',\n 'la familia roc nation',\n 'we in the building we still keep it basement',\n 'flyer than a parakeet floatin with no parachute',\n 'six thousand dollar pair of shoes i made it to the paris news',\n 'dont talk about style cause ill embarrass you',\n 'shut the fuck up when you talk to me fore i embarrass you',\n 'good music we fresh we fresh',\n 'anything else we detest detest',\n 'bitchass niggas got ass and breasts',\n 'all that said let me ask this question',\n 'i believe theres a god above me',\n 'im just the god of everything else',\n 'i put holes in everything else',\n 'new god flow fuck everything else',\n 'supreme dope dealer write it in bold letters',\n 'they love a niggas spirit like pac at the coachella',\n 'they said pusha aint fit with the umbrella',\n 'but i was good with the yay as a wholesaler',\n 'i think its good that ye got a blow dealer',\n 'a hot temper matched with a cold killer',\n 'i came aboard for more than just to rhyme with him',\n 'think when puff woulda had shyne with him yuugh',\n 'matchin daytonas rose gold on us',\n 'goin h¬¨‚àëa¬¨‚àëm in ibiza done took a toll on us',\n 'but since you overdo it ima pour more',\n 'well if you goin coupe im goin four door',\n 'hold up i aint trying to stunt man',\n 'but the yeezys jumped over the jumpman',\n 'went from most hated to the champion god flow',\n 'i guess thats a feeling only me and lebron know',\n 'im living three dreams biggie smalls dr king',\n 'rodney kings uhh cause',\n 'cause we cant get along no resolution',\n 'til we drown all these haters rest in peace to whitney houston',\n 'cars money girls and the clothes',\n 'aww man you sold your soul',\n 'naww man mad people was frontin',\n 'aww man made somethin from nothin',\n 'picture workin so hard and you cant cut through',\n 'that can mess up your whole life like an uncle that touched you',\n 'what has the world come to im from the',\n 'where cops dont come through and dreams dont come true',\n 'like there the god go in his murcielago',\n 'from workin mcdonalds barely payin the car note',\n 'he even got enough to get his mama a condo',\n 'then they ran up and shot him right in front of his mom',\n 'killings in a weekend killings in a week',\n 'man the summer too hot you can feel it in the street',\n 'welcome to sunday service if you hope to someday serve us',\n 'we got green in our eyes just follow my erick sermon',\n 'did moses not part the water with the cane',\n 'did strippers not make an ark when i made it rain',\n 'did yeezy not get signed by hov and dame',\n 'and ran to jacob and made the new jesus chains',\n 'in jesus name let the choir say',\n 'im on fire ay thats what richard pryor say',\n 'and well annihilate anybody that violate',\n 'ask any dope boy you know they admire ye',\n 'ello ello ello hello white america assassinate my character',\n 'money matrimony yeah they tryna break the marriage up',\n 'who gon act phony or who gone try to embarrass ya',\n 'imma need a day off i think ill call ferris up',\n 'bueller had a muller but i switched it for a mille',\n 'cause im richer and prior to this shit was moving free base',\n 'had a conference with the djs puerto rico three days',\n 'poli with the pds now they got our shit on replay',\n 'sorry im in pajamas but i just got off the pj',\n 'and last party we had they shut down prive',\n 'aint that where the heat play niggas hate ballas these days yep',\n 'aint that like lebron james aint that just like d wade wait',\n 'on a bathroom wall i wrote',\n 'id rather argue with you than be with someone else',\n 'i took a piss and dismiss it like fuck it',\n 'and i went and found somebody else',\n 'fuck arguing and harvesting the feelings',\n 'yo id rather be by my fucking self',\n 'till about two am and i call back',\n 'and i hang up and i start to blame myself',\n 'somebody help',\n 'you werent perfect but you made life worth it',\n 'stick around some real feelings might surface',\n 'been a long time since i spoke to you in a bathroom',\n 'gripping you up fucking and choking you',\n 'what the hell was i supposed to do',\n 'i know you aint getting this type of dick from that local dude',\n 'and if you are i hope you have a good time',\n 'cause i definitely be having mine',\n 'and you aint finna see a mogul get emotional',\n 'every time i hear bout other niggas is strokin you',\n 'lying say i hit you he sitting there consoling you',\n 'running my name through the mud whos provoking you',\n 'you should be grateful a nigga like me ever noticed you',\n 'now you noticeable and cant nobody get control of you',\n 'am and cant nobody get a hold of you',\n 'im calling your brothers phone like what was i supposed to do',\n 'even though i knew he never told the truth',\n 'he was just gon say whatever that you told him to',\n 'at a certain point i had to stop asking questions',\n 'yall got dirt on each other like mud wrestlers',\n 'i heard he bought some coke with my money',\n 'that aint right girl',\n 'you getting blackmailed for that white girl',\n 'you always said yeezy i aint your right girl',\n 'youll probably find one of them i like arttype girls',\n 'all of the lights shewascaughtinthehype girl',\n 'and i was satisfied being in love with the lie',\n 'now who to blame you to blame me to blame',\n 'for the pain and it poured every time when it rained',\n 'lets play the blame game',\n 'things used to be now they not',\n 'anything but us is who we are',\n 'disguising ourselves as secret lovers',\n 'weve become public enemies',\n 'we walk away like strangers in the street',\n 'gone for eternity',\n 'we erased one another',\n 'so far from where we came',\n 'with so much of everything how do we leave with nothing',\n 'lack of visual empathy equates the meaning of love',\n 'hatred and attitude tear us entirely chloe mitchell',\n 'and i know that you are somewhere doing your thing',\n 'and when the phone called it just ring and ring',\n 'you aint pick up but your phone accidentally called me back',\n 'and i heard the whole thing',\n 'i heard the whole thing the whole thing the whole thing',\n 'you gotta let me know if i could be your joseph',\n 'only tell you real shit thats the tea no sip',\n 'dont trip dont trip that pussy slippery no whip',\n 'we aint trippin on shit we just sippin on this',\n 'just forget the whole shit we could laugh about nothin',\n 'i impregnate your mind lets have a baby without fuckin yo',\n 'i know its corny bitches you wish you could unfollow',\n 'i know its corny niggas you wish you could unswallow',\n 'i know its corny bitches you wish you could unfollow',\n 'i know its corny niggas you wish you could unswallow',\n 'i know its corny bitches you wish you could unfollow',\n 'i know its corny niggas you wish you could unswallow',\n 'you tried to play nice everybody just took advantage',\n 'you left your fridge open somebody just took a sandwich',\n 'i said baby what if you was clubbin',\n 'thuggin hustlin before you met your husband',\n 'then i said what if mary was in the club',\n 'fore she met joseph around hella thugs',\n 'cover nori in lambs wool',\n 'we surrounded by the fuckin wolves',\n 'what if mary what if mary',\n 'was in the club was in the club',\n 'fore she met joseph with no love',\n 'cover saint in lambs wool',\n 'and she was we surrounded by',\n 'surrounded by the fuckin wolves',\n 'i been waiting for a minute',\n 'for my lady',\n 'so i cant jeopardize that for one of these hoes',\n 'i been living without limits',\n 'as far as my business',\n 'im the only one thats in control',\n 'i been feeling all ive given',\n 'for my children',\n 'i will die for those i love',\n 'god im willing',\n 'to make this my mission',\n 'give up the women',\n 'before i lose half of what i own',\n 'i been thinking',\n 'about my vision',\n 'pour out my feelings',\n 'revealing the layers to my soul',\n 'my soul',\n 'the layers to my soul',\n 'revealing the layers to my soul',\n 'see before i let you go',\n 'one last thing i need to let you know',\n 'you aint never seen nothing crazier than',\n 'this nigga when he off his lexapro',\n 'remember that last time in mexico',\n 'remember that last time the episode',\n 'asking me why the hell i text in code',\n 'four times just to say dont text me hoe',\n 'told you four times dont test me hoe',\n 'now we finna lose all selfcontrol',\n 'but you aint finna be raising your voice at me',\n 'especially when we in the giuseppe store',\n 'but imma have the last laugh in the end',\n 'cause im from a tribe called check a hoe',\n 'yeah imma have to laugh indian',\n 'cause im from a tribe called check a hoe',\n 'and i',\n 'she find pictures in my email',\n 'i sent this bitch a picture of my dick',\n 'i dont know what it is with females',\n 'but im not too good with that shit',\n 'see i could have me a good girl',\n 'and still be addicted to them hoodrats',\n 'and i just blame everything on you',\n 'at least you know thats what im good at',\n 'never was much of a romantic',\n 'i could never take the intimacy',\n 'and i know i did damage',\n 'cause the look in your eyes is killing me',\n 'i guess you are at an advantage',\n 'cause you can blame me for everything',\n 'and i dont know how imma manage',\n 'if one day you just up and leave',\n 'i had a dream i could buy my way to heaven',\n 'when i awoke i spent that on a necklace',\n 'i told god id be back in a second',\n 'man its so hard not to act reckless',\n 'to whom much is given much is tested',\n 'get arrested guess until he get the message',\n 'i feel the pressure under more scrutiny',\n 'and what i do act more stupidly',\n 'bought more jewelry more louis v',\n 'my momma couldnt get through to me',\n 'the drama people suing me',\n 'im on tv talking like its just you and me',\n 'im just saying how i feel man',\n 'i aint one of the cosbys i aint go to hillman',\n 'i guess the money shouldve changed him',\n 'i guess i shouldve forgot where i came from',\n 'let up the suicide doors',\n 'this is my life homie you decide yours',\n 'i know that jesus died for us',\n 'but i couldnt tell ya who decide wars',\n 'so i parallel double parked that motherfucker sideways',\n 'old folks talking bout back in my day',\n 'but homie this is my day',\n 'class started hours ago oh am i late',\n 'no i already graduated',\n 'and you can live through anything if magic made it',\n 'they say i talk with so much emphasis',\n 'ooh they so sensitive',\n 'dont ever fix your lips like collagen',\n 'and say something when you gon end up apologing',\n 'let me know if its a problem then aight man holla then',\n 'let the champagne splash',\n 'let that man get cash',\n 'let that man get past',\n 'he dont even stop to get gas',\n 'if he can move through the rumors',\n 'he can drive off of fumes cause',\n 'how he move in a room full of nos',\n ...]"
          },
          "metadata": {}
        }
      ],
      "execution_count": null
    },
    {
      "cell_type": "code",
      "metadata": {
        "colab": {
          "base_uri": "https://localhost:8080/",
          "height": 402
        },
        "id": "398oKKIW8xxv",
        "outputId": "53191ea8-ebb8-42df-f7ad-dc2382c071f1",
        "cell_id": "00003-ca445842-8758-49c1-8858-f7f2470d797b",
        "deepnote_to_be_reexecuted": false,
        "source_hash": "b623e53d",
        "execution_millis": 2,
        "execution_start": 1616593571542,
        "deepnote_cell_type": "code"
      },
      "source": "",
      "outputs": [],
      "execution_count": null
    },
    {
      "cell_type": "code",
      "metadata": {
        "colab": {
          "base_uri": "https://localhost:8080/"
        },
        "id": "0Z7aQvCI8xx0",
        "outputId": "09524c4a-f2b4-4df8-ed41-896119657049",
        "output_cleared": false,
        "source_hash": "c9ef6959",
        "cell_id": "00004-5a08957a-ca61-4583-8340-4533e36c2c39",
        "deepnote_to_be_reexecuted": false,
        "execution_millis": 14,
        "execution_start": 1616593571928,
        "deepnote_cell_type": "code"
      },
      "source": "with open(file, encoding='utf-8') as f:\n    Corpus = f.readlines()  \nCorpus = ' '.join(Corpus).lower().split('\\n')\n\nCorpus",
      "outputs": [
        {
          "output_type": "error",
          "ename": "NameError",
          "evalue": "name 'file' is not defined",
          "traceback": [
            "\u001b[0;31m---------------------------------------------------------------------------\u001b[0m",
            "\u001b[0;31mNameError\u001b[0m                                 Traceback (most recent call last)",
            "\u001b[0;32m<ipython-input-7-96ef143284cb>\u001b[0m in \u001b[0;36m<module>\u001b[0;34m\u001b[0m\n\u001b[0;32m----> 1\u001b[0;31m \u001b[0;32mwith\u001b[0m \u001b[0mopen\u001b[0m\u001b[0;34m(\u001b[0m\u001b[0mfile\u001b[0m\u001b[0;34m,\u001b[0m \u001b[0mencoding\u001b[0m\u001b[0;34m=\u001b[0m\u001b[0;34m'utf-8'\u001b[0m\u001b[0;34m)\u001b[0m \u001b[0;32mas\u001b[0m \u001b[0mf\u001b[0m\u001b[0;34m:\u001b[0m\u001b[0;34m\u001b[0m\u001b[0;34m\u001b[0m\u001b[0m\n\u001b[0m\u001b[1;32m      2\u001b[0m     \u001b[0mCorpus\u001b[0m \u001b[0;34m=\u001b[0m \u001b[0mf\u001b[0m\u001b[0;34m.\u001b[0m\u001b[0mreadlines\u001b[0m\u001b[0;34m(\u001b[0m\u001b[0;34m)\u001b[0m\u001b[0;34m\u001b[0m\u001b[0;34m\u001b[0m\u001b[0m\n\u001b[1;32m      3\u001b[0m \u001b[0mCorpus\u001b[0m \u001b[0;34m=\u001b[0m \u001b[0;34m' '\u001b[0m\u001b[0;34m.\u001b[0m\u001b[0mjoin\u001b[0m\u001b[0;34m(\u001b[0m\u001b[0mCorpus\u001b[0m\u001b[0;34m)\u001b[0m\u001b[0;34m.\u001b[0m\u001b[0mlower\u001b[0m\u001b[0;34m(\u001b[0m\u001b[0;34m)\u001b[0m\u001b[0;34m.\u001b[0m\u001b[0msplit\u001b[0m\u001b[0;34m(\u001b[0m\u001b[0;34m'\\n'\u001b[0m\u001b[0;34m)\u001b[0m\u001b[0;34m\u001b[0m\u001b[0;34m\u001b[0m\u001b[0m\n\u001b[1;32m      4\u001b[0m \u001b[0;34m\u001b[0m\u001b[0m\n\u001b[1;32m      5\u001b[0m \u001b[0mCorpus\u001b[0m\u001b[0;34m\u001b[0m\u001b[0;34m\u001b[0m\u001b[0m\n",
            "\u001b[0;31mNameError\u001b[0m: name 'file' is not defined"
          ]
        }
      ],
      "execution_count": null
    },
    {
      "cell_type": "code",
      "metadata": {
        "colab": {
          "base_uri": "https://localhost:8080/"
        },
        "id": "q02FhK4W8xx2",
        "outputId": "3ee6084d-f079-4b86-9ab9-16d99fbb1570",
        "cell_id": "00005-119df904-24fc-439a-8680-76dddbdb7ee2",
        "deepnote_to_be_reexecuted": false,
        "source_hash": "2bc4c9c6",
        "execution_millis": 1,
        "execution_start": 1616593572789,
        "deepnote_cell_type": "code"
      },
      "source": "print('Corpus Length:', len(corpus))",
      "outputs": [
        {
          "name": "stdout",
          "text": "Corpus Length: 6192\n",
          "output_type": "stream"
        }
      ],
      "execution_count": null
    },
    {
      "cell_type": "code",
      "metadata": {
        "id": "lsm9Zdkg8xx4",
        "cell_id": "00006-3d96bb97-0145-4aa7-8f7a-4e4c5675df5c",
        "deepnote_to_be_reexecuted": false,
        "source_hash": "19893305",
        "execution_millis": 2,
        "execution_start": 1616593573797,
        "deepnote_cell_type": "code"
      },
      "source": "from tensorflow.keras.preprocessing.sequence import pad_sequences\nfrom tensorflow.keras import layers, models\nfrom tensorflow.keras.preprocessing.text import Tokenizer\nfrom tensorflow.keras.callbacks import EarlyStopping\nfrom tensorflow.keras.utils import to_categorical\nfrom tensorflow.keras.layers import Dropout",
      "outputs": [],
      "execution_count": null
    },
    {
      "cell_type": "code",
      "metadata": {
        "colab": {
          "base_uri": "https://localhost:8080/"
        },
        "id": "wIjXWdIz8xx6",
        "outputId": "d018f3af-b06d-43bc-cec9-dbb113e99752",
        "cell_id": "00007-a0a46af2-f04d-46e5-86fe-ce5bf8f6fd2c",
        "deepnote_to_be_reexecuted": false,
        "source_hash": "ab31c8ff",
        "execution_millis": 56,
        "execution_start": 1616593574681,
        "deepnote_cell_type": "code"
      },
      "source": "tokenizer = Tokenizer()\ntokenizer.fit_on_texts(corpus)\ntotalWords = len(tokenizer.word_index) + 1\nprint(totalWords)",
      "outputs": [
        {
          "name": "stdout",
          "text": "6141\n",
          "output_type": "stream"
        }
      ],
      "execution_count": null
    },
    {
      "cell_type": "code",
      "metadata": {
        "id": "LRhGRQ908xx7",
        "cell_id": "00008-a0396f35-b663-4d3a-9ac0-f415b1121a22",
        "deepnote_to_be_reexecuted": false,
        "source_hash": "d7e1dc22",
        "execution_millis": 187,
        "execution_start": 1616593575686,
        "deepnote_cell_type": "code"
      },
      "source": "sequences = []\nfor line in corpus:\n    tokenList = tokenizer.texts_to_sequences([line])[0]\n    for i in range(1, len(tokenList)):\n        ngramSequence = tokenList[:i+1]\n        sequences.append(ngramSequence)",
      "outputs": [],
      "execution_count": null
    },
    {
      "cell_type": "code",
      "metadata": {
        "colab": {
          "base_uri": "https://localhost:8080/"
        },
        "id": "n9Z7KFdT8xx9",
        "outputId": "62b6d753-816b-46a0-df08-daa0302306e8",
        "cell_id": "00009-2c5c10bb-8961-4bcb-90ec-34e24dba4832",
        "deepnote_to_be_reexecuted": false,
        "source_hash": "2904054c",
        "execution_millis": 9,
        "execution_start": 1616593576860,
        "deepnote_cell_type": "code"
      },
      "source": "sequences[:5]",
      "outputs": [
        {
          "output_type": "execute_result",
          "execution_count": 12,
          "data": {
            "text/plain": "[[928, 240], [928, 240, 928], [928, 240, 928, 240], [22, 23], [22, 23, 76]]"
          },
          "metadata": {}
        }
      ],
      "execution_count": null
    },
    {
      "cell_type": "code",
      "metadata": {
        "id": "0IqhFh4M8xx-",
        "cell_id": "00010-10f9630f-5f69-4621-9da6-9c8cac89140a",
        "deepnote_to_be_reexecuted": false,
        "source_hash": "cd827ee8",
        "execution_millis": 303,
        "execution_start": 1616593577537,
        "deepnote_cell_type": "code"
      },
      "source": "def padSequences(sequences):\n    maxSequenceLen = max([len(seq) for seq in sequences])\n    sequences = np.array(pad_sequences(sequences, maxlen=maxSequenceLen, padding='pre'))\n    \n    predictors, label = sequences[:,:-1], sequences[:,-1]\n    label = to_categorical(label, num_classes=totalWords)\n    return predictors, label, maxSequenceLen\n\npredictors, label, maxSequenceLen = padSequences(sequences)",
      "outputs": [],
      "execution_count": null
    },
    {
      "cell_type": "code",
      "metadata": {
        "id": "FWSXp6dy8xyA",
        "cell_id": "00011-23f3f786-dd95-454e-9a6f-b74dd26261ff",
        "deepnote_to_be_reexecuted": false,
        "source_hash": "1a0f484a",
        "execution_millis": 343,
        "execution_start": 1616593581690,
        "deepnote_cell_type": "code"
      },
      "source": "model = models.Sequential()\nmodel.add(layers.Embedding(totalWords, 64, input_length=maxSequenceLen - 1))\nmodel.add(Dropout(0.25))\nmodel.add(layers.LSTM(128))\nmodel.add(layers.Dense(totalWords, activation='softmax'))\n",
      "outputs": [],
      "execution_count": null
    },
    {
      "cell_type": "code",
      "metadata": {
        "colab": {
          "base_uri": "https://localhost:8080/"
        },
        "id": "mjqVylTt8xyB",
        "outputId": "e7f6830c-9d07-4861-ab89-53bb258a15b1",
        "cell_id": "00012-47726a4e-910d-4b20-be3a-68ea2defe9e7",
        "deepnote_to_be_reexecuted": false,
        "source_hash": "4e6a3b95",
        "execution_millis": 7,
        "execution_start": 1616593582702,
        "deepnote_cell_type": "code"
      },
      "source": "model.summary()",
      "outputs": [
        {
          "name": "stdout",
          "text": "Model: \"sequential\"\n_________________________________________________________________\nLayer (type)                 Output Shape              Param #   \n=================================================================\nembedding (Embedding)        (None, 18, 64)            393024    \n_________________________________________________________________\ndropout (Dropout)            (None, 18, 64)            0         \n_________________________________________________________________\nlstm (LSTM)                  (None, 128)               98816     \n_________________________________________________________________\ndense (Dense)                (None, 6141)              792189    \n=================================================================\nTotal params: 1,284,029\nTrainable params: 1,284,029\nNon-trainable params: 0\n_________________________________________________________________\n",
          "output_type": "stream"
        }
      ],
      "execution_count": null
    },
    {
      "cell_type": "code",
      "metadata": {
        "id": "MH9el0ca8xyC",
        "cell_id": "00013-84c3245a-9684-4608-9a7b-7a67b9b89d1b",
        "deepnote_to_be_reexecuted": false,
        "source_hash": "33a618b6",
        "execution_millis": 8,
        "execution_start": 1616593583973,
        "deepnote_cell_type": "code"
      },
      "source": "model.compile(loss='categorical_crossentropy', optimizer='adam',\n             metrics=['accuracy'])",
      "outputs": [],
      "execution_count": null
    },
    {
      "cell_type": "code",
      "metadata": {
        "colab": {
          "base_uri": "https://localhost:8080/"
        },
        "id": "jvWN5DUY8xyE",
        "outputId": "337170ea-8670-4495-fb4a-a13e5c5119a9",
        "cell_id": "00014-622bc0f9-6d43-425a-855f-d776c78eaa37",
        "deepnote_to_be_reexecuted": false,
        "source_hash": "cdc25565",
        "execution_millis": 2809885,
        "execution_start": 1616593587915,
        "deepnote_cell_type": "code"
      },
      "source": "history = model.fit(predictors, label, epochs=50, \n                    callbacks=[EarlyStopping(monitor='loss', patience=10, restore_best_weights=True)])",
      "outputs": [
        {
          "name": "stdout",
          "text": "Epoch 1/50\n 861/1413 [=================>............] - ETA: 21s - loss: 7.0834 - accuracy: 0.0421",
          "output_type": "stream"
        },
        {
          "name": "stdout",
          "text": "1413/1413 [==============================] - 60s 42ms/step - loss: 1.8740 - accuracy: 0.5631\n",
          "output_type": "stream"
        }
      ],
      "execution_count": null
    },
    {
      "cell_type": "code",
      "metadata": {
        "id": "4OSW75op8xyF",
        "cell_id": "00015-4d74dda0-c62e-46f0-a5d7-b099aa3cb6b4",
        "deepnote_to_be_reexecuted": false,
        "source_hash": "8280b1d2",
        "execution_millis": 1026,
        "execution_start": 1616596397721,
        "deepnote_cell_type": "code"
      },
      "source": "import matplotlib.pyplot as plt\n%matplotlib inline",
      "outputs": [],
      "execution_count": null
    },
    {
      "cell_type": "code",
      "metadata": {
        "id": "DNLn2aEl8xyF",
        "colab": {
          "base_uri": "https://localhost:8080/",
          "height": 697
        },
        "outputId": "93da6e4d-3564-4192-f43a-974c15777ee5",
        "cell_id": "00016-9eb4476b-0bb3-470b-a8c3-f738397f8e9b",
        "deepnote_to_be_reexecuted": false,
        "source_hash": "6c19ebf0",
        "execution_millis": 236,
        "execution_start": 1616596553141,
        "deepnote_cell_type": "code"
      },
      "source": "accuracy = history.history['accuracy']\nloss = history.history['loss']\nepochs = range(1, len(accuracy) + 1)\n\nplt.style.use('ggplot')\nfig, (ax1, ax2) = plt.subplots(nrows=2, ncols=1, figsize=(10,10))\nplot = ax1.plot(epochs, accuracy, 'bo', label='Accuracy')\nplot = ax2.plot(epochs, loss, 'bo', label='Loss')\nax1.set(title='Language Model Accuracy', ylabel='Accuracy')\nax2.set(title='Language Model Loss', xlabel='Epochs', ylabel='Loss')\n\nfig.suptitle('Loss/Accuracy of the Language Model', fontsize=16, fontweight = 'bold')",
      "outputs": [
        {
          "output_type": "execute_result",
          "execution_count": 22,
          "data": {
            "text/plain": "Text(0.5, 0.98, 'Loss/Accuracy of the Language Model')"
          },
          "metadata": {}
        },
        {
          "data": {
            "text/plain": "<Figure size 720x720 with 2 Axes>",
            "image/png": "[encoded data removed]"
          },
          "metadata": {},
          "output_type": "display_data"
        }
      ],
      "execution_count": null
    },
    {
      "cell_type": "code",
      "metadata": {
        "id": "ETw29Em48xyH",
        "cell_id": "00017-a4bf8f9f-b117-4dd9-a937-4e4979349774",
        "deepnote_to_be_reexecuted": false,
        "source_hash": "34484ed3",
        "execution_millis": 0,
        "execution_start": 1616596561604,
        "deepnote_cell_type": "code"
      },
      "source": "def generateText(seed):   #A text seed is provided\n    for wordLength in range(200):   #Generates a text with a range of word length\n        tokenList = tokenizer.texts_to_sequences([seed])[0]  #Turns the seed into sequences\n        tokenList = pad_sequences([tokenList], maxlen=maxSequenceLen - 1, padding='pre')\n        predicted = model.predict_classes(tokenList, verbose=0) #Predicts the next sequence(generated\n        outputWord = \" \"                                         #text)  \n        for word, index in tokenizer.word_index.items():\n            if index == predicted:\n                outputWord = word\n                break\n        seed += \" \" + outputWord     #Returns the seed plus generated text\n    return seed",
      "outputs": [],
      "execution_count": null
    },
    {
      "cell_type": "code",
      "metadata": {
        "colab": {
          "base_uri": "https://localhost:8080/",
          "height": 106
        },
        "id": "7e6gT6QOH_81",
        "outputId": "714c866b-8a54-49c0-ed72-ddd9661e4ae0",
        "cell_id": "00019-5e950917-5ff2-4d8d-9485-9439d87f10f7",
        "deepnote_to_be_reexecuted": false,
        "source_hash": "924827dc",
        "execution_millis": 6049,
        "execution_start": 1616596562814,
        "deepnote_cell_type": "code"
      },
      "source": "generateText('Honey')",
      "outputs": [
        {
          "name": "stderr",
          "text": "/shared-libs/python3.8/py/lib/python3.8/site-packages/tensorflow/python/keras/engine/sequential.py:450: UserWarning: `model.predict_classes()` is deprecated and will be removed after 2021-01-01. Please use instead:* `np.argmax(model.predict(x), axis=-1)`,   if your model does multi-class classification   (e.g. if it uses a `softmax` last-layer activation).* `(model.predict(x) > 0.5).astype(\"int32\")`,   if your model does binary classification   (e.g. if it uses a `sigmoid` last-layer activation).\n  warnings.warn('`model.predict_classes()` is deprecated and '\n",
          "output_type": "stream"
        },
        {
          "output_type": "execute_result",
          "execution_count": 24,
          "data": {
            "text/plain": "'Honey wanna see the private jets flying over you think its just too thing on us with someone it be cold down us cold slow hands down out of pain realize we believe up handed him fathers wilding mr west sister modelin hands down boy do it rain do me basics fucking wired me realize it cheesecake cool gotta have at least at least it is no lights a new bag around you know how granny do it huh huh it feel to me think i know how do you do it off the lie to think you know hes in something realize you ball a neo beat me feel it good with me soul soul to waffle nigga believe to me low nigga crazy huh ha do it then it aint it too many blues you dream but you do it right you should do it right now you playing the top out of our mouth realize out of the top aint next week want my olympics lace lace feels like asics asics kill cool yo mouth yo judgment rapper pretty inch turns it one song or know me you know how do do aight nigga with us out of'"
          },
          "metadata": {}
        }
      ],
      "execution_count": null
    },
    {
      "cell_type": "code",
      "metadata": {
        "colab": {
          "base_uri": "https://localhost:8080/",
          "height": 106
        },
        "id": "Fs_TFt9cI59l",
        "outputId": "0a39dcd0-f446-475f-d209-d491464970c3",
        "cell_id": "00020-525d19b8-a3f8-4a6f-b6e8-467dd644bb09",
        "deepnote_cell_type": "code"
      },
      "source": "generateText('Bumble bee')",
      "execution_count": null,
      "outputs": [
        {
          "output_type": "stream",
          "text": "/usr/local/lib/python3.7/dist-packages/tensorflow/python/keras/engine/sequential.py:450: UserWarning: `model.predict_classes()` is deprecated and will be removed after 2021-01-01. Please use instead:* `np.argmax(model.predict(x), axis=-1)`,   if your model does multi-class classification   (e.g. if it uses a `softmax` last-layer activation).* `(model.predict(x) > 0.5).astype(\"int32\")`,   if your model does binary classification   (e.g. if it uses a `sigmoid` last-layer activation).\n  warnings.warn('`model.predict_classes()` is deprecated and '\n",
          "name": "stderr"
        },
        {
          "output_type": "execute_result",
          "data": {
            "application/vnd.google.colaboratory.intrinsic+json": {
              "type": "string"
            },
            "text/plain": "'Bumble bee a doctor would be baffled at how my heart conveniently decides to beat faster or slower – depending on whether i’m thinking about you or not xoxo if these sample love letters for her can give your love or the continue to push all the'"
          },
          "metadata": {
            "tags": []
          },
          "execution_count": 40
        }
      ]
    },
    {
      "cell_type": "code",
      "metadata": {
        "colab": {
          "base_uri": "https://localhost:8080/",
          "height": 106
        },
        "id": "RcvEpeAxJoSN",
        "outputId": "4d7f8872-38e4-40bd-b33f-7293251d5530",
        "cell_id": "00021-64ba1f72-145a-40cf-b829-0edd702cec51",
        "deepnote_cell_type": "code"
      },
      "source": "generateText('mi Love')",
      "execution_count": null,
      "outputs": [
        {
          "output_type": "stream",
          "text": "/usr/local/lib/python3.7/dist-packages/tensorflow/python/keras/engine/sequential.py:450: UserWarning: `model.predict_classes()` is deprecated and will be removed after 2021-01-01. Please use instead:* `np.argmax(model.predict(x), axis=-1)`,   if your model does multi-class classification   (e.g. if it uses a `softmax` last-layer activation).* `(model.predict(x) > 0.5).astype(\"int32\")`,   if your model does binary classification   (e.g. if it uses a `sigmoid` last-layer activation).\n  warnings.warn('`model.predict_classes()` is deprecated and '\n",
          "name": "stderr"
        },
        {
          "output_type": "execute_result",
          "data": {
            "application/vnd.google.colaboratory.intrinsic+json": {
              "type": "string"
            },
            "text/plain": "'mi Love can never be measured it can only be felt you have painted my life with the colors of heaven i don’t want anything else as long as your love is with me forever now i love you so much honey and i just wanted to'"
          },
          "metadata": {
            "tags": []
          },
          "execution_count": 42
        }
      ]
    },
    {
      "cell_type": "code",
      "metadata": {
        "colab": {
          "base_uri": "https://localhost:8080/",
          "height": 122
        },
        "id": "9Hy-Z3_2JqQa",
        "outputId": "4964ccf0-19de-45c7-cc1c-fe26dc293a96",
        "cell_id": "00022-22ec4a67-c8c4-4ad4-80b8-aa73261b683b",
        "deepnote_cell_type": "code"
      },
      "source": "generateText('my Heartbeat')",
      "execution_count": null,
      "outputs": [
        {
          "output_type": "stream",
          "text": "/usr/local/lib/python3.7/dist-packages/tensorflow/python/keras/engine/sequential.py:450: UserWarning: `model.predict_classes()` is deprecated and will be removed after 2021-01-01. Please use instead:* `np.argmax(model.predict(x), axis=-1)`,   if your model does multi-class classification   (e.g. if it uses a `softmax` last-layer activation).* `(model.predict(x) > 0.5).astype(\"int32\")`,   if your model does binary classification   (e.g. if it uses a `sigmoid` last-layer activation).\n  warnings.warn('`model.predict_classes()` is deprecated and '\n",
          "name": "stderr"
        },
        {
          "output_type": "execute_result",
          "data": {
            "application/vnd.google.colaboratory.intrinsic+json": {
              "type": "string"
            },
            "text/plain": "'my Heartbeat you make me feel happy and i have ever known before i met and hard i get this one else can always be my wish it’s let you it’s always there for me i love you darling when i wake up a lot when i'"
          },
          "metadata": {
            "tags": []
          },
          "execution_count": 43
        }
      ]
    },
    {
      "cell_type": "code",
      "metadata": {
        "colab": {
          "base_uri": "https://localhost:8080/",
          "height": 122
        },
        "id": "j98Zczm7JrBM",
        "outputId": "f25a81a6-296d-4247-dae9-b0614a647643",
        "cell_id": "00023-85aa2d98-ea1b-4d4b-b793-1115972c402c",
        "deepnote_cell_type": "code"
      },
      "source": "generateText('Loofu mi')",
      "execution_count": null,
      "outputs": [
        {
          "output_type": "stream",
          "text": "/usr/local/lib/python3.7/dist-packages/tensorflow/python/keras/engine/sequential.py:450: UserWarning: `model.predict_classes()` is deprecated and will be removed after 2021-01-01. Please use instead:* `np.argmax(model.predict(x), axis=-1)`,   if your model does multi-class classification   (e.g. if it uses a `softmax` last-layer activation).* `(model.predict(x) > 0.5).astype(\"int32\")`,   if your model does binary classification   (e.g. if it uses a `sigmoid` last-layer activation).\n  warnings.warn('`model.predict_classes()` is deprecated and '\n",
          "name": "stderr"
        },
        {
          "output_type": "execute_result",
          "data": {
            "application/vnd.google.colaboratory.intrinsic+json": {
              "type": "string"
            },
            "text/plain": "'Loofu mi i love you more than i did yesterday but not more than i will tomorrow ❤ on for a thousand will more i love you more than every day could always mean more than the most heartfelt growing in my dreams and i am ready'"
          },
          "metadata": {
            "tags": []
          },
          "execution_count": 44
        }
      ]
    },
    {
      "cell_type": "code",
      "metadata": {
        "id": "RMIDAwTIMNMo",
        "cell_id": "00024-f2a8bcfe-52e1-4482-a921-7a7b76cf4ae5",
        "deepnote_cell_type": "code"
      },
      "source": "model.save('./rosaLove.h5')\nmodel = keras.models.load_model('./rosaLove.h5')",
      "execution_count": null,
      "outputs": []
    },
    {
      "cell_type": "markdown",
      "source": "<a style='text-decoration:none;line-height:16px;display:flex;color:#5B5B62;padding:10px;justify-content:end;' href='https://deepnote.com?utm_source=created-in-deepnote-cell&projectId=1847666d-1024-4ccd-aa0a-538596f06c6f' target=\"_blank\">\n<img style='display:inline;max-height:16px;margin:0px;margin-right:7.5px;' src='data:image/svg+xml;base64,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' > </img>\nCreated in <span style='font-weight:600;margin-left:4px;'>Deepnote</span></a>",
      "metadata": {
        "tags": [],
        "created_in_deepnote_cell": true,
        "deepnote_cell_type": "markdown"
      }
    }
  ],
  "nbformat": 4,
  "nbformat_minor": 0,
  "metadata": {
    "kernelspec": {
      "display_name": "Python 3",
      "language": "python",
      "name": "python3"
    },
    "language_info": {
      "codemirror_mode": {
        "name": "ipython",
        "version": 3
      },
      "file_extension": ".py",
      "mimetype": "text/x-python",
      "name": "python",
      "nbconvert_exporter": "python",
      "pygments_lexer": "ipython3",
      "version": "3.8.5"
    },
    "colab": {
      "name": "rosaLove.ipynb",
      "provenance": [],
      "collapsed_sections": []
    },
    "accelerator": "GPU",
    "deepnote_notebook_id": "3ae436d8-ff3c-455c-bd46-70e699407ef3",
    "deepnote": {},
    "deepnote_execution_queue": []
  }
}